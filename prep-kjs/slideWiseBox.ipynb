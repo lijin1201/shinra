{
 "cells": [
  {
   "cell_type": "code",
   "execution_count": null,
   "id": "ffd325ff",
   "metadata": {},
   "outputs": [],
   "source": [
    "with open(\"/data1/lidc-idri/nodule_malignancy_scores.json\", 'r') as f:\n",
    "    annot = json.load(f)"
   ]
  },
  {
   "cell_type": "code",
   "execution_count": null,
   "id": "1b50ce29",
   "metadata": {},
   "outputs": [],
   "source": [
    "# nodules[pid] = list()\n",
    "for pid in annot.keys():\n",
    "    pid = re.compile(\"(LIDC-IDRI-\\d{4}).*\").search(pid).group(1)\n",
    "    for snum, val in sorted(annot[pid].items()):\n",
    "        for reader, ann_list in val.items():\n",
    "            # snuml[ann['noduleID']].append(snum)\n",
    "            for ann in ann_list:\n",
    "                # see LIDC-IDRI-0195 case, there's \"09992\" nodID case\n",
    "                ann_noduleID = ann['noduleID']\n",
    "                ann_noduleID = str(int(ann_noduleID)) if ann_noduleID.isdigit()  else ann_noduleID\n",
    "                [(xmin,xmax),(ymin,ymax)] = list(map(lambda l: (min(l),max(l)),list(zip(*ann['polygon']))) )\n",
    "                nodReader = pd.concat([nodReader,pd.DataFrame(\n",
    "                    [{'pid':pid,'reader':reader,'noduleID':ann_noduleID,'slice':snum,\n",
    "                    'xmin':xmin,'xmax':xmax,'ymin':ymin,'ymax':ymax,\n",
    "                    'score':ann['score']}])],ignore_index=True)\n",
    "            # print (ann['noduleID'],ann['score'])\n",
    "            #print('polygon: ',ann['polygon'][:])\n",
    "            # \n",
    "            # print('zipped: ',list(map(lambda l: (min(l),max(l)),list(zip(*ann['polygon']))) ) )\n",
    "            # print (snum,len(val['reader_3']))\n",
    "\n",
    "\n",
    "# print('snuml: ',snuml)\n",
    "nodReader"
   ]
  },
  {
   "cell_type": "code",
   "execution_count": null,
   "id": "f98ac7a4",
   "metadata": {},
   "outputs": [],
   "source": [
    "nodGs = nodReader.groupby([['pid','slice']])\n",
    "nodGs = nodGs.apply(lambda g: {'xmina':np.array(g['xmin']).mean(),'xmaxa':np.array(g['xmax']).mean(),\n",
    "                       }).apply(pd.Series)"
   ]
  },
  {
   "cell_type": "code",
   "execution_count": 4,
   "id": "352a57ee",
   "metadata": {},
   "outputs": [
    {
     "name": "stdout",
     "output_type": "stream",
     "text": [
      "Polygon6((1, 1) ...)\n"
     ]
    }
   ],
   "source": [
    "import matplotlib.patches as patches\n",
    "import numpy as np\n",
    "\n",
    "aa = patches.Polygon(np.array([[1,1],[1,2],[2,1],[2,2],[3,3]]))\n",
    "print(aa)"
   ]
  },
  {
   "cell_type": "code",
   "execution_count": null,
   "id": "b6b2f006",
   "metadata": {},
   "outputs": [],
   "source": [
    "#not completed"
   ]
  }
 ],
 "metadata": {
  "kernelspec": {
   "display_name": ".venv",
   "language": "python",
   "name": "python3"
  },
  "language_info": {
   "codemirror_mode": {
    "name": "ipython",
    "version": 3
   },
   "file_extension": ".py",
   "mimetype": "text/x-python",
   "name": "python",
   "nbconvert_exporter": "python",
   "pygments_lexer": "ipython3",
   "version": "3.12.2"
  }
 },
 "nbformat": 4,
 "nbformat_minor": 5
}
