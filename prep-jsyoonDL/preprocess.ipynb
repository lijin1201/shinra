{
 "cells": [
  {
   "cell_type": "code",
   "execution_count": 1,
   "id": "888665f9",
   "metadata": {},
   "outputs": [],
   "source": [
    "\n",
    "import numpy as np\n",
    "import matplotlib.pyplot as plt\n",
    "\n",
    "import pylidc as pl\n",
    "import glob\n",
    "import pandas as pd\n",
    "\n",
    "import os"
   ]
  },
  {
   "cell_type": "code",
   "execution_count": null,
   "id": "8347bec0",
   "metadata": {},
   "outputs": [],
   "source": []
  },
  {
   "cell_type": "code",
   "execution_count": null,
   "id": "d5d24597",
   "metadata": {},
   "outputs": [
    {
     "name": "stdout",
     "output_type": "stream",
     "text": [
      "------------------------------------------------\n",
      "processing-----LIDC-IDRI-0501\n",
      "Loading dicom files ... This may take a moment.\n",
      "------------------------------------------------\n",
      "processing-----LIDC-IDRI-0831\n",
      "Loading dicom files ... This may take a moment.\n",
      "------------------------------------------------\n"
     ]
    }
   ],
   "source": [
    "import random\n",
    "#%%\n",
    "def get_cube_from_img(img3d, center, block_size):\n",
    "    \"\"\"\"Code for this function is based on code from this repository: https://github.com/junqiangchen/LUNA16-Lung-Nodule-Analysis-2016-Challenge\"\"\"\n",
    "    # get roi(z,y,z) image and in order the out of img3d(z,y,x)range\n",
    "    \n",
    "    center_x = center[0]\n",
    "    center_y = center[1]\n",
    "    center_z = center[2]\n",
    "    \n",
    "    \n",
    "    block_size_x = block_size[0]\n",
    "    block_size_y = block_size[1]\n",
    "    block_size_z = block_size[2]\n",
    "    \n",
    "    start_x = max(center_x - block_size_x / 2, 0)\n",
    "    if start_x + block_size_x > img3d.shape[0]:\n",
    "        start_x = img3d.shape[0] - block_size_x\n",
    "        \n",
    "        \n",
    "    start_y = max(center_y - block_size_y / 2, 0)\n",
    "    if start_y + block_size_y > img3d.shape[1]:\n",
    "        start_y = img3d.shape[1] - block_size_y\n",
    "        \n",
    "        \n",
    "    start_z = max(center_z - block_size_z / 2, 0)\n",
    "    if start_z + block_size_z > img3d.shape[2]:\n",
    "        start_z = img3d.shape[2] - block_size_z\n",
    "    \n",
    "    start_x = int(start_x)\n",
    "    start_y = int(start_y)\n",
    "    start_z = int(start_z)\n",
    "    roi_img3d = img3d[ start_x:start_x + block_size_x,\n",
    "                      start_y:start_y + block_size_y,\n",
    "                      start_z:start_z + block_size_z]\n",
    "    return roi_img3d\n",
    "\n",
    "#%%\n",
    "data_list = sorted(glob.glob('/data1/lidc-idri/manifest-1600709154662/LIDC-IDRI/LIDC-IDRI*'))\n",
    "data_num = len(data_list)\n",
    "nodule_info = []\n",
    "\n",
    "block_size = [64,64,56]\n",
    "\n",
    "save_path_p = '/data2/lijin/lidc-prep'\n",
    "#%%\n",
    "k = 0\n",
    "\n",
    "print('------------------------------------------------')\n",
    "#for d_idx in range(data_num):\n",
    "for d_idx in random.sample(range(0,data_num),2):\n",
    "    \n",
    "    pid = data_list[d_idx].split('/')[-1]\n",
    "    print('processing-----{}'.format(pid))    \n",
    "    scan = pl.query(pl.Scan).filter(pl.Scan.patient_id == pid).first()\n",
    "    vol = scan.to_volume()\n",
    "    print('------------------------------------------------')\n",
    "    nods = scan.cluster_annotations()\n",
    "    num_nods = len(nods)\n",
    "    \n",
    "    #%%\n",
    "    sid = scan.series_instance_uid\n",
    "    \n",
    "    pixel_info = scan.spacings # x,y,z\n",
    "    \n",
    "    for i, nod_i in enumerate(nods):\n",
    "        \n",
    "        \n",
    "        num_name = str(k)\n",
    "        if k <10 : num_name = '000' + num_name\n",
    "        elif k <100: num_name = '00' + num_name\n",
    "        elif k <1000: num_name = '0' + num_name\n",
    "        save_name = 'Index{}.npy'.format(num_name)\n",
    "        \n",
    "        cent = []\n",
    "        diameter = 0\n",
    "        mal_factor = 0\n",
    "        bbox = []\n",
    "        num_ann = len(nod_i)\n",
    "        for j, ann_i in enumerate(nod_i): \n",
    "            cent.append(ann_i.centroid)\n",
    "            diameter += ann_i.diameter\n",
    "            mal_factor += ann_i.feature_vals()[-1]\n",
    "            bbox.append(ann_i.bbox_dims())\n",
    "        cent = np.mean(cent,axis=0)\n",
    "        diameter = diameter/num_ann\n",
    "        bbox = np.max(bbox,axis=0)\n",
    "        mal_factor = mal_factor/num_ann\n",
    "        \n",
    "        \n",
    "        if mal_factor >3 : mal = 1.\n",
    "        else: mal = 0.\n",
    "        \n",
    "        \n",
    "        nodule_info.append([pid,sid,*pixel_info,*cent,*bbox,diameter,mal_factor,mal])\n",
    "        patch = get_cube_from_img(vol, cent, block_size)\n",
    "        \n",
    "        if patch.shape[0]<block_size[0]: print('error: index {}'.format(save_name))\n",
    "        \n",
    "        \n",
    "        if mal>0: save_path_f = save_path_p + '/True/' \n",
    "        else: save_path_f = save_path_p + '/False/'\n",
    "            \n",
    "        os.makedirs(save_path_f, exist_ok=True)\n",
    "        np.save(save_path_f+save_name,patch)\n",
    "        k +=1\n",
    "#%%\n",
    "column_index =['patient_id','serisuid',\n",
    "               'pixel_x','pixel_y','pixel_z',\n",
    "               'interp_cent_x','interp_cent_y','interp_cent_z',\n",
    "               'bbox_x','bbox_y','bbox_z',\n",
    "               'diameter','malignancy_level','malignancy'\n",
    "               ]\n",
    "nodule_info_csv = pd.DataFrame(np.array(nodule_info),columns=column_index)\n",
    "nodule_info_csv = nodule_info_csv.set_index(column_index[0])\n",
    "nodule_info_csv.to_csv('nodule_info.csv')\n",
    "# nodule_info = pd.read_csv('nodule_info.csv')\n",
    "    "
   ]
  },
  {
   "cell_type": "code",
   "execution_count": 3,
   "id": "067c0d5d",
   "metadata": {},
   "outputs": [],
   "source": [
    "data_list = sorted(glob.glob('/data1/lidc-idri/manifest-1600709154662/LIDC-IDRI/LIDC-IDRI*'))\n",
    "data_num = len(data_list)"
   ]
  },
  {
   "cell_type": "code",
   "execution_count": 7,
   "id": "2d1253b1",
   "metadata": {},
   "outputs": [
    {
     "data": {
      "text/plain": [
       "[386, 383]"
      ]
     },
     "execution_count": 7,
     "metadata": {},
     "output_type": "execute_result"
    }
   ],
   "source": [
    "import random\n",
    "random.sample(range(0,data_num),2)"
   ]
  },
  {
   "cell_type": "code",
   "execution_count": null,
   "id": "9f094bae",
   "metadata": {},
   "outputs": [],
   "source": []
  }
 ],
 "metadata": {
  "kernelspec": {
   "display_name": ".venv",
   "language": "python",
   "name": "python3"
  },
  "language_info": {
   "codemirror_mode": {
    "name": "ipython",
    "version": 3
   },
   "file_extension": ".py",
   "mimetype": "text/x-python",
   "name": "python",
   "nbconvert_exporter": "python",
   "pygments_lexer": "ipython3",
   "version": "3.12.2"
  }
 },
 "nbformat": 4,
 "nbformat_minor": 5
}
