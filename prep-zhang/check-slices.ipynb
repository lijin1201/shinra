{
 "cells": [
  {
   "cell_type": "code",
   "execution_count": 2,
   "id": "33f54a31",
   "metadata": {},
   "outputs": [],
   "source": [
    "import os, shutil\n",
    "import pandas as pd"
   ]
  },
  {
   "cell_type": "code",
   "execution_count": 3,
   "id": "d761e4d5",
   "metadata": {},
   "outputs": [],
   "source": [
    "LIDC_IDRI_list= [f for f in os.listdir('/data2/lijin/lidc-prep/LIDC-IDRI-slices') if not f.startswith('.')]\n",
    "LIDC_IDRI_list.sort()"
   ]
  },
  {
   "cell_type": "code",
   "execution_count": 4,
   "id": "675f777e",
   "metadata": {},
   "outputs": [
    {
     "data": {
      "text/plain": [
       "872"
      ]
     },
     "execution_count": 4,
     "metadata": {},
     "output_type": "execute_result"
    }
   ],
   "source": [
    "len(LIDC_IDRI_list)"
   ]
  },
  {
   "cell_type": "code",
   "execution_count": 5,
   "id": "dd94cbfa",
   "metadata": {},
   "outputs": [],
   "source": [
    "noduleD = {}\n",
    "for patient in LIDC_IDRI_list:\n",
    "    noduleL = [d for d in os.listdir('/data2/lijin/lidc-prep/LIDC-IDRI-slices/'+ patient) if not d.startswith('.')]\n",
    "    noduleL.sort()\n",
    "    noduleD[patient] = noduleL\n"
   ]
  },
  {
   "cell_type": "code",
   "execution_count": 6,
   "id": "345175ee",
   "metadata": {},
   "outputs": [],
   "source": [
    "nCsv = pd.read_csv('/data2/lijin/lidc-prep/nodule_info.csv')"
   ]
  },
  {
   "cell_type": "code",
   "execution_count": 16,
   "id": "9e293d61",
   "metadata": {},
   "outputs": [],
   "source": [
    "nPatient = nCsv.groupby(\"patient_id\")"
   ]
  },
  {
   "cell_type": "code",
   "execution_count": 18,
   "id": "253b658e",
   "metadata": {},
   "outputs": [
    {
     "data": {
      "text/plain": [
       "np.int64(4)"
      ]
     },
     "execution_count": 18,
     "metadata": {},
     "output_type": "execute_result"
    }
   ],
   "source": [
    "nPatient.size()['LIDC-IDRI-0003']"
   ]
  },
  {
   "cell_type": "code",
   "execution_count": 26,
   "id": "ea09d846",
   "metadata": {},
   "outputs": [
    {
     "name": "stdout",
     "output_type": "stream",
     "text": [
      "6\n",
      "key, count:  LIDC-IDRI-0132   ['nodule-0', 'nodule-1', 'nodule-2', 'nodule-3', 'nodule-4', 'nodule-5', 'nodule-6', 'nodule-7']\n",
      "2\n",
      "key, count:  LIDC-IDRI-0332   ['nodule-0', 'nodule-1', 'nodule-2', 'nodule-3']\n",
      "1\n",
      "key, count:  LIDC-IDRI-0355   ['nodule-0', 'nodule-1']\n"
     ]
    }
   ],
   "source": [
    "excluded_pid = []\n",
    "for key, count in noduleD.items():\n",
    "    if nPatient.size()[key]!=len(count):\n",
    "        print (nPatient.size()[key])\n",
    "        print(\"key, count: \", key,\" \", count)\n",
    "        excluded_pid.append(key)"
   ]
  },
  {
   "cell_type": "code",
   "execution_count": 46,
   "id": "586d6609",
   "metadata": {},
   "outputs": [
    {
     "data": {
      "text/plain": [
       "['/data2/lijin/lidc-prep/excluded-slices/LIDC-IDRI-0132',\n",
       " '/data2/lijin/lidc-prep/excluded-slices/LIDC-IDRI-0332',\n",
       " '/data2/lijin/lidc-prep/excluded-slices/LIDC-IDRI-0355']"
      ]
     },
     "execution_count": 46,
     "metadata": {},
     "output_type": "execute_result"
    }
   ],
   "source": [
    "[shutil.move('/data2/lijin/lidc-prep/LIDC-IDRI-slices/'+pid, '/data2/lijin/lidc-prep/excluded-slices') for pid in excluded_pid]"
   ]
  },
  {
   "cell_type": "code",
   "execution_count": 48,
   "id": "1987e719",
   "metadata": {},
   "outputs": [],
   "source": [
    "nCsv['nodule_index'] = nPatient.cumcount()"
   ]
  },
  {
   "cell_type": "code",
   "execution_count": null,
   "id": "2a3e7c5c",
   "metadata": {},
   "outputs": [
    {
     "data": {
      "text/plain": [
       "['patient_id',\n",
       " 'nodule_index',\n",
       " 'serisuid',\n",
       " 'pixel_x',\n",
       " 'pixel_y',\n",
       " 'pixel_z',\n",
       " 'interp_cent_x',\n",
       " 'interp_cent_y',\n",
       " 'interp_cent_z',\n",
       " 'bbox_x',\n",
       " 'bbox_y',\n",
       " 'bbox_z',\n",
       " 'diameter',\n",
       " 'malignancy_level',\n",
       " 'malignancy']"
      ]
     },
     "execution_count": 56,
     "metadata": {},
     "output_type": "execute_result"
    }
   ],
   "source": [
    "cols = nCsv.columns.to_list()\n",
    "cols.remove('nodule_index')\n",
    "cols.insert(cols.index('patient_id')+1,'nodule_index')\n",
    "nCsv = nCsv[cols]"
   ]
  },
  {
   "cell_type": "code",
   "execution_count": 54,
   "id": "739e159c",
   "metadata": {},
   "outputs": [],
   "source": [
    "nCsv = nCsv[['nodule_index'] + [col for col in nCsv.columns if col != 'nodule_index']]"
   ]
  },
  {
   "cell_type": "code",
   "execution_count": 55,
   "id": "f881cbc3",
   "metadata": {},
   "outputs": [],
   "source": [
    "# nCsv[nCsv.excluded_pid.isin(excluded_pid)]\n",
    "nCsv[~nCsv.patient_id.isin(excluded_pid)].to_csv('/data2/lijin/lidc-prep/nodule_matched.csv')"
   ]
  },
  {
   "cell_type": "code",
   "execution_count": null,
   "id": "3e8c0cee",
   "metadata": {},
   "outputs": [
    {
     "name": "stderr",
     "output_type": "stream",
     "text": [
      "Exception ignored in: <bound method IPythonKernel._clean_thread_parent_frames of <ipykernel.ipkernel.IPythonKernel object at 0x7c04bdbc66c0>>\n",
      "Traceback (most recent call last):\n",
      "  File \"/home/lijin/ai/dev/shinra/.venv/lib/python3.12/site-packages/ipykernel/ipkernel.py\", line 775, in _clean_thread_parent_frames\n",
      "    def _clean_thread_parent_frames(\n",
      "\n",
      "KeyboardInterrupt: \n"
     ]
    },
    {
     "data": {
      "text/plain": [
       "array([<Axes: title={'center': '2.585936000000004'}, ylabel='Frequency'>,\n",
       "       <Axes: title={'center': '2.7950849718747373'}, ylabel='Frequency'>,\n",
       "       <Axes: title={'center': '2.878156861505987'}, ylabel='Frequency'>,\n",
       "       ...,\n",
       "       <Axes: title={'center': '46.83820778134822'}, ylabel='Frequency'>,\n",
       "       <Axes: title={'center': '49.76443417739804'}, ylabel='Frequency'>,\n",
       "       <Axes: title={'center': '49.94461807109529'}, ylabel='Frequency'>],\n",
       "      dtype=object)"
      ]
     },
     "execution_count": 10,
     "metadata": {},
     "output_type": "execute_result"
    }
   ],
   "source": [
    "nCsv.plot.hist(by='diameter')"
   ]
  },
  {
   "cell_type": "code",
   "execution_count": null,
   "id": "6c89a9a5",
   "metadata": {},
   "outputs": [],
   "source": []
  }
 ],
 "metadata": {
  "kernelspec": {
   "display_name": ".venv",
   "language": "python",
   "name": "python3"
  },
  "language_info": {
   "codemirror_mode": {
    "name": "ipython",
    "version": 3
   },
   "file_extension": ".py",
   "mimetype": "text/x-python",
   "name": "python",
   "nbconvert_exporter": "python",
   "pygments_lexer": "ipython3",
   "version": "3.12.2"
  }
 },
 "nbformat": 4,
 "nbformat_minor": 5
}
