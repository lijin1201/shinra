{
 "cells": [
  {
   "cell_type": "code",
   "execution_count": 1,
   "id": "b02859b6",
   "metadata": {},
   "outputs": [],
   "source": [
    "#train3 from 2: use adam, remove weight_decay; one BW channel (not 3)\n",
    "import torch,os \n",
    "import torch.nn as nn\n",
    "import torch.optim as optim\n",
    "\n",
    "from torchvision.transforms import v2\n",
    "import torchvision.models as models\n",
    "import pandas as pd\n",
    "import matplotlib.pyplot as plt\n",
    "\n",
    "# from models import *\n",
    "from utils import progress_bar\n",
    "from tqdm import tqdm\n",
    "from configparser import ConfigParser\n",
    "from torch.utils.data import  DataLoader\n",
    "from LIDC_data import LIDC_Dataset"
   ]
  },
  {
   "cell_type": "code",
   "execution_count": 2,
   "id": "d3d8dc6b",
   "metadata": {},
   "outputs": [],
   "source": [
    "device = 'cuda' if torch.cuda.is_available() else 'cpu'\n",
    "best_acc = 0  # best test accuracy\n",
    "start_epoch = 0  # start from epoch 0 or last checkpoint epoch\n",
    "\n",
    "prep_tr = [\n",
    "    v2.Lambda(lambda x: torch.clamp(x,-1000,400)),\n",
    "    v2.Lambda(lambda x: (x+1000)/1400),\n",
    "    v2.CenterCrop((384,384)),\n",
    "    # v2.Lambda(lambda x: x.expand(3,-1,-1))\n",
    "]\n",
    "aug_tr = [\n",
    "    v2.RandomAffine(degrees=10),\n",
    "    v2.RandomHorizontalFlip(),\n",
    "    # v2.GaussianNoise(0,0.1)\n",
    "]\n",
    "trans_train = v2.Compose( prep_tr + aug_tr )\n",
    "trans_test = v2.Compose( prep_tr  )"
   ]
  },
  {
   "cell_type": "code",
   "execution_count": 3,
   "id": "2b344e58",
   "metadata": {},
   "outputs": [
    {
     "name": "stdout",
     "output_type": "stream",
     "text": [
      "total_train_data: 5495 total_test_data: 2354\n"
     ]
    }
   ],
   "source": [
    "\n",
    "parser = ConfigParser()\n",
    "parser.read('.settings')\n",
    "root_dir = parser.get('dataset','root_dir') #/workspaces/data/lidc-idri/slices\n",
    "meta_dir = parser.get('dataset','meta_dir') #/workspaces/data/lidc-idri/splits\n",
    "train_data = LIDC_Dataset(root_dir,metapath=os.path.join(meta_dir,'train_malB.csv'),transform=trans_train)\n",
    "test_data = LIDC_Dataset(root_dir,metapath=os.path.join(meta_dir,'test_malB.csv'),transform=trans_test)\n",
    "total_train_data = len(train_data)\n",
    "total_test_data = len(test_data)\n",
    "print('total_train_data:',total_train_data, 'total_test_data:',total_test_data)\n",
    "\n",
    "trainloader = DataLoader(train_data, batch_size=16, shuffle=True)\n",
    "testloader = DataLoader(test_data, batch_size=16)"
   ]
  },
  {
   "cell_type": "code",
   "execution_count": 4,
   "id": "94805703",
   "metadata": {},
   "outputs": [
    {
     "name": "stderr",
     "output_type": "stream",
     "text": [
      "/home/vscode/.local/lib/python3.10/site-packages/torchvision/models/_utils.py:208: UserWarning: The parameter 'pretrained' is deprecated since 0.13 and may be removed in the future, please use 'weights' instead.\n",
      "  warnings.warn(\n",
      "/home/vscode/.local/lib/python3.10/site-packages/torchvision/models/_utils.py:223: UserWarning: Arguments other than a weight enum or `None` for 'weights' are deprecated since 0.13 and may be removed in the future. The current behavior is equivalent to passing `weights=ResNet18_Weights.IMAGENET1K_V1`. You can also use `weights=ResNet18_Weights.DEFAULT` to get the most up-to-date weights.\n",
      "  warnings.warn(msg)\n"
     ]
    }
   ],
   "source": [
    "# net = ResNet18(num_classes=2)\n",
    "net = models.resnet18(pretrained=True)\n",
    "net.conv1 = nn.Conv2d(1, 64, kernel_size=7, stride=2, padding=3, bias=False)\n",
    "net.fc = nn.Linear(net.fc.in_features, 2)\n",
    "net = net.to(device)"
   ]
  },
  {
   "cell_type": "code",
   "execution_count": 5,
   "id": "5a98ef22",
   "metadata": {},
   "outputs": [],
   "source": [
    "lr = 1e-4\n",
    "criterion = nn.CrossEntropyLoss()\n",
    "# criterion = nn.BCEWithLogitsLoss()\n",
    "optimizer = optim.Adam(net.parameters(), lr=lr)\n",
    "\n",
    "trainning_accuracy=[]\n",
    "trainning_loss=[]\n",
    "testing_accuracy=[]\n",
    "testing_loss=[]"
   ]
  },
  {
   "cell_type": "code",
   "execution_count": 6,
   "id": "9e1e321d",
   "metadata": {},
   "outputs": [],
   "source": [
    "def train(epoch):\n",
    "    net.train()\n",
    "    train_loss = 0\n",
    "    correct = 0\n",
    "    total = 0\n",
    "    for batch_idx, (inputs, targets) in enumerate(tqdm(trainloader,desc=f\"[Epoch {epoch+1}]\")):\n",
    "        inputs, targets = inputs.to(device), targets.to(device)\n",
    "        # targets = targets.float().unsqueeze(1)\n",
    "\n",
    "        optimizer.zero_grad()\n",
    "        outputs = net(inputs)\n",
    "        \n",
    "        loss = criterion(outputs, targets)\n",
    "        loss.backward()\n",
    "        \n",
    "        optimizer.step()\n",
    "\n",
    "        train_loss += loss.item()\n",
    "        _, predicted = outputs.max(1)\n",
    "        # preds = (torch.sigmoid(outputs) > 0.5).squeeze().long()\n",
    "        \n",
    "        total += targets.size(0)\n",
    "        correct += predicted.eq(targets).sum().item()\n",
    "        # correct += (preds == targets.long()).sum().item()\n",
    "\n",
    "    train_acc = 100.*correct/total\n",
    "    train_loss = train_loss/(batch_idx+1)\n",
    "    print(f\"Train Loss: {train_loss}, Train Acc: {train_acc:.2f}%\")\n",
    "    trainning_accuracy.append(train_acc)\n",
    "    trainning_loss.append( train_loss )\n",
    "\n",
    "def test(epoch):\n",
    "    global best_acc\n",
    "    net.eval()\n",
    "    test_loss = 0\n",
    "    correct = 0\n",
    "    total = 0\n",
    "    with torch.no_grad():\n",
    "        for batch_idx, (inputs, targets) in enumerate(testloader):\n",
    "            inputs, targets = inputs.to(device), targets.to(device)\n",
    "            # targets = targets.float().unsqueeze(1)\n",
    "            outputs = net(inputs)\n",
    "            \n",
    "            loss = criterion(outputs, targets)\n",
    "            test_loss += loss.item()\n",
    "            _, predicted = outputs.max(1)\n",
    "            # preds = (torch.sigmoid(outputs) > 0.5).squeeze().long()\n",
    "            total += targets.size(0)\n",
    "            correct += predicted.eq(targets).sum().item()\n",
    "            # correct += (preds == targets.long()).sum().item()\n",
    "\n",
    "            progress_bar(batch_idx, len(testloader), 'Loss: %.3f | Acc: %.3f%% (%d/%d)'\n",
    "                         % (test_loss/(batch_idx+1), 100.*correct/total, correct, total))\n",
    "        test_acc = 100.*correct/total\n",
    "        test_loss = test_loss/(batch_idx+1)\n",
    "        print(f\"Test Loss: {test_loss}, Test Acc: {test_acc:.2f}%\")\n",
    "        testing_accuracy.append(100.*correct/total)\n",
    "        testing_loss.append(test_loss/(batch_idx+1))\n",
    "    # Save checkpoint.\n",
    "    acc = 100.*correct/total\n",
    "    if acc > best_acc:\n",
    "        print('Saving..')\n",
    "        state = {\n",
    "            'net': net.state_dict(),\n",
    "            'acc': acc,\n",
    "            'epoch': epoch,\n",
    "        }\n",
    "        if not os.path.isdir('checkpoint'):\n",
    "            os.mkdir('checkpoint')\n",
    "        torch.save(state, './checkpoint/ckpt_owndata.pth')\n",
    "        best_acc = acc"
   ]
  },
  {
   "cell_type": "code",
   "execution_count": 7,
   "id": "fa7663ca",
   "metadata": {},
   "outputs": [
    {
     "name": "stderr",
     "output_type": "stream",
     "text": [
      "[Epoch 1]: 100%|██████████| 344/344 [01:39<00:00,  3.46it/s]"
     ]
    },
    {
     "name": "stdout",
     "output_type": "stream",
     "text": [
      "Train Loss: 0.6788200830477614, Train Acc: 58.31%\n",
      " [>.................................................]  Step: 1m40s | Tot: 0ms | Loss: 0.804 | Acc: 25.000% (4/16 1/148 \r"
     ]
    },
    {
     "name": "stderr",
     "output_type": "stream",
     "text": [
      "\n"
     ]
    },
    {
     "name": "stdout",
     "output_type": "stream",
     "text": [
      " [=================================================>]  Step: 33ms | Tot: 21s387ms | Loss: 0.619 | Acc: 65.208% (1535/2354 148/148  \n",
      "Test Loss: 0.619453177258775, Test Acc: 65.21%\n",
      "Saving..\n"
     ]
    },
    {
     "name": "stderr",
     "output_type": "stream",
     "text": [
      "[Epoch 2]: 100%|██████████| 344/344 [01:39<00:00,  3.45it/s]"
     ]
    },
    {
     "name": "stdout",
     "output_type": "stream",
     "text": [
      "Train Loss: 0.624812999090483, Train Acc: 65.59%\n",
      " [>.................................................]  Step: 1m39s | Tot: 0ms | Loss: 0.809 | Acc: 56.250% (9/16 1/148 \r"
     ]
    },
    {
     "name": "stderr",
     "output_type": "stream",
     "text": [
      "\n"
     ]
    },
    {
     "name": "stdout",
     "output_type": "stream",
     "text": [
      " [=================================================>]  Step: 39ms | Tot: 21s908ms | Loss: 0.597 | Acc: 68.437% (1611/2354 148/148  ==========>...................................]  Step: 204ms | Tot: 6s790ms | Loss: 0.604 | Acc: 68.889% (496/720 45/148 \n",
      "Test Loss: 0.5968138060054263, Test Acc: 68.44%\n",
      "Saving..\n"
     ]
    },
    {
     "name": "stderr",
     "output_type": "stream",
     "text": [
      "[Epoch 3]: 100%|██████████| 344/344 [01:31<00:00,  3.75it/s]\n"
     ]
    },
    {
     "name": "stdout",
     "output_type": "stream",
     "text": [
      "Train Loss: 0.581204932529566, Train Acc: 69.68%\n",
      " [=================================================>]  Step: 30ms | Tot: 22s186ms | Loss: 0.537 | Acc: 73.704% (1735/2354 148/148  \n",
      "Test Loss: 0.5366244449003322, Test Acc: 73.70%\n",
      "Saving..\n"
     ]
    },
    {
     "name": "stderr",
     "output_type": "stream",
     "text": [
      "[Epoch 4]: 100%|██████████| 344/344 [01:33<00:00,  3.69it/s]\n"
     ]
    },
    {
     "name": "stdout",
     "output_type": "stream",
     "text": [
      "Train Loss: 0.5469481216440367, Train Acc: 72.78%\n",
      " [=================================================>]  Step: 23ms | Tot: 22s175ms | Loss: 0.565 | Acc: 71.750% (1689/2354 148/148  \n",
      "Test Loss: 0.5649678994070839, Test Acc: 71.75%\n"
     ]
    },
    {
     "name": "stderr",
     "output_type": "stream",
     "text": [
      "[Epoch 5]: 100%|██████████| 344/344 [01:32<00:00,  3.71it/s]\n"
     ]
    },
    {
     "name": "stdout",
     "output_type": "stream",
     "text": [
      "Train Loss: 0.49965657661993834, Train Acc: 75.56%\n",
      " [=================================================>]  Step: 32ms | Tot: 21s629ms | Loss: 0.613 | Acc: 71.665% (1687/2354 148/148  \n",
      "Test Loss: 0.6131644526345504, Test Acc: 71.67%\n"
     ]
    },
    {
     "name": "stderr",
     "output_type": "stream",
     "text": [
      "[Epoch 6]: 100%|██████████| 344/344 [01:36<00:00,  3.57it/s]"
     ]
    },
    {
     "name": "stdout",
     "output_type": "stream",
     "text": [
      "Train Loss: 0.4720967336189608, Train Acc: 77.73%\n",
      " [>.................................................]  Step: 1m36s | Tot: 0ms | Loss: 0.453 | Acc: 75.000% (12/16 1/148 \r"
     ]
    },
    {
     "name": "stderr",
     "output_type": "stream",
     "text": [
      "\n"
     ]
    },
    {
     "name": "stdout",
     "output_type": "stream",
     "text": [
      " [=================================================>]  Step: 27ms | Tot: 21s909ms | Loss: 0.502 | Acc: 75.573% (1779/2354 148/148  \n",
      "Test Loss: 0.5023706227138236, Test Acc: 75.57%\n",
      "Saving..\n"
     ]
    },
    {
     "name": "stderr",
     "output_type": "stream",
     "text": [
      "[Epoch 7]: 100%|██████████| 344/344 [01:34<00:00,  3.63it/s]\n"
     ]
    },
    {
     "name": "stdout",
     "output_type": "stream",
     "text": [
      "Train Loss: 0.4297920392696248, Train Acc: 79.98%\n",
      " [=================================================>]  Step: 31ms | Tot: 21s848ms | Loss: 0.498 | Acc: 77.273% (1819/2354 148/148  \n",
      "Test Loss: 0.49840914518446533, Test Acc: 77.27%\n",
      "Saving..\n"
     ]
    },
    {
     "name": "stderr",
     "output_type": "stream",
     "text": [
      "[Epoch 8]: 100%|██████████| 344/344 [01:34<00:00,  3.65it/s]\n"
     ]
    },
    {
     "name": "stdout",
     "output_type": "stream",
     "text": [
      "Train Loss: 0.395692628266853, Train Acc: 82.77%\n",
      " [=================================================>]  Step: 18ms | Tot: 21s612ms | Loss: 0.557 | Acc: 74.639% (1757/2354 148/148  \n",
      "Test Loss: 0.5571993124243375, Test Acc: 74.64%\n"
     ]
    },
    {
     "name": "stderr",
     "output_type": "stream",
     "text": [
      "[Epoch 9]: 100%|██████████| 344/344 [01:42<00:00,  3.37it/s]"
     ]
    },
    {
     "name": "stdout",
     "output_type": "stream",
     "text": [
      "Train Loss: 0.3628273574245531, Train Acc: 84.22%\n",
      " [>.................................................]  Step: 1m42s | Tot: 0ms | Loss: 0.676 | Acc: 68.750% (11/16 1/148 \r"
     ]
    },
    {
     "name": "stderr",
     "output_type": "stream",
     "text": [
      "\n"
     ]
    },
    {
     "name": "stdout",
     "output_type": "stream",
     "text": [
      " [=================================================>]  Step: 20ms | Tot: 20s628ms | Loss: 0.470 | Acc: 78.590% (1850/2354 148/148  =====================>..........................]  Step: 203ms | Tot: 10s372ms | Loss: 0.497 | Acc: 77.170% (889/1152 72/148 \n",
      "Test Loss: 0.47012076159385413, Test Acc: 78.59%\n",
      "Saving..\n"
     ]
    },
    {
     "name": "stderr",
     "output_type": "stream",
     "text": [
      "[Epoch 10]: 100%|██████████| 344/344 [01:32<00:00,  3.73it/s]"
     ]
    },
    {
     "name": "stdout",
     "output_type": "stream",
     "text": [
      "Train Loss: 0.3370699290359436, Train Acc: 85.20%\n",
      " [>.................................................]  Step: 1m32s | Tot: 0ms | Loss: 0.505 | Acc: 68.750% (11/16 1/148 \r"
     ]
    },
    {
     "name": "stderr",
     "output_type": "stream",
     "text": [
      "\n"
     ]
    },
    {
     "name": "stdout",
     "output_type": "stream",
     "text": [
      " [=================================================>]  Step: 28ms | Tot: 20s601ms | Loss: 0.445 | Acc: 81.393% (1916/2354 148/148  \n",
      "Test Loss: 0.44483461185685685, Test Acc: 81.39%\n",
      "Saving..\n"
     ]
    },
    {
     "name": "stderr",
     "output_type": "stream",
     "text": [
      "[Epoch 11]: 100%|██████████| 344/344 [01:39<00:00,  3.47it/s]\n"
     ]
    },
    {
     "name": "stdout",
     "output_type": "stream",
     "text": [
      "Train Loss: 0.30971393727719093, Train Acc: 87.21%\n",
      " [=================================================>]  Step: 28ms | Tot: 19s952ms | Loss: 0.450 | Acc: 82.923% (1952/2354 148/148  \n",
      "Test Loss: 0.45049318182911424, Test Acc: 82.92%\n",
      "Saving..\n"
     ]
    },
    {
     "name": "stderr",
     "output_type": "stream",
     "text": [
      "[Epoch 12]: 100%|██████████| 344/344 [01:35<00:00,  3.62it/s]\n"
     ]
    },
    {
     "name": "stdout",
     "output_type": "stream",
     "text": [
      "Train Loss: 0.2805930431715624, Train Acc: 88.41%\n",
      " [=================================================>]  Step: 31ms | Tot: 20s796ms | Loss: 0.493 | Acc: 80.161% (1887/2354 148/148  \n",
      "Test Loss: 0.49302664937803875, Test Acc: 80.16%\n"
     ]
    },
    {
     "name": "stderr",
     "output_type": "stream",
     "text": [
      "[Epoch 13]: 100%|██████████| 344/344 [01:34<00:00,  3.62it/s]\n"
     ]
    },
    {
     "name": "stdout",
     "output_type": "stream",
     "text": [
      "Train Loss: 0.2697791954459146, Train Acc: 89.12%\n",
      " [=================================================>]  Step: 19ms | Tot: 20s853ms | Loss: 0.434 | Acc: 82.668% (1946/2354 148/148  \n",
      "Test Loss: 0.4343143973272999, Test Acc: 82.67%\n"
     ]
    },
    {
     "name": "stderr",
     "output_type": "stream",
     "text": [
      "[Epoch 14]: 100%|██████████| 344/344 [01:34<00:00,  3.66it/s]"
     ]
    },
    {
     "name": "stdout",
     "output_type": "stream",
     "text": [
      "Train Loss: 0.24658702948498865, Train Acc: 89.95%\n",
      " [>.................................................]  Step: 1m34s | Tot: 0ms | Loss: 0.484 | Acc: 75.000% (12/16 1/148 \r"
     ]
    },
    {
     "name": "stderr",
     "output_type": "stream",
     "text": [
      "\n"
     ]
    },
    {
     "name": "stdout",
     "output_type": "stream",
     "text": [
      " [=================================================>]  Step: 18ms | Tot: 20s625ms | Loss: 0.436 | Acc: 82.328% (1938/2354 148/148  =====================================>............]  Step: 203ms | Tot: 15s458ms | Loss: 0.450 | Acc: 81.864% (1467/1792 112/148 \n",
      "Test Loss: 0.435710897694367, Test Acc: 82.33%\n"
     ]
    },
    {
     "name": "stderr",
     "output_type": "stream",
     "text": [
      "[Epoch 15]: 100%|██████████| 344/344 [01:31<00:00,  3.76it/s]\n"
     ]
    },
    {
     "name": "stdout",
     "output_type": "stream",
     "text": [
      "Train Loss: 0.22592927720181125, Train Acc: 90.92%\n",
      " [=================================================>]  Step: 18ms | Tot: 20s342ms | Loss: 0.488 | Acc: 81.648% (1922/2354 148/148  \n",
      "Test Loss: 0.48837040223156075, Test Acc: 81.65%\n"
     ]
    },
    {
     "name": "stderr",
     "output_type": "stream",
     "text": [
      "[Epoch 16]: 100%|██████████| 344/344 [01:34<00:00,  3.63it/s]\n"
     ]
    },
    {
     "name": "stdout",
     "output_type": "stream",
     "text": [
      "Train Loss: 0.2175495564574809, Train Acc: 91.97%\n",
      " [=================================================>]  Step: 30ms | Tot: 20s363ms | Loss: 0.501 | Acc: 81.393% (1916/2354 148/148  \n",
      "Test Loss: 0.50068514930034, Test Acc: 81.39%\n"
     ]
    },
    {
     "name": "stderr",
     "output_type": "stream",
     "text": [
      "[Epoch 17]: 100%|██████████| 344/344 [01:43<00:00,  3.31it/s]\n"
     ]
    },
    {
     "name": "stdout",
     "output_type": "stream",
     "text": [
      "Train Loss: 0.20165633569677296, Train Acc: 92.01%\n",
      " [=================================================>]  Step: 19ms | Tot: 20s568ms | Loss: 0.441 | Acc: 83.730% (1971/2354 148/148  \n",
      "Test Loss: 0.4407100085974545, Test Acc: 83.73%\n",
      "Saving..\n"
     ]
    },
    {
     "name": "stderr",
     "output_type": "stream",
     "text": [
      "[Epoch 18]: 100%|██████████| 344/344 [01:35<00:00,  3.61it/s]\n"
     ]
    },
    {
     "name": "stdout",
     "output_type": "stream",
     "text": [
      "Train Loss: 0.17325460029830939, Train Acc: 93.18%\n",
      " [=================================================>]  Step: 19ms | Tot: 20s665ms | Loss: 0.486 | Acc: 82.838% (1950/2354 148/148  \n",
      "Test Loss: 0.4862688032381639, Test Acc: 82.84%\n"
     ]
    },
    {
     "name": "stderr",
     "output_type": "stream",
     "text": [
      "[Epoch 19]: 100%|██████████| 344/344 [01:33<00:00,  3.67it/s]\n"
     ]
    },
    {
     "name": "stdout",
     "output_type": "stream",
     "text": [
      "Train Loss: 0.18174035520682674, Train Acc: 92.98%\n",
      " [=================================================>]  Step: 28ms | Tot: 21s229ms | Loss: 0.463 | Acc: 83.008% (1954/2354 148/148  \n",
      "Test Loss: 0.4632066287150657, Test Acc: 83.01%\n"
     ]
    },
    {
     "name": "stderr",
     "output_type": "stream",
     "text": [
      "[Epoch 20]: 100%|██████████| 344/344 [01:36<00:00,  3.58it/s]"
     ]
    },
    {
     "name": "stdout",
     "output_type": "stream",
     "text": [
      "Train Loss: 0.16237552900971888, Train Acc: 93.79%\n",
      " [>.................................................]  Step: 1m36s | Tot: 0ms | Loss: 0.987 | Acc: 75.000% (12/16 1/148 \r"
     ]
    },
    {
     "name": "stderr",
     "output_type": "stream",
     "text": [
      "\n"
     ]
    },
    {
     "name": "stdout",
     "output_type": "stream",
     "text": [
      " [=================================================>]  Step: 28ms | Tot: 20s805ms | Loss: 0.509 | Acc: 83.730% (1971/2354 148/148  \n",
      "Test Loss: 0.5085322364151629, Test Acc: 83.73%\n"
     ]
    },
    {
     "name": "stderr",
     "output_type": "stream",
     "text": [
      "[Epoch 21]: 100%|██████████| 344/344 [01:31<00:00,  3.74it/s]"
     ]
    },
    {
     "name": "stdout",
     "output_type": "stream",
     "text": [
      "Train Loss: 0.15640244737733155, Train Acc: 94.03%\n",
      " [>.................................................]  Step: 1m32s | Tot: 0ms | Loss: 0.628 | Acc: 75.000% (12/16 1/148 \r"
     ]
    },
    {
     "name": "stderr",
     "output_type": "stream",
     "text": [
      "\n"
     ]
    },
    {
     "name": "stdout",
     "output_type": "stream",
     "text": [
      " [=================================================>]  Step: 18ms | Tot: 20s960ms | Loss: 0.460 | Acc: 84.494% (1989/2354 148/148  \n",
      "Test Loss: 0.4602929115094043, Test Acc: 84.49%\n",
      "Saving..\n"
     ]
    },
    {
     "name": "stderr",
     "output_type": "stream",
     "text": [
      "[Epoch 22]: 100%|██████████| 344/344 [01:37<00:00,  3.53it/s]"
     ]
    },
    {
     "name": "stdout",
     "output_type": "stream",
     "text": [
      "Train Loss: 0.15190221430452236, Train Acc: 94.30%\n",
      " [>.................................................]  Step: 1m37s | Tot: 0ms | Loss: 0.499 | Acc: 75.000% (12/16 1/148 \r"
     ]
    },
    {
     "name": "stderr",
     "output_type": "stream",
     "text": [
      "\n"
     ]
    },
    {
     "name": "stdout",
     "output_type": "stream",
     "text": [
      " [=================================================>]  Step: 23ms | Tot: 20s302ms | Loss: 0.466 | Acc: 84.070% (1979/2354 148/148  \n",
      "Test Loss: 0.4657344710698502, Test Acc: 84.07%\n"
     ]
    },
    {
     "name": "stderr",
     "output_type": "stream",
     "text": [
      "[Epoch 23]: 100%|██████████| 344/344 [01:36<00:00,  3.57it/s]\n"
     ]
    },
    {
     "name": "stdout",
     "output_type": "stream",
     "text": [
      "Train Loss: 0.14575579355005175, Train Acc: 94.45%\n",
      " [=================================================>]  Step: 29ms | Tot: 20s613ms | Loss: 0.439 | Acc: 85.302% (2008/2354 148/148  \n",
      "Test Loss: 0.43875175811400685, Test Acc: 85.30%\n",
      "Saving..\n"
     ]
    },
    {
     "name": "stderr",
     "output_type": "stream",
     "text": [
      "[Epoch 24]: 100%|██████████| 344/344 [01:32<00:00,  3.73it/s]"
     ]
    },
    {
     "name": "stdout",
     "output_type": "stream",
     "text": [
      "Train Loss: 0.1460118434678893, Train Acc: 94.63%\n",
      " [>.................................................]  Step: 1m32s | Tot: 0ms | Loss: 0.393 | Acc: 93.750% (15/16 1/148 \r"
     ]
    },
    {
     "name": "stderr",
     "output_type": "stream",
     "text": [
      "\n"
     ]
    },
    {
     "name": "stdout",
     "output_type": "stream",
     "text": [
      " [=================================================>]  Step: 37ms | Tot: 20s524ms | Loss: 0.450 | Acc: 84.367% (1986/2354 148/148  \n",
      "Test Loss: 0.4500781402882264, Test Acc: 84.37%\n"
     ]
    },
    {
     "name": "stderr",
     "output_type": "stream",
     "text": [
      "[Epoch 25]: 100%|██████████| 344/344 [01:29<00:00,  3.83it/s]\n"
     ]
    },
    {
     "name": "stdout",
     "output_type": "stream",
     "text": [
      "Train Loss: 0.1273050835670167, Train Acc: 95.52%\n",
      " [=================================================>]  Step: 28ms | Tot: 20s22ms | Loss: 0.608 | Acc: 80.204% (1888/2354 148/148 8 \n",
      "Test Loss: 0.6076216160797993, Test Acc: 80.20%\n"
     ]
    },
    {
     "name": "stderr",
     "output_type": "stream",
     "text": [
      "[Epoch 26]: 100%|██████████| 344/344 [01:32<00:00,  3.72it/s]"
     ]
    },
    {
     "name": "stdout",
     "output_type": "stream",
     "text": [
      "Train Loss: 0.12435316663711916, Train Acc: 95.56%\n",
      " [>.................................................]  Step: 1m32s | Tot: 0ms | Loss: 0.244 | Acc: 87.500% (14/16 1/148 \r"
     ]
    },
    {
     "name": "stderr",
     "output_type": "stream",
     "text": [
      "\n"
     ]
    },
    {
     "name": "stdout",
     "output_type": "stream",
     "text": [
      " [=================================================>]  Step: 24ms | Tot: 20s84ms | Loss: 0.472 | Acc: 85.004% (2001/2354 148/148   \n",
      "Test Loss: 0.471825395628961, Test Acc: 85.00%\n"
     ]
    },
    {
     "name": "stderr",
     "output_type": "stream",
     "text": [
      "[Epoch 27]: 100%|██████████| 344/344 [01:32<00:00,  3.72it/s]\n"
     ]
    },
    {
     "name": "stdout",
     "output_type": "stream",
     "text": [
      "Train Loss: 0.11580741825123686, Train Acc: 95.38%\n",
      " [=================================================>]  Step: 21ms | Tot: 20s443ms | Loss: 0.557 | Acc: 83.305% (1961/2354 148/148  \n",
      "Test Loss: 0.5570677247565441, Test Acc: 83.31%\n"
     ]
    },
    {
     "name": "stderr",
     "output_type": "stream",
     "text": [
      "[Epoch 28]: 100%|██████████| 344/344 [01:30<00:00,  3.80it/s]\n"
     ]
    },
    {
     "name": "stdout",
     "output_type": "stream",
     "text": [
      "Train Loss: 0.11809959530229355, Train Acc: 95.25%\n",
      " [=================================================>]  Step: 20ms | Tot: 21s984ms | Loss: 0.501 | Acc: 84.834% (1997/2354 148/148  \n",
      "Test Loss: 0.5012344634836867, Test Acc: 84.83%\n"
     ]
    },
    {
     "name": "stderr",
     "output_type": "stream",
     "text": [
      "[Epoch 29]: 100%|██████████| 344/344 [01:31<00:00,  3.74it/s]"
     ]
    },
    {
     "name": "stdout",
     "output_type": "stream",
     "text": [
      "Train Loss: 0.11244876893659578, Train Acc: 95.96%\n",
      " [>.................................................]  Step: 1m32s | Tot: 0ms | Loss: 0.492 | Acc: 87.500% (14/16 1/148 \r"
     ]
    },
    {
     "name": "stderr",
     "output_type": "stream",
     "text": [
      "\n"
     ]
    },
    {
     "name": "stdout",
     "output_type": "stream",
     "text": [
      " [=================================================>]  Step: 37ms | Tot: 21s407ms | Loss: 0.543 | Acc: 83.772% (1972/2354 148/148  \n",
      "Test Loss: 0.54261578343859, Test Acc: 83.77%\n"
     ]
    },
    {
     "name": "stderr",
     "output_type": "stream",
     "text": [
      "[Epoch 30]: 100%|██████████| 344/344 [01:41<00:00,  3.40it/s]\n"
     ]
    },
    {
     "name": "stdout",
     "output_type": "stream",
     "text": [
      "Train Loss: 0.09941108382393628, Train Acc: 96.38%\n",
      " [=================================================>]  Step: 17ms | Tot: 19s944ms | Loss: 0.491 | Acc: 85.174% (2005/2354 148/148  \n",
      "Test Loss: 0.4913944240385742, Test Acc: 85.17%\n"
     ]
    },
    {
     "name": "stderr",
     "output_type": "stream",
     "text": [
      "[Epoch 31]: 100%|██████████| 344/344 [01:30<00:00,  3.79it/s]\n"
     ]
    },
    {
     "name": "stdout",
     "output_type": "stream",
     "text": [
      "Train Loss: 0.10513265485276987, Train Acc: 96.27%\n",
      " [=================================================>]  Step: 17ms | Tot: 20s768ms | Loss: 0.547 | Acc: 84.962% (2000/2354 148/148  \n",
      "Test Loss: 0.5472443390109047, Test Acc: 84.96%\n"
     ]
    },
    {
     "name": "stderr",
     "output_type": "stream",
     "text": [
      "[Epoch 32]: 100%|██████████| 344/344 [01:34<00:00,  3.66it/s]"
     ]
    },
    {
     "name": "stdout",
     "output_type": "stream",
     "text": [
      "Train Loss: 0.10147699172443407, Train Acc: 96.21%\n",
      " [>.................................................]  Step: 1m34s | Tot: 0ms | Loss: 0.458 | Acc: 75.000% (12/16 1/148 \r"
     ]
    },
    {
     "name": "stderr",
     "output_type": "stream",
     "text": [
      "\n"
     ]
    },
    {
     "name": "stdout",
     "output_type": "stream",
     "text": [
      " [=================================================>]  Step: 16ms | Tot: 20s538ms | Loss: 0.464 | Acc: 86.066% (2026/2354 148/148  \n",
      "Test Loss: 0.4637642854327537, Test Acc: 86.07%\n",
      "Saving..\n"
     ]
    },
    {
     "name": "stderr",
     "output_type": "stream",
     "text": [
      "[Epoch 33]: 100%|██████████| 344/344 [01:35<00:00,  3.62it/s]\n"
     ]
    },
    {
     "name": "stdout",
     "output_type": "stream",
     "text": [
      "Train Loss: 0.10703574165330962, Train Acc: 95.69%\n",
      " [=================================================>]  Step: 19ms | Tot: 19s859ms | Loss: 0.518 | Acc: 85.514% (2013/2354 148/148  \n",
      "Test Loss: 0.518177663001257, Test Acc: 85.51%\n"
     ]
    },
    {
     "name": "stderr",
     "output_type": "stream",
     "text": [
      "[Epoch 34]: 100%|██████████| 344/344 [01:38<00:00,  3.49it/s]\n"
     ]
    },
    {
     "name": "stdout",
     "output_type": "stream",
     "text": [
      "Train Loss: 0.09251845041817855, Train Acc: 96.51%\n",
      " [=================================================>]  Step: 28ms | Tot: 20s387ms | Loss: 0.566 | Acc: 83.390% (1963/2354 148/148  \n",
      "Test Loss: 0.5662973147574686, Test Acc: 83.39%\n"
     ]
    },
    {
     "name": "stderr",
     "output_type": "stream",
     "text": [
      "[Epoch 35]: 100%|██████████| 344/344 [01:38<00:00,  3.51it/s]"
     ]
    },
    {
     "name": "stdout",
     "output_type": "stream",
     "text": [
      "Train Loss: 0.08893050291564662, Train Acc: 96.69%\n",
      " [>.................................................]  Step: 1m38s | Tot: 0ms | Loss: 0.467 | Acc: 75.000% (12/16 1/148 \r"
     ]
    },
    {
     "name": "stderr",
     "output_type": "stream",
     "text": [
      "\n"
     ]
    },
    {
     "name": "stdout",
     "output_type": "stream",
     "text": [
      " [=================================================>]  Step: 30ms | Tot: 19s794ms | Loss: 0.533 | Acc: 85.514% (2013/2354 148/148  \n",
      "Test Loss: 0.5333760118187088, Test Acc: 85.51%\n"
     ]
    },
    {
     "name": "stderr",
     "output_type": "stream",
     "text": [
      "[Epoch 36]: 100%|██████████| 344/344 [01:27<00:00,  3.92it/s]"
     ]
    },
    {
     "name": "stdout",
     "output_type": "stream",
     "text": [
      "Train Loss: 0.08739622909681287, Train Acc: 96.91%\n",
      " [>.................................................]  Step: 1m27s | Tot: 0ms | Loss: 0.604 | Acc: 81.250% (13/16 1/148 \r"
     ]
    },
    {
     "name": "stderr",
     "output_type": "stream",
     "text": [
      "\n"
     ]
    },
    {
     "name": "stdout",
     "output_type": "stream",
     "text": [
      " [=================================================>]  Step: 38ms | Tot: 20s975ms | Loss: 0.542 | Acc: 85.854% (2021/2354 148/148  \n",
      "Test Loss: 0.5420727857189549, Test Acc: 85.85%\n"
     ]
    },
    {
     "name": "stderr",
     "output_type": "stream",
     "text": [
      "[Epoch 37]: 100%|██████████| 344/344 [01:33<00:00,  3.69it/s]"
     ]
    },
    {
     "name": "stdout",
     "output_type": "stream",
     "text": [
      "Train Loss: 0.08109987717559074, Train Acc: 96.69%\n",
      " [>.................................................]  Step: 1m33s | Tot: 0ms | Loss: 0.623 | Acc: 75.000% (12/16 1/148 \r"
     ]
    },
    {
     "name": "stderr",
     "output_type": "stream",
     "text": [
      "\n"
     ]
    },
    {
     "name": "stdout",
     "output_type": "stream",
     "text": [
      " [=================================================>]  Step: 27ms | Tot: 21s445ms | Loss: 0.488 | Acc: 85.429% (2011/2354 148/148  \n",
      "Test Loss: 0.48849211707144874, Test Acc: 85.43%\n"
     ]
    },
    {
     "name": "stderr",
     "output_type": "stream",
     "text": [
      "[Epoch 38]: 100%|██████████| 344/344 [01:37<00:00,  3.54it/s]\n"
     ]
    },
    {
     "name": "stdout",
     "output_type": "stream",
     "text": [
      "Train Loss: 0.08939306607685149, Train Acc: 96.51%\n",
      " [=================================================>]  Step: 38ms | Tot: 19s470ms | Loss: 0.532 | Acc: 85.344% (2009/2354 148/148  \n",
      "Test Loss: 0.5320595771678396, Test Acc: 85.34%\n"
     ]
    },
    {
     "name": "stderr",
     "output_type": "stream",
     "text": [
      "[Epoch 39]: 100%|██████████| 344/344 [01:39<00:00,  3.47it/s]\n"
     ]
    },
    {
     "name": "stdout",
     "output_type": "stream",
     "text": [
      "Train Loss: 0.08224976117970412, Train Acc: 97.07%\n",
      " [=================================================>]  Step: 18ms | Tot: 19s931ms | Loss: 0.528 | Acc: 85.047% (2002/2354 148/148  \n",
      "Test Loss: 0.5280134705323223, Test Acc: 85.05%\n"
     ]
    },
    {
     "name": "stderr",
     "output_type": "stream",
     "text": [
      "[Epoch 40]: 100%|██████████| 344/344 [01:38<00:00,  3.50it/s]"
     ]
    },
    {
     "name": "stdout",
     "output_type": "stream",
     "text": [
      "Train Loss: 0.07442014145145062, Train Acc: 97.29%\n",
      " [>.................................................]  Step: 1m38s | Tot: 0ms | Loss: 0.665 | Acc: 75.000% (12/16 1/148 \r"
     ]
    },
    {
     "name": "stderr",
     "output_type": "stream",
     "text": [
      "\n"
     ]
    },
    {
     "name": "stdout",
     "output_type": "stream",
     "text": [
      " [=================================================>]  Step: 22ms | Tot: 19s568ms | Loss: 0.489 | Acc: 85.684% (2017/2354 148/148  \n",
      "Test Loss: 0.48935725556441106, Test Acc: 85.68%\n"
     ]
    },
    {
     "name": "stderr",
     "output_type": "stream",
     "text": [
      "[Epoch 41]: 100%|██████████| 344/344 [01:32<00:00,  3.71it/s]\n"
     ]
    },
    {
     "name": "stdout",
     "output_type": "stream",
     "text": [
      "Train Loss: 0.06099784031454853, Train Acc: 97.93%\n",
      " [=================================================>]  Step: 18ms | Tot: 20s235ms | Loss: 0.670 | Acc: 83.730% (1971/2354 148/148  \n",
      "Test Loss: 0.6703437378699262, Test Acc: 83.73%\n"
     ]
    },
    {
     "name": "stderr",
     "output_type": "stream",
     "text": [
      "[Epoch 42]: 100%|██████████| 344/344 [01:30<00:00,  3.80it/s]"
     ]
    },
    {
     "name": "stdout",
     "output_type": "stream",
     "text": [
      "Train Loss: 0.0787353270699346, Train Acc: 97.29%\n",
      " [>.................................................]  Step: 1m30s | Tot: 0ms | Loss: 0.380 | Acc: 87.500% (14/16 1/148 \r"
     ]
    },
    {
     "name": "stderr",
     "output_type": "stream",
     "text": [
      "\n"
     ]
    },
    {
     "name": "stdout",
     "output_type": "stream",
     "text": [
      " [=================================================>]  Step: 20ms | Tot: 19s742ms | Loss: 0.517 | Acc: 85.599% (2015/2354 148/148  \n",
      "Test Loss: 0.5165057630752877, Test Acc: 85.60%\n"
     ]
    },
    {
     "name": "stderr",
     "output_type": "stream",
     "text": [
      "[Epoch 43]: 100%|██████████| 344/344 [01:27<00:00,  3.92it/s]"
     ]
    },
    {
     "name": "stdout",
     "output_type": "stream",
     "text": [
      "Train Loss: 0.06867615918752056, Train Acc: 97.58%\n",
      " [>.................................................]  Step: 1m27s | Tot: 0ms | Loss: 0.442 | Acc: 81.250% (13/16 1/148 \r"
     ]
    },
    {
     "name": "stderr",
     "output_type": "stream",
     "text": [
      "\n"
     ]
    },
    {
     "name": "stdout",
     "output_type": "stream",
     "text": [
      " [=================================================>]  Step: 22ms | Tot: 21s498ms | Loss: 0.520 | Acc: 86.279% (2031/2354 148/148  \n",
      "Test Loss: 0.5198591047586445, Test Acc: 86.28%\n",
      "Saving..\n"
     ]
    },
    {
     "name": "stderr",
     "output_type": "stream",
     "text": [
      "[Epoch 44]: 100%|██████████| 344/344 [01:31<00:00,  3.76it/s]\n"
     ]
    },
    {
     "name": "stdout",
     "output_type": "stream",
     "text": [
      "Train Loss: 0.0724829310388169, Train Acc: 97.20%\n",
      " [=================================================>]  Step: 18ms | Tot: 21s891ms | Loss: 0.503 | Acc: 86.576% (2038/2354 148/148  \n",
      "Test Loss: 0.5027368063904735, Test Acc: 86.58%\n",
      "Saving..\n"
     ]
    },
    {
     "name": "stderr",
     "output_type": "stream",
     "text": [
      "[Epoch 45]: 100%|██████████| 344/344 [01:35<00:00,  3.59it/s]\n"
     ]
    },
    {
     "name": "stdout",
     "output_type": "stream",
     "text": [
      "Train Loss: 0.06444439270667635, Train Acc: 97.62%\n",
      " [=================================================>]  Step: 23ms | Tot: 21s89ms | Loss: 0.478 | Acc: 86.703% (2041/2354 148/148   \n",
      "Test Loss: 0.47826781936896007, Test Acc: 86.70%\n",
      "Saving..\n"
     ]
    },
    {
     "name": "stderr",
     "output_type": "stream",
     "text": [
      "[Epoch 46]: 100%|██████████| 344/344 [01:29<00:00,  3.83it/s]\n"
     ]
    },
    {
     "name": "stdout",
     "output_type": "stream",
     "text": [
      "Train Loss: 0.066377436735249, Train Acc: 97.43%\n",
      " [=================================================>]  Step: 22ms | Tot: 20s19ms | Loss: 0.534 | Acc: 86.236% (2030/2354 148/148 8 \n",
      "Test Loss: 0.534217864890092, Test Acc: 86.24%\n"
     ]
    },
    {
     "name": "stderr",
     "output_type": "stream",
     "text": [
      "[Epoch 47]: 100%|██████████| 344/344 [01:33<00:00,  3.67it/s]"
     ]
    },
    {
     "name": "stdout",
     "output_type": "stream",
     "text": [
      "Train Loss: 0.06409330969218836, Train Acc: 97.74%\n",
      " [>.................................................]  Step: 1m33s | Tot: 0ms | Loss: 0.512 | Acc: 87.500% (14/16 1/148 \r"
     ]
    },
    {
     "name": "stderr",
     "output_type": "stream",
     "text": [
      "\n"
     ]
    },
    {
     "name": "stdout",
     "output_type": "stream",
     "text": [
      " [=================================================>]  Step: 21ms | Tot: 19s999ms | Loss: 0.529 | Acc: 85.939% (2023/2354 148/148  \n",
      "Test Loss: 0.5287278606713673, Test Acc: 85.94%\n"
     ]
    },
    {
     "name": "stderr",
     "output_type": "stream",
     "text": [
      "[Epoch 48]: 100%|██████████| 344/344 [01:33<00:00,  3.66it/s]"
     ]
    },
    {
     "name": "stdout",
     "output_type": "stream",
     "text": [
      "Train Loss: 0.05378304440886876, Train Acc: 98.09%\n",
      " [>.................................................]  Step: 1m34s | Tot: 0ms | Loss: 0.674 | Acc: 75.000% (12/16 1/148 \r"
     ]
    },
    {
     "name": "stderr",
     "output_type": "stream",
     "text": [
      "\n"
     ]
    },
    {
     "name": "stdout",
     "output_type": "stream",
     "text": [
      " [=================================================>]  Step: 27ms | Tot: 18s938ms | Loss: 0.604 | Acc: 86.364% (2033/2354 148/148  \n",
      "Test Loss: 0.6041068099246429, Test Acc: 86.36%\n"
     ]
    },
    {
     "name": "stderr",
     "output_type": "stream",
     "text": [
      "[Epoch 49]: 100%|██████████| 344/344 [01:36<00:00,  3.57it/s]\n"
     ]
    },
    {
     "name": "stdout",
     "output_type": "stream",
     "text": [
      "Train Loss: 0.06451831748580485, Train Acc: 97.54%\n",
      " [=================================================>]  Step: 28ms | Tot: 20s979ms | Loss: 0.582 | Acc: 85.387% (2010/2354 148/148  \n",
      "Test Loss: 0.5824819320200855, Test Acc: 85.39%\n"
     ]
    },
    {
     "name": "stderr",
     "output_type": "stream",
     "text": [
      "[Epoch 50]: 100%|██████████| 344/344 [01:36<00:00,  3.55it/s]"
     ]
    },
    {
     "name": "stdout",
     "output_type": "stream",
     "text": [
      "Train Loss: 0.06607368449713671, Train Acc: 97.49%\n",
      " [>.................................................]  Step: 1m37s | Tot: 0ms | Loss: 0.661 | Acc: 87.500% (14/16 1/148 \r"
     ]
    },
    {
     "name": "stderr",
     "output_type": "stream",
     "text": [
      "\n"
     ]
    },
    {
     "name": "stdout",
     "output_type": "stream",
     "text": [
      " [=================================================>]  Step: 25ms | Tot: 20s289ms | Loss: 0.592 | Acc: 85.556% (2014/2354 148/148  \n",
      "Test Loss: 0.5922586173314689, Test Acc: 85.56%\n"
     ]
    }
   ],
   "source": [
    "for epoch in range(start_epoch, start_epoch+50):\n",
    "    train(epoch)\n",
    "    test(epoch)\n",
    " \n",
    " #   scheduler.step()"
   ]
  },
  {
   "cell_type": "code",
   "execution_count": null,
   "id": "f77c9ecb",
   "metadata": {},
   "outputs": [],
   "source": []
  }
 ],
 "metadata": {
  "kernelspec": {
   "display_name": "Python 3",
   "language": "python",
   "name": "python3"
  },
  "language_info": {
   "codemirror_mode": {
    "name": "ipython",
    "version": 3
   },
   "file_extension": ".py",
   "mimetype": "text/x-python",
   "name": "python",
   "nbconvert_exporter": "python",
   "pygments_lexer": "ipython3",
   "version": "3.10.12"
  }
 },
 "nbformat": 4,
 "nbformat_minor": 5
}
