{
 "cells": [
  {
   "cell_type": "code",
   "execution_count": 1,
   "id": "b02859b6",
   "metadata": {},
   "outputs": [],
   "source": [
    "#train3 from 2: use adam, remove weight_decay; one BW channel (not 3)\n",
    "import torch,os \n",
    "import torch.nn as nn\n",
    "import torch.optim as optim\n",
    "\n",
    "from torchvision.transforms import v2\n",
    "import torchvision.models as models\n",
    "import pandas as pd\n",
    "import matplotlib.pyplot as plt\n",
    "\n",
    "# from models import *\n",
    "from utils import progress_bar\n",
    "from tqdm import tqdm\n",
    "from configparser import ConfigParser\n",
    "from torch.utils.data import  DataLoader\n",
    "from LIDC_data import LIDC_Dataset"
   ]
  },
  {
   "cell_type": "code",
   "execution_count": 2,
   "id": "d3d8dc6b",
   "metadata": {},
   "outputs": [],
   "source": [
    "device = 'cuda' if torch.cuda.is_available() else 'cpu'\n",
    "best_acc = 0  # best test accuracy\n",
    "start_epoch = 0  # start from epoch 0 or last checkpoint epoch\n",
    "\n",
    "prep_tr = [\n",
    "    v2.Lambda(lambda x: torch.clamp(x,-1000,400)),\n",
    "    v2.Lambda(lambda x: (x+1000)/1400),\n",
    "    v2.CenterCrop((384,384)),\n",
    "    # v2.Lambda(lambda x: x.expand(3,-1,-1))\n",
    "]\n",
    "aug_tr = [\n",
    "    v2.RandomAffine(degrees=10),\n",
    "    v2.RandomHorizontalFlip(),\n",
    "    v2.GaussianNoise(0,0.1)\n",
    "]\n",
    "trans_train = v2.Compose( prep_tr + aug_tr )\n",
    "trans_test = v2.Compose( prep_tr  )"
   ]
  },
  {
   "cell_type": "code",
   "execution_count": 3,
   "id": "2b344e58",
   "metadata": {},
   "outputs": [
    {
     "name": "stdout",
     "output_type": "stream",
     "text": [
      "total_train_data: 5495 total_test_data: 2354\n"
     ]
    }
   ],
   "source": [
    "\n",
    "parser = ConfigParser()\n",
    "parser.read('.settings')\n",
    "root_dir = parser.get('dataset','root_dir') #/workspaces/data/lidc-idri/slices\n",
    "meta_dir = parser.get('dataset','meta_dir') #/workspaces/data/lidc-idri/splits\n",
    "train_data = LIDC_Dataset(root_dir,metapath=os.path.join(meta_dir,'train_malB.csv'),transform=trans_train)\n",
    "test_data = LIDC_Dataset(root_dir,metapath=os.path.join(meta_dir,'test_malB.csv'),transform=trans_test)\n",
    "total_train_data = len(train_data)\n",
    "total_test_data = len(test_data)\n",
    "print('total_train_data:',total_train_data, 'total_test_data:',total_test_data)\n",
    "\n",
    "trainloader = DataLoader(train_data, batch_size=16, shuffle=True)\n",
    "testloader = DataLoader(test_data, batch_size=16)"
   ]
  },
  {
   "cell_type": "code",
   "execution_count": 4,
   "id": "94805703",
   "metadata": {},
   "outputs": [
    {
     "name": "stderr",
     "output_type": "stream",
     "text": [
      "/home/vscode/.local/lib/python3.10/site-packages/torchvision/models/_utils.py:208: UserWarning: The parameter 'pretrained' is deprecated since 0.13 and may be removed in the future, please use 'weights' instead.\n",
      "  warnings.warn(\n",
      "/home/vscode/.local/lib/python3.10/site-packages/torchvision/models/_utils.py:223: UserWarning: Arguments other than a weight enum or `None` for 'weights' are deprecated since 0.13 and may be removed in the future. The current behavior is equivalent to passing `weights=ResNet18_Weights.IMAGENET1K_V1`. You can also use `weights=ResNet18_Weights.DEFAULT` to get the most up-to-date weights.\n",
      "  warnings.warn(msg)\n"
     ]
    }
   ],
   "source": [
    "# net = ResNet18(num_classes=2)\n",
    "net = models.resnet18(pretrained=True)\n",
    "net.conv1 = nn.Conv2d(1, 64, kernel_size=7, stride=2, padding=3, bias=False)\n",
    "net.fc = nn.Linear(net.fc.in_features, 2)\n",
    "net = net.to(device)"
   ]
  },
  {
   "cell_type": "code",
   "execution_count": 5,
   "id": "5a98ef22",
   "metadata": {},
   "outputs": [],
   "source": [
    "lr = 1e-4\n",
    "criterion = nn.CrossEntropyLoss()\n",
    "# criterion = nn.BCEWithLogitsLoss()\n",
    "optimizer = optim.Adam(net.parameters(), lr=lr)\n",
    "\n",
    "trainning_accuracy=[]\n",
    "trainning_loss=[]\n",
    "testing_accuracy=[]\n",
    "testing_loss=[]"
   ]
  },
  {
   "cell_type": "code",
   "execution_count": 6,
   "id": "9e1e321d",
   "metadata": {},
   "outputs": [],
   "source": [
    "def train(epoch):\n",
    "    net.train()\n",
    "    train_loss = 0\n",
    "    correct = 0\n",
    "    total = 0\n",
    "    for batch_idx, (inputs, targets) in enumerate(tqdm(trainloader,desc=f\"[Epoch {epoch+1}]\")):\n",
    "        inputs, targets = inputs.to(device), targets.to(device)\n",
    "        # targets = targets.float().unsqueeze(1)\n",
    "\n",
    "        optimizer.zero_grad()\n",
    "        outputs = net(inputs)\n",
    "        \n",
    "        loss = criterion(outputs, targets)\n",
    "        loss.backward()\n",
    "        \n",
    "        optimizer.step()\n",
    "\n",
    "        train_loss += loss.item()\n",
    "        _, predicted = outputs.max(1)\n",
    "        # preds = (torch.sigmoid(outputs) > 0.5).squeeze().long()\n",
    "        \n",
    "        total += targets.size(0)\n",
    "        correct += predicted.eq(targets).sum().item()\n",
    "        # correct += (preds == targets.long()).sum().item()\n",
    "\n",
    "    train_acc = 100.*correct/total\n",
    "    train_loss = train_loss/(batch_idx+1)\n",
    "    print(f\"Train Loss: {train_loss}, Train Acc: {train_acc:.2f}%\")\n",
    "    trainning_accuracy.append(train_acc)\n",
    "    trainning_loss.append( train_loss )\n",
    "\n",
    "def test(epoch):\n",
    "    global best_acc\n",
    "    net.eval()\n",
    "    test_loss = 0\n",
    "    correct = 0\n",
    "    total = 0\n",
    "    with torch.no_grad():\n",
    "        for batch_idx, (inputs, targets) in enumerate(testloader):\n",
    "            inputs, targets = inputs.to(device), targets.to(device)\n",
    "            # targets = targets.float().unsqueeze(1)\n",
    "            outputs = net(inputs)\n",
    "            \n",
    "            loss = criterion(outputs, targets)\n",
    "            test_loss += loss.item()\n",
    "            _, predicted = outputs.max(1)\n",
    "            # preds = (torch.sigmoid(outputs) > 0.5).squeeze().long()\n",
    "            total += targets.size(0)\n",
    "            correct += predicted.eq(targets).sum().item()\n",
    "            # correct += (preds == targets.long()).sum().item()\n",
    "\n",
    "            progress_bar(batch_idx, len(testloader), 'Loss: %.3f | Acc: %.3f%% (%d/%d)'\n",
    "                         % (test_loss/(batch_idx+1), 100.*correct/total, correct, total))\n",
    "        test_acc = 100.*correct/total\n",
    "        test_loss = test_loss/(batch_idx+1)\n",
    "        print(f\"Test Loss: {test_loss}, Test Acc: {test_acc:.2f}%\")\n",
    "        testing_accuracy.append(100.*correct/total)\n",
    "        testing_loss.append(test_loss/(batch_idx+1))\n",
    "    # Save checkpoint.\n",
    "    acc = 100.*correct/total\n",
    "    if acc > best_acc:\n",
    "        print('Saving..')\n",
    "        state = {\n",
    "            'net': net.state_dict(),\n",
    "            'acc': acc,\n",
    "            'epoch': epoch,\n",
    "        }\n",
    "        if not os.path.isdir('checkpoint'):\n",
    "            os.mkdir('checkpoint')\n",
    "        torch.save(state, './checkpoint/ckpt_owndata.pth')\n",
    "        best_acc = acc"
   ]
  },
  {
   "cell_type": "code",
   "execution_count": 7,
   "id": "fa7663ca",
   "metadata": {},
   "outputs": [
    {
     "name": "stderr",
     "output_type": "stream",
     "text": [
      "[Epoch 1]: 100%|██████████| 344/344 [01:21<00:00,  4.24it/s]\n"
     ]
    },
    {
     "name": "stdout",
     "output_type": "stream",
     "text": [
      "Train Loss: 0.6843305108852165, Train Acc: 57.96%\n",
      " [=================================================>]  Step: 28ms | Tot: 16s306ms | Loss: 0.710 | Acc: 46.941% (1105/2354 148/148  \n",
      "Test Loss: 0.7103840656377174, Test Acc: 46.94%\n",
      "Saving..\n"
     ]
    },
    {
     "name": "stderr",
     "output_type": "stream",
     "text": [
      "[Epoch 2]: 100%|██████████| 344/344 [01:21<00:00,  4.25it/s]\n"
     ]
    },
    {
     "name": "stdout",
     "output_type": "stream",
     "text": [
      "Train Loss: 0.6426054317244264, Train Acc: 63.26%\n",
      " [=================================================>]  Step: 19ms | Tot: 16s167ms | Loss: 0.698 | Acc: 57.222% (1347/2354 148/148  \n",
      "Test Loss: 0.6979726554976927, Test Acc: 57.22%\n",
      "Saving..\n"
     ]
    },
    {
     "name": "stderr",
     "output_type": "stream",
     "text": [
      "[Epoch 3]: 100%|██████████| 344/344 [01:20<00:00,  4.27it/s]\n"
     ]
    },
    {
     "name": "stdout",
     "output_type": "stream",
     "text": [
      "Train Loss: 0.608291390936735, Train Acc: 66.41%\n",
      " [=================================================>]  Step: 17ms | Tot: 15s946ms | Loss: 0.647 | Acc: 63.594% (1497/2354 148/148  \n",
      "Test Loss: 0.6474059431536777, Test Acc: 63.59%\n",
      "Saving..\n"
     ]
    },
    {
     "name": "stderr",
     "output_type": "stream",
     "text": [
      "[Epoch 4]: 100%|██████████| 344/344 [01:20<00:00,  4.28it/s]\n"
     ]
    },
    {
     "name": "stdout",
     "output_type": "stream",
     "text": [
      "Train Loss: 0.5758908544342185, Train Acc: 69.99%\n",
      " [=================================================>]  Step: 17ms | Tot: 15s953ms | Loss: 0.763 | Acc: 48.768% (1148/2354 148/148  \n",
      "Test Loss: 0.7625267614383955, Test Acc: 48.77%\n"
     ]
    },
    {
     "name": "stderr",
     "output_type": "stream",
     "text": [
      "[Epoch 5]: 100%|██████████| 344/344 [01:20<00:00,  4.28it/s]\n"
     ]
    },
    {
     "name": "stdout",
     "output_type": "stream",
     "text": [
      "Train Loss: 0.5447941305505675, Train Acc: 73.27%\n",
      " [=================================================>]  Step: 20ms | Tot: 16s232ms | Loss: 0.842 | Acc: 57.519% (1354/2354 148/148  \n",
      "Test Loss: 0.8415395518815195, Test Acc: 57.52%\n"
     ]
    },
    {
     "name": "stderr",
     "output_type": "stream",
     "text": [
      "[Epoch 6]: 100%|██████████| 344/344 [01:20<00:00,  4.28it/s]\n"
     ]
    },
    {
     "name": "stdout",
     "output_type": "stream",
     "text": [
      "Train Loss: 0.512343768550213, Train Acc: 74.69%\n",
      " [=================================================>]  Step: 16ms | Tot: 15s671ms | Loss: 0.749 | Acc: 58.836% (1385/2354 148/148  =============================================>....]  Step: 102ms | Tot: 14s563ms | Loss: 0.757 | Acc: 58.577% (1284/2192 137/148 \n",
      "Test Loss: 0.7492470898338266, Test Acc: 58.84%\n"
     ]
    },
    {
     "name": "stderr",
     "output_type": "stream",
     "text": [
      "[Epoch 7]: 100%|██████████| 344/344 [01:19<00:00,  4.32it/s]\n"
     ]
    },
    {
     "name": "stdout",
     "output_type": "stream",
     "text": [
      "Train Loss: 0.4905926837737477, Train Acc: 75.60%\n",
      " [=================================================>]  Step: 17ms | Tot: 16s226ms | Loss: 2.061 | Acc: 44.690% (1052/2354 148/148  ===========================>...................]  Step: 106ms | Tot: 10s98ms | Loss: 2.049 | Acc: 45.124% (657/1456 91/148 \n",
      "Test Loss: 2.060642486488497, Test Acc: 44.69%\n"
     ]
    },
    {
     "name": "stderr",
     "output_type": "stream",
     "text": [
      "[Epoch 8]: 100%|██████████| 344/344 [02:06<00:00,  2.72it/s]\n"
     ]
    },
    {
     "name": "stdout",
     "output_type": "stream",
     "text": [
      "Train Loss: 0.45330326510376706, Train Acc: 78.98%\n",
      " [=================================================>]  Step: 19ms | Tot: 21s370ms | Loss: 0.757 | Acc: 60.025% (1413/2354 148/148  \n",
      "Test Loss: 0.7568732011761214, Test Acc: 60.03%\n"
     ]
    },
    {
     "name": "stderr",
     "output_type": "stream",
     "text": [
      "[Epoch 9]: 100%|██████████| 344/344 [01:31<00:00,  3.75it/s]\n"
     ]
    },
    {
     "name": "stdout",
     "output_type": "stream",
     "text": [
      "Train Loss: 0.4338548885615066, Train Acc: 80.13%\n",
      " [=================================================>]  Step: 22ms | Tot: 21s816ms | Loss: 1.166 | Acc: 46.347% (1091/2354 148/148  8 \n",
      "Test Loss: 1.1663437004427653, Test Acc: 46.35%\n"
     ]
    },
    {
     "name": "stderr",
     "output_type": "stream",
     "text": [
      "[Epoch 10]: 100%|██████████| 344/344 [01:27<00:00,  3.93it/s]\n"
     ]
    },
    {
     "name": "stdout",
     "output_type": "stream",
     "text": [
      "Train Loss: 0.38959876720815206, Train Acc: 82.31%\n",
      " [=================================================>]  Step: 19ms | Tot: 19s995ms | Loss: 0.692 | Acc: 65.336% (1538/2354 148/148  \n",
      "Test Loss: 0.6924445377411069, Test Acc: 65.34%\n",
      "Saving..\n"
     ]
    },
    {
     "name": "stderr",
     "output_type": "stream",
     "text": [
      "[Epoch 11]: 100%|██████████| 344/344 [01:22<00:00,  4.16it/s]\n"
     ]
    },
    {
     "name": "stdout",
     "output_type": "stream",
     "text": [
      "Train Loss: 0.35698780874440145, Train Acc: 85.02%\n",
      " [=================================================>]  Step: 17ms | Tot: 17s524ms | Loss: 1.874 | Acc: 56.712% (1335/2354 148/148  \n",
      "Test Loss: 1.8741520144473258, Test Acc: 56.71%\n"
     ]
    },
    {
     "name": "stderr",
     "output_type": "stream",
     "text": [
      "[Epoch 12]: 100%|██████████| 344/344 [01:29<00:00,  3.83it/s]\n"
     ]
    },
    {
     "name": "stdout",
     "output_type": "stream",
     "text": [
      "Train Loss: 0.3400030578161741, Train Acc: 85.35%\n",
      " [=================================================>]  Step: 16ms | Tot: 18s562ms | Loss: 0.722 | Acc: 59.303% (1396/2354 148/148  \n",
      "Test Loss: 0.7216703259461635, Test Acc: 59.30%\n"
     ]
    },
    {
     "name": "stderr",
     "output_type": "stream",
     "text": [
      "[Epoch 13]: 100%|██████████| 344/344 [01:24<00:00,  4.08it/s]\n"
     ]
    },
    {
     "name": "stdout",
     "output_type": "stream",
     "text": [
      "Train Loss: 0.31117376734957447, Train Acc: 86.99%\n",
      " [=================================================>]  Step: 18ms | Tot: 19s525ms | Loss: 0.670 | Acc: 62.914% (1481/2354 148/148  \n",
      "Test Loss: 0.6701537429078205, Test Acc: 62.91%\n"
     ]
    },
    {
     "name": "stderr",
     "output_type": "stream",
     "text": [
      "[Epoch 14]: 100%|██████████| 344/344 [01:26<00:00,  3.99it/s]\n"
     ]
    },
    {
     "name": "stdout",
     "output_type": "stream",
     "text": [
      "Train Loss: 0.2873540729674142, Train Acc: 88.39%\n",
      " [=================================================>]  Step: 19ms | Tot: 20s617ms | Loss: 0.911 | Acc: 53.951% (1270/2354 148/148  \n",
      "Test Loss: 0.9113277194870485, Test Acc: 53.95%\n"
     ]
    },
    {
     "name": "stderr",
     "output_type": "stream",
     "text": [
      "[Epoch 15]: 100%|██████████| 344/344 [01:26<00:00,  3.98it/s]\n"
     ]
    },
    {
     "name": "stdout",
     "output_type": "stream",
     "text": [
      "Train Loss: 0.26649556540732466, Train Acc: 89.43%\n",
      " [=================================================>]  Step: 20ms | Tot: 17s853ms | Loss: 1.202 | Acc: 59.643% (1404/2354 148/148  \n",
      "Test Loss: 1.201542817282717, Test Acc: 59.64%\n"
     ]
    },
    {
     "name": "stderr",
     "output_type": "stream",
     "text": [
      "[Epoch 16]: 100%|██████████| 344/344 [01:27<00:00,  3.94it/s]\n"
     ]
    },
    {
     "name": "stdout",
     "output_type": "stream",
     "text": [
      "Train Loss: 0.2621320533068028, Train Acc: 89.28%\n",
      " [=================================================>]  Step: 17ms | Tot: 21s122ms | Loss: 1.676 | Acc: 47.281% (1113/2354 148/148  \n",
      "Test Loss: 1.6758508102313892, Test Acc: 47.28%\n"
     ]
    },
    {
     "name": "stderr",
     "output_type": "stream",
     "text": [
      "[Epoch 17]: 100%|██████████| 344/344 [01:27<00:00,  3.92it/s]\n"
     ]
    },
    {
     "name": "stdout",
     "output_type": "stream",
     "text": [
      "Train Loss: 0.25021349777857405, Train Acc: 89.46%\n",
      " [=================================================>]  Step: 21ms | Tot: 21s439ms | Loss: 0.740 | Acc: 60.408% (1422/2354 148/148  \n",
      "Test Loss: 0.7401305555894568, Test Acc: 60.41%\n"
     ]
    },
    {
     "name": "stderr",
     "output_type": "stream",
     "text": [
      "[Epoch 18]: 100%|██████████| 344/344 [01:29<00:00,  3.82it/s]\n"
     ]
    },
    {
     "name": "stdout",
     "output_type": "stream",
     "text": [
      "Train Loss: 0.21918241241621936, Train Acc: 91.28%\n",
      " [=================================================>]  Step: 18ms | Tot: 20s891ms | Loss: 0.685 | Acc: 69.116% (1627/2354 148/148  8 \n",
      "Test Loss: 0.6845096441338191, Test Acc: 69.12%\n",
      "Saving..\n"
     ]
    },
    {
     "name": "stderr",
     "output_type": "stream",
     "text": [
      "[Epoch 19]: 100%|██████████| 344/344 [01:27<00:00,  3.94it/s]\n"
     ]
    },
    {
     "name": "stdout",
     "output_type": "stream",
     "text": [
      "Train Loss: 0.21326630929116766, Train Acc: 91.67%\n",
      " [=================================================>]  Step: 19ms | Tot: 20s130ms | Loss: 0.655 | Acc: 65.463% (1541/2354 148/148  \n",
      "Test Loss: 0.6554168102306288, Test Acc: 65.46%\n"
     ]
    },
    {
     "name": "stderr",
     "output_type": "stream",
     "text": [
      "[Epoch 20]: 100%|██████████| 344/344 [01:42<00:00,  3.37it/s]\n"
     ]
    },
    {
     "name": "stdout",
     "output_type": "stream",
     "text": [
      "Train Loss: 0.1997460370536807, Train Acc: 92.23%\n",
      " [=================================================>]  Step: 18ms | Tot: 19s29ms | Loss: 0.674 | Acc: 70.263% (1654/2354 148/148   \n",
      "Test Loss: 0.6739084835390787, Test Acc: 70.26%\n",
      "Saving..\n"
     ]
    },
    {
     "name": "stderr",
     "output_type": "stream",
     "text": [
      "[Epoch 21]: 100%|██████████| 344/344 [01:20<00:00,  4.27it/s]"
     ]
    },
    {
     "name": "stdout",
     "output_type": "stream",
     "text": [
      "Train Loss: 0.181183849520938, Train Acc: 93.01%\n",
      " [>.................................................]  Step: 1m20s | Tot: 0ms | Loss: 1.014 | Acc: 37.500% (6/16 1/148 \r"
     ]
    },
    {
     "name": "stderr",
     "output_type": "stream",
     "text": [
      "\n"
     ]
    },
    {
     "name": "stdout",
     "output_type": "stream",
     "text": [
      " [=================================================>]  Step: 17ms | Tot: 18s327ms | Loss: 0.729 | Acc: 65.633% (1545/2354 148/148  .............................................]  Step: 100ms | Tot: 1s155ms | Loss: 0.861 | Acc: 60.417% (116/192 12/148 \n",
      "Test Loss: 0.7290539145469666, Test Acc: 65.63%\n"
     ]
    },
    {
     "name": "stderr",
     "output_type": "stream",
     "text": [
      "[Epoch 22]: 100%|██████████| 344/344 [01:19<00:00,  4.32it/s]"
     ]
    },
    {
     "name": "stdout",
     "output_type": "stream",
     "text": [
      "Train Loss: 0.17335283543459726, Train Acc: 93.16%\n",
      " [>.................................................]  Step: 1m19s | Tot: 0ms | Loss: 1.256 | Acc: 43.750% (7/16 1/148 \r"
     ]
    },
    {
     "name": "stderr",
     "output_type": "stream",
     "text": [
      "\n"
     ]
    },
    {
     "name": "stdout",
     "output_type": "stream",
     "text": [
      " [=================================================>]  Step: 17ms | Tot: 18s69ms | Loss: 0.716 | Acc: 70.008% (1648/2354 148/148   \n",
      "Test Loss: 0.7159766893129091, Test Acc: 70.01%\n"
     ]
    },
    {
     "name": "stderr",
     "output_type": "stream",
     "text": [
      "[Epoch 23]: 100%|██████████| 344/344 [01:18<00:00,  4.38it/s]"
     ]
    },
    {
     "name": "stdout",
     "output_type": "stream",
     "text": [
      "Train Loss: 0.1672565977219059, Train Acc: 93.70%\n",
      " [>.................................................]  Step: 1m18s | Tot: 0ms | Loss: 0.878 | Acc: 68.750% (11/16 1/148 \r"
     ]
    },
    {
     "name": "stderr",
     "output_type": "stream",
     "text": [
      "\n"
     ]
    },
    {
     "name": "stdout",
     "output_type": "stream",
     "text": [
      " [=================================================>]  Step: 16ms | Tot: 17s858ms | Loss: 0.834 | Acc: 67.077% (1579/2354 148/148  \n",
      "Test Loss: 0.8342717521496721, Test Acc: 67.08%\n"
     ]
    },
    {
     "name": "stderr",
     "output_type": "stream",
     "text": [
      "[Epoch 24]: 100%|██████████| 344/344 [01:18<00:00,  4.38it/s]\n"
     ]
    },
    {
     "name": "stdout",
     "output_type": "stream",
     "text": [
      "Train Loss: 0.15991859464245567, Train Acc: 94.12%\n",
      " [=================================================>]  Step: 18ms | Tot: 18s20ms | Loss: 0.680 | Acc: 70.476% (1659/2354 148/148 8 >..............................................]  Step: 99ms | Tot: 3s112ms | Loss: 0.745 | Acc: 69.792% (134/192 12/148 \n",
      "Test Loss: 0.6798114648239838, Test Acc: 70.48%\n",
      "Saving..\n"
     ]
    },
    {
     "name": "stderr",
     "output_type": "stream",
     "text": [
      "[Epoch 25]: 100%|██████████| 344/344 [01:21<00:00,  4.24it/s]\n"
     ]
    },
    {
     "name": "stdout",
     "output_type": "stream",
     "text": [
      "Train Loss: 0.155365914366273, Train Acc: 94.10%\n",
      " [=================================================>]  Step: 16ms | Tot: 16s602ms | Loss: 0.840 | Acc: 65.378% (1539/2354 148/148  \n",
      "Test Loss: 0.840299848165061, Test Acc: 65.38%\n"
     ]
    },
    {
     "name": "stderr",
     "output_type": "stream",
     "text": [
      "[Epoch 26]: 100%|██████████| 344/344 [01:20<00:00,  4.26it/s]\n"
     ]
    },
    {
     "name": "stdout",
     "output_type": "stream",
     "text": [
      "Train Loss: 0.1514489315341898, Train Acc: 94.52%\n",
      " [=================================================>]  Step: 16ms | Tot: 16s574ms | Loss: 0.660 | Acc: 68.649% (1616/2354 148/148  \n",
      "Test Loss: 0.6600394767482538, Test Acc: 68.65%\n"
     ]
    },
    {
     "name": "stderr",
     "output_type": "stream",
     "text": [
      "[Epoch 27]: 100%|██████████| 344/344 [01:21<00:00,  4.24it/s]\n"
     ]
    },
    {
     "name": "stdout",
     "output_type": "stream",
     "text": [
      "Train Loss: 0.14164735119773594, Train Acc: 94.50%\n",
      " [=================================================>]  Step: 17ms | Tot: 16s160ms | Loss: 1.056 | Acc: 57.816% (1361/2354 148/148  \n",
      "Test Loss: 1.055532409331283, Test Acc: 57.82%\n"
     ]
    },
    {
     "name": "stderr",
     "output_type": "stream",
     "text": [
      "[Epoch 28]: 100%|██████████| 344/344 [01:21<00:00,  4.24it/s]"
     ]
    },
    {
     "name": "stdout",
     "output_type": "stream",
     "text": [
      "Train Loss: 0.1365778088910765, Train Acc: 94.81%\n",
      " [>.................................................]  Step: 1m21s | Tot: 0ms | Loss: 1.379 | Acc: 62.500% (10/16 1/148 \r"
     ]
    },
    {
     "name": "stderr",
     "output_type": "stream",
     "text": [
      "\n"
     ]
    },
    {
     "name": "stdout",
     "output_type": "stream",
     "text": [
      " [=================================================>]  Step: 16ms | Tot: 16s874ms | Loss: 1.098 | Acc: 67.290% (1584/2354 148/148  \n",
      "Test Loss: 1.0984247103333473, Test Acc: 67.29%\n"
     ]
    },
    {
     "name": "stderr",
     "output_type": "stream",
     "text": [
      "[Epoch 29]: 100%|██████████| 344/344 [01:22<00:00,  4.19it/s]\n"
     ]
    },
    {
     "name": "stdout",
     "output_type": "stream",
     "text": [
      "Train Loss: 0.12428592385312673, Train Acc: 95.25%\n",
      " [=================================================>]  Step: 18ms | Tot: 17s95ms | Loss: 1.040 | Acc: 62.744% (1477/2354 148/148   \n",
      "Test Loss: 1.040161956303023, Test Acc: 62.74%\n"
     ]
    },
    {
     "name": "stderr",
     "output_type": "stream",
     "text": [
      "[Epoch 30]: 100%|██████████| 344/344 [01:21<00:00,  4.23it/s]\n"
     ]
    },
    {
     "name": "stdout",
     "output_type": "stream",
     "text": [
      "Train Loss: 0.12895837473293204, Train Acc: 94.96%\n",
      " [=================================================>]  Step: 19ms | Tot: 16s94ms | Loss: 0.865 | Acc: 67.332% (1585/2354 148/148   \n",
      "Test Loss: 0.8645609313169041, Test Acc: 67.33%\n"
     ]
    },
    {
     "name": "stderr",
     "output_type": "stream",
     "text": [
      "[Epoch 31]: 100%|██████████| 344/344 [01:21<00:00,  4.22it/s]\n"
     ]
    },
    {
     "name": "stdout",
     "output_type": "stream",
     "text": [
      "Train Loss: 0.12302678311920487, Train Acc: 95.14%\n",
      " [=================================================>]  Step: 18ms | Tot: 16s318ms | Loss: 0.679 | Acc: 74.724% (1759/2354 148/148  \n",
      "Test Loss: 0.6786787656916154, Test Acc: 74.72%\n",
      "Saving..\n"
     ]
    },
    {
     "name": "stderr",
     "output_type": "stream",
     "text": [
      "[Epoch 32]: 100%|██████████| 344/344 [01:19<00:00,  4.31it/s]"
     ]
    },
    {
     "name": "stdout",
     "output_type": "stream",
     "text": [
      "Train Loss: 0.10651368657898613, Train Acc: 96.11%\n",
      " [>.................................................]  Step: 1m20s | Tot: 0ms | Loss: 0.929 | Acc: 68.750% (11/16 1/148 \r"
     ]
    },
    {
     "name": "stderr",
     "output_type": "stream",
     "text": [
      "\n"
     ]
    },
    {
     "name": "stdout",
     "output_type": "stream",
     "text": [
      " [=================================================>]  Step: 17ms | Tot: 18s341ms | Loss: 0.737 | Acc: 72.175% (1699/2354 148/148  8 \n",
      "Test Loss: 0.7371462099254131, Test Acc: 72.18%\n"
     ]
    },
    {
     "name": "stderr",
     "output_type": "stream",
     "text": [
      "[Epoch 33]: 100%|██████████| 344/344 [01:19<00:00,  4.34it/s]"
     ]
    },
    {
     "name": "stdout",
     "output_type": "stream",
     "text": [
      "Train Loss: 0.11417053539582073, Train Acc: 95.81%\n",
      " [>.................................................]  Step: 1m19s | Tot: 0ms | Loss: 0.712 | Acc: 62.500% (10/16 1/148 \r"
     ]
    },
    {
     "name": "stderr",
     "output_type": "stream",
     "text": [
      "\n"
     ]
    },
    {
     "name": "stdout",
     "output_type": "stream",
     "text": [
      " [=================================================>]  Step: 20ms | Tot: 19s289ms | Loss: 0.614 | Acc: 72.133% (1698/2354 148/148  8 .......................................]  Step: 103ms | Tot: 738ms | Loss: 0.682 | Acc: 71.094% (91/128 8/148 \n",
      "Test Loss: 0.6144285826767618, Test Acc: 72.13%\n"
     ]
    },
    {
     "name": "stderr",
     "output_type": "stream",
     "text": [
      "[Epoch 34]: 100%|██████████| 344/344 [01:28<00:00,  3.90it/s]\n"
     ]
    },
    {
     "name": "stdout",
     "output_type": "stream",
     "text": [
      "Train Loss: 0.10426353571833609, Train Acc: 96.43%\n",
      " [=================================================>]  Step: 21ms | Tot: 19s435ms | Loss: 0.700 | Acc: 71.453% (1682/2354 148/148  \n",
      "Test Loss: 0.6998568039790198, Test Acc: 71.45%\n"
     ]
    },
    {
     "name": "stderr",
     "output_type": "stream",
     "text": [
      "[Epoch 35]: 100%|██████████| 344/344 [01:27<00:00,  3.94it/s]\n"
     ]
    },
    {
     "name": "stdout",
     "output_type": "stream",
     "text": [
      "Train Loss: 0.0923403017500383, Train Acc: 96.56%\n",
      " [=================================================>]  Step: 17ms | Tot: 17s973ms | Loss: 0.638 | Acc: 74.087% (1744/2354 148/148  \n",
      "Test Loss: 0.6383557683108626, Test Acc: 74.09%\n"
     ]
    },
    {
     "name": "stderr",
     "output_type": "stream",
     "text": [
      "[Epoch 36]: 100%|██████████| 344/344 [01:24<00:00,  4.05it/s]\n"
     ]
    },
    {
     "name": "stdout",
     "output_type": "stream",
     "text": [
      "Train Loss: 0.10555197189624291, Train Acc: 96.20%\n",
      " [=================================================>]  Step: 21ms | Tot: 20s621ms | Loss: 0.743 | Acc: 72.345% (1703/2354 148/148   \n",
      "Test Loss: 0.74251636152936, Test Acc: 72.34%\n"
     ]
    },
    {
     "name": "stderr",
     "output_type": "stream",
     "text": [
      "[Epoch 37]: 100%|██████████| 344/344 [01:27<00:00,  3.92it/s]\n"
     ]
    },
    {
     "name": "stdout",
     "output_type": "stream",
     "text": [
      "Train Loss: 0.10045669889172301, Train Acc: 96.05%\n",
      " [=================================================>]  Step: 19ms | Tot: 20s822ms | Loss: 0.586 | Acc: 76.253% (1795/2354 148/148  \n",
      "Test Loss: 0.5862485759866398, Test Acc: 76.25%\n",
      "Saving..\n"
     ]
    },
    {
     "name": "stderr",
     "output_type": "stream",
     "text": [
      "[Epoch 38]: 100%|██████████| 344/344 [01:27<00:00,  3.92it/s]\n"
     ]
    },
    {
     "name": "stdout",
     "output_type": "stream",
     "text": [
      "Train Loss: 0.10432175734638084, Train Acc: 96.36%\n",
      " [=================================================>]  Step: 20ms | Tot: 17s833ms | Loss: 0.602 | Acc: 74.681% (1758/2354 148/148  \n",
      "Test Loss: 0.6021413180373005, Test Acc: 74.68%\n"
     ]
    },
    {
     "name": "stderr",
     "output_type": "stream",
     "text": [
      "[Epoch 39]: 100%|██████████| 344/344 [01:25<00:00,  4.00it/s]\n"
     ]
    },
    {
     "name": "stdout",
     "output_type": "stream",
     "text": [
      "Train Loss: 0.09262189834695418, Train Acc: 96.78%\n",
      " [=================================================>]  Step: 18ms | Tot: 20s98ms | Loss: 0.690 | Acc: 72.090% (1697/2354 148/148   8 \n",
      "Test Loss: 0.6895098353710931, Test Acc: 72.09%\n"
     ]
    },
    {
     "name": "stderr",
     "output_type": "stream",
     "text": [
      "[Epoch 40]: 100%|██████████| 344/344 [01:23<00:00,  4.12it/s]\n"
     ]
    },
    {
     "name": "stdout",
     "output_type": "stream",
     "text": [
      "Train Loss: 0.0927696187505336, Train Acc: 96.82%\n",
      " [=================================================>]  Step: 18ms | Tot: 18s626ms | Loss: 1.194 | Acc: 64.996% (1530/2354 148/148  \n",
      "Test Loss: 1.1941087105739359, Test Acc: 65.00%\n"
     ]
    },
    {
     "name": "stderr",
     "output_type": "stream",
     "text": [
      "[Epoch 41]: 100%|██████████| 344/344 [01:19<00:00,  4.32it/s]"
     ]
    },
    {
     "name": "stdout",
     "output_type": "stream",
     "text": [
      "Train Loss: 0.09264885766707837, Train Acc: 96.63%\n",
      " [>.................................................]  Step: 1m19s | Tot: 0ms | Loss: 0.984 | Acc: 62.500% (10/16 1/148 \r"
     ]
    },
    {
     "name": "stderr",
     "output_type": "stream",
     "text": [
      "\n"
     ]
    },
    {
     "name": "stdout",
     "output_type": "stream",
     "text": [
      " [=================================================>]  Step: 17ms | Tot: 18s359ms | Loss: 0.764 | Acc: 73.407% (1728/2354 148/148  ..........................................]  Step: 104ms | Tot: 944ms | Loss: 0.985 | Acc: 68.750% (110/160 10/148 \n",
      "Test Loss: 0.7635612280384915, Test Acc: 73.41%\n"
     ]
    },
    {
     "name": "stderr",
     "output_type": "stream",
     "text": [
      "[Epoch 42]: 100%|██████████| 344/344 [01:18<00:00,  4.36it/s]\n"
     ]
    },
    {
     "name": "stdout",
     "output_type": "stream",
     "text": [
      "Train Loss: 0.08765332739350798, Train Acc: 96.85%\n",
      " [=================================================>]  Step: 17ms | Tot: 18s117ms | Loss: 1.224 | Acc: 59.728% (1406/2354 148/148  \n",
      "Test Loss: 1.2237598174125761, Test Acc: 59.73%\n"
     ]
    },
    {
     "name": "stderr",
     "output_type": "stream",
     "text": [
      "[Epoch 43]: 100%|██████████| 344/344 [01:21<00:00,  4.25it/s]\n"
     ]
    },
    {
     "name": "stdout",
     "output_type": "stream",
     "text": [
      "Train Loss: 0.0751136395035225, Train Acc: 97.27%\n",
      " [=================================================>]  Step: 18ms | Tot: 16s580ms | Loss: 0.698 | Acc: 70.773% (1666/2354 148/148  \n",
      "Test Loss: 0.6982264086805485, Test Acc: 70.77%\n"
     ]
    },
    {
     "name": "stderr",
     "output_type": "stream",
     "text": [
      "[Epoch 44]: 100%|██████████| 344/344 [01:21<00:00,  4.23it/s]\n"
     ]
    },
    {
     "name": "stdout",
     "output_type": "stream",
     "text": [
      "Train Loss: 0.08375355354063538, Train Acc: 96.91%\n",
      " [=================================================>]  Step: 18ms | Tot: 16s591ms | Loss: 0.721 | Acc: 74.384% (1751/2354 148/148  \n",
      "Test Loss: 0.7207709977252258, Test Acc: 74.38%\n"
     ]
    },
    {
     "name": "stderr",
     "output_type": "stream",
     "text": [
      "[Epoch 45]: 100%|██████████| 344/344 [01:20<00:00,  4.25it/s]"
     ]
    },
    {
     "name": "stdout",
     "output_type": "stream",
     "text": [
      "Train Loss: 0.07619385055075453, Train Acc: 97.20%\n",
      " [>.................................................]  Step: 1m20s | Tot: 0ms | Loss: 1.717 | Acc: 62.500% (10/16 1/148 \r"
     ]
    },
    {
     "name": "stderr",
     "output_type": "stream",
     "text": [
      "\n"
     ]
    },
    {
     "name": "stdout",
     "output_type": "stream",
     "text": [
      " [=================================================>]  Step: 17ms | Tot: 16s126ms | Loss: 1.305 | Acc: 58.284% (1372/2354 148/148  \n",
      "Test Loss: 1.3053688054551948, Test Acc: 58.28%\n"
     ]
    },
    {
     "name": "stderr",
     "output_type": "stream",
     "text": [
      "[Epoch 46]: 100%|██████████| 344/344 [01:20<00:00,  4.30it/s]\n"
     ]
    },
    {
     "name": "stdout",
     "output_type": "stream",
     "text": [
      "Train Loss: 0.07331080102770546, Train Acc: 97.43%\n",
      " [=================================================>]  Step: 17ms | Tot: 16s208ms | Loss: 0.695 | Acc: 72.685% (1711/2354 148/148  \n",
      "Test Loss: 0.6950267055449454, Test Acc: 72.68%\n"
     ]
    },
    {
     "name": "stderr",
     "output_type": "stream",
     "text": [
      "[Epoch 47]: 100%|██████████| 344/344 [01:20<00:00,  4.25it/s]\n"
     ]
    },
    {
     "name": "stdout",
     "output_type": "stream",
     "text": [
      "Train Loss: 0.0694866731203145, Train Acc: 97.56%\n",
      " [=================================================>]  Step: 18ms | Tot: 16s282ms | Loss: 0.839 | Acc: 72.940% (1717/2354 148/148  \n",
      "Test Loss: 0.8390276149116658, Test Acc: 72.94%\n"
     ]
    },
    {
     "name": "stderr",
     "output_type": "stream",
     "text": [
      "[Epoch 48]: 100%|██████████| 344/344 [01:20<00:00,  4.26it/s]"
     ]
    },
    {
     "name": "stdout",
     "output_type": "stream",
     "text": [
      "Train Loss: 0.07709207915975766, Train Acc: 97.31%\n",
      " [>.................................................]  Step: 1m20s | Tot: 0ms | Loss: 0.938 | Acc: 62.500% (10/16 1/148 \r"
     ]
    },
    {
     "name": "stderr",
     "output_type": "stream",
     "text": [
      "\n"
     ]
    },
    {
     "name": "stdout",
     "output_type": "stream",
     "text": [
      " [=================================================>]  Step: 18ms | Tot: 16s178ms | Loss: 1.108 | Acc: 63.084% (1485/2354 148/148  \n",
      "Test Loss: 1.1081193803331337, Test Acc: 63.08%\n"
     ]
    },
    {
     "name": "stderr",
     "output_type": "stream",
     "text": [
      "[Epoch 49]: 100%|██████████| 344/344 [01:20<00:00,  4.27it/s]\n"
     ]
    },
    {
     "name": "stdout",
     "output_type": "stream",
     "text": [
      "Train Loss: 0.061996575292818476, Train Acc: 98.02%\n",
      " [=================================================>]  Step: 18ms | Tot: 16s17ms | Loss: 0.728 | Acc: 72.090% (1697/2354 148/148 8 \n",
      "Test Loss: 0.7283048437958634, Test Acc: 72.09%\n"
     ]
    },
    {
     "name": "stderr",
     "output_type": "stream",
     "text": [
      "[Epoch 50]: 100%|██████████| 344/344 [01:20<00:00,  4.27it/s]\n"
     ]
    },
    {
     "name": "stdout",
     "output_type": "stream",
     "text": [
      "Train Loss: 0.07395264674600777, Train Acc: 97.22%\n",
      " [=================================================>]  Step: 17ms | Tot: 16s111ms | Loss: 0.768 | Acc: 73.577% (1732/2354 148/148  \n",
      "Test Loss: 0.767906829312041, Test Acc: 73.58%\n"
     ]
    }
   ],
   "source": [
    "for epoch in range(start_epoch, start_epoch+50):\n",
    "    train(epoch)\n",
    "    test(epoch)\n",
    " \n",
    " #   scheduler.step()"
   ]
  },
  {
   "cell_type": "code",
   "execution_count": null,
   "id": "f77c9ecb",
   "metadata": {},
   "outputs": [],
   "source": []
  }
 ],
 "metadata": {
  "kernelspec": {
   "display_name": "Python 3",
   "language": "python",
   "name": "python3"
  },
  "language_info": {
   "codemirror_mode": {
    "name": "ipython",
    "version": 3
   },
   "file_extension": ".py",
   "mimetype": "text/x-python",
   "name": "python",
   "nbconvert_exporter": "python",
   "pygments_lexer": "ipython3",
   "version": "3.10.12"
  }
 },
 "nbformat": 4,
 "nbformat_minor": 5
}
