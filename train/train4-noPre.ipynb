{
 "cells": [
  {
   "cell_type": "code",
   "execution_count": 1,
   "id": "b02859b6",
   "metadata": {},
   "outputs": [],
   "source": [
    "#train3 from 2: use adam, remove weight_decay; one BW channel (not 3)\n",
    "import torch,os \n",
    "import torch.nn as nn\n",
    "import torch.optim as optim\n",
    "\n",
    "from torchvision.transforms import v2\n",
    "import torchvision.models as models\n",
    "import pandas as pd\n",
    "import matplotlib.pyplot as plt\n",
    "\n",
    "# from models import *\n",
    "from utils import progress_bar\n",
    "from tqdm import tqdm\n",
    "from configparser import ConfigParser\n",
    "from torch.utils.data import  DataLoader\n",
    "from LIDC_data import LIDC_Dataset"
   ]
  },
  {
   "cell_type": "code",
   "execution_count": 2,
   "id": "d3d8dc6b",
   "metadata": {},
   "outputs": [],
   "source": [
    "device = 'cuda' if torch.cuda.is_available() else 'cpu'\n",
    "best_acc = 0  # best test accuracy\n",
    "start_epoch = 0  # start from epoch 0 or last checkpoint epoch\n",
    "\n",
    "prep_tr = [\n",
    "    v2.Lambda(lambda x: torch.clamp(x,-1000,400)),\n",
    "    v2.Lambda(lambda x: (x+1000)/1400),\n",
    "    v2.CenterCrop((384,384)),\n",
    "    # v2.Lambda(lambda x: x.expand(3,-1,-1))\n",
    "]\n",
    "aug_tr = [\n",
    "    v2.RandomAffine(degrees=10),\n",
    "    v2.RandomHorizontalFlip(),\n",
    "    v2.GaussianNoise(0,0.1)\n",
    "]\n",
    "trans_train = v2.Compose( prep_tr + aug_tr )\n",
    "trans_test = v2.Compose( prep_tr  )"
   ]
  },
  {
   "cell_type": "code",
   "execution_count": 3,
   "id": "2b344e58",
   "metadata": {},
   "outputs": [
    {
     "name": "stdout",
     "output_type": "stream",
     "text": [
      "total_train_data: 5495 total_test_data: 2354\n"
     ]
    }
   ],
   "source": [
    "\n",
    "parser = ConfigParser()\n",
    "parser.read('.settings')\n",
    "root_dir = parser.get('dataset','root_dir') #/workspaces/data/lidc-idri/slices\n",
    "meta_dir = parser.get('dataset','meta_dir') #/workspaces/data/lidc-idri/splits\n",
    "train_data = LIDC_Dataset(root_dir,metapath=os.path.join(meta_dir,'train_malB.csv'),transform=trans_train)\n",
    "test_data = LIDC_Dataset(root_dir,metapath=os.path.join(meta_dir,'test_malB.csv'),transform=trans_test)\n",
    "total_train_data = len(train_data)\n",
    "total_test_data = len(test_data)\n",
    "print('total_train_data:',total_train_data, 'total_test_data:',total_test_data)\n",
    "\n",
    "trainloader = DataLoader(train_data, batch_size=16, shuffle=True)\n",
    "testloader = DataLoader(test_data, batch_size=16)"
   ]
  },
  {
   "cell_type": "code",
   "execution_count": 4,
   "id": "94805703",
   "metadata": {},
   "outputs": [],
   "source": [
    "# net = ResNet18(num_classes=2)\n",
    "net = models.resnet18(num_classes=2)\n",
    "net.conv1 = nn.Conv2d(1, 64, kernel_size=7, stride=2, padding=3, bias=False)\n",
    "# net.fc = nn.Linear(net.fc.in_features, 2)\n",
    "net = net.to(device)"
   ]
  },
  {
   "cell_type": "code",
   "execution_count": 5,
   "id": "5a98ef22",
   "metadata": {},
   "outputs": [],
   "source": [
    "lr = 1e-4\n",
    "criterion = nn.CrossEntropyLoss()\n",
    "# criterion = nn.BCEWithLogitsLoss()\n",
    "optimizer = optim.Adam(net.parameters(), lr=lr)\n",
    "\n",
    "trainning_accuracy=[]\n",
    "trainning_loss=[]\n",
    "testing_accuracy=[]\n",
    "testing_loss=[]"
   ]
  },
  {
   "cell_type": "code",
   "execution_count": 6,
   "id": "9e1e321d",
   "metadata": {},
   "outputs": [],
   "source": [
    "def train(epoch):\n",
    "    net.train()\n",
    "    train_loss = 0\n",
    "    correct = 0\n",
    "    total = 0\n",
    "    for batch_idx, (inputs, targets) in enumerate(tqdm(trainloader,desc=f\"[Epoch {epoch+1}]\")):\n",
    "        inputs, targets = inputs.to(device), targets.to(device)\n",
    "        # targets = targets.float().unsqueeze(1)\n",
    "\n",
    "        optimizer.zero_grad()\n",
    "        outputs = net(inputs)\n",
    "        \n",
    "        loss = criterion(outputs, targets)\n",
    "        loss.backward()\n",
    "        \n",
    "        optimizer.step()\n",
    "\n",
    "        train_loss += loss.item()\n",
    "        _, predicted = outputs.max(1)\n",
    "        # preds = (torch.sigmoid(outputs) > 0.5).squeeze().long()\n",
    "        \n",
    "        total += targets.size(0)\n",
    "        correct += predicted.eq(targets).sum().item()\n",
    "        # correct += (preds == targets.long()).sum().item()\n",
    "\n",
    "    train_acc = 100.*correct/total\n",
    "    train_loss = train_loss/(batch_idx+1)\n",
    "    print(f\"Train Loss: {train_loss}, Train Acc: {train_acc:.2f}%\")\n",
    "    trainning_accuracy.append(train_acc)\n",
    "    trainning_loss.append( train_loss )\n",
    "\n",
    "def test(epoch):\n",
    "    global best_acc\n",
    "    net.eval()\n",
    "    test_loss = 0\n",
    "    correct = 0\n",
    "    total = 0\n",
    "    with torch.no_grad():\n",
    "        for batch_idx, (inputs, targets) in enumerate(testloader):\n",
    "            inputs, targets = inputs.to(device), targets.to(device)\n",
    "            # targets = targets.float().unsqueeze(1)\n",
    "            outputs = net(inputs)\n",
    "            \n",
    "            loss = criterion(outputs, targets)\n",
    "            test_loss += loss.item()\n",
    "            _, predicted = outputs.max(1)\n",
    "            # preds = (torch.sigmoid(outputs) > 0.5).squeeze().long()\n",
    "            total += targets.size(0)\n",
    "            correct += predicted.eq(targets).sum().item()\n",
    "            # correct += (preds == targets.long()).sum().item()\n",
    "\n",
    "            progress_bar(batch_idx, len(testloader), 'Loss: %.3f | Acc: %.3f%% (%d/%d)'\n",
    "                         % (test_loss/(batch_idx+1), 100.*correct/total, correct, total))\n",
    "        test_acc = 100.*correct/total\n",
    "        test_loss = test_loss/(batch_idx+1)\n",
    "        print(f\"Test Loss: {test_loss}, Test Acc: {test_acc:.2f}%\")\n",
    "        testing_accuracy.append(100.*correct/total)\n",
    "        testing_loss.append(test_loss/(batch_idx+1))\n",
    "    # Save checkpoint.\n",
    "    acc = 100.*correct/total\n",
    "    if acc > best_acc:\n",
    "        print('Saving..')\n",
    "        state = {\n",
    "            'net': net.state_dict(),\n",
    "            'acc': acc,\n",
    "            'epoch': epoch,\n",
    "        }\n",
    "        if not os.path.isdir('checkpoint'):\n",
    "            os.mkdir('checkpoint')\n",
    "        torch.save(state, './checkpoint/ckpt_owndata.pth')\n",
    "        best_acc = acc"
   ]
  },
  {
   "cell_type": "code",
   "execution_count": null,
   "id": "fa7663ca",
   "metadata": {},
   "outputs": [
    {
     "name": "stderr",
     "output_type": "stream",
     "text": [
      "[Epoch 1]: 100%|██████████| 344/344 [01:21<00:00,  4.23it/s]\n"
     ]
    },
    {
     "name": "stdout",
     "output_type": "stream",
     "text": [
      "Train Loss: 0.6958181294937467, Train Acc: 54.09%\n",
      " [=================================================>]  Step: 33ms | Tot: 17s324ms | Loss: 0.679 | Acc: 55.565% (1308/2354 148/148  \n",
      "Test Loss: 0.6787409359538877, Test Acc: 55.56%\n",
      "Saving..\n"
     ]
    },
    {
     "name": "stderr",
     "output_type": "stream",
     "text": [
      "[Epoch 2]: 100%|██████████| 344/344 [01:20<00:00,  4.26it/s]\n"
     ]
    },
    {
     "name": "stdout",
     "output_type": "stream",
     "text": [
      "Train Loss: 0.6791260236397733, Train Acc: 57.11%\n",
      " [=================================================>]  Step: 19ms | Tot: 17s464ms | Loss: 0.846 | Acc: 56.500% (1330/2354 148/148  \n",
      "Test Loss: 0.8462995912476972, Test Acc: 56.50%\n",
      "Saving..\n"
     ]
    },
    {
     "name": "stderr",
     "output_type": "stream",
     "text": [
      "[Epoch 3]: 100%|██████████| 344/344 [01:21<00:00,  4.24it/s]\n"
     ]
    },
    {
     "name": "stdout",
     "output_type": "stream",
     "text": [
      "Train Loss: 0.6736223362386227, Train Acc: 58.34%\n",
      " [=================================================>]  Step: 19ms | Tot: 17s494ms | Loss: 0.804 | Acc: 44.350% (1044/2354 148/148  \n",
      "Test Loss: 0.8043912596799232, Test Acc: 44.35%\n"
     ]
    },
    {
     "name": "stderr",
     "output_type": "stream",
     "text": [
      "[Epoch 4]: 100%|██████████| 344/344 [01:20<00:00,  4.25it/s]\n"
     ]
    },
    {
     "name": "stdout",
     "output_type": "stream",
     "text": [
      "Train Loss: 0.6646080827990244, Train Acc: 60.40%\n",
      " [=================================================>]  Step: 19ms | Tot: 17s421ms | Loss: 0.704 | Acc: 51.912% (1222/2354 148/148  \n",
      "Test Loss: 0.7038449286609083, Test Acc: 51.91%\n"
     ]
    },
    {
     "name": "stderr",
     "output_type": "stream",
     "text": [
      "[Epoch 5]: 100%|██████████| 344/344 [01:20<00:00,  4.26it/s]\n"
     ]
    },
    {
     "name": "stdout",
     "output_type": "stream",
     "text": [
      "Train Loss: 0.6525190912706907, Train Acc: 61.27%\n",
      " [=================================================>]  Step: 18ms | Tot: 17s305ms | Loss: 0.676 | Acc: 59.728% (1406/2354 148/148  \n",
      "Test Loss: 0.6761603866880005, Test Acc: 59.73%\n",
      "Saving..\n"
     ]
    },
    {
     "name": "stderr",
     "output_type": "stream",
     "text": [
      "[Epoch 6]: 100%|██████████| 344/344 [01:20<00:00,  4.26it/s]\n"
     ]
    },
    {
     "name": "stdout",
     "output_type": "stream",
     "text": [
      "Train Loss: 0.6404483033300832, Train Acc: 62.73%\n",
      " [=================================================>]  Step: 19ms | Tot: 17s380ms | Loss: 0.938 | Acc: 45.752% (1077/2354 148/148  \n",
      "Test Loss: 0.9376433598431381, Test Acc: 45.75%\n"
     ]
    },
    {
     "name": "stderr",
     "output_type": "stream",
     "text": [
      "[Epoch 7]: 100%|██████████| 344/344 [01:20<00:00,  4.29it/s]\n"
     ]
    },
    {
     "name": "stdout",
     "output_type": "stream",
     "text": [
      "Train Loss: 0.6334068690275036, Train Acc: 63.55%\n",
      " [=================================================>]  Step: 18ms | Tot: 17s320ms | Loss: 0.643 | Acc: 62.404% (1469/2354 148/148  \n",
      "Test Loss: 0.6428390529912871, Test Acc: 62.40%\n",
      "Saving..\n"
     ]
    },
    {
     "name": "stderr",
     "output_type": "stream",
     "text": [
      "[Epoch 8]: 100%|██████████| 344/344 [01:20<00:00,  4.28it/s]\n"
     ]
    },
    {
     "name": "stdout",
     "output_type": "stream",
     "text": [
      "Train Loss: 0.6218613121918467, Train Acc: 65.66%\n",
      " [=================================================>]  Step: 19ms | Tot: 17s139ms | Loss: 0.695 | Acc: 58.879% (1386/2354 148/148  \n",
      "Test Loss: 0.6948367276707211, Test Acc: 58.88%\n"
     ]
    },
    {
     "name": "stderr",
     "output_type": "stream",
     "text": [
      "[Epoch 9]: 100%|██████████| 344/344 [01:19<00:00,  4.30it/s]\n"
     ]
    },
    {
     "name": "stdout",
     "output_type": "stream",
     "text": [
      "Train Loss: 0.6092954844582913, Train Acc: 66.50%\n",
      " [=================================================>]  Step: 19ms | Tot: 17s269ms | Loss: 0.646 | Acc: 61.937% (1458/2354 148/148  \n",
      "Test Loss: 0.6463233735915777, Test Acc: 61.94%\n"
     ]
    },
    {
     "name": "stderr",
     "output_type": "stream",
     "text": [
      "[Epoch 10]: 100%|██████████| 344/344 [01:20<00:00,  4.29it/s]\n"
     ]
    },
    {
     "name": "stdout",
     "output_type": "stream",
     "text": [
      "Train Loss: 0.5917325772691605, Train Acc: 68.15%\n",
      " [=================================================>]  Step: 18ms | Tot: 17s271ms | Loss: 0.650 | Acc: 63.381% (1492/2354 148/148  \n",
      "Test Loss: 0.6498868000265714, Test Acc: 63.38%\n",
      "Saving..\n"
     ]
    },
    {
     "name": "stderr",
     "output_type": "stream",
     "text": [
      "[Epoch 11]: 100%|██████████| 344/344 [01:19<00:00,  4.32it/s]\n"
     ]
    },
    {
     "name": "stdout",
     "output_type": "stream",
     "text": [
      "Train Loss: 0.576651316049487, Train Acc: 70.01%\n",
      " [=================================================>]  Step: 19ms | Tot: 17s65ms | Loss: 0.606 | Acc: 66.992% (1577/2354 148/148   \n",
      "Test Loss: 0.6060116440057755, Test Acc: 66.99%\n",
      "Saving..\n"
     ]
    },
    {
     "name": "stderr",
     "output_type": "stream",
     "text": [
      "[Epoch 12]: 100%|██████████| 344/344 [01:19<00:00,  4.32it/s]\n"
     ]
    },
    {
     "name": "stdout",
     "output_type": "stream",
     "text": [
      "Train Loss: 0.5523758385936881, Train Acc: 71.83%\n",
      " [=================================================>]  Step: 18ms | Tot: 17s187ms | Loss: 1.115 | Acc: 49.533% (1166/2354 148/148  \n",
      "Test Loss: 1.1151626710150693, Test Acc: 49.53%\n"
     ]
    },
    {
     "name": "stderr",
     "output_type": "stream",
     "text": [
      "[Epoch 13]: 100%|██████████| 344/344 [01:20<00:00,  4.30it/s]\n"
     ]
    },
    {
     "name": "stdout",
     "output_type": "stream",
     "text": [
      "Train Loss: 0.5349187387456728, Train Acc: 73.74%\n",
      " [=================================================>]  Step: 19ms | Tot: 17s231ms | Loss: 0.684 | Acc: 62.574% (1473/2354 148/148  \n",
      "Test Loss: 0.6837223703796799, Test Acc: 62.57%\n"
     ]
    },
    {
     "name": "stderr",
     "output_type": "stream",
     "text": [
      "[Epoch 14]: 100%|██████████| 344/344 [01:19<00:00,  4.32it/s]\n"
     ]
    },
    {
     "name": "stdout",
     "output_type": "stream",
     "text": [
      "Train Loss: 0.5168959444258795, Train Acc: 74.09%\n",
      " [=================================================>]  Step: 18ms | Tot: 17s139ms | Loss: 1.396 | Acc: 48.513% (1142/2354 148/148  \n",
      "Test Loss: 1.396264425403363, Test Acc: 48.51%\n"
     ]
    },
    {
     "name": "stderr",
     "output_type": "stream",
     "text": [
      "[Epoch 15]: 100%|██████████| 344/344 [01:19<00:00,  4.31it/s]\n"
     ]
    },
    {
     "name": "stdout",
     "output_type": "stream",
     "text": [
      "Train Loss: 0.49516459307525046, Train Acc: 75.21%\n",
      " [=================================================>]  Step: 18ms | Tot: 17s322ms | Loss: 0.623 | Acc: 68.139% (1604/2354 148/148  \n",
      "Test Loss: 0.6231756465056458, Test Acc: 68.14%\n",
      "Saving..\n"
     ]
    },
    {
     "name": "stderr",
     "output_type": "stream",
     "text": [
      "[Epoch 16]: 100%|██████████| 344/344 [01:19<00:00,  4.32it/s]\n"
     ]
    },
    {
     "name": "stdout",
     "output_type": "stream",
     "text": [
      "Train Loss: 0.4733358740719945, Train Acc: 77.58%\n",
      " [=================================================>]  Step: 21ms | Tot: 17s204ms | Loss: 0.874 | Acc: 57.604% (1356/2354 148/148  \n",
      "Test Loss: 0.8743899498839636, Test Acc: 57.60%\n"
     ]
    },
    {
     "name": "stderr",
     "output_type": "stream",
     "text": [
      "[Epoch 17]: 100%|██████████| 344/344 [01:19<00:00,  4.33it/s]\n"
     ]
    },
    {
     "name": "stdout",
     "output_type": "stream",
     "text": [
      "Train Loss: 0.44370103328553745, Train Acc: 79.16%\n",
      " [=================================================>]  Step: 20ms | Tot: 17s226ms | Loss: 0.724 | Acc: 65.845% (1550/2354 148/148  \n",
      "Test Loss: 0.7237606128123967, Test Acc: 65.85%\n"
     ]
    },
    {
     "name": "stderr",
     "output_type": "stream",
     "text": [
      "[Epoch 18]: 100%|██████████| 344/344 [01:19<00:00,  4.33it/s]\n"
     ]
    },
    {
     "name": "stdout",
     "output_type": "stream",
     "text": [
      "Train Loss: 0.43611967611278213, Train Acc: 80.18%\n",
      " [=================================================>]  Step: 19ms | Tot: 17s211ms | Loss: 0.944 | Acc: 56.754% (1336/2354 148/148  \n",
      "Test Loss: 0.9443424221228909, Test Acc: 56.75%\n"
     ]
    },
    {
     "name": "stderr",
     "output_type": "stream",
     "text": [
      "[Epoch 19]: 100%|██████████| 344/344 [01:19<00:00,  4.32it/s]\n"
     ]
    },
    {
     "name": "stdout",
     "output_type": "stream",
     "text": [
      "Train Loss: 0.4102315322474338, Train Acc: 81.77%\n",
      " [=================================================>]  Step: 19ms | Tot: 17s186ms | Loss: 1.413 | Acc: 52.506% (1236/2354 148/148  \n",
      "Test Loss: 1.4134153523356527, Test Acc: 52.51%\n"
     ]
    },
    {
     "name": "stderr",
     "output_type": "stream",
     "text": [
      "[Epoch 20]: 100%|██████████| 344/344 [01:19<00:00,  4.32it/s]\n"
     ]
    },
    {
     "name": "stdout",
     "output_type": "stream",
     "text": [
      "Train Loss: 0.3960416293594726, Train Acc: 82.24%\n",
      " [=================================================>]  Step: 17ms | Tot: 16s859ms | Loss: 1.051 | Acc: 59.473% (1400/2354 148/148  \n",
      "Test Loss: 1.050727694018467, Test Acc: 59.47%\n"
     ]
    },
    {
     "name": "stderr",
     "output_type": "stream",
     "text": [
      "[Epoch 21]: 100%|██████████| 344/344 [01:19<00:00,  4.31it/s]\n"
     ]
    },
    {
     "name": "stdout",
     "output_type": "stream",
     "text": [
      "Train Loss: 0.3737714528431033, Train Acc: 83.64%\n",
      " [=================================================>]  Step: 19ms | Tot: 17s114ms | Loss: 1.153 | Acc: 56.032% (1319/2354 148/148  \n",
      "Test Loss: 1.153001159228183, Test Acc: 56.03%\n"
     ]
    },
    {
     "name": "stderr",
     "output_type": "stream",
     "text": [
      "[Epoch 22]: 100%|██████████| 344/344 [01:19<00:00,  4.31it/s]\n"
     ]
    },
    {
     "name": "stdout",
     "output_type": "stream",
     "text": [
      "Train Loss: 0.3519102245309325, Train Acc: 84.93%\n",
      " [=================================================>]  Step: 19ms | Tot: 17s294ms | Loss: 0.604 | Acc: 73.407% (1728/2354 148/148  \n",
      "Test Loss: 0.603674574176202, Test Acc: 73.41%\n",
      "Saving..\n"
     ]
    },
    {
     "name": "stderr",
     "output_type": "stream",
     "text": [
      "[Epoch 23]: 100%|██████████| 344/344 [01:19<00:00,  4.32it/s]\n"
     ]
    },
    {
     "name": "stdout",
     "output_type": "stream",
     "text": [
      "Train Loss: 0.3356598831366661, Train Acc: 85.61%\n",
      " [=================================================>]  Step: 20ms | Tot: 17s119ms | Loss: 1.150 | Acc: 56.627% (1333/2354 148/148  \n",
      "Test Loss: 1.149856140081947, Test Acc: 56.63%\n"
     ]
    },
    {
     "name": "stderr",
     "output_type": "stream",
     "text": [
      "[Epoch 24]: 100%|██████████| 344/344 [01:19<00:00,  4.30it/s]\n"
     ]
    },
    {
     "name": "stdout",
     "output_type": "stream",
     "text": [
      "Train Loss: 0.31728352235933377, Train Acc: 86.90%\n",
      " [=================================================>]  Step: 21ms | Tot: 17s58ms | Loss: 0.538 | Acc: 76.296% (1796/2354 148/148   \n",
      "Test Loss: 0.5384793314277321, Test Acc: 76.30%\n",
      "Saving..\n"
     ]
    },
    {
     "name": "stderr",
     "output_type": "stream",
     "text": [
      "[Epoch 25]: 100%|██████████| 344/344 [01:19<00:00,  4.33it/s]\n"
     ]
    },
    {
     "name": "stdout",
     "output_type": "stream",
     "text": [
      "Train Loss: 0.31173961798032357, Train Acc: 86.61%\n",
      " [=================================================>]  Step: 20ms | Tot: 17s157ms | Loss: 0.609 | Acc: 72.685% (1711/2354 148/148  \n",
      "Test Loss: 0.6094609005628405, Test Acc: 72.68%\n"
     ]
    },
    {
     "name": "stderr",
     "output_type": "stream",
     "text": [
      "[Epoch 26]: 100%|██████████| 344/344 [01:19<00:00,  4.32it/s]\n"
     ]
    },
    {
     "name": "stdout",
     "output_type": "stream",
     "text": [
      "Train Loss: 0.29012631908665565, Train Acc: 87.99%\n",
      " [=================================================>]  Step: 19ms | Tot: 17s268ms | Loss: 1.122 | Acc: 59.728% (1406/2354 148/148  \n",
      "Test Loss: 1.1219466220889542, Test Acc: 59.73%\n"
     ]
    },
    {
     "name": "stderr",
     "output_type": "stream",
     "text": [
      "[Epoch 27]: 100%|██████████| 344/344 [01:19<00:00,  4.32it/s]\n"
     ]
    },
    {
     "name": "stdout",
     "output_type": "stream",
     "text": [
      "Train Loss: 0.28301635426794025, Train Acc: 88.33%\n",
      " [=================================================>]  Step: 20ms | Tot: 17s115ms | Loss: 0.924 | Acc: 65.123% (1533/2354 148/148  \n",
      "Test Loss: 0.92354148354482, Test Acc: 65.12%\n"
     ]
    },
    {
     "name": "stderr",
     "output_type": "stream",
     "text": [
      "[Epoch 28]: 100%|██████████| 344/344 [01:20<00:00,  4.29it/s]\n"
     ]
    },
    {
     "name": "stdout",
     "output_type": "stream",
     "text": [
      "Train Loss: 0.2720883683149898, Train Acc: 88.92%\n",
      " [=================================================>]  Step: 20ms | Tot: 17s35ms | Loss: 0.796 | Acc: 69.881% (1645/2354 148/148   \n",
      "Test Loss: 0.7956605744925705, Test Acc: 69.88%\n"
     ]
    },
    {
     "name": "stderr",
     "output_type": "stream",
     "text": [
      "[Epoch 29]: 100%|██████████| 344/344 [01:19<00:00,  4.30it/s]\n"
     ]
    },
    {
     "name": "stdout",
     "output_type": "stream",
     "text": [
      "Train Loss: 0.2720384912316276, Train Acc: 89.03%\n",
      " [=================================================>]  Step: 18ms | Tot: 17s130ms | Loss: 0.691 | Acc: 72.982% (1718/2354 148/148  \n",
      "Test Loss: 0.6912162738877374, Test Acc: 72.98%\n"
     ]
    },
    {
     "name": "stderr",
     "output_type": "stream",
     "text": [
      "[Epoch 30]: 100%|██████████| 344/344 [01:19<00:00,  4.31it/s]\n"
     ]
    },
    {
     "name": "stdout",
     "output_type": "stream",
     "text": [
      "Train Loss: 0.26258285580267915, Train Acc: 89.61%\n",
      " [=================================================>]  Step: 20ms | Tot: 17s246ms | Loss: 0.517 | Acc: 76.890% (1810/2354 148/148  \n",
      "Test Loss: 0.5169095234895075, Test Acc: 76.89%\n",
      "Saving..\n"
     ]
    },
    {
     "name": "stderr",
     "output_type": "stream",
     "text": [
      "[Epoch 31]: 100%|██████████| 344/344 [01:19<00:00,  4.32it/s]\n"
     ]
    },
    {
     "name": "stdout",
     "output_type": "stream",
     "text": [
      "Train Loss: 0.24176301113546414, Train Acc: 90.19%\n",
      " [=================================================>]  Step: 18ms | Tot: 17s174ms | Loss: 0.673 | Acc: 72.982% (1718/2354 148/148  \n",
      "Test Loss: 0.672842793468688, Test Acc: 72.98%\n"
     ]
    },
    {
     "name": "stderr",
     "output_type": "stream",
     "text": [
      "[Epoch 32]: 100%|██████████| 344/344 [01:20<00:00,  4.29it/s]\n"
     ]
    },
    {
     "name": "stdout",
     "output_type": "stream",
     "text": [
      "Train Loss: 0.24608584311465884, Train Acc: 90.05%\n",
      " [=================================================>]  Step: 20ms | Tot: 17s140ms | Loss: 0.534 | Acc: 78.292% (1843/2354 148/148  \n",
      "Test Loss: 0.5335982586886432, Test Acc: 78.29%\n",
      "Saving..\n"
     ]
    },
    {
     "name": "stderr",
     "output_type": "stream",
     "text": [
      "[Epoch 33]: 100%|██████████| 344/344 [01:19<00:00,  4.30it/s]\n"
     ]
    },
    {
     "name": "stdout",
     "output_type": "stream",
     "text": [
      "Train Loss: 0.23622787396185274, Train Acc: 90.65%\n",
      " [=================================================>]  Step: 18ms | Tot: 17s251ms | Loss: 0.521 | Acc: 79.354% (1868/2354 148/148  \n",
      "Test Loss: 0.5207766585958165, Test Acc: 79.35%\n",
      "Saving..\n"
     ]
    },
    {
     "name": "stderr",
     "output_type": "stream",
     "text": [
      "[Epoch 34]: 100%|██████████| 344/344 [01:20<00:00,  4.28it/s]\n"
     ]
    },
    {
     "name": "stdout",
     "output_type": "stream",
     "text": [
      "Train Loss: 0.2289535538997328, Train Acc: 90.39%\n",
      " [=================================================>]  Step: 18ms | Tot: 17s367ms | Loss: 0.603 | Acc: 76.890% (1810/2354 148/148  \n",
      "Test Loss: 0.6034844406704242, Test Acc: 76.89%\n"
     ]
    },
    {
     "name": "stderr",
     "output_type": "stream",
     "text": [
      "[Epoch 35]: 100%|██████████| 344/344 [01:20<00:00,  4.29it/s]\n"
     ]
    },
    {
     "name": "stdout",
     "output_type": "stream",
     "text": [
      "Train Loss: 0.210679960534583, Train Acc: 91.76%\n",
      " [=================================================>]  Step: 17ms | Tot: 17s366ms | Loss: 0.934 | Acc: 66.695% (1570/2354 148/148  \n",
      "Test Loss: 0.9336980600916857, Test Acc: 66.69%\n"
     ]
    },
    {
     "name": "stderr",
     "output_type": "stream",
     "text": [
      "[Epoch 36]: 100%|██████████| 344/344 [01:20<00:00,  4.29it/s]\n"
     ]
    },
    {
     "name": "stdout",
     "output_type": "stream",
     "text": [
      "Train Loss: 0.20687846450113453, Train Acc: 92.27%\n",
      " [=================================================>]  Step: 20ms | Tot: 17s147ms | Loss: 0.925 | Acc: 67.545% (1590/2354 148/148  \n",
      "Test Loss: 0.9252914236103361, Test Acc: 67.54%\n"
     ]
    },
    {
     "name": "stderr",
     "output_type": "stream",
     "text": [
      "[Epoch 37]: 100%|██████████| 344/344 [01:19<00:00,  4.31it/s]\n"
     ]
    },
    {
     "name": "stdout",
     "output_type": "stream",
     "text": [
      "Train Loss: 0.20632081262247506, Train Acc: 91.85%\n",
      " [=================================================>]  Step: 18ms | Tot: 17s374ms | Loss: 0.723 | Acc: 74.724% (1759/2354 148/148  \n",
      "Test Loss: 0.7230281926490165, Test Acc: 74.72%\n"
     ]
    },
    {
     "name": "stderr",
     "output_type": "stream",
     "text": [
      "[Epoch 38]: 100%|██████████| 344/344 [01:19<00:00,  4.32it/s]\n"
     ]
    },
    {
     "name": "stdout",
     "output_type": "stream",
     "text": [
      "Train Loss: 0.21030344753959324, Train Acc: 92.08%\n",
      " [=================================================>]  Step: 20ms | Tot: 17s288ms | Loss: 0.813 | Acc: 70.561% (1661/2354 148/148  \n",
      "Test Loss: 0.8127237019204611, Test Acc: 70.56%\n"
     ]
    },
    {
     "name": "stderr",
     "output_type": "stream",
     "text": [
      "[Epoch 39]: 100%|██████████| 344/344 [01:19<00:00,  4.33it/s]\n"
     ]
    },
    {
     "name": "stdout",
     "output_type": "stream",
     "text": [
      "Train Loss: 0.18960713814987346, Train Acc: 92.01%\n",
      " [=================================================>]  Step: 18ms | Tot: 17s97ms | Loss: 0.664 | Acc: 75.998% (1789/2354 148/148   \n",
      "Test Loss: 0.6644387107493507, Test Acc: 76.00%\n"
     ]
    },
    {
     "name": "stderr",
     "output_type": "stream",
     "text": [
      "[Epoch 40]: 100%|██████████| 344/344 [01:19<00:00,  4.33it/s]\n"
     ]
    },
    {
     "name": "stdout",
     "output_type": "stream",
     "text": [
      "Train Loss: 0.19394464517109702, Train Acc: 92.32%\n",
      " [=================================================>]  Step: 19ms | Tot: 17s61ms | Loss: 0.604 | Acc: 77.952% (1835/2354 148/148   \n",
      "Test Loss: 0.6044945343322045, Test Acc: 77.95%\n"
     ]
    },
    {
     "name": "stderr",
     "output_type": "stream",
     "text": [
      "[Epoch 41]: 100%|██████████| 344/344 [01:19<00:00,  4.32it/s]\n"
     ]
    },
    {
     "name": "stdout",
     "output_type": "stream",
     "text": [
      "Train Loss: 0.17551453738624967, Train Acc: 93.36%\n",
      " [=================================================>]  Step: 19ms | Tot: 17s43ms | Loss: 0.617 | Acc: 76.466% (1800/2354 148/148   \n",
      "Test Loss: 0.6169315490468934, Test Acc: 76.47%\n"
     ]
    },
    {
     "name": "stderr",
     "output_type": "stream",
     "text": [
      "[Epoch 42]: 100%|██████████| 344/344 [01:19<00:00,  4.34it/s]\n"
     ]
    },
    {
     "name": "stdout",
     "output_type": "stream",
     "text": [
      "Train Loss: 0.1723713674501321, Train Acc: 93.39%\n",
      " [=================================================>]  Step: 18ms | Tot: 17s81ms | Loss: 0.554 | Acc: 81.138% (1910/2354 148/148   \n",
      "Test Loss: 0.553789996869258, Test Acc: 81.14%\n",
      "Saving..\n"
     ]
    },
    {
     "name": "stderr",
     "output_type": "stream",
     "text": [
      "[Epoch 43]: 100%|██████████| 344/344 [01:18<00:00,  4.36it/s]\n"
     ]
    },
    {
     "name": "stdout",
     "output_type": "stream",
     "text": [
      "Train Loss: 0.18013435932482744, Train Acc: 93.21%\n",
      " [=================================================>]  Step: 18ms | Tot: 17s57ms | Loss: 0.801 | Acc: 72.897% (1716/2354 148/148   \n",
      "Test Loss: 0.8013477013320536, Test Acc: 72.90%\n"
     ]
    },
    {
     "name": "stderr",
     "output_type": "stream",
     "text": [
      "[Epoch 44]: 100%|██████████| 344/344 [01:19<00:00,  4.35it/s]\n"
     ]
    },
    {
     "name": "stdout",
     "output_type": "stream",
     "text": [
      "Train Loss: 0.1894992796330561, Train Acc: 92.65%\n",
      " [=================================================>]  Step: 20ms | Tot: 16s898ms | Loss: 0.758 | Acc: 74.384% (1751/2354 148/148  \n",
      "Test Loss: 0.7577855681899834, Test Acc: 74.38%\n"
     ]
    },
    {
     "name": "stderr",
     "output_type": "stream",
     "text": [
      "[Epoch 45]: 100%|██████████| 344/344 [01:19<00:00,  4.35it/s]\n"
     ]
    },
    {
     "name": "stdout",
     "output_type": "stream",
     "text": [
      "Train Loss: 0.15508424977468716, Train Acc: 94.03%\n",
      " [=================================================>]  Step: 20ms | Tot: 16s930ms | Loss: 0.616 | Acc: 78.802% (1855/2354 148/148  \n",
      "Test Loss: 0.6162003960863158, Test Acc: 78.80%\n"
     ]
    },
    {
     "name": "stderr",
     "output_type": "stream",
     "text": [
      "[Epoch 46]: 100%|██████████| 344/344 [01:19<00:00,  4.34it/s]\n"
     ]
    },
    {
     "name": "stdout",
     "output_type": "stream",
     "text": [
      "Train Loss: 0.15852684622798333, Train Acc: 93.90%\n",
      " [=================================================>]  Step: 18ms | Tot: 17s205ms | Loss: 0.730 | Acc: 75.489% (1777/2354 148/148  \n",
      "Test Loss: 0.7300247234367842, Test Acc: 75.49%\n"
     ]
    },
    {
     "name": "stderr",
     "output_type": "stream",
     "text": [
      "[Epoch 47]: 100%|██████████| 344/344 [01:19<00:00,  4.35it/s]\n"
     ]
    },
    {
     "name": "stdout",
     "output_type": "stream",
     "text": [
      "Train Loss: 0.15486788677950497, Train Acc: 94.27%\n",
      " [=================================================>]  Step: 18ms | Tot: 17s141ms | Loss: 0.900 | Acc: 70.348% (1656/2354 148/148  \n",
      "Test Loss: 0.9000659816067766, Test Acc: 70.35%\n"
     ]
    },
    {
     "name": "stderr",
     "output_type": "stream",
     "text": [
      "[Epoch 48]: 100%|██████████| 344/344 [01:18<00:00,  4.36it/s]\n"
     ]
    },
    {
     "name": "stdout",
     "output_type": "stream",
     "text": [
      "Train Loss: 0.16659965385617906, Train Acc: 93.70%\n",
      " [=================================================>]  Step: 20ms | Tot: 17s65ms | Loss: 0.821 | Acc: 72.133% (1698/2354 148/148   \n",
      "Test Loss: 0.8212419728672987, Test Acc: 72.13%\n"
     ]
    },
    {
     "name": "stderr",
     "output_type": "stream",
     "text": [
      "[Epoch 49]: 100%|██████████| 344/344 [01:19<00:00,  4.34it/s]\n"
     ]
    },
    {
     "name": "stdout",
     "output_type": "stream",
     "text": [
      "Train Loss: 0.15487157474380248, Train Acc: 94.49%\n",
      " [=================================================>]  Step: 20ms | Tot: 16s919ms | Loss: 0.703 | Acc: 76.381% (1798/2354 148/148  \n",
      "Test Loss: 0.7033789543485319, Test Acc: 76.38%\n"
     ]
    },
    {
     "name": "stderr",
     "output_type": "stream",
     "text": [
      "[Epoch 50]: 100%|██████████| 344/344 [01:19<00:00,  4.34it/s]\n"
     ]
    },
    {
     "name": "stdout",
     "output_type": "stream",
     "text": [
      "Train Loss: 0.15642357612743454, Train Acc: 94.38%\n",
      " [=================================================>]  Step: 21ms | Tot: 17s84ms | Loss: 0.938 | Acc: 70.858% (1668/2354 148/148   \n",
      "Test Loss: 0.937515304146989, Test Acc: 70.86%\n"
     ]
    },
    {
     "ename": "",
     "evalue": "",
     "output_type": "error",
     "traceback": [
      "\u001b[1;31mThe Kernel crashed while executing code in the current cell or a previous cell. \n",
      "\u001b[1;31mPlease review the code in the cell(s) to identify a possible cause of the failure. \n",
      "\u001b[1;31mClick <a href='https://aka.ms/vscodeJupyterKernelCrash'>here</a> for more info. \n",
      "\u001b[1;31mView Jupyter <a href='command:jupyter.viewOutput'>log</a> for further details."
     ]
    }
   ],
   "source": [
    "for epoch in range(start_epoch, start_epoch+50):\n",
    "    train(epoch)\n",
    "    test(epoch)\n",
    " \n",
    " #   scheduler.step()"
   ]
  },
  {
   "cell_type": "code",
   "execution_count": null,
   "id": "f77c9ecb",
   "metadata": {},
   "outputs": [],
   "source": []
  }
 ],
 "metadata": {
  "kernelspec": {
   "display_name": "Python 3",
   "language": "python",
   "name": "python3"
  },
  "language_info": {
   "codemirror_mode": {
    "name": "ipython",
    "version": 3
   },
   "file_extension": ".py",
   "mimetype": "text/x-python",
   "name": "python",
   "nbconvert_exporter": "python",
   "pygments_lexer": "ipython3",
   "version": "3.10.12"
  }
 },
 "nbformat": 4,
 "nbformat_minor": 5
}
