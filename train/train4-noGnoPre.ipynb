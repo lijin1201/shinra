{
 "cells": [
  {
   "cell_type": "code",
   "execution_count": 1,
   "id": "b02859b6",
   "metadata": {},
   "outputs": [],
   "source": [
    "#train3 from 2: use adam, remove weight_decay; one BW channel (not 3)\n",
    "import torch,os \n",
    "import torch.nn as nn\n",
    "import torch.optim as optim\n",
    "\n",
    "from torchvision.transforms import v2\n",
    "import torchvision.models as models\n",
    "import pandas as pd\n",
    "import matplotlib.pyplot as plt\n",
    "\n",
    "# from models import *\n",
    "from utils import progress_bar\n",
    "from tqdm import tqdm\n",
    "from configparser import ConfigParser\n",
    "from torch.utils.data import  DataLoader\n",
    "from LIDC_data import LIDC_Dataset"
   ]
  },
  {
   "cell_type": "code",
   "execution_count": 2,
   "id": "d3d8dc6b",
   "metadata": {},
   "outputs": [],
   "source": [
    "device = 'cuda' if torch.cuda.is_available() else 'cpu'\n",
    "best_acc = 0  # best test accuracy\n",
    "start_epoch = 0  # start from epoch 0 or last checkpoint epoch\n",
    "\n",
    "prep_tr = [\n",
    "    v2.Lambda(lambda x: torch.clamp(x,-1000,400)),\n",
    "    v2.Lambda(lambda x: (x+1000)/1400),\n",
    "    v2.CenterCrop((384,384)),\n",
    "    # v2.Lambda(lambda x: x.expand(3,-1,-1))\n",
    "]\n",
    "aug_tr = [\n",
    "    v2.RandomAffine(degrees=10),\n",
    "    v2.RandomHorizontalFlip(),\n",
    "    # v2.GaussianNoise(0,0.1)\n",
    "]\n",
    "trans_train = v2.Compose( prep_tr + aug_tr )\n",
    "trans_test = v2.Compose( prep_tr  )"
   ]
  },
  {
   "cell_type": "code",
   "execution_count": 3,
   "id": "2b344e58",
   "metadata": {},
   "outputs": [
    {
     "name": "stdout",
     "output_type": "stream",
     "text": [
      "total_train_data: 5495 total_test_data: 2354\n"
     ]
    }
   ],
   "source": [
    "\n",
    "parser = ConfigParser()\n",
    "parser.read('.settings')\n",
    "root_dir = parser.get('dataset','root_dir') #/workspaces/data/lidc-idri/slices\n",
    "meta_dir = parser.get('dataset','meta_dir') #/workspaces/data/lidc-idri/splits\n",
    "train_data = LIDC_Dataset(root_dir,metapath=os.path.join(meta_dir,'train_malB.csv'),transform=trans_train)\n",
    "test_data = LIDC_Dataset(root_dir,metapath=os.path.join(meta_dir,'test_malB.csv'),transform=trans_test)\n",
    "total_train_data = len(train_data)\n",
    "total_test_data = len(test_data)\n",
    "print('total_train_data:',total_train_data, 'total_test_data:',total_test_data)\n",
    "\n",
    "trainloader = DataLoader(train_data, batch_size=16, shuffle=True)\n",
    "testloader = DataLoader(test_data, batch_size=16)"
   ]
  },
  {
   "cell_type": "code",
   "execution_count": 4,
   "id": "94805703",
   "metadata": {},
   "outputs": [],
   "source": [
    "# net = ResNet18(num_classes=2)\n",
    "net = models.resnet18(num_classes=2)\n",
    "net.conv1 = nn.Conv2d(1, 64, kernel_size=7, stride=2, padding=3, bias=False)\n",
    "# net.fc = nn.Linear(net.fc.in_features, 2)\n",
    "net = net.to(device)"
   ]
  },
  {
   "cell_type": "code",
   "execution_count": 5,
   "id": "5a98ef22",
   "metadata": {},
   "outputs": [],
   "source": [
    "lr = 1e-4\n",
    "criterion = nn.CrossEntropyLoss()\n",
    "# criterion = nn.BCEWithLogitsLoss()\n",
    "optimizer = optim.Adam(net.parameters(), lr=lr)\n",
    "\n",
    "trainning_accuracy=[]\n",
    "trainning_loss=[]\n",
    "testing_accuracy=[]\n",
    "testing_loss=[]"
   ]
  },
  {
   "cell_type": "code",
   "execution_count": 6,
   "id": "9e1e321d",
   "metadata": {},
   "outputs": [],
   "source": [
    "def train(epoch):\n",
    "    net.train()\n",
    "    train_loss = 0\n",
    "    correct = 0\n",
    "    total = 0\n",
    "    for batch_idx, (inputs, targets) in enumerate(tqdm(trainloader,desc=f\"[Epoch {epoch+1}]\")):\n",
    "        inputs, targets = inputs.to(device), targets.to(device)\n",
    "        # targets = targets.float().unsqueeze(1)\n",
    "\n",
    "        optimizer.zero_grad()\n",
    "        outputs = net(inputs)\n",
    "        \n",
    "        loss = criterion(outputs, targets)\n",
    "        loss.backward()\n",
    "        \n",
    "        optimizer.step()\n",
    "\n",
    "        train_loss += loss.item()\n",
    "        _, predicted = outputs.max(1)\n",
    "        # preds = (torch.sigmoid(outputs) > 0.5).squeeze().long()\n",
    "        \n",
    "        total += targets.size(0)\n",
    "        correct += predicted.eq(targets).sum().item()\n",
    "        # correct += (preds == targets.long()).sum().item()\n",
    "\n",
    "    train_acc = 100.*correct/total\n",
    "    train_loss = train_loss/(batch_idx+1)\n",
    "    print(f\"Train Loss: {train_loss}, Train Acc: {train_acc:.2f}%\")\n",
    "    trainning_accuracy.append(train_acc)\n",
    "    trainning_loss.append( train_loss )\n",
    "\n",
    "def test(epoch):\n",
    "    global best_acc\n",
    "    net.eval()\n",
    "    test_loss = 0\n",
    "    correct = 0\n",
    "    total = 0\n",
    "    with torch.no_grad():\n",
    "        for batch_idx, (inputs, targets) in enumerate(testloader):\n",
    "            inputs, targets = inputs.to(device), targets.to(device)\n",
    "            # targets = targets.float().unsqueeze(1)\n",
    "            outputs = net(inputs)\n",
    "            \n",
    "            loss = criterion(outputs, targets)\n",
    "            test_loss += loss.item()\n",
    "            _, predicted = outputs.max(1)\n",
    "            # preds = (torch.sigmoid(outputs) > 0.5).squeeze().long()\n",
    "            total += targets.size(0)\n",
    "            correct += predicted.eq(targets).sum().item()\n",
    "            # correct += (preds == targets.long()).sum().item()\n",
    "\n",
    "            progress_bar(batch_idx, len(testloader), 'Loss: %.3f | Acc: %.3f%% (%d/%d)'\n",
    "                         % (test_loss/(batch_idx+1), 100.*correct/total, correct, total))\n",
    "        test_acc = 100.*correct/total\n",
    "        test_loss = test_loss/(batch_idx+1)\n",
    "        print(f\"Test Loss: {test_loss}, Test Acc: {test_acc:.2f}%\")\n",
    "        testing_accuracy.append(100.*correct/total)\n",
    "        testing_loss.append(test_loss/(batch_idx+1))\n",
    "    # Save checkpoint.\n",
    "    acc = 100.*correct/total\n",
    "    if acc > best_acc:\n",
    "        print('Saving..')\n",
    "        state = {\n",
    "            'net': net.state_dict(),\n",
    "            'acc': acc,\n",
    "            'epoch': epoch,\n",
    "        }\n",
    "        if not os.path.isdir('checkpoint'):\n",
    "            os.mkdir('checkpoint')\n",
    "        torch.save(state, './checkpoint/ckpt_owndata.pth')\n",
    "        best_acc = acc"
   ]
  },
  {
   "cell_type": "code",
   "execution_count": 7,
   "id": "fa7663ca",
   "metadata": {},
   "outputs": [
    {
     "name": "stderr",
     "output_type": "stream",
     "text": [
      "[Epoch 1]:   0%|          | 0/344 [00:00<?, ?it/s]"
     ]
    },
    {
     "name": "stderr",
     "output_type": "stream",
     "text": [
      "[Epoch 1]: 100%|██████████| 344/344 [01:22<00:00,  4.16it/s]\n"
     ]
    },
    {
     "name": "stdout",
     "output_type": "stream",
     "text": [
      "Train Loss: 0.6889607020935347, Train Acc: 55.89%\n",
      " [=================================================>]  Step: 33ms | Tot: 20s337ms | Loss: 0.739 | Acc: 58.199% (1370/2354 148/148  \n",
      "Test Loss: 0.7388321956669962, Test Acc: 58.20%\n",
      "Saving..\n"
     ]
    },
    {
     "name": "stderr",
     "output_type": "stream",
     "text": [
      "[Epoch 2]: 100%|██████████| 344/344 [01:16<00:00,  4.48it/s]\n"
     ]
    },
    {
     "name": "stdout",
     "output_type": "stream",
     "text": [
      "Train Loss: 0.6747313814107762, Train Acc: 58.40%\n",
      " [=================================================>]  Step: 21ms | Tot: 16s671ms | Loss: 0.711 | Acc: 53.483% (1259/2354 148/148  \n",
      "Test Loss: 0.7106303246440114, Test Acc: 53.48%\n"
     ]
    },
    {
     "name": "stderr",
     "output_type": "stream",
     "text": [
      "[Epoch 3]: 100%|██████████| 344/344 [01:16<00:00,  4.48it/s]"
     ]
    },
    {
     "name": "stdout",
     "output_type": "stream",
     "text": [
      "Train Loss: 0.6656756109103213, Train Acc: 59.91%\n",
      " [>.................................................]  Step: 1m16s | Tot: 0ms | Loss: 0.836 | Acc: 18.750% (3/16 1/148 \r"
     ]
    },
    {
     "name": "stderr",
     "output_type": "stream",
     "text": [
      "\n"
     ]
    },
    {
     "name": "stdout",
     "output_type": "stream",
     "text": [
      " [=================================================>]  Step: 20ms | Tot: 18s55ms | Loss: 0.672 | Acc: 60.195% (1417/2354 148/148   \n",
      "Test Loss: 0.6718241632790178, Test Acc: 60.20%\n",
      "Saving..\n"
     ]
    },
    {
     "name": "stderr",
     "output_type": "stream",
     "text": [
      "[Epoch 4]: 100%|██████████| 344/344 [01:14<00:00,  4.60it/s]\n"
     ]
    },
    {
     "name": "stdout",
     "output_type": "stream",
     "text": [
      "Train Loss: 0.6497351209264856, Train Acc: 61.95%\n",
      " [=================================================>]  Step: 18ms | Tot: 17s946ms | Loss: 0.684 | Acc: 57.477% (1353/2354 148/148  \n",
      "Test Loss: 0.6843825671318415, Test Acc: 57.48%\n"
     ]
    },
    {
     "name": "stderr",
     "output_type": "stream",
     "text": [
      "[Epoch 5]: 100%|██████████| 344/344 [01:14<00:00,  4.61it/s]\n"
     ]
    },
    {
     "name": "stdout",
     "output_type": "stream",
     "text": [
      "Train Loss: 0.6395676861148935, Train Acc: 62.35%\n",
      " [=================================================>]  Step: 19ms | Tot: 16s663ms | Loss: 0.711 | Acc: 55.013% (1295/2354 148/148  \n",
      "Test Loss: 0.711060452098782, Test Acc: 55.01%\n"
     ]
    },
    {
     "name": "stderr",
     "output_type": "stream",
     "text": [
      "[Epoch 6]: 100%|██████████| 344/344 [01:15<00:00,  4.54it/s]\n"
     ]
    },
    {
     "name": "stdout",
     "output_type": "stream",
     "text": [
      "Train Loss: 0.623065117140149, Train Acc: 64.53%\n",
      " [=================================================>]  Step: 20ms | Tot: 16s379ms | Loss: 0.770 | Acc: 58.581% (1379/2354 148/148  \n",
      "Test Loss: 0.7699903237658579, Test Acc: 58.58%\n"
     ]
    },
    {
     "name": "stderr",
     "output_type": "stream",
     "text": [
      "[Epoch 7]: 100%|██████████| 344/344 [01:15<00:00,  4.55it/s]\n"
     ]
    },
    {
     "name": "stdout",
     "output_type": "stream",
     "text": [
      "Train Loss: 0.6064099406953468, Train Acc: 67.48%\n",
      " [=================================================>]  Step: 20ms | Tot: 17s328ms | Loss: 0.703 | Acc: 57.052% (1343/2354 148/148  \n",
      "Test Loss: 0.7031183268975567, Test Acc: 57.05%\n"
     ]
    },
    {
     "name": "stderr",
     "output_type": "stream",
     "text": [
      "[Epoch 8]: 100%|██████████| 344/344 [01:14<00:00,  4.59it/s]\n"
     ]
    },
    {
     "name": "stdout",
     "output_type": "stream",
     "text": [
      "Train Loss: 0.5849730339507724, Train Acc: 68.92%\n",
      " [=================================================>]  Step: 18ms | Tot: 17s981ms | Loss: 0.597 | Acc: 68.564% (1614/2354 148/148  \n",
      "Test Loss: 0.5969446748495102, Test Acc: 68.56%\n",
      "Saving..\n"
     ]
    },
    {
     "name": "stderr",
     "output_type": "stream",
     "text": [
      "[Epoch 9]: 100%|██████████| 344/344 [01:14<00:00,  4.61it/s]\n"
     ]
    },
    {
     "name": "stdout",
     "output_type": "stream",
     "text": [
      "Train Loss: 0.5654808710827384, Train Acc: 70.50%\n",
      " [=================================================>]  Step: 22ms | Tot: 16s600ms | Loss: 0.603 | Acc: 67.587% (1591/2354 148/148  \n",
      "Test Loss: 0.6031730469014194, Test Acc: 67.59%\n"
     ]
    },
    {
     "name": "stderr",
     "output_type": "stream",
     "text": [
      "[Epoch 10]: 100%|██████████| 344/344 [01:16<00:00,  4.51it/s]\n"
     ]
    },
    {
     "name": "stdout",
     "output_type": "stream",
     "text": [
      "Train Loss: 0.5432650356791741, Train Acc: 72.23%\n",
      " [=================================================>]  Step: 22ms | Tot: 16s414ms | Loss: 1.242 | Acc: 57.009% (1342/2354 148/148  \n",
      "Test Loss: 1.2424278465489782, Test Acc: 57.01%\n"
     ]
    },
    {
     "name": "stderr",
     "output_type": "stream",
     "text": [
      "[Epoch 11]: 100%|██████████| 344/344 [01:15<00:00,  4.55it/s]\n"
     ]
    },
    {
     "name": "stdout",
     "output_type": "stream",
     "text": [
      "Train Loss: 0.5242859437455272, Train Acc: 73.45%\n",
      " [=================================================>]  Step: 20ms | Tot: 16s546ms | Loss: 0.691 | Acc: 64.868% (1527/2354 148/148  \n",
      "Test Loss: 0.6908981198998722, Test Acc: 64.87%\n"
     ]
    },
    {
     "name": "stderr",
     "output_type": "stream",
     "text": [
      "[Epoch 12]: 100%|██████████| 344/344 [01:14<00:00,  4.64it/s]\n"
     ]
    },
    {
     "name": "stdout",
     "output_type": "stream",
     "text": [
      "Train Loss: 0.4951343324555214, Train Acc: 76.43%\n",
      " [=================================================>]  Step: 19ms | Tot: 17s870ms | Loss: 0.571 | Acc: 71.410% (1681/2354 148/148  \n",
      "Test Loss: 0.5709303588279195, Test Acc: 71.41%\n",
      "Saving..\n"
     ]
    },
    {
     "name": "stderr",
     "output_type": "stream",
     "text": [
      "[Epoch 13]: 100%|██████████| 344/344 [01:14<00:00,  4.64it/s]\n"
     ]
    },
    {
     "name": "stdout",
     "output_type": "stream",
     "text": [
      "Train Loss: 0.4693461729343547, Train Acc: 77.38%\n",
      " [=================================================>]  Step: 20ms | Tot: 17s779ms | Loss: 0.534 | Acc: 74.809% (1761/2354 148/148  \n",
      "Test Loss: 0.533604222475677, Test Acc: 74.81%\n",
      "Saving..\n"
     ]
    },
    {
     "name": "stderr",
     "output_type": "stream",
     "text": [
      "[Epoch 14]: 100%|██████████| 344/344 [01:14<00:00,  4.63it/s]\n"
     ]
    },
    {
     "name": "stdout",
     "output_type": "stream",
     "text": [
      "Train Loss: 0.4427655834791272, Train Acc: 79.36%\n",
      " [=================================================>]  Step: 21ms | Tot: 16s500ms | Loss: 0.521 | Acc: 74.894% (1763/2354 148/148  \n",
      "Test Loss: 0.5211951708471453, Test Acc: 74.89%\n",
      "Saving..\n"
     ]
    },
    {
     "name": "stderr",
     "output_type": "stream",
     "text": [
      "[Epoch 15]: 100%|██████████| 344/344 [01:15<00:00,  4.55it/s]\n"
     ]
    },
    {
     "name": "stdout",
     "output_type": "stream",
     "text": [
      "Train Loss: 0.4145593315709469, Train Acc: 81.07%\n",
      " [=================================================>]  Step: 20ms | Tot: 16s384ms | Loss: 0.527 | Acc: 75.064% (1767/2354 148/148  \n",
      "Test Loss: 0.5268325985887566, Test Acc: 75.06%\n",
      "Saving..\n"
     ]
    },
    {
     "name": "stderr",
     "output_type": "stream",
     "text": [
      "[Epoch 16]: 100%|██████████| 344/344 [01:14<00:00,  4.65it/s]\n"
     ]
    },
    {
     "name": "stdout",
     "output_type": "stream",
     "text": [
      "Train Loss: 0.4017369612444972, Train Acc: 81.78%\n",
      " [=================================================>]  Step: 20ms | Tot: 17s937ms | Loss: 0.648 | Acc: 72.302% (1702/2354 148/148  \n",
      "Test Loss: 0.6479533989787907, Test Acc: 72.30%\n"
     ]
    },
    {
     "name": "stderr",
     "output_type": "stream",
     "text": [
      "[Epoch 17]: 100%|██████████| 344/344 [01:13<00:00,  4.65it/s]\n"
     ]
    },
    {
     "name": "stdout",
     "output_type": "stream",
     "text": [
      "Train Loss: 0.37738448504878336, Train Acc: 83.88%\n",
      " [=================================================>]  Step: 20ms | Tot: 17s936ms | Loss: 0.607 | Acc: 71.410% (1681/2354 148/148  \n",
      "Test Loss: 0.6072638932414152, Test Acc: 71.41%\n"
     ]
    },
    {
     "name": "stderr",
     "output_type": "stream",
     "text": [
      "[Epoch 18]: 100%|██████████| 344/344 [01:14<00:00,  4.65it/s]\n"
     ]
    },
    {
     "name": "stdout",
     "output_type": "stream",
     "text": [
      "Train Loss: 0.35865291667192484, Train Acc: 84.19%\n",
      " [=================================================>]  Step: 20ms | Tot: 16s345ms | Loss: 0.642 | Acc: 69.924% (1646/2354 148/148  \n",
      "Test Loss: 0.6422234579820085, Test Acc: 69.92%\n"
     ]
    },
    {
     "name": "stderr",
     "output_type": "stream",
     "text": [
      "[Epoch 19]: 100%|██████████| 344/344 [01:16<00:00,  4.52it/s]\n"
     ]
    },
    {
     "name": "stdout",
     "output_type": "stream",
     "text": [
      "Train Loss: 0.3464502467838831, Train Acc: 84.97%\n",
      " [=================================================>]  Step: 21ms | Tot: 16s593ms | Loss: 0.585 | Acc: 74.342% (1750/2354 148/148  \n",
      "Test Loss: 0.5846713029534077, Test Acc: 74.34%\n"
     ]
    },
    {
     "name": "stderr",
     "output_type": "stream",
     "text": [
      "[Epoch 20]: 100%|██████████| 344/344 [01:16<00:00,  4.51it/s]\n"
     ]
    },
    {
     "name": "stdout",
     "output_type": "stream",
     "text": [
      "Train Loss: 0.3264451092650551, Train Acc: 86.62%\n",
      " [=================================================>]  Step: 18ms | Tot: 16s686ms | Loss: 0.525 | Acc: 76.168% (1793/2354 148/148  \n",
      "Test Loss: 0.5253481199788684, Test Acc: 76.17%\n",
      "Saving..\n"
     ]
    },
    {
     "name": "stderr",
     "output_type": "stream",
     "text": [
      "[Epoch 21]: 100%|██████████| 344/344 [01:15<00:00,  4.59it/s]\n"
     ]
    },
    {
     "name": "stdout",
     "output_type": "stream",
     "text": [
      "Train Loss: 0.3032502608568689, Train Acc: 87.24%\n",
      " [=================================================>]  Step: 22ms | Tot: 18s106ms | Loss: 0.530 | Acc: 77.995% (1836/2354 148/148  \n",
      "Test Loss: 0.5297867586030751, Test Acc: 77.99%\n",
      "Saving..\n"
     ]
    },
    {
     "name": "stderr",
     "output_type": "stream",
     "text": [
      "[Epoch 22]: 100%|██████████| 344/344 [01:14<00:00,  4.60it/s]\n"
     ]
    },
    {
     "name": "stdout",
     "output_type": "stream",
     "text": [
      "Train Loss: 0.2979220862413735, Train Acc: 87.59%\n",
      " [=================================================>]  Step: 19ms | Tot: 16s517ms | Loss: 0.507 | Acc: 79.524% (1872/2354 148/148  \n",
      "Test Loss: 0.50684814919038, Test Acc: 79.52%\n",
      "Saving..\n"
     ]
    },
    {
     "name": "stderr",
     "output_type": "stream",
     "text": [
      "[Epoch 23]: 100%|██████████| 344/344 [01:15<00:00,  4.54it/s]\n"
     ]
    },
    {
     "name": "stdout",
     "output_type": "stream",
     "text": [
      "Train Loss: 0.2849980238283616, Train Acc: 88.30%\n",
      " [=================================================>]  Step: 35ms | Tot: 16s396ms | Loss: 0.915 | Acc: 64.996% (1530/2354 148/148  \n",
      "Test Loss: 0.9145526711300418, Test Acc: 65.00%\n"
     ]
    },
    {
     "name": "stderr",
     "output_type": "stream",
     "text": [
      "[Epoch 24]: 100%|██████████| 344/344 [01:15<00:00,  4.53it/s]\n"
     ]
    },
    {
     "name": "stdout",
     "output_type": "stream",
     "text": [
      "Train Loss: 0.26380014695703635, Train Acc: 89.19%\n",
      " [=================================================>]  Step: 19ms | Tot: 16s411ms | Loss: 0.548 | Acc: 78.632% (1851/2354 148/148  \n",
      "Test Loss: 0.5479184422339942, Test Acc: 78.63%\n"
     ]
    },
    {
     "name": "stderr",
     "output_type": "stream",
     "text": [
      "[Epoch 25]: 100%|██████████| 344/344 [01:14<00:00,  4.63it/s]\n"
     ]
    },
    {
     "name": "stdout",
     "output_type": "stream",
     "text": [
      "Train Loss: 0.2626501002814621, Train Acc: 89.30%\n",
      " [=================================================>]  Step: 19ms | Tot: 18s104ms | Loss: 0.877 | Acc: 66.398% (1563/2354 148/148  \n",
      "Test Loss: 0.8768083491438144, Test Acc: 66.40%\n"
     ]
    },
    {
     "name": "stderr",
     "output_type": "stream",
     "text": [
      "[Epoch 26]: 100%|██████████| 344/344 [01:14<00:00,  4.62it/s]\n"
     ]
    },
    {
     "name": "stdout",
     "output_type": "stream",
     "text": [
      "Train Loss: 0.24458121016708223, Train Acc: 90.06%\n",
      " [=================================================>]  Step: 19ms | Tot: 16s491ms | Loss: 0.573 | Acc: 78.929% (1858/2354 148/148  \n",
      "Test Loss: 0.5729132110278148, Test Acc: 78.93%\n"
     ]
    },
    {
     "name": "stderr",
     "output_type": "stream",
     "text": [
      "[Epoch 27]: 100%|██████████| 344/344 [01:15<00:00,  4.54it/s]\n"
     ]
    },
    {
     "name": "stdout",
     "output_type": "stream",
     "text": [
      "Train Loss: 0.2406968932360584, Train Acc: 90.72%\n",
      " [=================================================>]  Step: 19ms | Tot: 16s411ms | Loss: 0.493 | Acc: 81.521% (1919/2354 148/148  \n",
      "Test Loss: 0.49268792856585336, Test Acc: 81.52%\n",
      "Saving..\n"
     ]
    },
    {
     "name": "stderr",
     "output_type": "stream",
     "text": [
      "[Epoch 28]: 100%|██████████| 344/344 [01:15<00:00,  4.56it/s]\n"
     ]
    },
    {
     "name": "stdout",
     "output_type": "stream",
     "text": [
      "Train Loss: 0.22890007892775155, Train Acc: 91.37%\n",
      " [=================================================>]  Step: 19ms | Tot: 16s255ms | Loss: 0.471 | Acc: 82.710% (1947/2354 148/148  \n",
      "Test Loss: 0.47068605243505257, Test Acc: 82.71%\n",
      "Saving..\n"
     ]
    },
    {
     "name": "stderr",
     "output_type": "stream",
     "text": [
      "[Epoch 29]: 100%|██████████| 344/344 [01:13<00:00,  4.66it/s]\n"
     ]
    },
    {
     "name": "stdout",
     "output_type": "stream",
     "text": [
      "Train Loss: 0.2199170363438857, Train Acc: 91.25%\n",
      " [=================================================>]  Step: 20ms | Tot: 17s926ms | Loss: 0.500 | Acc: 81.903% (1928/2354 148/148  \n",
      "Test Loss: 0.5001063660885258, Test Acc: 81.90%\n"
     ]
    },
    {
     "name": "stderr",
     "output_type": "stream",
     "text": [
      "[Epoch 30]: 100%|██████████| 344/344 [01:13<00:00,  4.66it/s]\n"
     ]
    },
    {
     "name": "stdout",
     "output_type": "stream",
     "text": [
      "Train Loss: 0.21797339053997813, Train Acc: 91.67%\n",
      " [=================================================>]  Step: 18ms | Tot: 17s935ms | Loss: 0.607 | Acc: 78.462% (1847/2354 148/148  \n",
      "Test Loss: 0.6073195029905921, Test Acc: 78.46%\n"
     ]
    },
    {
     "name": "stderr",
     "output_type": "stream",
     "text": [
      "[Epoch 31]: 100%|██████████| 344/344 [01:13<00:00,  4.66it/s]\n"
     ]
    },
    {
     "name": "stdout",
     "output_type": "stream",
     "text": [
      "Train Loss: 0.2151293016233763, Train Acc: 91.81%\n",
      " [=================================================>]  Step: 19ms | Tot: 16s380ms | Loss: 0.558 | Acc: 79.227% (1865/2354 148/148  \n",
      "Test Loss: 0.558296563758238, Test Acc: 79.23%\n"
     ]
    },
    {
     "name": "stderr",
     "output_type": "stream",
     "text": [
      "[Epoch 32]: 100%|██████████| 344/344 [01:15<00:00,  4.56it/s]\n"
     ]
    },
    {
     "name": "stdout",
     "output_type": "stream",
     "text": [
      "Train Loss: 0.19038326803291605, Train Acc: 92.63%\n",
      " [=================================================>]  Step: 19ms | Tot: 16s611ms | Loss: 0.604 | Acc: 78.802% (1855/2354 148/148  \n",
      "Test Loss: 0.6035023871557536, Test Acc: 78.80%\n"
     ]
    },
    {
     "name": "stderr",
     "output_type": "stream",
     "text": [
      "[Epoch 33]: 100%|██████████| 344/344 [01:15<00:00,  4.56it/s]\n"
     ]
    },
    {
     "name": "stdout",
     "output_type": "stream",
     "text": [
      "Train Loss: 0.2078341824424908, Train Acc: 91.41%\n",
      " [=================================================>]  Step: 19ms | Tot: 16s478ms | Loss: 0.759 | Acc: 74.044% (1743/2354 148/148  \n",
      "Test Loss: 0.758504201884608, Test Acc: 74.04%\n"
     ]
    },
    {
     "name": "stderr",
     "output_type": "stream",
     "text": [
      "[Epoch 34]: 100%|██████████| 344/344 [01:13<00:00,  4.65it/s]\n"
     ]
    },
    {
     "name": "stdout",
     "output_type": "stream",
     "text": [
      "Train Loss: 0.19806302177481527, Train Acc: 92.43%\n",
      " [=================================================>]  Step: 20ms | Tot: 17s933ms | Loss: 0.537 | Acc: 81.648% (1922/2354 148/148  \n",
      "Test Loss: 0.5371088912825389, Test Acc: 81.65%\n"
     ]
    },
    {
     "name": "stderr",
     "output_type": "stream",
     "text": [
      "[Epoch 35]: 100%|██████████| 344/344 [01:13<00:00,  4.65it/s]\n"
     ]
    },
    {
     "name": "stdout",
     "output_type": "stream",
     "text": [
      "Train Loss: 0.19042746508277433, Train Acc: 92.81%\n",
      " [=================================================>]  Step: 20ms | Tot: 16s367ms | Loss: 0.457 | Acc: 83.263% (1960/2354 148/148  \n",
      "Test Loss: 0.4567954869888962, Test Acc: 83.26%\n",
      "Saving..\n"
     ]
    },
    {
     "name": "stderr",
     "output_type": "stream",
     "text": [
      "[Epoch 36]: 100%|██████████| 344/344 [01:15<00:00,  4.56it/s]\n"
     ]
    },
    {
     "name": "stdout",
     "output_type": "stream",
     "text": [
      "Train Loss: 0.1758631465761641, Train Acc: 93.27%\n",
      " [=================================================>]  Step: 22ms | Tot: 16s281ms | Loss: 0.628 | Acc: 77.613% (1827/2354 148/148  \n",
      "Test Loss: 0.6277791434180029, Test Acc: 77.61%\n"
     ]
    },
    {
     "name": "stderr",
     "output_type": "stream",
     "text": [
      "[Epoch 37]: 100%|██████████| 344/344 [01:15<00:00,  4.56it/s]\n"
     ]
    },
    {
     "name": "stdout",
     "output_type": "stream",
     "text": [
      "Train Loss: 0.16986350272782147, Train Acc: 93.54%\n",
      " [=================================================>]  Step: 20ms | Tot: 16s416ms | Loss: 0.707 | Acc: 75.998% (1789/2354 148/148  \n",
      "Test Loss: 0.7074064669274801, Test Acc: 76.00%\n"
     ]
    },
    {
     "name": "stderr",
     "output_type": "stream",
     "text": [
      "[Epoch 38]: 100%|██████████| 344/344 [01:14<00:00,  4.64it/s]"
     ]
    },
    {
     "name": "stdout",
     "output_type": "stream",
     "text": [
      "Train Loss: 0.17015606155185853, Train Acc: 93.48%\n",
      " [>.................................................]  Step: 1m14s | Tot: 0ms | Loss: 0.884 | Acc: 75.000% (12/16 1/148 \r"
     ]
    },
    {
     "name": "stderr",
     "output_type": "stream",
     "text": [
      "\n"
     ]
    },
    {
     "name": "stdout",
     "output_type": "stream",
     "text": [
      " [=================================================>]  Step: 18ms | Tot: 17s880ms | Loss: 0.942 | Acc: 74.511% (1754/2354 148/148  \n",
      "Test Loss: 0.9416050460475998, Test Acc: 74.51%\n"
     ]
    },
    {
     "name": "stderr",
     "output_type": "stream",
     "text": [
      "[Epoch 39]: 100%|██████████| 344/344 [01:13<00:00,  4.65it/s]\n"
     ]
    },
    {
     "name": "stdout",
     "output_type": "stream",
     "text": [
      "Train Loss: 0.17031595252216036, Train Acc: 93.43%\n",
      " [=================================================>]  Step: 19ms | Tot: 17s940ms | Loss: 0.560 | Acc: 81.223% (1912/2354 148/148  \n",
      "Test Loss: 0.5603272195345395, Test Acc: 81.22%\n"
     ]
    },
    {
     "name": "stderr",
     "output_type": "stream",
     "text": [
      "[Epoch 40]: 100%|██████████| 344/344 [01:13<00:00,  4.65it/s]\n"
     ]
    },
    {
     "name": "stdout",
     "output_type": "stream",
     "text": [
      "Train Loss: 0.15470482045947032, Train Acc: 93.98%\n",
      " [=================================================>]  Step: 21ms | Tot: 16s268ms | Loss: 0.596 | Acc: 80.119% (1886/2354 148/148  \n",
      "Test Loss: 0.596402070157834, Test Acc: 80.12%\n"
     ]
    },
    {
     "name": "stderr",
     "output_type": "stream",
     "text": [
      "[Epoch 41]: 100%|██████████| 344/344 [01:15<00:00,  4.56it/s]\n"
     ]
    },
    {
     "name": "stdout",
     "output_type": "stream",
     "text": [
      "Train Loss: 0.16271247413161016, Train Acc: 93.90%\n",
      " [=================================================>]  Step: 20ms | Tot: 16s569ms | Loss: 0.578 | Acc: 82.328% (1938/2354 148/148  \n",
      "Test Loss: 0.5776715013119895, Test Acc: 82.33%\n"
     ]
    },
    {
     "name": "stderr",
     "output_type": "stream",
     "text": [
      "[Epoch 42]: 100%|██████████| 344/344 [01:16<00:00,  4.52it/s]\n"
     ]
    },
    {
     "name": "stdout",
     "output_type": "stream",
     "text": [
      "Train Loss: 0.15885406720376205, Train Acc: 93.83%\n",
      " [=================================================>]  Step: 21ms | Tot: 17s25ms | Loss: 0.576 | Acc: 82.073% (1932/2354 148/148 8 \n",
      "Test Loss: 0.5760723697005872, Test Acc: 82.07%\n"
     ]
    },
    {
     "name": "stderr",
     "output_type": "stream",
     "text": [
      "[Epoch 43]: 100%|██████████| 344/344 [01:14<00:00,  4.63it/s]\n"
     ]
    },
    {
     "name": "stdout",
     "output_type": "stream",
     "text": [
      "Train Loss: 0.15145849746240433, Train Acc: 93.92%\n",
      " [=================================================>]  Step: 20ms | Tot: 18s60ms | Loss: 0.508 | Acc: 82.413% (1940/2354 148/148   \n",
      "Test Loss: 0.5078136535484117, Test Acc: 82.41%\n"
     ]
    },
    {
     "name": "stderr",
     "output_type": "stream",
     "text": [
      "[Epoch 44]: 100%|██████████| 344/344 [01:14<00:00,  4.64it/s]\n"
     ]
    },
    {
     "name": "stdout",
     "output_type": "stream",
     "text": [
      "Train Loss: 0.15858059310148534, Train Acc: 93.94%\n",
      " [=================================================>]  Step: 20ms | Tot: 16s444ms | Loss: 0.510 | Acc: 82.285% (1937/2354 148/148  \n",
      "Test Loss: 0.5096654413469337, Test Acc: 82.29%\n"
     ]
    },
    {
     "name": "stderr",
     "output_type": "stream",
     "text": [
      "[Epoch 45]: 100%|██████████| 344/344 [01:15<00:00,  4.55it/s]\n"
     ]
    },
    {
     "name": "stdout",
     "output_type": "stream",
     "text": [
      "Train Loss: 0.14505219720114498, Train Acc: 94.76%\n",
      " [=================================================>]  Step: 19ms | Tot: 16s305ms | Loss: 0.526 | Acc: 83.432% (1964/2354 148/148  \n",
      "Test Loss: 0.5260805765361953, Test Acc: 83.43%\n",
      "Saving..\n"
     ]
    },
    {
     "name": "stderr",
     "output_type": "stream",
     "text": [
      "[Epoch 46]: 100%|██████████| 344/344 [01:15<00:00,  4.55it/s]\n"
     ]
    },
    {
     "name": "stdout",
     "output_type": "stream",
     "text": [
      "Train Loss: 0.14093670563035926, Train Acc: 94.83%\n",
      " [=================================================>]  Step: 26ms | Tot: 16s680ms | Loss: 0.988 | Acc: 72.005% (1695/2354 148/148  \n",
      "Test Loss: 0.9875961625193422, Test Acc: 72.01%\n"
     ]
    },
    {
     "name": "stderr",
     "output_type": "stream",
     "text": [
      "[Epoch 47]: 100%|██████████| 344/344 [01:14<00:00,  4.61it/s]\n"
     ]
    },
    {
     "name": "stdout",
     "output_type": "stream",
     "text": [
      "Train Loss: 0.14529682163333216, Train Acc: 94.56%\n",
      " [=================================================>]  Step: 21ms | Tot: 18s95ms | Loss: 0.701 | Acc: 77.613% (1827/2354 148/148   \n",
      "Test Loss: 0.70062621795522, Test Acc: 77.61%\n"
     ]
    },
    {
     "name": "stderr",
     "output_type": "stream",
     "text": [
      "[Epoch 48]: 100%|██████████| 344/344 [01:13<00:00,  4.65it/s]\n"
     ]
    },
    {
     "name": "stdout",
     "output_type": "stream",
     "text": [
      "Train Loss: 0.14258936319911722, Train Acc: 94.50%\n",
      " [=================================================>]  Step: 26ms | Tot: 16s331ms | Loss: 0.507 | Acc: 83.985% (1977/2354 148/148  \n",
      "Test Loss: 0.506982616340817, Test Acc: 83.98%\n",
      "Saving..\n"
     ]
    },
    {
     "name": "stderr",
     "output_type": "stream",
     "text": [
      "[Epoch 49]: 100%|██████████| 344/344 [01:15<00:00,  4.54it/s]\n"
     ]
    },
    {
     "name": "stdout",
     "output_type": "stream",
     "text": [
      "Train Loss: 0.1352925376051517, Train Acc: 95.16%\n",
      " [=================================================>]  Step: 20ms | Tot: 16s512ms | Loss: 0.505 | Acc: 84.410% (1987/2354 148/148  \n",
      "Test Loss: 0.5050809810618867, Test Acc: 84.41%\n",
      "Saving..\n"
     ]
    },
    {
     "name": "stderr",
     "output_type": "stream",
     "text": [
      "[Epoch 50]: 100%|██████████| 344/344 [01:16<00:00,  4.52it/s]\n"
     ]
    },
    {
     "name": "stdout",
     "output_type": "stream",
     "text": [
      "Train Loss: 0.1297230873024091, Train Acc: 95.47%\n",
      " [=================================================>]  Step: 20ms | Tot: 16s458ms | Loss: 0.632 | Acc: 80.671% (1899/2354 148/148  \n",
      "Test Loss: 0.6315658956489248, Test Acc: 80.67%\n"
     ]
    }
   ],
   "source": [
    "for epoch in range(start_epoch, start_epoch+50):\n",
    "    train(epoch)\n",
    "    test(epoch)\n",
    " \n",
    " #   scheduler.step()"
   ]
  },
  {
   "cell_type": "code",
   "execution_count": 8,
   "id": "f77c9ecb",
   "metadata": {},
   "outputs": [
    {
     "data": {
      "text/plain": [
       "ResNet(\n",
       "  (conv1): Conv2d(1, 64, kernel_size=(7, 7), stride=(2, 2), padding=(3, 3), bias=False)\n",
       "  (bn1): BatchNorm2d(64, eps=1e-05, momentum=0.1, affine=True, track_running_stats=True)\n",
       "  (relu): ReLU(inplace=True)\n",
       "  (maxpool): MaxPool2d(kernel_size=3, stride=2, padding=1, dilation=1, ceil_mode=False)\n",
       "  (layer1): Sequential(\n",
       "    (0): BasicBlock(\n",
       "      (conv1): Conv2d(64, 64, kernel_size=(3, 3), stride=(1, 1), padding=(1, 1), bias=False)\n",
       "      (bn1): BatchNorm2d(64, eps=1e-05, momentum=0.1, affine=True, track_running_stats=True)\n",
       "      (relu): ReLU(inplace=True)\n",
       "      (conv2): Conv2d(64, 64, kernel_size=(3, 3), stride=(1, 1), padding=(1, 1), bias=False)\n",
       "      (bn2): BatchNorm2d(64, eps=1e-05, momentum=0.1, affine=True, track_running_stats=True)\n",
       "    )\n",
       "    (1): BasicBlock(\n",
       "      (conv1): Conv2d(64, 64, kernel_size=(3, 3), stride=(1, 1), padding=(1, 1), bias=False)\n",
       "      (bn1): BatchNorm2d(64, eps=1e-05, momentum=0.1, affine=True, track_running_stats=True)\n",
       "      (relu): ReLU(inplace=True)\n",
       "      (conv2): Conv2d(64, 64, kernel_size=(3, 3), stride=(1, 1), padding=(1, 1), bias=False)\n",
       "      (bn2): BatchNorm2d(64, eps=1e-05, momentum=0.1, affine=True, track_running_stats=True)\n",
       "    )\n",
       "  )\n",
       "  (layer2): Sequential(\n",
       "    (0): BasicBlock(\n",
       "      (conv1): Conv2d(64, 128, kernel_size=(3, 3), stride=(2, 2), padding=(1, 1), bias=False)\n",
       "      (bn1): BatchNorm2d(128, eps=1e-05, momentum=0.1, affine=True, track_running_stats=True)\n",
       "      (relu): ReLU(inplace=True)\n",
       "      (conv2): Conv2d(128, 128, kernel_size=(3, 3), stride=(1, 1), padding=(1, 1), bias=False)\n",
       "      (bn2): BatchNorm2d(128, eps=1e-05, momentum=0.1, affine=True, track_running_stats=True)\n",
       "      (downsample): Sequential(\n",
       "        (0): Conv2d(64, 128, kernel_size=(1, 1), stride=(2, 2), bias=False)\n",
       "        (1): BatchNorm2d(128, eps=1e-05, momentum=0.1, affine=True, track_running_stats=True)\n",
       "      )\n",
       "    )\n",
       "    (1): BasicBlock(\n",
       "      (conv1): Conv2d(128, 128, kernel_size=(3, 3), stride=(1, 1), padding=(1, 1), bias=False)\n",
       "      (bn1): BatchNorm2d(128, eps=1e-05, momentum=0.1, affine=True, track_running_stats=True)\n",
       "      (relu): ReLU(inplace=True)\n",
       "      (conv2): Conv2d(128, 128, kernel_size=(3, 3), stride=(1, 1), padding=(1, 1), bias=False)\n",
       "      (bn2): BatchNorm2d(128, eps=1e-05, momentum=0.1, affine=True, track_running_stats=True)\n",
       "    )\n",
       "  )\n",
       "  (layer3): Sequential(\n",
       "    (0): BasicBlock(\n",
       "      (conv1): Conv2d(128, 256, kernel_size=(3, 3), stride=(2, 2), padding=(1, 1), bias=False)\n",
       "      (bn1): BatchNorm2d(256, eps=1e-05, momentum=0.1, affine=True, track_running_stats=True)\n",
       "      (relu): ReLU(inplace=True)\n",
       "      (conv2): Conv2d(256, 256, kernel_size=(3, 3), stride=(1, 1), padding=(1, 1), bias=False)\n",
       "      (bn2): BatchNorm2d(256, eps=1e-05, momentum=0.1, affine=True, track_running_stats=True)\n",
       "      (downsample): Sequential(\n",
       "        (0): Conv2d(128, 256, kernel_size=(1, 1), stride=(2, 2), bias=False)\n",
       "        (1): BatchNorm2d(256, eps=1e-05, momentum=0.1, affine=True, track_running_stats=True)\n",
       "      )\n",
       "    )\n",
       "    (1): BasicBlock(\n",
       "      (conv1): Conv2d(256, 256, kernel_size=(3, 3), stride=(1, 1), padding=(1, 1), bias=False)\n",
       "      (bn1): BatchNorm2d(256, eps=1e-05, momentum=0.1, affine=True, track_running_stats=True)\n",
       "      (relu): ReLU(inplace=True)\n",
       "      (conv2): Conv2d(256, 256, kernel_size=(3, 3), stride=(1, 1), padding=(1, 1), bias=False)\n",
       "      (bn2): BatchNorm2d(256, eps=1e-05, momentum=0.1, affine=True, track_running_stats=True)\n",
       "    )\n",
       "  )\n",
       "  (layer4): Sequential(\n",
       "    (0): BasicBlock(\n",
       "      (conv1): Conv2d(256, 512, kernel_size=(3, 3), stride=(2, 2), padding=(1, 1), bias=False)\n",
       "      (bn1): BatchNorm2d(512, eps=1e-05, momentum=0.1, affine=True, track_running_stats=True)\n",
       "      (relu): ReLU(inplace=True)\n",
       "      (conv2): Conv2d(512, 512, kernel_size=(3, 3), stride=(1, 1), padding=(1, 1), bias=False)\n",
       "      (bn2): BatchNorm2d(512, eps=1e-05, momentum=0.1, affine=True, track_running_stats=True)\n",
       "      (downsample): Sequential(\n",
       "        (0): Conv2d(256, 512, kernel_size=(1, 1), stride=(2, 2), bias=False)\n",
       "        (1): BatchNorm2d(512, eps=1e-05, momentum=0.1, affine=True, track_running_stats=True)\n",
       "      )\n",
       "    )\n",
       "    (1): BasicBlock(\n",
       "      (conv1): Conv2d(512, 512, kernel_size=(3, 3), stride=(1, 1), padding=(1, 1), bias=False)\n",
       "      (bn1): BatchNorm2d(512, eps=1e-05, momentum=0.1, affine=True, track_running_stats=True)\n",
       "      (relu): ReLU(inplace=True)\n",
       "      (conv2): Conv2d(512, 512, kernel_size=(3, 3), stride=(1, 1), padding=(1, 1), bias=False)\n",
       "      (bn2): BatchNorm2d(512, eps=1e-05, momentum=0.1, affine=True, track_running_stats=True)\n",
       "    )\n",
       "  )\n",
       "  (avgpool): AdaptiveAvgPool2d(output_size=(1, 1))\n",
       "  (fc): Linear(in_features=512, out_features=2, bias=True)\n",
       ")"
      ]
     },
     "execution_count": 8,
     "metadata": {},
     "output_type": "execute_result"
    }
   ],
   "source": [
    "net"
   ]
  },
  {
   "cell_type": "code",
   "execution_count": 9,
   "id": "d60bd793",
   "metadata": {},
   "outputs": [
    {
     "name": "stdout",
     "output_type": "stream",
     "text": [
      "----------------------------------------------------------------\n",
      "        Layer (type)               Output Shape         Param #\n",
      "================================================================\n",
      "            Conv2d-1         [-1, 64, 192, 192]           3,136\n",
      "       BatchNorm2d-2         [-1, 64, 192, 192]             128\n",
      "              ReLU-3         [-1, 64, 192, 192]               0\n",
      "         MaxPool2d-4           [-1, 64, 96, 96]               0\n",
      "            Conv2d-5           [-1, 64, 96, 96]          36,864\n",
      "       BatchNorm2d-6           [-1, 64, 96, 96]             128\n",
      "              ReLU-7           [-1, 64, 96, 96]               0\n",
      "            Conv2d-8           [-1, 64, 96, 96]          36,864\n",
      "       BatchNorm2d-9           [-1, 64, 96, 96]             128\n",
      "             ReLU-10           [-1, 64, 96, 96]               0\n",
      "       BasicBlock-11           [-1, 64, 96, 96]               0\n",
      "           Conv2d-12           [-1, 64, 96, 96]          36,864\n",
      "      BatchNorm2d-13           [-1, 64, 96, 96]             128\n",
      "             ReLU-14           [-1, 64, 96, 96]               0\n",
      "           Conv2d-15           [-1, 64, 96, 96]          36,864\n",
      "      BatchNorm2d-16           [-1, 64, 96, 96]             128\n",
      "             ReLU-17           [-1, 64, 96, 96]               0\n",
      "       BasicBlock-18           [-1, 64, 96, 96]               0\n",
      "           Conv2d-19          [-1, 128, 48, 48]          73,728\n",
      "      BatchNorm2d-20          [-1, 128, 48, 48]             256\n",
      "             ReLU-21          [-1, 128, 48, 48]               0\n",
      "           Conv2d-22          [-1, 128, 48, 48]         147,456\n",
      "      BatchNorm2d-23          [-1, 128, 48, 48]             256\n",
      "           Conv2d-24          [-1, 128, 48, 48]           8,192\n",
      "      BatchNorm2d-25          [-1, 128, 48, 48]             256\n",
      "             ReLU-26          [-1, 128, 48, 48]               0\n",
      "       BasicBlock-27          [-1, 128, 48, 48]               0\n",
      "           Conv2d-28          [-1, 128, 48, 48]         147,456\n",
      "      BatchNorm2d-29          [-1, 128, 48, 48]             256\n",
      "             ReLU-30          [-1, 128, 48, 48]               0\n",
      "           Conv2d-31          [-1, 128, 48, 48]         147,456\n",
      "      BatchNorm2d-32          [-1, 128, 48, 48]             256\n",
      "             ReLU-33          [-1, 128, 48, 48]               0\n",
      "       BasicBlock-34          [-1, 128, 48, 48]               0\n",
      "           Conv2d-35          [-1, 256, 24, 24]         294,912\n",
      "      BatchNorm2d-36          [-1, 256, 24, 24]             512\n",
      "             ReLU-37          [-1, 256, 24, 24]               0\n",
      "           Conv2d-38          [-1, 256, 24, 24]         589,824\n",
      "      BatchNorm2d-39          [-1, 256, 24, 24]             512\n",
      "           Conv2d-40          [-1, 256, 24, 24]          32,768\n",
      "      BatchNorm2d-41          [-1, 256, 24, 24]             512\n",
      "             ReLU-42          [-1, 256, 24, 24]               0\n",
      "       BasicBlock-43          [-1, 256, 24, 24]               0\n",
      "           Conv2d-44          [-1, 256, 24, 24]         589,824\n",
      "      BatchNorm2d-45          [-1, 256, 24, 24]             512\n",
      "             ReLU-46          [-1, 256, 24, 24]               0\n",
      "           Conv2d-47          [-1, 256, 24, 24]         589,824\n",
      "      BatchNorm2d-48          [-1, 256, 24, 24]             512\n",
      "             ReLU-49          [-1, 256, 24, 24]               0\n",
      "       BasicBlock-50          [-1, 256, 24, 24]               0\n",
      "           Conv2d-51          [-1, 512, 12, 12]       1,179,648\n",
      "      BatchNorm2d-52          [-1, 512, 12, 12]           1,024\n",
      "             ReLU-53          [-1, 512, 12, 12]               0\n",
      "           Conv2d-54          [-1, 512, 12, 12]       2,359,296\n",
      "      BatchNorm2d-55          [-1, 512, 12, 12]           1,024\n",
      "           Conv2d-56          [-1, 512, 12, 12]         131,072\n",
      "      BatchNorm2d-57          [-1, 512, 12, 12]           1,024\n",
      "             ReLU-58          [-1, 512, 12, 12]               0\n",
      "       BasicBlock-59          [-1, 512, 12, 12]               0\n",
      "           Conv2d-60          [-1, 512, 12, 12]       2,359,296\n",
      "      BatchNorm2d-61          [-1, 512, 12, 12]           1,024\n",
      "             ReLU-62          [-1, 512, 12, 12]               0\n",
      "           Conv2d-63          [-1, 512, 12, 12]       2,359,296\n",
      "      BatchNorm2d-64          [-1, 512, 12, 12]           1,024\n",
      "             ReLU-65          [-1, 512, 12, 12]               0\n",
      "       BasicBlock-66          [-1, 512, 12, 12]               0\n",
      "AdaptiveAvgPool2d-67            [-1, 512, 1, 1]               0\n",
      "           Linear-68                    [-1, 2]           1,026\n",
      "================================================================\n",
      "Total params: 11,171,266\n",
      "Trainable params: 11,171,266\n",
      "Non-trainable params: 0\n",
      "----------------------------------------------------------------\n",
      "Input size (MB): 0.56\n",
      "Forward/backward pass size (MB): 184.50\n",
      "Params size (MB): 42.61\n",
      "Estimated Total Size (MB): 227.68\n",
      "----------------------------------------------------------------\n"
     ]
    }
   ],
   "source": [
    "from torchsummary import summary\n",
    "summary(net, (1, 384, 384))"
   ]
  },
  {
   "cell_type": "code",
   "execution_count": null,
   "id": "b8b8f2bd",
   "metadata": {},
   "outputs": [],
   "source": []
  }
 ],
 "metadata": {
  "kernelspec": {
   "display_name": "Python 3",
   "language": "python",
   "name": "python3"
  },
  "language_info": {
   "codemirror_mode": {
    "name": "ipython",
    "version": 3
   },
   "file_extension": ".py",
   "mimetype": "text/x-python",
   "name": "python",
   "nbconvert_exporter": "python",
   "pygments_lexer": "ipython3",
   "version": "3.10.12"
  }
 },
 "nbformat": 4,
 "nbformat_minor": 5
}
