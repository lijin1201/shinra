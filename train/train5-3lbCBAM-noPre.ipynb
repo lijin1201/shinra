{
 "cells": [
  {
   "cell_type": "code",
   "execution_count": null,
   "id": "b02859b6",
   "metadata": {},
   "outputs": [],
   "source": [
    "#from train4-noGauss; use cbam\n",
    "import torch,os \n",
    "import torch.nn as nn\n",
    "import torch.optim as optim\n",
    "\n",
    "from torchvision.transforms import v2\n",
    "import torchvision.models as models\n",
    "import pandas as pd\n",
    "import matplotlib.pyplot as plt\n",
    "\n",
    "from nets import ResNet18_3lbCBAM\n",
    "from utils import progress_bar\n",
    "from tqdm import tqdm\n",
    "from configparser import ConfigParser\n",
    "from torch.utils.data import  DataLoader\n",
    "from LIDC_data import LIDC_Dataset"
   ]
  },
  {
   "cell_type": "code",
   "execution_count": 19,
   "id": "d3d8dc6b",
   "metadata": {},
   "outputs": [],
   "source": [
    "device = 'cuda' if torch.cuda.is_available() else 'cpu'\n",
    "best_acc = 0  # best test accuracy\n",
    "start_epoch = 0  # start from epoch 0 or last checkpoint epoch\n",
    "\n",
    "prep_tr = [\n",
    "    v2.Lambda(lambda x: torch.clamp(x,-1000,400)),\n",
    "    v2.Lambda(lambda x: (x+1000)/1400),\n",
    "    v2.CenterCrop((384,384)),\n",
    "    # v2.Lambda(lambda x: x.expand(3,-1,-1))\n",
    "]\n",
    "aug_tr = [\n",
    "    v2.RandomAffine(degrees=10),\n",
    "    v2.RandomHorizontalFlip(),\n",
    "    # v2.GaussianNoise(0,0.1)\n",
    "]\n",
    "trans_train = v2.Compose( prep_tr + aug_tr )\n",
    "trans_test = v2.Compose( prep_tr  )"
   ]
  },
  {
   "cell_type": "code",
   "execution_count": 20,
   "id": "2b344e58",
   "metadata": {},
   "outputs": [
    {
     "name": "stdout",
     "output_type": "stream",
     "text": [
      "total_train_data: 5495 total_test_data: 2354\n"
     ]
    }
   ],
   "source": [
    "\n",
    "parser = ConfigParser()\n",
    "parser.read('.settings')\n",
    "root_dir = parser.get('dataset','root_dir') #/workspaces/data/lidc-idri/slices\n",
    "meta_dir = parser.get('dataset','meta_dir') #/workspaces/data/lidc-idri/splits\n",
    "train_data = LIDC_Dataset(root_dir,metapath=os.path.join(meta_dir,'train_malB.csv'),transform=trans_train)\n",
    "test_data = LIDC_Dataset(root_dir,metapath=os.path.join(meta_dir,'test_malB.csv'),transform=trans_test)\n",
    "total_train_data = len(train_data)\n",
    "total_test_data = len(test_data)\n",
    "print('total_train_data:',total_train_data, 'total_test_data:',total_test_data)\n",
    "\n",
    "trainloader = DataLoader(train_data, batch_size=16, shuffle=True)\n",
    "testloader = DataLoader(test_data, batch_size=16)"
   ]
  },
  {
   "cell_type": "code",
   "execution_count": null,
   "id": "94805703",
   "metadata": {},
   "outputs": [],
   "source": [
    "net = ResNet18_3lbCBAM()\n",
    "# net = models.resnet18(pretrained=True)\n",
    "net.conv1 = nn.Conv2d(1, 64, kernel_size=7, stride=2, padding=3, bias=False)\n",
    "net.fc = nn.Linear(net.fc.in_features, 2)\n",
    "net = net.to(device)"
   ]
  },
  {
   "cell_type": "code",
   "execution_count": 22,
   "id": "5a98ef22",
   "metadata": {},
   "outputs": [],
   "source": [
    "lr = 1e-4\n",
    "criterion = nn.CrossEntropyLoss()\n",
    "# criterion = nn.BCEWithLogitsLoss()\n",
    "optimizer = optim.Adam(net.parameters(), lr=lr)\n",
    "\n",
    "trainning_accuracy=[]\n",
    "trainning_loss=[]\n",
    "testing_accuracy=[]\n",
    "testing_loss=[]"
   ]
  },
  {
   "cell_type": "code",
   "execution_count": 23,
   "id": "9e1e321d",
   "metadata": {},
   "outputs": [],
   "source": [
    "def train(epoch):\n",
    "    net.train()\n",
    "    train_loss = 0\n",
    "    correct = 0\n",
    "    total = 0\n",
    "    for batch_idx, (inputs, targets) in enumerate(tqdm(trainloader,desc=f\"[Epoch {epoch+1}]\")):\n",
    "        inputs, targets = inputs.to(device), targets.to(device)\n",
    "        # targets = targets.float().unsqueeze(1)\n",
    "\n",
    "        optimizer.zero_grad()\n",
    "        outputs = net(inputs)\n",
    "        \n",
    "        loss = criterion(outputs, targets)\n",
    "        loss.backward()\n",
    "        \n",
    "        optimizer.step()\n",
    "\n",
    "        train_loss += loss.item()\n",
    "        _, predicted = outputs.max(1)\n",
    "        # preds = (torch.sigmoid(outputs) > 0.5).squeeze().long()\n",
    "        \n",
    "        total += targets.size(0)\n",
    "        correct += predicted.eq(targets).sum().item()\n",
    "        # correct += (preds == targets.long()).sum().item()\n",
    "\n",
    "    train_acc = 100.*correct/total\n",
    "    train_loss = train_loss/(batch_idx+1)\n",
    "    print(f\"Train Loss: {train_loss}, Train Acc: {train_acc:.2f}%\")\n",
    "    trainning_accuracy.append(train_acc)\n",
    "    trainning_loss.append( train_loss )\n",
    "\n",
    "def test(epoch):\n",
    "    global best_acc\n",
    "    net.eval()\n",
    "    test_loss = 0\n",
    "    correct = 0\n",
    "    total = 0\n",
    "    with torch.no_grad():\n",
    "        for batch_idx, (inputs, targets) in enumerate(testloader):\n",
    "            inputs, targets = inputs.to(device), targets.to(device)\n",
    "            # targets = targets.float().unsqueeze(1)\n",
    "            outputs = net(inputs)\n",
    "            \n",
    "            loss = criterion(outputs, targets)\n",
    "            test_loss += loss.item()\n",
    "            _, predicted = outputs.max(1)\n",
    "            # preds = (torch.sigmoid(outputs) > 0.5).squeeze().long()\n",
    "            total += targets.size(0)\n",
    "            correct += predicted.eq(targets).sum().item()\n",
    "            # correct += (preds == targets.long()).sum().item()\n",
    "\n",
    "            progress_bar(batch_idx, len(testloader), 'Loss: %.3f | Acc: %.3f%% (%d/%d)'\n",
    "                         % (test_loss/(batch_idx+1), 100.*correct/total, correct, total))\n",
    "        test_acc = 100.*correct/total\n",
    "        test_loss = test_loss/(batch_idx+1)\n",
    "        print(f\"Test Loss: {test_loss}, Test Acc: {test_acc:.2f}%\")\n",
    "        testing_accuracy.append(100.*correct/total)\n",
    "        testing_loss.append(test_loss/(batch_idx+1))\n",
    "    # Save checkpoint.\n",
    "    acc = 100.*correct/total\n",
    "    if acc > best_acc:\n",
    "        print('Saving..')\n",
    "        state = {\n",
    "            'net': net.state_dict(),\n",
    "            'acc': acc,\n",
    "            'epoch': epoch,\n",
    "        }\n",
    "        if not os.path.isdir('checkpoint'):\n",
    "            os.mkdir('checkpoint')\n",
    "        torch.save(state, './checkpoint/ckpt_owndata.pth')\n",
    "        best_acc = acc"
   ]
  },
  {
   "cell_type": "code",
   "execution_count": 24,
   "id": "fa7663ca",
   "metadata": {},
   "outputs": [
    {
     "name": "stderr",
     "output_type": "stream",
     "text": [
      "[Epoch 1]: 100%|██████████| 344/344 [01:39<00:00,  3.47it/s]\n"
     ]
    },
    {
     "name": "stdout",
     "output_type": "stream",
     "text": [
      "Train Loss: 0.6895412580911503, Train Acc: 57.32%\n",
      " [=================================================>]  Step: 39ms | Tot: 24s268ms | Loss: 0.637 | Acc: 64.571% (1520/2354 148/148  \n",
      "Test Loss: 0.6372088226112159, Test Acc: 64.57%\n",
      "Saving..\n"
     ]
    },
    {
     "name": "stderr",
     "output_type": "stream",
     "text": [
      "[Epoch 2]: 100%|██████████| 344/344 [01:30<00:00,  3.81it/s]\n"
     ]
    },
    {
     "name": "stdout",
     "output_type": "stream",
     "text": [
      "Train Loss: 0.6534980103200259, Train Acc: 60.93%\n",
      " [=================================================>]  Step: 22ms | Tot: 19s920ms | Loss: 0.629 | Acc: 64.189% (1511/2354 148/148  \n",
      "Test Loss: 0.6293733013240067, Test Acc: 64.19%\n"
     ]
    },
    {
     "name": "stderr",
     "output_type": "stream",
     "text": [
      "[Epoch 3]: 100%|██████████| 344/344 [01:29<00:00,  3.82it/s]\n"
     ]
    },
    {
     "name": "stdout",
     "output_type": "stream",
     "text": [
      "Train Loss: 0.6229930981820406, Train Acc: 65.35%\n",
      " [=================================================>]  Step: 21ms | Tot: 19s552ms | Loss: 0.682 | Acc: 61.215% (1441/2354 148/148  \n",
      "Test Loss: 0.6819527763369921, Test Acc: 61.21%\n"
     ]
    },
    {
     "name": "stderr",
     "output_type": "stream",
     "text": [
      "[Epoch 4]: 100%|██████████| 344/344 [01:29<00:00,  3.84it/s]\n"
     ]
    },
    {
     "name": "stdout",
     "output_type": "stream",
     "text": [
      "Train Loss: 0.5934617239548716, Train Acc: 68.19%\n",
      " [=================================================>]  Step: 20ms | Tot: 18s791ms | Loss: 0.626 | Acc: 66.185% (1558/2354 148/148  \n",
      "Test Loss: 0.6258558840365023, Test Acc: 66.19%\n",
      "Saving..\n"
     ]
    },
    {
     "name": "stderr",
     "output_type": "stream",
     "text": [
      "[Epoch 5]: 100%|██████████| 344/344 [01:28<00:00,  3.88it/s]\n"
     ]
    },
    {
     "name": "stdout",
     "output_type": "stream",
     "text": [
      "Train Loss: 0.5575613856835421, Train Acc: 71.99%\n",
      " [=================================================>]  Step: 23ms | Tot: 19s28ms | Loss: 0.642 | Acc: 65.166% (1534/2354 148/148 8 \n",
      "Test Loss: 0.6422949330629529, Test Acc: 65.17%\n"
     ]
    },
    {
     "name": "stderr",
     "output_type": "stream",
     "text": [
      "[Epoch 6]: 100%|██████████| 344/344 [01:29<00:00,  3.86it/s]\n"
     ]
    },
    {
     "name": "stdout",
     "output_type": "stream",
     "text": [
      "Train Loss: 0.5275747111543666, Train Acc: 74.21%\n",
      " [=================================================>]  Step: 26ms | Tot: 18s647ms | Loss: 0.531 | Acc: 74.511% (1754/2354 148/148  \n",
      "Test Loss: 0.5314932570264146, Test Acc: 74.51%\n",
      "Saving..\n"
     ]
    },
    {
     "name": "stderr",
     "output_type": "stream",
     "text": [
      "[Epoch 7]: 100%|██████████| 344/344 [01:28<00:00,  3.90it/s]\n"
     ]
    },
    {
     "name": "stdout",
     "output_type": "stream",
     "text": [
      "Train Loss: 0.4874198888969976, Train Acc: 76.36%\n",
      " [=================================================>]  Step: 19ms | Tot: 18s722ms | Loss: 0.527 | Acc: 75.573% (1779/2354 148/148  \n",
      "Test Loss: 0.5265601968040338, Test Acc: 75.57%\n",
      "Saving..\n"
     ]
    },
    {
     "name": "stderr",
     "output_type": "stream",
     "text": [
      "[Epoch 8]: 100%|██████████| 344/344 [01:28<00:00,  3.90it/s]\n"
     ]
    },
    {
     "name": "stdout",
     "output_type": "stream",
     "text": [
      "Train Loss: 0.45164819841468057, Train Acc: 78.87%\n",
      " [=================================================>]  Step: 25ms | Tot: 18s722ms | Loss: 0.697 | Acc: 67.460% (1588/2354 148/148  \n",
      "Test Loss: 0.6972282769510875, Test Acc: 67.46%\n"
     ]
    },
    {
     "name": "stderr",
     "output_type": "stream",
     "text": [
      "[Epoch 9]: 100%|██████████| 344/344 [01:28<00:00,  3.88it/s]\n"
     ]
    },
    {
     "name": "stdout",
     "output_type": "stream",
     "text": [
      "Train Loss: 0.4136497685685754, Train Acc: 81.09%\n",
      " [=================================================>]  Step: 20ms | Tot: 18s713ms | Loss: 0.530 | Acc: 76.466% (1800/2354 148/148  \n",
      "Test Loss: 0.5302435337893061, Test Acc: 76.47%\n",
      "Saving..\n"
     ]
    },
    {
     "name": "stderr",
     "output_type": "stream",
     "text": [
      "[Epoch 10]: 100%|██████████| 344/344 [01:28<00:00,  3.87it/s]\n"
     ]
    },
    {
     "name": "stdout",
     "output_type": "stream",
     "text": [
      "Train Loss: 0.3954481819081445, Train Acc: 82.29%\n",
      " [=================================================>]  Step: 22ms | Tot: 18s610ms | Loss: 0.481 | Acc: 78.250% (1842/2354 148/148  \n",
      "Test Loss: 0.4813261329120881, Test Acc: 78.25%\n",
      "Saving..\n"
     ]
    },
    {
     "name": "stderr",
     "output_type": "stream",
     "text": [
      "[Epoch 11]: 100%|██████████| 344/344 [01:28<00:00,  3.91it/s]\n"
     ]
    },
    {
     "name": "stdout",
     "output_type": "stream",
     "text": [
      "Train Loss: 0.36508791562343057, Train Acc: 83.91%\n",
      " [=================================================>]  Step: 25ms | Tot: 19s43ms | Loss: 0.454 | Acc: 79.949% (1882/2354 148/148   \n",
      "Test Loss: 0.4544952088916624, Test Acc: 79.95%\n",
      "Saving..\n"
     ]
    },
    {
     "name": "stderr",
     "output_type": "stream",
     "text": [
      "[Epoch 12]: 100%|██████████| 344/344 [01:29<00:00,  3.86it/s]\n"
     ]
    },
    {
     "name": "stdout",
     "output_type": "stream",
     "text": [
      "Train Loss: 0.3365485444664955, Train Acc: 85.66%\n",
      " [=================================================>]  Step: 25ms | Tot: 18s923ms | Loss: 0.457 | Acc: 79.907% (1881/2354 148/148  \n",
      "Test Loss: 0.4565961288439261, Test Acc: 79.91%\n"
     ]
    },
    {
     "name": "stderr",
     "output_type": "stream",
     "text": [
      "[Epoch 13]: 100%|██████████| 344/344 [01:28<00:00,  3.89it/s]\n"
     ]
    },
    {
     "name": "stdout",
     "output_type": "stream",
     "text": [
      "Train Loss: 0.3078466856332366, Train Acc: 86.84%\n",
      " [=================================================>]  Step: 24ms | Tot: 18s915ms | Loss: 0.476 | Acc: 80.289% (1890/2354 148/148  \n",
      "Test Loss: 0.47618961283886757, Test Acc: 80.29%\n",
      "Saving..\n"
     ]
    },
    {
     "name": "stderr",
     "output_type": "stream",
     "text": [
      "[Epoch 14]: 100%|██████████| 344/344 [01:28<00:00,  3.87it/s]\n"
     ]
    },
    {
     "name": "stdout",
     "output_type": "stream",
     "text": [
      "Train Loss: 0.2856372024452444, Train Acc: 88.01%\n",
      " [=================================================>]  Step: 22ms | Tot: 18s724ms | Loss: 0.488 | Acc: 80.756% (1901/2354 148/148  \n",
      "Test Loss: 0.48783565584469485, Test Acc: 80.76%\n",
      "Saving..\n"
     ]
    },
    {
     "name": "stderr",
     "output_type": "stream",
     "text": [
      "[Epoch 15]: 100%|██████████| 344/344 [01:28<00:00,  3.90it/s]\n"
     ]
    },
    {
     "name": "stdout",
     "output_type": "stream",
     "text": [
      "Train Loss: 0.2679814391249661, Train Acc: 89.46%\n",
      " [=================================================>]  Step: 19ms | Tot: 18s461ms | Loss: 0.435 | Acc: 82.285% (1937/2354 148/148  \n",
      "Test Loss: 0.4351685314967826, Test Acc: 82.29%\n",
      "Saving..\n"
     ]
    },
    {
     "name": "stderr",
     "output_type": "stream",
     "text": [
      "[Epoch 16]: 100%|██████████| 344/344 [01:30<00:00,  3.80it/s]\n"
     ]
    },
    {
     "name": "stdout",
     "output_type": "stream",
     "text": [
      "Train Loss: 0.24617672096504722, Train Acc: 89.90%\n",
      " [=================================================>]  Step: 20ms | Tot: 19s294ms | Loss: 0.470 | Acc: 82.498% (1942/2354 148/148  \n",
      "Test Loss: 0.4698911152931081, Test Acc: 82.50%\n",
      "Saving..\n"
     ]
    },
    {
     "name": "stderr",
     "output_type": "stream",
     "text": [
      "[Epoch 17]: 100%|██████████| 344/344 [01:29<00:00,  3.83it/s]\n"
     ]
    },
    {
     "name": "stdout",
     "output_type": "stream",
     "text": [
      "Train Loss: 0.23627899176722697, Train Acc: 90.70%\n",
      " [=================================================>]  Step: 21ms | Tot: 19s74ms | Loss: 0.428 | Acc: 83.263% (1960/2354 148/148   \n",
      "Test Loss: 0.4282453010563512, Test Acc: 83.26%\n",
      "Saving..\n"
     ]
    },
    {
     "name": "stderr",
     "output_type": "stream",
     "text": [
      "[Epoch 18]: 100%|██████████| 344/344 [01:29<00:00,  3.82it/s]\n"
     ]
    },
    {
     "name": "stdout",
     "output_type": "stream",
     "text": [
      "Train Loss: 0.23793440010550237, Train Acc: 90.66%\n",
      " [=================================================>]  Step: 24ms | Tot: 18s829ms | Loss: 0.434 | Acc: 83.008% (1954/2354 148/148  \n",
      "Test Loss: 0.43423397969957944, Test Acc: 83.01%\n"
     ]
    },
    {
     "name": "stderr",
     "output_type": "stream",
     "text": [
      "[Epoch 19]: 100%|██████████| 344/344 [01:29<00:00,  3.86it/s]\n"
     ]
    },
    {
     "name": "stdout",
     "output_type": "stream",
     "text": [
      "Train Loss: 0.22172286664135754, Train Acc: 91.01%\n",
      " [=================================================>]  Step: 23ms | Tot: 18s879ms | Loss: 0.427 | Acc: 82.965% (1953/2354 148/148  \n",
      "Test Loss: 0.4269387486919358, Test Acc: 82.97%\n"
     ]
    },
    {
     "name": "stderr",
     "output_type": "stream",
     "text": [
      "[Epoch 20]: 100%|██████████| 344/344 [01:30<00:00,  3.79it/s]\n"
     ]
    },
    {
     "name": "stdout",
     "output_type": "stream",
     "text": [
      "Train Loss: 0.21088574077869052, Train Acc: 91.63%\n",
      " [=================================================>]  Step: 24ms | Tot: 20s473ms | Loss: 0.416 | Acc: 84.579% (1991/2354 148/148  \n",
      "Test Loss: 0.41584637708257177, Test Acc: 84.58%\n",
      "Saving..\n"
     ]
    },
    {
     "name": "stderr",
     "output_type": "stream",
     "text": [
      "[Epoch 21]: 100%|██████████| 344/344 [01:29<00:00,  3.83it/s]\n"
     ]
    },
    {
     "name": "stdout",
     "output_type": "stream",
     "text": [
      "Train Loss: 0.19576017450822822, Train Acc: 92.45%\n",
      " [=================================================>]  Step: 19ms | Tot: 18s836ms | Loss: 0.475 | Acc: 83.730% (1971/2354 148/148  \n",
      "Test Loss: 0.47484131370092164, Test Acc: 83.73%\n"
     ]
    },
    {
     "name": "stderr",
     "output_type": "stream",
     "text": [
      "[Epoch 22]: 100%|██████████| 344/344 [01:29<00:00,  3.84it/s]\n"
     ]
    },
    {
     "name": "stdout",
     "output_type": "stream",
     "text": [
      "Train Loss: 0.18907737126032453, Train Acc: 92.78%\n",
      " [=================================================>]  Step: 22ms | Tot: 19s319ms | Loss: 0.428 | Acc: 84.622% (1992/2354 148/148  \n",
      "Test Loss: 0.42829965579801715, Test Acc: 84.62%\n",
      "Saving..\n"
     ]
    },
    {
     "name": "stderr",
     "output_type": "stream",
     "text": [
      "[Epoch 23]: 100%|██████████| 344/344 [01:28<00:00,  3.87it/s]\n"
     ]
    },
    {
     "name": "stdout",
     "output_type": "stream",
     "text": [
      "Train Loss: 0.16964011517255892, Train Acc: 93.32%\n",
      " [=================================================>]  Step: 19ms | Tot: 18s969ms | Loss: 0.443 | Acc: 85.344% (2009/2354 148/148  \n",
      "Test Loss: 0.44290215659232157, Test Acc: 85.34%\n",
      "Saving..\n"
     ]
    },
    {
     "name": "stderr",
     "output_type": "stream",
     "text": [
      "[Epoch 24]: 100%|██████████| 344/344 [01:28<00:00,  3.87it/s]\n"
     ]
    },
    {
     "name": "stdout",
     "output_type": "stream",
     "text": [
      "Train Loss: 0.17299520451748787, Train Acc: 93.16%\n",
      " [=================================================>]  Step: 22ms | Tot: 18s987ms | Loss: 0.451 | Acc: 85.429% (2011/2354 148/148  \n",
      "Test Loss: 0.45137697653341535, Test Acc: 85.43%\n",
      "Saving..\n"
     ]
    },
    {
     "name": "stderr",
     "output_type": "stream",
     "text": [
      "[Epoch 25]: 100%|██████████| 344/344 [01:28<00:00,  3.88it/s]\n"
     ]
    },
    {
     "name": "stdout",
     "output_type": "stream",
     "text": [
      "Train Loss: 0.15127077179711831, Train Acc: 94.34%\n",
      " [=================================================>]  Step: 20ms | Tot: 18s627ms | Loss: 0.454 | Acc: 85.726% (2018/2354 148/148  \n",
      "Test Loss: 0.45406746087167915, Test Acc: 85.73%\n",
      "Saving..\n"
     ]
    },
    {
     "name": "stderr",
     "output_type": "stream",
     "text": [
      "[Epoch 26]: 100%|██████████| 344/344 [01:27<00:00,  3.91it/s]\n"
     ]
    },
    {
     "name": "stdout",
     "output_type": "stream",
     "text": [
      "Train Loss: 0.16198947769860456, Train Acc: 93.78%\n",
      " [=================================================>]  Step: 21ms | Tot: 19s366ms | Loss: 0.558 | Acc: 82.668% (1946/2354 148/148  \n",
      "Test Loss: 0.5577651349500425, Test Acc: 82.67%\n"
     ]
    },
    {
     "name": "stderr",
     "output_type": "stream",
     "text": [
      "[Epoch 27]: 100%|██████████| 344/344 [01:31<00:00,  3.77it/s]\n"
     ]
    },
    {
     "name": "stdout",
     "output_type": "stream",
     "text": [
      "Train Loss: 0.1419989053907176, Train Acc: 94.87%\n",
      " [=================================================>]  Step: 21ms | Tot: 18s763ms | Loss: 0.454 | Acc: 86.024% (2025/2354 148/148  \n",
      "Test Loss: 0.45444036734516957, Test Acc: 86.02%\n",
      "Saving..\n"
     ]
    },
    {
     "name": "stderr",
     "output_type": "stream",
     "text": [
      "[Epoch 28]: 100%|██████████| 344/344 [01:27<00:00,  3.93it/s]\n"
     ]
    },
    {
     "name": "stdout",
     "output_type": "stream",
     "text": [
      "Train Loss: 0.15031129563075685, Train Acc: 94.19%\n",
      " [=================================================>]  Step: 28ms | Tot: 18s234ms | Loss: 0.478 | Acc: 84.749% (1995/2354 148/148  \n",
      "Test Loss: 0.47794557917498154, Test Acc: 84.75%\n"
     ]
    },
    {
     "name": "stderr",
     "output_type": "stream",
     "text": [
      "[Epoch 29]: 100%|██████████| 344/344 [01:27<00:00,  3.93it/s]\n"
     ]
    },
    {
     "name": "stdout",
     "output_type": "stream",
     "text": [
      "Train Loss: 0.1341844042560064, Train Acc: 95.18%\n",
      " [=================================================>]  Step: 21ms | Tot: 18s384ms | Loss: 0.466 | Acc: 84.919% (1999/2354 148/148  \n",
      "Test Loss: 0.46618473865846927, Test Acc: 84.92%\n"
     ]
    },
    {
     "name": "stderr",
     "output_type": "stream",
     "text": [
      "[Epoch 30]: 100%|██████████| 344/344 [01:27<00:00,  3.94it/s]\n"
     ]
    },
    {
     "name": "stdout",
     "output_type": "stream",
     "text": [
      "Train Loss: 0.12540165959250962, Train Acc: 95.07%\n",
      " [=================================================>]  Step: 18ms | Tot: 18s828ms | Loss: 0.501 | Acc: 85.047% (2002/2354 148/148  \n",
      "Test Loss: 0.5010847971220879, Test Acc: 85.05%\n"
     ]
    },
    {
     "name": "stderr",
     "output_type": "stream",
     "text": [
      "[Epoch 31]: 100%|██████████| 344/344 [01:28<00:00,  3.89it/s]\n"
     ]
    },
    {
     "name": "stdout",
     "output_type": "stream",
     "text": [
      "Train Loss: 0.12366332333984373, Train Acc: 95.20%\n",
      " [=================================================>]  Step: 21ms | Tot: 18s445ms | Loss: 0.478 | Acc: 85.854% (2021/2354 148/148  \n",
      "Test Loss: 0.4778654473248517, Test Acc: 85.85%\n"
     ]
    },
    {
     "name": "stderr",
     "output_type": "stream",
     "text": [
      "[Epoch 32]: 100%|██████████| 344/344 [01:27<00:00,  3.91it/s]\n"
     ]
    },
    {
     "name": "stdout",
     "output_type": "stream",
     "text": [
      "Train Loss: 0.11452535218843475, Train Acc: 95.78%\n",
      " [=================================================>]  Step: 20ms | Tot: 18s434ms | Loss: 0.489 | Acc: 86.449% (2035/2354 148/148  \n",
      "Test Loss: 0.48856251749109375, Test Acc: 86.45%\n",
      "Saving..\n"
     ]
    },
    {
     "name": "stderr",
     "output_type": "stream",
     "text": [
      "[Epoch 33]: 100%|██████████| 344/344 [01:29<00:00,  3.82it/s]\n"
     ]
    },
    {
     "name": "stdout",
     "output_type": "stream",
     "text": [
      "Train Loss: 0.11485357994760581, Train Acc: 95.76%\n",
      " [=================================================>]  Step: 20ms | Tot: 19s945ms | Loss: 0.548 | Acc: 84.579% (1991/2354 148/148  \n",
      "Test Loss: 0.5478338374932473, Test Acc: 84.58%\n"
     ]
    },
    {
     "name": "stderr",
     "output_type": "stream",
     "text": [
      "[Epoch 34]: 100%|██████████| 344/344 [01:29<00:00,  3.83it/s]\n"
     ]
    },
    {
     "name": "stdout",
     "output_type": "stream",
     "text": [
      "Train Loss: 0.12117974707304478, Train Acc: 95.34%\n",
      " [=================================================>]  Step: 23ms | Tot: 19s653ms | Loss: 0.461 | Acc: 85.387% (2010/2354 148/148  \n",
      "Test Loss: 0.4608800933771842, Test Acc: 85.39%\n"
     ]
    },
    {
     "name": "stderr",
     "output_type": "stream",
     "text": [
      "[Epoch 35]: 100%|██████████| 344/344 [01:28<00:00,  3.91it/s]\n"
     ]
    },
    {
     "name": "stdout",
     "output_type": "stream",
     "text": [
      "Train Loss: 0.11089830900079484, Train Acc: 95.94%\n",
      " [=================================================>]  Step: 21ms | Tot: 18s427ms | Loss: 0.565 | Acc: 84.664% (1993/2354 148/148  \n",
      "Test Loss: 0.565247299363585, Test Acc: 84.66%\n"
     ]
    },
    {
     "name": "stderr",
     "output_type": "stream",
     "text": [
      "[Epoch 36]: 100%|██████████| 344/344 [01:28<00:00,  3.89it/s]\n"
     ]
    },
    {
     "name": "stdout",
     "output_type": "stream",
     "text": [
      "Train Loss: 0.11385035844720078, Train Acc: 95.87%\n",
      " [=================================================>]  Step: 20ms | Tot: 18s635ms | Loss: 0.493 | Acc: 85.174% (2005/2354 148/148  \n",
      "Test Loss: 0.4933620385599096, Test Acc: 85.17%\n"
     ]
    },
    {
     "name": "stderr",
     "output_type": "stream",
     "text": [
      "[Epoch 37]: 100%|██████████| 344/344 [01:31<00:00,  3.74it/s]\n"
     ]
    },
    {
     "name": "stdout",
     "output_type": "stream",
     "text": [
      "Train Loss: 0.1032852394280273, Train Acc: 96.32%\n",
      " [=================================================>]  Step: 20ms | Tot: 18s687ms | Loss: 0.490 | Acc: 86.066% (2026/2354 148/148  \n",
      "Test Loss: 0.49022499504624995, Test Acc: 86.07%\n"
     ]
    },
    {
     "name": "stderr",
     "output_type": "stream",
     "text": [
      "[Epoch 38]: 100%|██████████| 344/344 [01:29<00:00,  3.86it/s]\n"
     ]
    },
    {
     "name": "stdout",
     "output_type": "stream",
     "text": [
      "Train Loss: 0.09741300791786268, Train Acc: 96.12%\n",
      " [=================================================>]  Step: 23ms | Tot: 20s245ms | Loss: 0.536 | Acc: 85.047% (2002/2354 148/148  \n",
      "Test Loss: 0.535536153827215, Test Acc: 85.05%\n"
     ]
    },
    {
     "name": "stderr",
     "output_type": "stream",
     "text": [
      "[Epoch 39]: 100%|██████████| 344/344 [01:29<00:00,  3.84it/s]\n"
     ]
    },
    {
     "name": "stdout",
     "output_type": "stream",
     "text": [
      "Train Loss: 0.08942744305538729, Train Acc: 96.94%\n",
      " [=================================================>]  Step: 22ms | Tot: 19s562ms | Loss: 0.593 | Acc: 84.919% (1999/2354 148/148  \n",
      "Test Loss: 0.5934169410312599, Test Acc: 84.92%\n"
     ]
    },
    {
     "name": "stderr",
     "output_type": "stream",
     "text": [
      "[Epoch 40]: 100%|██████████| 344/344 [01:29<00:00,  3.84it/s]\n"
     ]
    },
    {
     "name": "stdout",
     "output_type": "stream",
     "text": [
      "Train Loss: 0.09595895026706235, Train Acc: 96.67%\n",
      " [=================================================>]  Step: 21ms | Tot: 18s719ms | Loss: 0.662 | Acc: 81.861% (1927/2354 148/148  \n",
      "Test Loss: 0.6619781906892722, Test Acc: 81.86%\n"
     ]
    },
    {
     "name": "stderr",
     "output_type": "stream",
     "text": [
      "[Epoch 41]: 100%|██████████| 344/344 [01:29<00:00,  3.84it/s]\n"
     ]
    },
    {
     "name": "stdout",
     "output_type": "stream",
     "text": [
      "Train Loss: 0.090777492026127, Train Acc: 96.96%\n",
      " [=================================================>]  Step: 21ms | Tot: 19s276ms | Loss: 0.508 | Acc: 87.298% (2055/2354 148/148  \n",
      "Test Loss: 0.5077365070763925, Test Acc: 87.30%\n",
      "Saving..\n"
     ]
    },
    {
     "name": "stderr",
     "output_type": "stream",
     "text": [
      "[Epoch 42]: 100%|██████████| 344/344 [01:30<00:00,  3.81it/s]\n"
     ]
    },
    {
     "name": "stdout",
     "output_type": "stream",
     "text": [
      "Train Loss: 0.09100693155406314, Train Acc: 96.45%\n",
      " [=================================================>]  Step: 21ms | Tot: 18s814ms | Loss: 0.525 | Acc: 85.896% (2022/2354 148/148  \n",
      "Test Loss: 0.5245741997858057, Test Acc: 85.90%\n"
     ]
    },
    {
     "name": "stderr",
     "output_type": "stream",
     "text": [
      "[Epoch 43]: 100%|██████████| 344/344 [01:29<00:00,  3.85it/s]\n"
     ]
    },
    {
     "name": "stdout",
     "output_type": "stream",
     "text": [
      "Train Loss: 0.09004182365538856, Train Acc: 96.60%\n",
      " [=================================================>]  Step: 19ms | Tot: 19s511ms | Loss: 0.567 | Acc: 84.197% (1982/2354 148/148  \n",
      "Test Loss: 0.5671417868060589, Test Acc: 84.20%\n"
     ]
    },
    {
     "name": "stderr",
     "output_type": "stream",
     "text": [
      "[Epoch 44]: 100%|██████████| 344/344 [01:30<00:00,  3.80it/s]\n"
     ]
    },
    {
     "name": "stdout",
     "output_type": "stream",
     "text": [
      "Train Loss: 0.0850241319164715, Train Acc: 96.89%\n",
      " [=================================================>]  Step: 22ms | Tot: 19s291ms | Loss: 0.556 | Acc: 85.556% (2014/2354 148/148  \n",
      "Test Loss: 0.5555559667141957, Test Acc: 85.56%\n"
     ]
    },
    {
     "name": "stderr",
     "output_type": "stream",
     "text": [
      "[Epoch 45]: 100%|██████████| 344/344 [01:28<00:00,  3.87it/s]\n"
     ]
    },
    {
     "name": "stdout",
     "output_type": "stream",
     "text": [
      "Train Loss: 0.07558847405287156, Train Acc: 97.14%\n",
      " [=================================================>]  Step: 27ms | Tot: 18s637ms | Loss: 0.563 | Acc: 86.576% (2038/2354 148/148  \n",
      "Test Loss: 0.5630034152670084, Test Acc: 86.58%\n"
     ]
    },
    {
     "name": "stderr",
     "output_type": "stream",
     "text": [
      "[Epoch 46]: 100%|██████████| 344/344 [01:27<00:00,  3.92it/s]\n"
     ]
    },
    {
     "name": "stdout",
     "output_type": "stream",
     "text": [
      "Train Loss: 0.07632396146242214, Train Acc: 97.03%\n",
      " [=================================================>]  Step: 19ms | Tot: 18s511ms | Loss: 0.579 | Acc: 85.089% (2003/2354 148/148  \n",
      "Test Loss: 0.5793894881451804, Test Acc: 85.09%\n"
     ]
    },
    {
     "name": "stderr",
     "output_type": "stream",
     "text": [
      "[Epoch 47]: 100%|██████████| 344/344 [01:27<00:00,  3.93it/s]\n"
     ]
    },
    {
     "name": "stdout",
     "output_type": "stream",
     "text": [
      "Train Loss: 0.0721510327630947, Train Acc: 97.36%\n",
      " [=================================================>]  Step: 23ms | Tot: 18s310ms | Loss: 0.569 | Acc: 86.194% (2029/2354 148/148  \n",
      "Test Loss: 0.5691842924161638, Test Acc: 86.19%\n"
     ]
    },
    {
     "name": "stderr",
     "output_type": "stream",
     "text": [
      "[Epoch 48]: 100%|██████████| 344/344 [01:27<00:00,  3.95it/s]\n"
     ]
    },
    {
     "name": "stdout",
     "output_type": "stream",
     "text": [
      "Train Loss: 0.09681746571495328, Train Acc: 96.49%\n",
      " [=================================================>]  Step: 22ms | Tot: 18s528ms | Loss: 0.521 | Acc: 86.534% (2037/2354 148/148  \n",
      "Test Loss: 0.5207328694995266, Test Acc: 86.53%\n"
     ]
    },
    {
     "name": "stderr",
     "output_type": "stream",
     "text": [
      "[Epoch 49]: 100%|██████████| 344/344 [01:27<00:00,  3.92it/s]\n"
     ]
    },
    {
     "name": "stdout",
     "output_type": "stream",
     "text": [
      "Train Loss: 0.07191701231491861, Train Acc: 97.27%\n",
      " [=================================================>]  Step: 23ms | Tot: 19s144ms | Loss: 0.521 | Acc: 86.576% (2038/2354 148/148  \n",
      "Test Loss: 0.5210785649125338, Test Acc: 86.58%\n"
     ]
    },
    {
     "name": "stderr",
     "output_type": "stream",
     "text": [
      "[Epoch 50]: 100%|██████████| 344/344 [01:32<00:00,  3.73it/s]\n"
     ]
    },
    {
     "name": "stdout",
     "output_type": "stream",
     "text": [
      "Train Loss: 0.07354717591891152, Train Acc: 97.45%\n",
      " [=================================================>]  Step: 30ms | Tot: 24s632ms | Loss: 0.567 | Acc: 84.834% (1997/2354 148/148  >.............................................]  Step: 202ms | Tot: 2s337ms | Loss: 0.616 | Acc: 82.917% (199/240 15/148 \n",
      "Test Loss: 0.5668940258722098, Test Acc: 84.83%\n"
     ]
    }
   ],
   "source": [
    "for epoch in range(start_epoch, start_epoch+50):\n",
    "    train(epoch)\n",
    "    test(epoch)\n",
    " \n",
    " #   scheduler.step()"
   ]
  },
  {
   "cell_type": "code",
   "execution_count": 25,
   "id": "f77c9ecb",
   "metadata": {},
   "outputs": [
    {
     "data": {
      "text/plain": [
       "ResNet(\n",
       "  (conv1): Conv2d(1, 64, kernel_size=(7, 7), stride=(2, 2), padding=(3, 3), bias=False)\n",
       "  (bn1): BatchNorm2d(64, eps=1e-05, momentum=0.1, affine=True, track_running_stats=True)\n",
       "  (relu): ReLU(inplace=True)\n",
       "  (maxpool): MaxPool2d(kernel_size=3, stride=2, padding=1, dilation=1, ceil_mode=False)\n",
       "  (layer1): Sequential(\n",
       "    (0): CBAMBasicBlock(\n",
       "      (conv1): Conv2d(64, 64, kernel_size=(3, 3), stride=(1, 1), padding=(1, 1), bias=False)\n",
       "      (bn1): BatchNorm2d(64, eps=1e-05, momentum=0.1, affine=True, track_running_stats=True)\n",
       "      (relu): ReLU(inplace=True)\n",
       "      (conv2): Conv2d(64, 64, kernel_size=(3, 3), stride=(1, 1), padding=(1, 1), bias=False)\n",
       "      (bn2): BatchNorm2d(64, eps=1e-05, momentum=0.1, affine=True, track_running_stats=True)\n",
       "      (cbam): CBAM(\n",
       "        (ca): ChannelAttention(\n",
       "          (shared_mlp): Sequential(\n",
       "            (0): Linear(in_features=64, out_features=4, bias=False)\n",
       "            (1): ReLU()\n",
       "            (2): Linear(in_features=4, out_features=64, bias=False)\n",
       "          )\n",
       "          (avg_pool): AdaptiveAvgPool2d(output_size=1)\n",
       "          (max_pool): AdaptiveMaxPool2d(output_size=1)\n",
       "          (sigmoid): Sigmoid()\n",
       "        )\n",
       "        (sa): SpatialAttention(\n",
       "          (conv): Conv2d(2, 1, kernel_size=(7, 7), stride=(1, 1), padding=(3, 3), bias=False)\n",
       "          (sigmoid): Sigmoid()\n",
       "        )\n",
       "      )\n",
       "    )\n",
       "    (1): CBAMBasicBlock(\n",
       "      (conv1): Conv2d(64, 64, kernel_size=(3, 3), stride=(1, 1), padding=(1, 1), bias=False)\n",
       "      (bn1): BatchNorm2d(64, eps=1e-05, momentum=0.1, affine=True, track_running_stats=True)\n",
       "      (relu): ReLU(inplace=True)\n",
       "      (conv2): Conv2d(64, 64, kernel_size=(3, 3), stride=(1, 1), padding=(1, 1), bias=False)\n",
       "      (bn2): BatchNorm2d(64, eps=1e-05, momentum=0.1, affine=True, track_running_stats=True)\n",
       "      (cbam): CBAM(\n",
       "        (ca): ChannelAttention(\n",
       "          (shared_mlp): Sequential(\n",
       "            (0): Linear(in_features=64, out_features=4, bias=False)\n",
       "            (1): ReLU()\n",
       "            (2): Linear(in_features=4, out_features=64, bias=False)\n",
       "          )\n",
       "          (avg_pool): AdaptiveAvgPool2d(output_size=1)\n",
       "          (max_pool): AdaptiveMaxPool2d(output_size=1)\n",
       "          (sigmoid): Sigmoid()\n",
       "        )\n",
       "        (sa): SpatialAttention(\n",
       "          (conv): Conv2d(2, 1, kernel_size=(7, 7), stride=(1, 1), padding=(3, 3), bias=False)\n",
       "          (sigmoid): Sigmoid()\n",
       "        )\n",
       "      )\n",
       "    )\n",
       "  )\n",
       "  (layer2): Sequential(\n",
       "    (0): CBAMBasicBlock(\n",
       "      (conv1): Conv2d(64, 128, kernel_size=(3, 3), stride=(2, 2), padding=(1, 1), bias=False)\n",
       "      (bn1): BatchNorm2d(128, eps=1e-05, momentum=0.1, affine=True, track_running_stats=True)\n",
       "      (relu): ReLU(inplace=True)\n",
       "      (conv2): Conv2d(128, 128, kernel_size=(3, 3), stride=(1, 1), padding=(1, 1), bias=False)\n",
       "      (bn2): BatchNorm2d(128, eps=1e-05, momentum=0.1, affine=True, track_running_stats=True)\n",
       "      (downsample): Sequential(\n",
       "        (0): Conv2d(64, 128, kernel_size=(1, 1), stride=(2, 2), bias=False)\n",
       "        (1): BatchNorm2d(128, eps=1e-05, momentum=0.1, affine=True, track_running_stats=True)\n",
       "      )\n",
       "      (cbam): CBAM(\n",
       "        (ca): ChannelAttention(\n",
       "          (shared_mlp): Sequential(\n",
       "            (0): Linear(in_features=128, out_features=8, bias=False)\n",
       "            (1): ReLU()\n",
       "            (2): Linear(in_features=8, out_features=128, bias=False)\n",
       "          )\n",
       "          (avg_pool): AdaptiveAvgPool2d(output_size=1)\n",
       "          (max_pool): AdaptiveMaxPool2d(output_size=1)\n",
       "          (sigmoid): Sigmoid()\n",
       "        )\n",
       "        (sa): SpatialAttention(\n",
       "          (conv): Conv2d(2, 1, kernel_size=(7, 7), stride=(1, 1), padding=(3, 3), bias=False)\n",
       "          (sigmoid): Sigmoid()\n",
       "        )\n",
       "      )\n",
       "    )\n",
       "    (1): CBAMBasicBlock(\n",
       "      (conv1): Conv2d(128, 128, kernel_size=(3, 3), stride=(1, 1), padding=(1, 1), bias=False)\n",
       "      (bn1): BatchNorm2d(128, eps=1e-05, momentum=0.1, affine=True, track_running_stats=True)\n",
       "      (relu): ReLU(inplace=True)\n",
       "      (conv2): Conv2d(128, 128, kernel_size=(3, 3), stride=(1, 1), padding=(1, 1), bias=False)\n",
       "      (bn2): BatchNorm2d(128, eps=1e-05, momentum=0.1, affine=True, track_running_stats=True)\n",
       "      (cbam): CBAM(\n",
       "        (ca): ChannelAttention(\n",
       "          (shared_mlp): Sequential(\n",
       "            (0): Linear(in_features=128, out_features=8, bias=False)\n",
       "            (1): ReLU()\n",
       "            (2): Linear(in_features=8, out_features=128, bias=False)\n",
       "          )\n",
       "          (avg_pool): AdaptiveAvgPool2d(output_size=1)\n",
       "          (max_pool): AdaptiveMaxPool2d(output_size=1)\n",
       "          (sigmoid): Sigmoid()\n",
       "        )\n",
       "        (sa): SpatialAttention(\n",
       "          (conv): Conv2d(2, 1, kernel_size=(7, 7), stride=(1, 1), padding=(3, 3), bias=False)\n",
       "          (sigmoid): Sigmoid()\n",
       "        )\n",
       "      )\n",
       "    )\n",
       "  )\n",
       "  (layer3): Sequential(\n",
       "    (0): CBAMBasicBlock(\n",
       "      (conv1): Conv2d(128, 256, kernel_size=(3, 3), stride=(2, 2), padding=(1, 1), bias=False)\n",
       "      (bn1): BatchNorm2d(256, eps=1e-05, momentum=0.1, affine=True, track_running_stats=True)\n",
       "      (relu): ReLU(inplace=True)\n",
       "      (conv2): Conv2d(256, 256, kernel_size=(3, 3), stride=(1, 1), padding=(1, 1), bias=False)\n",
       "      (bn2): BatchNorm2d(256, eps=1e-05, momentum=0.1, affine=True, track_running_stats=True)\n",
       "      (downsample): Sequential(\n",
       "        (0): Conv2d(128, 256, kernel_size=(1, 1), stride=(2, 2), bias=False)\n",
       "        (1): BatchNorm2d(256, eps=1e-05, momentum=0.1, affine=True, track_running_stats=True)\n",
       "      )\n",
       "      (cbam): CBAM(\n",
       "        (ca): ChannelAttention(\n",
       "          (shared_mlp): Sequential(\n",
       "            (0): Linear(in_features=256, out_features=16, bias=False)\n",
       "            (1): ReLU()\n",
       "            (2): Linear(in_features=16, out_features=256, bias=False)\n",
       "          )\n",
       "          (avg_pool): AdaptiveAvgPool2d(output_size=1)\n",
       "          (max_pool): AdaptiveMaxPool2d(output_size=1)\n",
       "          (sigmoid): Sigmoid()\n",
       "        )\n",
       "        (sa): SpatialAttention(\n",
       "          (conv): Conv2d(2, 1, kernel_size=(7, 7), stride=(1, 1), padding=(3, 3), bias=False)\n",
       "          (sigmoid): Sigmoid()\n",
       "        )\n",
       "      )\n",
       "    )\n",
       "    (1): CBAMBasicBlock(\n",
       "      (conv1): Conv2d(256, 256, kernel_size=(3, 3), stride=(1, 1), padding=(1, 1), bias=False)\n",
       "      (bn1): BatchNorm2d(256, eps=1e-05, momentum=0.1, affine=True, track_running_stats=True)\n",
       "      (relu): ReLU(inplace=True)\n",
       "      (conv2): Conv2d(256, 256, kernel_size=(3, 3), stride=(1, 1), padding=(1, 1), bias=False)\n",
       "      (bn2): BatchNorm2d(256, eps=1e-05, momentum=0.1, affine=True, track_running_stats=True)\n",
       "      (cbam): CBAM(\n",
       "        (ca): ChannelAttention(\n",
       "          (shared_mlp): Sequential(\n",
       "            (0): Linear(in_features=256, out_features=16, bias=False)\n",
       "            (1): ReLU()\n",
       "            (2): Linear(in_features=16, out_features=256, bias=False)\n",
       "          )\n",
       "          (avg_pool): AdaptiveAvgPool2d(output_size=1)\n",
       "          (max_pool): AdaptiveMaxPool2d(output_size=1)\n",
       "          (sigmoid): Sigmoid()\n",
       "        )\n",
       "        (sa): SpatialAttention(\n",
       "          (conv): Conv2d(2, 1, kernel_size=(7, 7), stride=(1, 1), padding=(3, 3), bias=False)\n",
       "          (sigmoid): Sigmoid()\n",
       "        )\n",
       "      )\n",
       "    )\n",
       "  )\n",
       "  (layer4): Sequential(\n",
       "    (0): BasicBlock(\n",
       "      (conv1): Conv2d(256, 512, kernel_size=(3, 3), stride=(2, 2), padding=(1, 1), bias=False)\n",
       "      (bn1): BatchNorm2d(512, eps=1e-05, momentum=0.1, affine=True, track_running_stats=True)\n",
       "      (relu): ReLU(inplace=True)\n",
       "      (conv2): Conv2d(512, 512, kernel_size=(3, 3), stride=(1, 1), padding=(1, 1), bias=False)\n",
       "      (bn2): BatchNorm2d(512, eps=1e-05, momentum=0.1, affine=True, track_running_stats=True)\n",
       "      (downsample): Sequential(\n",
       "        (0): Conv2d(256, 512, kernel_size=(1, 1), stride=(2, 2), bias=False)\n",
       "        (1): BatchNorm2d(512, eps=1e-05, momentum=0.1, affine=True, track_running_stats=True)\n",
       "      )\n",
       "    )\n",
       "    (1): BasicBlock(\n",
       "      (conv1): Conv2d(512, 512, kernel_size=(3, 3), stride=(1, 1), padding=(1, 1), bias=False)\n",
       "      (bn1): BatchNorm2d(512, eps=1e-05, momentum=0.1, affine=True, track_running_stats=True)\n",
       "      (relu): ReLU(inplace=True)\n",
       "      (conv2): Conv2d(512, 512, kernel_size=(3, 3), stride=(1, 1), padding=(1, 1), bias=False)\n",
       "      (bn2): BatchNorm2d(512, eps=1e-05, momentum=0.1, affine=True, track_running_stats=True)\n",
       "    )\n",
       "  )\n",
       "  (avgpool): AdaptiveAvgPool2d(output_size=(1, 1))\n",
       "  (fc): Linear(in_features=512, out_features=2, bias=True)\n",
       ")"
      ]
     },
     "execution_count": 25,
     "metadata": {},
     "output_type": "execute_result"
    }
   ],
   "source": [
    "net"
   ]
  },
  {
   "cell_type": "code",
   "execution_count": 26,
   "id": "7128f1b7",
   "metadata": {},
   "outputs": [
    {
     "data": {
      "text/plain": [
       "====================================================================================================\n",
       "Layer (type:depth-idx)                             Output Shape              Param #\n",
       "====================================================================================================\n",
       "ResNet                                             [16, 2]                   --\n",
       "├─Conv2d: 1-1                                      [16, 64, 192, 192]        3,136\n",
       "├─BatchNorm2d: 1-2                                 [16, 64, 192, 192]        128\n",
       "├─ReLU: 1-3                                        [16, 64, 192, 192]        --\n",
       "├─MaxPool2d: 1-4                                   [16, 64, 96, 96]          --\n",
       "├─Sequential: 1-5                                  [16, 64, 96, 96]          --\n",
       "│    └─CBAMBasicBlock: 2-1                         [16, 64, 96, 96]          --\n",
       "│    │    └─Conv2d: 3-1                            [16, 64, 96, 96]          36,864\n",
       "│    │    └─BatchNorm2d: 3-2                       [16, 64, 96, 96]          128\n",
       "│    │    └─ReLU: 3-3                              [16, 64, 96, 96]          --\n",
       "│    │    └─Conv2d: 3-4                            [16, 64, 96, 96]          36,864\n",
       "│    │    └─BatchNorm2d: 3-5                       [16, 64, 96, 96]          128\n",
       "│    │    └─CBAM: 3-6                              [16, 64, 96, 96]          610\n",
       "│    │    └─ReLU: 3-7                              [16, 64, 96, 96]          --\n",
       "│    └─CBAMBasicBlock: 2-2                         [16, 64, 96, 96]          --\n",
       "│    │    └─Conv2d: 3-8                            [16, 64, 96, 96]          36,864\n",
       "│    │    └─BatchNorm2d: 3-9                       [16, 64, 96, 96]          128\n",
       "│    │    └─ReLU: 3-10                             [16, 64, 96, 96]          --\n",
       "│    │    └─Conv2d: 3-11                           [16, 64, 96, 96]          36,864\n",
       "│    │    └─BatchNorm2d: 3-12                      [16, 64, 96, 96]          128\n",
       "│    │    └─CBAM: 3-13                             [16, 64, 96, 96]          610\n",
       "│    │    └─ReLU: 3-14                             [16, 64, 96, 96]          --\n",
       "├─Sequential: 1-6                                  [16, 128, 48, 48]         --\n",
       "│    └─CBAMBasicBlock: 2-3                         [16, 128, 48, 48]         --\n",
       "│    │    └─Conv2d: 3-15                           [16, 128, 48, 48]         73,728\n",
       "│    │    └─BatchNorm2d: 3-16                      [16, 128, 48, 48]         256\n",
       "│    │    └─ReLU: 3-17                             [16, 128, 48, 48]         --\n",
       "│    │    └─Conv2d: 3-18                           [16, 128, 48, 48]         147,456\n",
       "│    │    └─BatchNorm2d: 3-19                      [16, 128, 48, 48]         256\n",
       "│    │    └─CBAM: 3-20                             [16, 128, 48, 48]         2,146\n",
       "│    │    └─Sequential: 3-21                       [16, 128, 48, 48]         8,448\n",
       "│    │    └─ReLU: 3-22                             [16, 128, 48, 48]         --\n",
       "│    └─CBAMBasicBlock: 2-4                         [16, 128, 48, 48]         --\n",
       "│    │    └─Conv2d: 3-23                           [16, 128, 48, 48]         147,456\n",
       "│    │    └─BatchNorm2d: 3-24                      [16, 128, 48, 48]         256\n",
       "│    │    └─ReLU: 3-25                             [16, 128, 48, 48]         --\n",
       "│    │    └─Conv2d: 3-26                           [16, 128, 48, 48]         147,456\n",
       "│    │    └─BatchNorm2d: 3-27                      [16, 128, 48, 48]         256\n",
       "│    │    └─CBAM: 3-28                             [16, 128, 48, 48]         2,146\n",
       "│    │    └─ReLU: 3-29                             [16, 128, 48, 48]         --\n",
       "├─Sequential: 1-7                                  [16, 256, 24, 24]         --\n",
       "│    └─CBAMBasicBlock: 2-5                         [16, 256, 24, 24]         --\n",
       "│    │    └─Conv2d: 3-30                           [16, 256, 24, 24]         294,912\n",
       "│    │    └─BatchNorm2d: 3-31                      [16, 256, 24, 24]         512\n",
       "│    │    └─ReLU: 3-32                             [16, 256, 24, 24]         --\n",
       "│    │    └─Conv2d: 3-33                           [16, 256, 24, 24]         589,824\n",
       "│    │    └─BatchNorm2d: 3-34                      [16, 256, 24, 24]         512\n",
       "│    │    └─CBAM: 3-35                             [16, 256, 24, 24]         8,290\n",
       "│    │    └─Sequential: 3-36                       [16, 256, 24, 24]         33,280\n",
       "│    │    └─ReLU: 3-37                             [16, 256, 24, 24]         --\n",
       "│    └─CBAMBasicBlock: 2-6                         [16, 256, 24, 24]         --\n",
       "│    │    └─Conv2d: 3-38                           [16, 256, 24, 24]         589,824\n",
       "│    │    └─BatchNorm2d: 3-39                      [16, 256, 24, 24]         512\n",
       "│    │    └─ReLU: 3-40                             [16, 256, 24, 24]         --\n",
       "│    │    └─Conv2d: 3-41                           [16, 256, 24, 24]         589,824\n",
       "│    │    └─BatchNorm2d: 3-42                      [16, 256, 24, 24]         512\n",
       "│    │    └─CBAM: 3-43                             [16, 256, 24, 24]         8,290\n",
       "│    │    └─ReLU: 3-44                             [16, 256, 24, 24]         --\n",
       "├─Sequential: 1-8                                  [16, 512, 12, 12]         --\n",
       "│    └─BasicBlock: 2-7                             [16, 512, 12, 12]         --\n",
       "│    │    └─Conv2d: 3-45                           [16, 512, 12, 12]         1,179,648\n",
       "│    │    └─BatchNorm2d: 3-46                      [16, 512, 12, 12]         1,024\n",
       "│    │    └─ReLU: 3-47                             [16, 512, 12, 12]         --\n",
       "│    │    └─Conv2d: 3-48                           [16, 512, 12, 12]         2,359,296\n",
       "│    │    └─BatchNorm2d: 3-49                      [16, 512, 12, 12]         1,024\n",
       "│    │    └─Sequential: 3-50                       [16, 512, 12, 12]         132,096\n",
       "│    │    └─ReLU: 3-51                             [16, 512, 12, 12]         --\n",
       "│    └─BasicBlock: 2-8                             [16, 512, 12, 12]         --\n",
       "│    │    └─Conv2d: 3-52                           [16, 512, 12, 12]         2,359,296\n",
       "│    │    └─BatchNorm2d: 3-53                      [16, 512, 12, 12]         1,024\n",
       "│    │    └─ReLU: 3-54                             [16, 512, 12, 12]         --\n",
       "│    │    └─Conv2d: 3-55                           [16, 512, 12, 12]         2,359,296\n",
       "│    │    └─BatchNorm2d: 3-56                      [16, 512, 12, 12]         1,024\n",
       "│    │    └─ReLU: 3-57                             [16, 512, 12, 12]         --\n",
       "├─AdaptiveAvgPool2d: 1-9                           [16, 512, 1, 1]           --\n",
       "├─Linear: 1-10                                     [16, 2]                   1,026\n",
       "====================================================================================================\n",
       "Total params: 11,193,358\n",
       "Trainable params: 11,193,358\n",
       "Non-trainable params: 0\n",
       "Total mult-adds (G): 81.61\n",
       "====================================================================================================\n",
       "Input size (MB): 9.44\n",
       "Forward/backward pass size (MB): 1871.90\n",
       "Params size (MB): 44.77\n",
       "Estimated Total Size (MB): 1926.11\n",
       "===================================================================================================="
      ]
     },
     "execution_count": 26,
     "metadata": {},
     "output_type": "execute_result"
    }
   ],
   "source": [
    "from torchinfo import summary\n",
    "summary(net, input_size=(16,1, 384, 384))"
   ]
  },
  {
   "cell_type": "code",
   "execution_count": 27,
   "id": "89e72e1c",
   "metadata": {},
   "outputs": [],
   "source": [
    "# net0 = models.resnet18(pretrained=True)\n",
    "# net0.conv1 = nn.Conv2d(1, 64, kernel_size=7, stride=2, padding=3, bias=False)\n",
    "# net0.fc = nn.Linear(net0.fc.in_features, 2)\n",
    "# net0 = net0.to(device)\n",
    "# summary(net0, input_size=(16,1, 384, 384))"
   ]
  },
  {
   "cell_type": "code",
   "execution_count": 28,
   "id": "8b633bd1",
   "metadata": {},
   "outputs": [],
   "source": [
    "net.linear = nn.Linear(73728,2)"
   ]
  },
  {
   "cell_type": "code",
   "execution_count": 29,
   "id": "45afc344",
   "metadata": {},
   "outputs": [
    {
     "data": {
      "text/plain": [
       "Linear(in_features=73728, out_features=2, bias=True)"
      ]
     },
     "execution_count": 29,
     "metadata": {},
     "output_type": "execute_result"
    }
   ],
   "source": [
    "net.linear"
   ]
  },
  {
   "cell_type": "code",
   "execution_count": null,
   "id": "aea6b631",
   "metadata": {},
   "outputs": [],
   "source": []
  }
 ],
 "metadata": {
  "kernelspec": {
   "display_name": "Python 3",
   "language": "python",
   "name": "python3"
  },
  "language_info": {
   "codemirror_mode": {
    "name": "ipython",
    "version": 3
   },
   "file_extension": ".py",
   "mimetype": "text/x-python",
   "name": "python",
   "nbconvert_exporter": "python",
   "pygments_lexer": "ipython3",
   "version": "3.10.12"
  }
 },
 "nbformat": 4,
 "nbformat_minor": 5
}
