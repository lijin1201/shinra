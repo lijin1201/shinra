{
 "cells": [
  {
   "cell_type": "code",
   "execution_count": 1,
   "id": "b02859b6",
   "metadata": {},
   "outputs": [],
   "source": [
    "#train3 from 2: use adam, remove weight_decay; one BW channel (not 3)\n",
    "import torch,os,glob\n",
    "import torch.nn as nn\n",
    "import torch.optim as optim\n",
    "import torch.nn.functional as F\n",
    "\n",
    "from torchvision.transforms import v2\n",
    "from torchvision import tv_tensors\n",
    "import pandas as pd\n",
    "import numpy as np\n",
    "\n",
    "from nets import ResNet18_2lbCBAM\n",
    "from tqdm import tqdm\n",
    "from configparser import ConfigParser\n",
    "from torch.utils.data import  DataLoader\n",
    "from LIDC_M_data import LIDC_Dataset\n",
    "import pickle"
   ]
  },
  {
   "cell_type": "code",
   "execution_count": 2,
   "id": "d3d8dc6b",
   "metadata": {},
   "outputs": [],
   "source": [
    "device = 'cuda' if torch.cuda.is_available() else 'cpu'\n",
    "best_acc = 0  # best test accuracy\n",
    "best_epoch = 0\n",
    "start_epoch = 0  # start from epoch 0 or last checkpoint epoch\n",
    "\n",
    "prep_tr = [\n",
    "    v2.Lambda(lambda x: tv_tensors.Image(torch.clamp(x,-1000.,400.)) if isinstance(x, tv_tensors.Image) else x),\n",
    "    v2.Lambda(lambda x: tv_tensors.Image((x+1000)/1400) if isinstance(x, tv_tensors.Image) else x),\n",
    "    v2.CenterCrop((384,384)),\n",
    "]\n",
    "aug_tr = [\n",
    "    v2.RandomAffine(degrees=10),\n",
    "    v2.RandomHorizontalFlip(),\n",
    "]\n",
    "trans_train = v2.Compose( prep_tr + aug_tr )\n",
    "trans_test = v2.Compose( prep_tr  )"
   ]
  },
  {
   "cell_type": "code",
   "execution_count": 3,
   "id": "2b344e58",
   "metadata": {},
   "outputs": [
    {
     "name": "stdout",
     "output_type": "stream",
     "text": [
      "total_train_data: 5495 total_test_data: 2354\n"
     ]
    }
   ],
   "source": [
    "\n",
    "parser = ConfigParser()\n",
    "parser.read('.settings')\n",
    "root_dir = parser.get('dataset','root_dir') #/workspaces/data/lidc-idri/slices\n",
    "meta_dir = parser.get('dataset','meta_dir') #/workspaces/data/lidc-idri/splits\n",
    "result_dir = os.path.join(parser.get('dataset','result_dir'),'stage2/basel0_2lbMGA-tune')\n",
    "if not os.path.isdir(result_dir):\n",
    "        os.mkdir(result_dir)\n",
    "\n",
    "train_data = LIDC_Dataset(root_dir,metapath=os.path.join(meta_dir,'trainBB_malB.csv'),transform=trans_train, loadBB=True)\n",
    "test_data = LIDC_Dataset(root_dir,metapath=os.path.join(meta_dir,'testBB_malB.csv'),transform=trans_test)\n",
    "total_train_data = len(train_data)\n",
    "total_test_data = len(test_data)\n",
    "print('total_train_data:',total_train_data, 'total_test_data:',total_test_data)\n",
    "\n",
    "batch_size = int(parser['dataset']['batch_size'])\n",
    "trainloader = DataLoader(train_data, batch_size=batch_size, shuffle=True, num_workers=8)\n",
    "testloader = DataLoader(test_data, batch_size=batch_size, num_workers=8)"
   ]
  },
  {
   "cell_type": "code",
   "execution_count": 4,
   "id": "94805703",
   "metadata": {},
   "outputs": [],
   "source": [
    "net = ResNet18_2lbCBAM(pretrained=True,attr=\"MGA\")\n",
    "net.conv1 = nn.Conv2d(1, 64, kernel_size=7, stride=2, padding=3, bias=False)\n",
    "net.fc = nn.Linear(net.fc.in_features, 2)\n",
    "net = net.to(device)"
   ]
  },
  {
   "cell_type": "code",
   "execution_count": 5,
   "id": "31a2f9b7",
   "metadata": {},
   "outputs": [
    {
     "data": {
      "text/plain": [
       "====================================================================================================\n",
       "Layer (type:depth-idx)                             Output Shape              Param #\n",
       "====================================================================================================\n",
       "ResNet18_2lbCBAM                                   [32, 2]                   --\n",
       "├─Conv2d: 1-1                                      [32, 64, 192, 192]        3,136\n",
       "├─BatchNorm2d: 1-2                                 [32, 64, 192, 192]        128\n",
       "├─ReLU: 1-3                                        [32, 64, 192, 192]        --\n",
       "├─MaxPool2d: 1-4                                   [32, 64, 96, 96]          --\n",
       "├─Sequential: 1-5                                  [32, 64, 96, 96]          --\n",
       "│    └─BasicBlock: 2-1                             [32, 64, 96, 96]          --\n",
       "│    │    └─Conv2d: 3-1                            [32, 64, 96, 96]          36,864\n",
       "│    │    └─BatchNorm2d: 3-2                       [32, 64, 96, 96]          128\n",
       "│    │    └─ReLU: 3-3                              [32, 64, 96, 96]          --\n",
       "│    │    └─Conv2d: 3-4                            [32, 64, 96, 96]          36,864\n",
       "│    │    └─BatchNorm2d: 3-5                       [32, 64, 96, 96]          128\n",
       "│    │    └─ReLU: 3-6                              [32, 64, 96, 96]          --\n",
       "│    └─CBAMBasicBlock: 2-2                         [32, 64, 96, 96]          --\n",
       "│    │    └─Conv2d: 3-7                            [32, 64, 96, 96]          36,864\n",
       "│    │    └─BatchNorm2d: 3-8                       [32, 64, 96, 96]          128\n",
       "│    │    └─ReLU: 3-9                              [32, 64, 96, 96]          --\n",
       "│    │    └─Conv2d: 3-10                           [32, 64, 96, 96]          36,864\n",
       "│    │    └─BatchNorm2d: 3-11                      [32, 64, 96, 96]          128\n",
       "│    │    └─CBAM: 3-12                             [32, 64, 96, 96]          610\n",
       "│    │    └─ReLU: 3-13                             [32, 64, 96, 96]          --\n",
       "├─Sequential: 1-6                                  [32, 128, 48, 48]         --\n",
       "│    └─BasicBlock: 2-3                             [32, 128, 48, 48]         --\n",
       "│    │    └─Conv2d: 3-14                           [32, 128, 48, 48]         73,728\n",
       "│    │    └─BatchNorm2d: 3-15                      [32, 128, 48, 48]         256\n",
       "│    │    └─ReLU: 3-16                             [32, 128, 48, 48]         --\n",
       "│    │    └─Conv2d: 3-17                           [32, 128, 48, 48]         147,456\n",
       "│    │    └─BatchNorm2d: 3-18                      [32, 128, 48, 48]         256\n",
       "│    │    └─Sequential: 3-19                       [32, 128, 48, 48]         8,448\n",
       "│    │    └─ReLU: 3-20                             [32, 128, 48, 48]         --\n",
       "│    └─CBAMBasicBlockWithMask: 2-4                 [32, 128, 48, 48]         --\n",
       "│    │    └─Conv2d: 3-21                           [32, 128, 48, 48]         147,456\n",
       "│    │    └─BatchNorm2d: 3-22                      [32, 128, 48, 48]         256\n",
       "│    │    └─ReLU: 3-23                             [32, 128, 48, 48]         --\n",
       "│    │    └─Conv2d: 3-24                           [32, 128, 48, 48]         147,456\n",
       "│    │    └─BatchNorm2d: 3-25                      [32, 128, 48, 48]         256\n",
       "│    │    └─CBAMWithMaskSupervision: 3-26          [32, 128, 48, 48]         2,146\n",
       "│    │    └─ReLU: 3-27                             [32, 128, 48, 48]         --\n",
       "├─Sequential: 1-7                                  [32, 256, 24, 24]         --\n",
       "│    └─BasicBlock: 2-5                             [32, 256, 24, 24]         --\n",
       "│    │    └─Conv2d: 3-28                           [32, 256, 24, 24]         294,912\n",
       "│    │    └─BatchNorm2d: 3-29                      [32, 256, 24, 24]         512\n",
       "│    │    └─ReLU: 3-30                             [32, 256, 24, 24]         --\n",
       "│    │    └─Conv2d: 3-31                           [32, 256, 24, 24]         589,824\n",
       "│    │    └─BatchNorm2d: 3-32                      [32, 256, 24, 24]         512\n",
       "│    │    └─Sequential: 3-33                       [32, 256, 24, 24]         33,280\n",
       "│    │    └─ReLU: 3-34                             [32, 256, 24, 24]         --\n",
       "│    └─BasicBlock: 2-6                             [32, 256, 24, 24]         --\n",
       "│    │    └─Conv2d: 3-35                           [32, 256, 24, 24]         589,824\n",
       "│    │    └─BatchNorm2d: 3-36                      [32, 256, 24, 24]         512\n",
       "│    │    └─ReLU: 3-37                             [32, 256, 24, 24]         --\n",
       "│    │    └─Conv2d: 3-38                           [32, 256, 24, 24]         589,824\n",
       "│    │    └─BatchNorm2d: 3-39                      [32, 256, 24, 24]         512\n",
       "│    │    └─ReLU: 3-40                             [32, 256, 24, 24]         --\n",
       "├─Sequential: 1-8                                  [32, 512, 12, 12]         --\n",
       "│    └─BasicBlock: 2-7                             [32, 512, 12, 12]         --\n",
       "│    │    └─Conv2d: 3-41                           [32, 512, 12, 12]         1,179,648\n",
       "│    │    └─BatchNorm2d: 3-42                      [32, 512, 12, 12]         1,024\n",
       "│    │    └─ReLU: 3-43                             [32, 512, 12, 12]         --\n",
       "│    │    └─Conv2d: 3-44                           [32, 512, 12, 12]         2,359,296\n",
       "│    │    └─BatchNorm2d: 3-45                      [32, 512, 12, 12]         1,024\n",
       "│    │    └─Sequential: 3-46                       [32, 512, 12, 12]         132,096\n",
       "│    │    └─ReLU: 3-47                             [32, 512, 12, 12]         --\n",
       "│    └─BasicBlock: 2-8                             [32, 512, 12, 12]         --\n",
       "│    │    └─Conv2d: 3-48                           [32, 512, 12, 12]         2,359,296\n",
       "│    │    └─BatchNorm2d: 3-49                      [32, 512, 12, 12]         1,024\n",
       "│    │    └─ReLU: 3-50                             [32, 512, 12, 12]         --\n",
       "│    │    └─Conv2d: 3-51                           [32, 512, 12, 12]         2,359,296\n",
       "│    │    └─BatchNorm2d: 3-52                      [32, 512, 12, 12]         1,024\n",
       "│    │    └─ReLU: 3-53                             [32, 512, 12, 12]         --\n",
       "├─AdaptiveAvgPool2d: 1-9                           [32, 512, 1, 1]           --\n",
       "├─Linear: 1-10                                     [32, 2]                   1,026\n",
       "====================================================================================================\n",
       "Total params: 11,174,022\n",
       "Trainable params: 11,174,022\n",
       "Non-trainable params: 0\n",
       "Total mult-adds (G): 163.19\n",
       "====================================================================================================\n",
       "Input size (MB): 18.87\n",
       "Forward/backward pass size (MB): 3740.18\n",
       "Params size (MB): 44.70\n",
       "Estimated Total Size (MB): 3803.75\n",
       "===================================================================================================="
      ]
     },
     "execution_count": 5,
     "metadata": {},
     "output_type": "execute_result"
    }
   ],
   "source": [
    "from torchinfo import summary\n",
    "summary(net, input_size=(batch_size,1, 384, 384))"
   ]
  },
  {
   "cell_type": "code",
   "execution_count": 6,
   "id": "5a98ef22",
   "metadata": {},
   "outputs": [],
   "source": [
    "lr = 1e-4\n",
    "criterion = nn.CrossEntropyLoss()\n",
    "mse = nn.MSELoss()\n",
    "optimizer = optim.Adam(net.parameters(), lr=lr)\n",
    "\n",
    "training_info=[[\"epoch\",\"acc\",\"loss\"]]\n",
    "testing_info=training_info.copy()"
   ]
  },
  {
   "cell_type": "code",
   "execution_count": 7,
   "id": "9e1e321d",
   "metadata": {},
   "outputs": [],
   "source": [
    "def train(epoch):\n",
    "    net.train()\n",
    "    train_loss = np.zeros(3)\n",
    "    correct = 0\n",
    "    total = 0\n",
    "    pbar = tqdm(trainloader)\n",
    "    for batch_idx, (inputs, targets, masks) in enumerate(pbar):\n",
    "        inputs, targets, masks = inputs.to(device), targets.to(device), masks.to(device)\n",
    "\n",
    "        optimizer.zero_grad()\n",
    "        # outputs = net(inputs)\n",
    "        outputs, attn_map = net(inputs)\n",
    "        cls_loss = criterion(outputs, targets)\n",
    "        masks = F.adaptive_avg_pool2d(masks, attn_map.shape[-2:])\n",
    "        att_loss = 100.* mse(attn_map , masks)\n",
    "        \n",
    "        loss =  cls_loss + att_loss\n",
    "        \n",
    "        # loss = criterion(outputs, targets)\n",
    "        loss.backward()\n",
    "        \n",
    "        optimizer.step()\n",
    "\n",
    "        train_loss += np.array([loss.item(), cls_loss.item(), att_loss.item()])\n",
    "        _, predicted = outputs.max(1)\n",
    "        \n",
    "        total += targets.size(0)\n",
    "        correct += predicted.eq(targets).sum().item()\n",
    "\n",
    "        pbar.set_description(f\"Epoch: {epoch} Acc: {(100.*correct/total):.2f}\")\n",
    "\n",
    "    train_acc = 100.*correct/total\n",
    "    train_loss = train_loss/(batch_idx+1)\n",
    "    print(f\"Tot Loss: {train_loss[0]:.4f} CL: {train_loss[1]:.5f} AT: {train_loss[2]:.5f}; Train Acc: {train_acc:.2f}%\")\n",
    "    training_info.append([epoch,train_acc,train_loss])\n",
    "    # trainning_accuracy.append(train_acc)\n",
    "    # trainning_loss.append( train_loss )\n",
    "\n",
    "def test(epoch, islast = False):\n",
    "    global best_acc, best_epoch\n",
    "    net.eval()\n",
    "    test_loss = 0\n",
    "    correct = 0\n",
    "    total = 0\n",
    "    pbar = tqdm(testloader)\n",
    "    with torch.no_grad():\n",
    "        for batch_idx, (inputs, targets ) in enumerate(pbar):\n",
    "            inputs, targets = inputs.to(device), targets.to(device)\n",
    "            outputs = net(inputs)\n",
    "            \n",
    "            loss = criterion(outputs, targets)\n",
    "            test_loss += loss.item()\n",
    "            _, predicted = outputs.max(1)\n",
    "            total += targets.size(0)\n",
    "            correct += predicted.eq(targets).sum().item()\n",
    "\n",
    "        test_acc = 100.*correct/total\n",
    "        test_loss = test_loss/(batch_idx+1)\n",
    "        print(f\"Test Loss: {test_loss}, Test Acc: {test_acc:.2f}%\")\n",
    "        testing_info.append([epoch,test_acc,test_loss])\n",
    "        # testing_accuracy.append(test_acc)\n",
    "        # testing_loss.append(test_loss)\n",
    "    # Save checkpoint.\n",
    "    acc = 100.*correct/total\n",
    "    if acc > best_acc or islast:\n",
    "        print('Saving..')\n",
    "        state = {\n",
    "            'net': net.state_dict(),\n",
    "            'acc': acc,\n",
    "            'epoch': epoch,\n",
    "        }\n",
    "        savestr = 'best' if acc > best_acc else 'last'\n",
    "        torch.save(state, os.path.join(result_dir,f'basel0_2lbMGA-b{batch_size}-epoch{epoch}-{savestr}.pth'))\n",
    "        best_acc = acc\n",
    "        best_epoch = epoch"
   ]
  },
  {
   "cell_type": "code",
   "execution_count": 8,
   "id": "6af11cf6",
   "metadata": {},
   "outputs": [],
   "source": [
    "aa = np.zeros(3)\n",
    "aa = [1,2,3]"
   ]
  },
  {
   "cell_type": "code",
   "execution_count": 9,
   "id": "e1e93a0c",
   "metadata": {},
   "outputs": [
    {
     "name": "stdout",
     "output_type": "stream",
     "text": [
      "[1, 2, 3]\n"
     ]
    }
   ],
   "source": [
    "print(aa)"
   ]
  },
  {
   "cell_type": "code",
   "execution_count": 10,
   "id": "3a37795c",
   "metadata": {},
   "outputs": [
    {
     "name": "stderr",
     "output_type": "stream",
     "text": [
      "Epoch: 0 Acc: 59.58: 100%|██████████| 172/172 [00:44<00:00,  3.90it/s]\n"
     ]
    },
    {
     "name": "stdout",
     "output_type": "stream",
     "text": [
      "Tot Loss: 15.1068 CL: 0.67265 AT: 14.43419; Train Acc: 59.58%\n"
     ]
    },
    {
     "name": "stderr",
     "output_type": "stream",
     "text": [
      "100%|██████████| 74/74 [00:09<00:00,  7.93it/s]\n"
     ]
    },
    {
     "name": "stdout",
     "output_type": "stream",
     "text": [
      "Test Loss: 0.6387715573246414, Test Acc: 63.59%\n",
      "Saving..\n"
     ]
    },
    {
     "name": "stderr",
     "output_type": "stream",
     "text": [
      "Epoch: 1 Acc: 62.71: 100%|██████████| 172/172 [00:42<00:00,  4.03it/s]\n"
     ]
    },
    {
     "name": "stdout",
     "output_type": "stream",
     "text": [
      "Tot Loss: 2.8778 CL: 0.64857 AT: 2.22922; Train Acc: 62.71%\n"
     ]
    },
    {
     "name": "stderr",
     "output_type": "stream",
     "text": [
      "100%|██████████| 74/74 [00:06<00:00, 11.98it/s]\n"
     ]
    },
    {
     "name": "stdout",
     "output_type": "stream",
     "text": [
      "Test Loss: 0.6345130567615097, Test Acc: 64.91%\n",
      "Saving..\n"
     ]
    },
    {
     "name": "stderr",
     "output_type": "stream",
     "text": [
      "Epoch: 2 Acc: 66.06: 100%|██████████| 172/172 [00:43<00:00,  4.00it/s]\n"
     ]
    },
    {
     "name": "stdout",
     "output_type": "stream",
     "text": [
      "Tot Loss: 1.3698 CL: 0.61681 AT: 0.75301; Train Acc: 66.06%\n"
     ]
    },
    {
     "name": "stderr",
     "output_type": "stream",
     "text": [
      "100%|██████████| 74/74 [00:08<00:00,  8.79it/s]\n"
     ]
    },
    {
     "name": "stdout",
     "output_type": "stream",
     "text": [
      "Test Loss: 0.6142883792116836, Test Acc: 65.76%\n",
      "Saving..\n"
     ]
    },
    {
     "name": "stderr",
     "output_type": "stream",
     "text": [
      "Epoch: 3 Acc: 68.74: 100%|██████████| 172/172 [00:41<00:00,  4.14it/s]\n"
     ]
    },
    {
     "name": "stdout",
     "output_type": "stream",
     "text": [
      "Tot Loss: 0.9777 CL: 0.58514 AT: 0.39260; Train Acc: 68.74%\n"
     ]
    },
    {
     "name": "stderr",
     "output_type": "stream",
     "text": [
      "100%|██████████| 74/74 [00:06<00:00, 11.60it/s]\n"
     ]
    },
    {
     "name": "stdout",
     "output_type": "stream",
     "text": [
      "Test Loss: 0.5998794323689228, Test Acc: 67.20%\n",
      "Saving..\n"
     ]
    },
    {
     "name": "stderr",
     "output_type": "stream",
     "text": [
      "Epoch: 4 Acc: 71.16: 100%|██████████| 172/172 [00:41<00:00,  4.14it/s]\n"
     ]
    },
    {
     "name": "stdout",
     "output_type": "stream",
     "text": [
      "Tot Loss: 0.8178 CL: 0.55615 AT: 0.26163; Train Acc: 71.16%\n"
     ]
    },
    {
     "name": "stderr",
     "output_type": "stream",
     "text": [
      "100%|██████████| 74/74 [00:08<00:00,  8.57it/s]\n"
     ]
    },
    {
     "name": "stdout",
     "output_type": "stream",
     "text": [
      "Test Loss: 0.5448825476137368, Test Acc: 73.15%\n",
      "Saving..\n"
     ]
    },
    {
     "name": "stderr",
     "output_type": "stream",
     "text": [
      "Epoch: 5 Acc: 74.01: 100%|██████████| 172/172 [00:41<00:00,  4.13it/s]\n"
     ]
    },
    {
     "name": "stdout",
     "output_type": "stream",
     "text": [
      "Tot Loss: 0.7234 CL: 0.52263 AT: 0.20078; Train Acc: 74.01%\n"
     ]
    },
    {
     "name": "stderr",
     "output_type": "stream",
     "text": [
      "100%|██████████| 74/74 [00:06<00:00, 12.30it/s]\n"
     ]
    },
    {
     "name": "stdout",
     "output_type": "stream",
     "text": [
      "Test Loss: 0.6484697247679169, Test Acc: 65.93%\n"
     ]
    },
    {
     "name": "stderr",
     "output_type": "stream",
     "text": [
      "Epoch: 6 Acc: 76.20: 100%|██████████| 172/172 [00:39<00:00,  4.33it/s]\n"
     ]
    },
    {
     "name": "stdout",
     "output_type": "stream",
     "text": [
      "Tot Loss: 0.6544 CL: 0.48820 AT: 0.16625; Train Acc: 76.20%\n"
     ]
    },
    {
     "name": "stderr",
     "output_type": "stream",
     "text": [
      "100%|██████████| 74/74 [00:08<00:00,  8.53it/s]\n"
     ]
    },
    {
     "name": "stdout",
     "output_type": "stream",
     "text": [
      "Test Loss: 0.5188530643244047, Test Acc: 75.19%\n",
      "Saving..\n"
     ]
    },
    {
     "name": "stderr",
     "output_type": "stream",
     "text": [
      "Epoch: 7 Acc: 78.78: 100%|██████████| 172/172 [00:47<00:00,  3.63it/s]\n"
     ]
    },
    {
     "name": "stdout",
     "output_type": "stream",
     "text": [
      "Tot Loss: 0.5967 CL: 0.45247 AT: 0.14419; Train Acc: 78.78%\n"
     ]
    },
    {
     "name": "stderr",
     "output_type": "stream",
     "text": [
      "100%|██████████| 74/74 [00:05<00:00, 12.52it/s]\n"
     ]
    },
    {
     "name": "stdout",
     "output_type": "stream",
     "text": [
      "Test Loss: 0.4960658699274063, Test Acc: 77.27%\n",
      "Saving..\n"
     ]
    },
    {
     "name": "stderr",
     "output_type": "stream",
     "text": [
      "Epoch: 8 Acc: 79.75: 100%|██████████| 172/172 [00:43<00:00,  3.99it/s]\n"
     ]
    },
    {
     "name": "stdout",
     "output_type": "stream",
     "text": [
      "Tot Loss: 0.5591 CL: 0.42964 AT: 0.12943; Train Acc: 79.75%\n"
     ]
    },
    {
     "name": "stderr",
     "output_type": "stream",
     "text": [
      "100%|██████████| 74/74 [00:06<00:00, 12.28it/s]\n"
     ]
    },
    {
     "name": "stdout",
     "output_type": "stream",
     "text": [
      "Test Loss: 0.5613320618867874, Test Acc: 72.94%\n"
     ]
    },
    {
     "name": "stderr",
     "output_type": "stream",
     "text": [
      "Epoch: 9 Acc: 83.24: 100%|██████████| 172/172 [00:40<00:00,  4.25it/s]\n"
     ]
    },
    {
     "name": "stdout",
     "output_type": "stream",
     "text": [
      "Tot Loss: 0.5033 CL: 0.38460 AT: 0.11873; Train Acc: 83.24%\n"
     ]
    },
    {
     "name": "stderr",
     "output_type": "stream",
     "text": [
      "100%|██████████| 74/74 [00:06<00:00, 11.61it/s]\n"
     ]
    },
    {
     "name": "stdout",
     "output_type": "stream",
     "text": [
      "Test Loss: 0.5131022297852749, Test Acc: 78.72%\n",
      "Saving..\n"
     ]
    },
    {
     "name": "stderr",
     "output_type": "stream",
     "text": [
      "Epoch: 10 Acc: 84.24: 100%|██████████| 172/172 [00:39<00:00,  4.31it/s]\n"
     ]
    },
    {
     "name": "stdout",
     "output_type": "stream",
     "text": [
      "Tot Loss: 0.4735 CL: 0.36302 AT: 0.11048; Train Acc: 84.24%\n"
     ]
    },
    {
     "name": "stderr",
     "output_type": "stream",
     "text": [
      "100%|██████████| 74/74 [00:08<00:00,  8.32it/s]\n"
     ]
    },
    {
     "name": "stdout",
     "output_type": "stream",
     "text": [
      "Test Loss: 0.5921789258718491, Test Acc: 75.23%\n"
     ]
    },
    {
     "name": "stderr",
     "output_type": "stream",
     "text": [
      "Epoch: 11 Acc: 84.77: 100%|██████████| 172/172 [00:44<00:00,  3.87it/s]\n"
     ]
    },
    {
     "name": "stdout",
     "output_type": "stream",
     "text": [
      "Tot Loss: 0.4590 CL: 0.35382 AT: 0.10514; Train Acc: 84.77%\n"
     ]
    },
    {
     "name": "stderr",
     "output_type": "stream",
     "text": [
      "100%|██████████| 74/74 [00:06<00:00, 11.99it/s]\n"
     ]
    },
    {
     "name": "stdout",
     "output_type": "stream",
     "text": [
      "Test Loss: 0.4708138182759285, Test Acc: 79.06%\n",
      "Saving..\n"
     ]
    },
    {
     "name": "stderr",
     "output_type": "stream",
     "text": [
      "Epoch: 12 Acc: 86.48: 100%|██████████| 172/172 [00:51<00:00,  3.31it/s]\n"
     ]
    },
    {
     "name": "stdout",
     "output_type": "stream",
     "text": [
      "Tot Loss: 0.4081 CL: 0.30823 AT: 0.09985; Train Acc: 86.48%\n"
     ]
    },
    {
     "name": "stderr",
     "output_type": "stream",
     "text": [
      "100%|██████████| 74/74 [00:05<00:00, 12.90it/s]\n"
     ]
    },
    {
     "name": "stdout",
     "output_type": "stream",
     "text": [
      "Test Loss: 0.504575084794212, Test Acc: 80.08%\n",
      "Saving..\n"
     ]
    },
    {
     "name": "stderr",
     "output_type": "stream",
     "text": [
      "Epoch: 13 Acc: 87.77: 100%|██████████| 172/172 [00:41<00:00,  4.16it/s]\n"
     ]
    },
    {
     "name": "stdout",
     "output_type": "stream",
     "text": [
      "Tot Loss: 0.3903 CL: 0.29401 AT: 0.09634; Train Acc: 87.77%\n"
     ]
    },
    {
     "name": "stderr",
     "output_type": "stream",
     "text": [
      "100%|██████████| 74/74 [00:05<00:00, 13.22it/s]\n"
     ]
    },
    {
     "name": "stdout",
     "output_type": "stream",
     "text": [
      "Test Loss: 0.4742018052855054, Test Acc: 80.03%\n"
     ]
    },
    {
     "name": "stderr",
     "output_type": "stream",
     "text": [
      "Epoch: 14 Acc: 88.35: 100%|██████████| 172/172 [00:43<00:00,  3.93it/s]\n"
     ]
    },
    {
     "name": "stdout",
     "output_type": "stream",
     "text": [
      "Tot Loss: 0.3726 CL: 0.27912 AT: 0.09348; Train Acc: 88.35%\n"
     ]
    },
    {
     "name": "stderr",
     "output_type": "stream",
     "text": [
      "100%|██████████| 74/74 [00:10<00:00,  6.73it/s]\n"
     ]
    },
    {
     "name": "stdout",
     "output_type": "stream",
     "text": [
      "Test Loss: 0.47488611795612284, Test Acc: 81.10%\n",
      "Saving..\n"
     ]
    },
    {
     "name": "stderr",
     "output_type": "stream",
     "text": [
      "Epoch: 15 Acc: 89.24: 100%|██████████| 172/172 [00:42<00:00,  4.08it/s]\n"
     ]
    },
    {
     "name": "stdout",
     "output_type": "stream",
     "text": [
      "Tot Loss: 0.3536 CL: 0.26265 AT: 0.09095; Train Acc: 89.24%\n"
     ]
    },
    {
     "name": "stderr",
     "output_type": "stream",
     "text": [
      "100%|██████████| 74/74 [00:08<00:00,  8.72it/s]\n"
     ]
    },
    {
     "name": "stdout",
     "output_type": "stream",
     "text": [
      "Test Loss: 0.45604954961989375, Test Acc: 81.31%\n",
      "Saving..\n"
     ]
    },
    {
     "name": "stderr",
     "output_type": "stream",
     "text": [
      "Epoch: 16 Acc: 90.50: 100%|██████████| 172/172 [00:40<00:00,  4.25it/s]\n"
     ]
    },
    {
     "name": "stdout",
     "output_type": "stream",
     "text": [
      "Tot Loss: 0.3281 CL: 0.23952 AT: 0.08858; Train Acc: 90.50%\n"
     ]
    },
    {
     "name": "stderr",
     "output_type": "stream",
     "text": [
      "100%|██████████| 74/74 [00:06<00:00, 11.41it/s]\n"
     ]
    },
    {
     "name": "stdout",
     "output_type": "stream",
     "text": [
      "Test Loss: 0.45630214514361844, Test Acc: 82.29%\n",
      "Saving..\n"
     ]
    },
    {
     "name": "stderr",
     "output_type": "stream",
     "text": [
      "Epoch: 17 Acc: 90.70: 100%|██████████| 172/172 [00:40<00:00,  4.28it/s]\n"
     ]
    },
    {
     "name": "stdout",
     "output_type": "stream",
     "text": [
      "Tot Loss: 0.3134 CL: 0.22664 AT: 0.08678; Train Acc: 90.70%\n"
     ]
    },
    {
     "name": "stderr",
     "output_type": "stream",
     "text": [
      "100%|██████████| 74/74 [00:09<00:00,  7.90it/s]\n"
     ]
    },
    {
     "name": "stdout",
     "output_type": "stream",
     "text": [
      "Test Loss: 0.4316055326143632, Test Acc: 84.83%\n",
      "Saving..\n"
     ]
    },
    {
     "name": "stderr",
     "output_type": "stream",
     "text": [
      "Epoch: 18 Acc: 91.19: 100%|██████████| 172/172 [00:42<00:00,  4.02it/s]\n"
     ]
    },
    {
     "name": "stdout",
     "output_type": "stream",
     "text": [
      "Tot Loss: 0.3060 CL: 0.22110 AT: 0.08492; Train Acc: 91.19%\n"
     ]
    },
    {
     "name": "stderr",
     "output_type": "stream",
     "text": [
      "100%|██████████| 74/74 [00:06<00:00, 11.13it/s]\n"
     ]
    },
    {
     "name": "stdout",
     "output_type": "stream",
     "text": [
      "Test Loss: 0.44192159427581607, Test Acc: 84.28%\n"
     ]
    },
    {
     "name": "stderr",
     "output_type": "stream",
     "text": [
      "Epoch: 19 Acc: 91.19: 100%|██████████| 172/172 [00:52<00:00,  3.29it/s]\n"
     ]
    },
    {
     "name": "stdout",
     "output_type": "stream",
     "text": [
      "Tot Loss: 0.3007 CL: 0.21736 AT: 0.08333; Train Acc: 91.19%\n"
     ]
    },
    {
     "name": "stderr",
     "output_type": "stream",
     "text": [
      "100%|██████████| 74/74 [00:06<00:00, 12.16it/s]\n"
     ]
    },
    {
     "name": "stdout",
     "output_type": "stream",
     "text": [
      "Test Loss: 0.43303596248497833, Test Acc: 83.64%\n"
     ]
    },
    {
     "name": "stderr",
     "output_type": "stream",
     "text": [
      "Epoch: 20 Acc: 92.52: 100%|██████████| 172/172 [00:40<00:00,  4.23it/s]\n"
     ]
    },
    {
     "name": "stdout",
     "output_type": "stream",
     "text": [
      "Tot Loss: 0.2719 CL: 0.19039 AT: 0.08147; Train Acc: 92.52%\n"
     ]
    },
    {
     "name": "stderr",
     "output_type": "stream",
     "text": [
      "100%|██████████| 74/74 [00:05<00:00, 12.92it/s]\n"
     ]
    },
    {
     "name": "stdout",
     "output_type": "stream",
     "text": [
      "Test Loss: 0.44605263121224736, Test Acc: 84.58%\n"
     ]
    },
    {
     "name": "stderr",
     "output_type": "stream",
     "text": [
      "Epoch: 21 Acc: 93.36: 100%|██████████| 172/172 [00:44<00:00,  3.87it/s]\n"
     ]
    },
    {
     "name": "stdout",
     "output_type": "stream",
     "text": [
      "Tot Loss: 0.2542 CL: 0.17418 AT: 0.08004; Train Acc: 93.36%\n"
     ]
    },
    {
     "name": "stderr",
     "output_type": "stream",
     "text": [
      "100%|██████████| 74/74 [00:05<00:00, 12.67it/s]\n"
     ]
    },
    {
     "name": "stdout",
     "output_type": "stream",
     "text": [
      "Test Loss: 0.5094333955565015, Test Acc: 84.37%\n"
     ]
    },
    {
     "name": "stderr",
     "output_type": "stream",
     "text": [
      "Epoch: 22 Acc: 92.87: 100%|██████████| 172/172 [00:40<00:00,  4.25it/s]\n"
     ]
    },
    {
     "name": "stdout",
     "output_type": "stream",
     "text": [
      "Tot Loss: 0.2563 CL: 0.17800 AT: 0.07831; Train Acc: 92.87%\n"
     ]
    },
    {
     "name": "stderr",
     "output_type": "stream",
     "text": [
      "100%|██████████| 74/74 [00:13<00:00,  5.54it/s]\n"
     ]
    },
    {
     "name": "stdout",
     "output_type": "stream",
     "text": [
      "Test Loss: 0.4560332332511206, Test Acc: 84.37%\n"
     ]
    },
    {
     "name": "stderr",
     "output_type": "stream",
     "text": [
      "Epoch: 23 Acc: 92.90: 100%|██████████| 172/172 [00:40<00:00,  4.27it/s]\n"
     ]
    },
    {
     "name": "stdout",
     "output_type": "stream",
     "text": [
      "Tot Loss: 0.2490 CL: 0.17222 AT: 0.07680; Train Acc: 92.90%\n"
     ]
    },
    {
     "name": "stderr",
     "output_type": "stream",
     "text": [
      "100%|██████████| 74/74 [00:06<00:00, 11.93it/s]\n"
     ]
    },
    {
     "name": "stdout",
     "output_type": "stream",
     "text": [
      "Test Loss: 0.4700669686536531, Test Acc: 84.54%\n"
     ]
    },
    {
     "name": "stderr",
     "output_type": "stream",
     "text": [
      "Epoch: 24 Acc: 93.76: 100%|██████████| 172/172 [00:39<00:00,  4.34it/s]\n"
     ]
    },
    {
     "name": "stdout",
     "output_type": "stream",
     "text": [
      "Tot Loss: 0.2345 CL: 0.15877 AT: 0.07577; Train Acc: 93.76%\n"
     ]
    },
    {
     "name": "stderr",
     "output_type": "stream",
     "text": [
      "100%|██████████| 74/74 [00:06<00:00, 11.41it/s]\n"
     ]
    },
    {
     "name": "stdout",
     "output_type": "stream",
     "text": [
      "Test Loss: 0.4417791320766146, Test Acc: 85.68%\n",
      "Saving..\n"
     ]
    },
    {
     "name": "stderr",
     "output_type": "stream",
     "text": [
      "Epoch: 25 Acc: 93.45: 100%|██████████| 172/172 [00:44<00:00,  3.83it/s]\n"
     ]
    },
    {
     "name": "stdout",
     "output_type": "stream",
     "text": [
      "Tot Loss: 0.2407 CL: 0.16623 AT: 0.07447; Train Acc: 93.45%\n"
     ]
    },
    {
     "name": "stderr",
     "output_type": "stream",
     "text": [
      "100%|██████████| 74/74 [00:06<00:00, 11.21it/s]\n"
     ]
    },
    {
     "name": "stdout",
     "output_type": "stream",
     "text": [
      "Test Loss: 0.4761151350229173, Test Acc: 84.58%\n"
     ]
    },
    {
     "name": "stderr",
     "output_type": "stream",
     "text": [
      "Epoch: 26 Acc: 94.56: 100%|██████████| 172/172 [00:41<00:00,  4.12it/s]\n"
     ]
    },
    {
     "name": "stdout",
     "output_type": "stream",
     "text": [
      "Tot Loss: 0.2189 CL: 0.14577 AT: 0.07312; Train Acc: 94.56%\n"
     ]
    },
    {
     "name": "stderr",
     "output_type": "stream",
     "text": [
      "100%|██████████| 74/74 [00:05<00:00, 12.67it/s]\n"
     ]
    },
    {
     "name": "stdout",
     "output_type": "stream",
     "text": [
      "Test Loss: 0.46596280465254913, Test Acc: 84.20%\n"
     ]
    },
    {
     "name": "stderr",
     "output_type": "stream",
     "text": [
      "Epoch: 27 Acc: 94.21: 100%|██████████| 172/172 [00:44<00:00,  3.84it/s]\n"
     ]
    },
    {
     "name": "stdout",
     "output_type": "stream",
     "text": [
      "Tot Loss: 0.2155 CL: 0.14424 AT: 0.07127; Train Acc: 94.21%\n"
     ]
    },
    {
     "name": "stderr",
     "output_type": "stream",
     "text": [
      "100%|██████████| 74/74 [00:05<00:00, 12.42it/s]\n"
     ]
    },
    {
     "name": "stdout",
     "output_type": "stream",
     "text": [
      "Test Loss: 0.4563374409603106, Test Acc: 85.98%\n",
      "Saving..\n"
     ]
    },
    {
     "name": "stderr",
     "output_type": "stream",
     "text": [
      "Epoch: 28 Acc: 94.87: 100%|██████████| 172/172 [00:40<00:00,  4.26it/s]\n"
     ]
    },
    {
     "name": "stdout",
     "output_type": "stream",
     "text": [
      "Tot Loss: 0.2041 CL: 0.13361 AT: 0.07049; Train Acc: 94.87%\n"
     ]
    },
    {
     "name": "stderr",
     "output_type": "stream",
     "text": [
      "100%|██████████| 74/74 [00:06<00:00, 11.39it/s]\n"
     ]
    },
    {
     "name": "stdout",
     "output_type": "stream",
     "text": [
      "Test Loss: 0.4324190625669183, Test Acc: 86.24%\n",
      "Saving..\n"
     ]
    },
    {
     "name": "stderr",
     "output_type": "stream",
     "text": [
      "Epoch: 29 Acc: 95.43: 100%|██████████| 172/172 [00:42<00:00,  4.03it/s]\n"
     ]
    },
    {
     "name": "stdout",
     "output_type": "stream",
     "text": [
      "Tot Loss: 0.2002 CL: 0.13022 AT: 0.06996; Train Acc: 95.43%\n"
     ]
    },
    {
     "name": "stderr",
     "output_type": "stream",
     "text": [
      "100%|██████████| 74/74 [00:06<00:00, 11.61it/s]\n"
     ]
    },
    {
     "name": "stdout",
     "output_type": "stream",
     "text": [
      "Test Loss: 0.45285109229184484, Test Acc: 85.64%\n"
     ]
    },
    {
     "name": "stderr",
     "output_type": "stream",
     "text": [
      "Epoch: 30 Acc: 95.21: 100%|██████████| 172/172 [00:41<00:00,  4.10it/s]\n"
     ]
    },
    {
     "name": "stdout",
     "output_type": "stream",
     "text": [
      "Tot Loss: 0.1996 CL: 0.13102 AT: 0.06861; Train Acc: 95.21%\n"
     ]
    },
    {
     "name": "stderr",
     "output_type": "stream",
     "text": [
      "100%|██████████| 74/74 [00:05<00:00, 12.75it/s]\n"
     ]
    },
    {
     "name": "stdout",
     "output_type": "stream",
     "text": [
      "Test Loss: 0.4302494853130869, Test Acc: 86.07%\n"
     ]
    },
    {
     "name": "stderr",
     "output_type": "stream",
     "text": [
      "Epoch: 31 Acc: 95.41: 100%|██████████| 172/172 [00:43<00:00,  3.99it/s]\n"
     ]
    },
    {
     "name": "stdout",
     "output_type": "stream",
     "text": [
      "Tot Loss: 0.1917 CL: 0.12405 AT: 0.06766; Train Acc: 95.41%\n"
     ]
    },
    {
     "name": "stderr",
     "output_type": "stream",
     "text": [
      "100%|██████████| 74/74 [00:09<00:00,  7.56it/s]\n"
     ]
    },
    {
     "name": "stdout",
     "output_type": "stream",
     "text": [
      "Test Loss: 0.42873980814742074, Test Acc: 86.75%\n",
      "Saving..\n"
     ]
    },
    {
     "name": "stderr",
     "output_type": "stream",
     "text": [
      "Epoch: 32 Acc: 95.65: 100%|██████████| 172/172 [00:56<00:00,  3.03it/s]\n"
     ]
    },
    {
     "name": "stdout",
     "output_type": "stream",
     "text": [
      "Tot Loss: 0.1781 CL: 0.11155 AT: 0.06655; Train Acc: 95.65%\n"
     ]
    },
    {
     "name": "stderr",
     "output_type": "stream",
     "text": [
      "100%|██████████| 74/74 [00:05<00:00, 12.99it/s]\n"
     ]
    },
    {
     "name": "stdout",
     "output_type": "stream",
     "text": [
      "Test Loss: 0.5038463336390417, Test Acc: 85.17%\n"
     ]
    },
    {
     "name": "stderr",
     "output_type": "stream",
     "text": [
      "Epoch: 33 Acc: 95.85: 100%|██████████| 172/172 [00:41<00:00,  4.15it/s]\n"
     ]
    },
    {
     "name": "stdout",
     "output_type": "stream",
     "text": [
      "Tot Loss: 0.1725 CL: 0.10645 AT: 0.06600; Train Acc: 95.85%\n"
     ]
    },
    {
     "name": "stderr",
     "output_type": "stream",
     "text": [
      "100%|██████████| 74/74 [00:06<00:00, 12.32it/s]\n"
     ]
    },
    {
     "name": "stdout",
     "output_type": "stream",
     "text": [
      "Test Loss: 0.6247587961119574, Test Acc: 83.43%\n"
     ]
    },
    {
     "name": "stderr",
     "output_type": "stream",
     "text": [
      "Epoch: 34 Acc: 95.81: 100%|██████████| 172/172 [00:41<00:00,  4.11it/s]\n"
     ]
    },
    {
     "name": "stdout",
     "output_type": "stream",
     "text": [
      "Tot Loss: 0.1839 CL: 0.11882 AT: 0.06509; Train Acc: 95.81%\n"
     ]
    },
    {
     "name": "stderr",
     "output_type": "stream",
     "text": [
      "100%|██████████| 74/74 [00:07<00:00,  9.34it/s]\n"
     ]
    },
    {
     "name": "stdout",
     "output_type": "stream",
     "text": [
      "Test Loss: 0.4778498680507009, Test Acc: 86.41%\n"
     ]
    },
    {
     "name": "stderr",
     "output_type": "stream",
     "text": [
      "Epoch: 35 Acc: 95.51: 100%|██████████| 172/172 [00:44<00:00,  3.88it/s]\n"
     ]
    },
    {
     "name": "stdout",
     "output_type": "stream",
     "text": [
      "Tot Loss: 0.1832 CL: 0.11922 AT: 0.06395; Train Acc: 95.51%\n"
     ]
    },
    {
     "name": "stderr",
     "output_type": "stream",
     "text": [
      "100%|██████████| 74/74 [00:10<00:00,  6.97it/s]\n"
     ]
    },
    {
     "name": "stdout",
     "output_type": "stream",
     "text": [
      "Test Loss: 0.4923363153797549, Test Acc: 85.43%\n"
     ]
    },
    {
     "name": "stderr",
     "output_type": "stream",
     "text": [
      "Epoch: 36 Acc: 96.21: 100%|██████████| 172/172 [00:51<00:00,  3.37it/s]\n"
     ]
    },
    {
     "name": "stdout",
     "output_type": "stream",
     "text": [
      "Tot Loss: 0.1684 CL: 0.10480 AT: 0.06360; Train Acc: 96.21%\n"
     ]
    },
    {
     "name": "stderr",
     "output_type": "stream",
     "text": [
      "100%|██████████| 74/74 [00:07<00:00, 10.27it/s]\n"
     ]
    },
    {
     "name": "stdout",
     "output_type": "stream",
     "text": [
      "Test Loss: 0.4730965948185405, Test Acc: 86.58%\n"
     ]
    },
    {
     "name": "stderr",
     "output_type": "stream",
     "text": [
      "Epoch: 37 Acc: 96.07: 100%|██████████| 172/172 [00:42<00:00,  4.01it/s]\n"
     ]
    },
    {
     "name": "stdout",
     "output_type": "stream",
     "text": [
      "Tot Loss: 0.1691 CL: 0.10610 AT: 0.06303; Train Acc: 96.07%\n"
     ]
    },
    {
     "name": "stderr",
     "output_type": "stream",
     "text": [
      "100%|██████████| 74/74 [00:06<00:00, 11.25it/s]\n"
     ]
    },
    {
     "name": "stdout",
     "output_type": "stream",
     "text": [
      "Test Loss: 0.5008483763683487, Test Acc: 86.53%\n"
     ]
    },
    {
     "name": "stderr",
     "output_type": "stream",
     "text": [
      "Epoch: 38 Acc: 96.31: 100%|██████████| 172/172 [00:41<00:00,  4.19it/s]\n"
     ]
    },
    {
     "name": "stdout",
     "output_type": "stream",
     "text": [
      "Tot Loss: 0.1567 CL: 0.09444 AT: 0.06227; Train Acc: 96.31%\n"
     ]
    },
    {
     "name": "stderr",
     "output_type": "stream",
     "text": [
      "100%|██████████| 74/74 [00:06<00:00, 11.05it/s]\n"
     ]
    },
    {
     "name": "stdout",
     "output_type": "stream",
     "text": [
      "Test Loss: 0.5776912816170905, Test Acc: 85.09%\n"
     ]
    },
    {
     "name": "stderr",
     "output_type": "stream",
     "text": [
      "Epoch: 39 Acc: 95.76: 100%|██████████| 172/172 [00:50<00:00,  3.39it/s]\n"
     ]
    },
    {
     "name": "stdout",
     "output_type": "stream",
     "text": [
      "Tot Loss: 0.1701 CL: 0.10857 AT: 0.06156; Train Acc: 95.76%\n"
     ]
    },
    {
     "name": "stderr",
     "output_type": "stream",
     "text": [
      "100%|██████████| 74/74 [00:06<00:00, 10.65it/s]\n"
     ]
    },
    {
     "name": "stdout",
     "output_type": "stream",
     "text": [
      "Test Loss: 0.5703271309266219, Test Acc: 84.41%\n"
     ]
    },
    {
     "name": "stderr",
     "output_type": "stream",
     "text": [
      "Epoch: 40 Acc: 96.31: 100%|██████████| 172/172 [00:40<00:00,  4.30it/s]\n"
     ]
    },
    {
     "name": "stdout",
     "output_type": "stream",
     "text": [
      "Tot Loss: 0.1576 CL: 0.09689 AT: 0.06068; Train Acc: 96.31%\n"
     ]
    },
    {
     "name": "stderr",
     "output_type": "stream",
     "text": [
      "100%|██████████| 74/74 [00:08<00:00,  8.58it/s]\n"
     ]
    },
    {
     "name": "stdout",
     "output_type": "stream",
     "text": [
      "Test Loss: 0.47350705490523093, Test Acc: 87.09%\n",
      "Saving..\n"
     ]
    },
    {
     "name": "stderr",
     "output_type": "stream",
     "text": [
      "Epoch: 41 Acc: 96.62: 100%|██████████| 172/172 [00:41<00:00,  4.15it/s]\n"
     ]
    },
    {
     "name": "stdout",
     "output_type": "stream",
     "text": [
      "Tot Loss: 0.1548 CL: 0.09437 AT: 0.06042; Train Acc: 96.62%\n"
     ]
    },
    {
     "name": "stderr",
     "output_type": "stream",
     "text": [
      "100%|██████████| 74/74 [00:07<00:00,  9.60it/s]\n"
     ]
    },
    {
     "name": "stdout",
     "output_type": "stream",
     "text": [
      "Test Loss: 0.5219283689920967, Test Acc: 85.39%\n"
     ]
    },
    {
     "name": "stderr",
     "output_type": "stream",
     "text": [
      "Epoch: 42 Acc: 96.80: 100%|██████████| 172/172 [00:40<00:00,  4.28it/s]\n"
     ]
    },
    {
     "name": "stdout",
     "output_type": "stream",
     "text": [
      "Tot Loss: 0.1457 CL: 0.08632 AT: 0.05942; Train Acc: 96.80%\n"
     ]
    },
    {
     "name": "stderr",
     "output_type": "stream",
     "text": [
      "100%|██████████| 74/74 [00:09<00:00,  8.02it/s]\n"
     ]
    },
    {
     "name": "stdout",
     "output_type": "stream",
     "text": [
      "Test Loss: 0.5808273706132093, Test Acc: 84.88%\n"
     ]
    },
    {
     "name": "stderr",
     "output_type": "stream",
     "text": [
      "Epoch: 43 Acc: 96.85: 100%|██████████| 172/172 [00:40<00:00,  4.30it/s]\n"
     ]
    },
    {
     "name": "stdout",
     "output_type": "stream",
     "text": [
      "Tot Loss: 0.1422 CL: 0.08334 AT: 0.05883; Train Acc: 96.85%\n"
     ]
    },
    {
     "name": "stderr",
     "output_type": "stream",
     "text": [
      "100%|██████████| 74/74 [00:11<00:00,  6.54it/s]\n"
     ]
    },
    {
     "name": "stdout",
     "output_type": "stream",
     "text": [
      "Test Loss: 0.5238636663384937, Test Acc: 86.15%\n"
     ]
    },
    {
     "name": "stderr",
     "output_type": "stream",
     "text": [
      "Epoch: 44 Acc: 96.92: 100%|██████████| 172/172 [00:46<00:00,  3.68it/s]\n"
     ]
    },
    {
     "name": "stdout",
     "output_type": "stream",
     "text": [
      "Tot Loss: 0.1411 CL: 0.08293 AT: 0.05819; Train Acc: 96.92%\n"
     ]
    },
    {
     "name": "stderr",
     "output_type": "stream",
     "text": [
      "100%|██████████| 74/74 [00:05<00:00, 12.71it/s]\n"
     ]
    },
    {
     "name": "stdout",
     "output_type": "stream",
     "text": [
      "Test Loss: 0.5314550933151229, Test Acc: 86.45%\n"
     ]
    },
    {
     "name": "stderr",
     "output_type": "stream",
     "text": [
      "Epoch: 45 Acc: 97.51: 100%|██████████| 172/172 [00:41<00:00,  4.18it/s]\n"
     ]
    },
    {
     "name": "stdout",
     "output_type": "stream",
     "text": [
      "Tot Loss: 0.1274 CL: 0.06993 AT: 0.05745; Train Acc: 97.51%\n"
     ]
    },
    {
     "name": "stderr",
     "output_type": "stream",
     "text": [
      "100%|██████████| 74/74 [00:06<00:00, 12.27it/s]\n"
     ]
    },
    {
     "name": "stdout",
     "output_type": "stream",
     "text": [
      "Test Loss: 0.5293533304152457, Test Acc: 87.21%\n",
      "Saving..\n"
     ]
    },
    {
     "name": "stderr",
     "output_type": "stream",
     "text": [
      "Epoch: 46 Acc: 97.03: 100%|██████████| 172/172 [00:48<00:00,  3.58it/s]\n"
     ]
    },
    {
     "name": "stdout",
     "output_type": "stream",
     "text": [
      "Tot Loss: 0.1348 CL: 0.07810 AT: 0.05666; Train Acc: 97.03%\n"
     ]
    },
    {
     "name": "stderr",
     "output_type": "stream",
     "text": [
      "100%|██████████| 74/74 [00:11<00:00,  6.68it/s]\n"
     ]
    },
    {
     "name": "stdout",
     "output_type": "stream",
     "text": [
      "Test Loss: 0.4985446764558956, Test Acc: 86.41%\n"
     ]
    },
    {
     "name": "stderr",
     "output_type": "stream",
     "text": [
      "Epoch: 47 Acc: 96.91: 100%|██████████| 172/172 [00:40<00:00,  4.27it/s]\n"
     ]
    },
    {
     "name": "stdout",
     "output_type": "stream",
     "text": [
      "Tot Loss: 0.1413 CL: 0.08553 AT: 0.05581; Train Acc: 96.91%\n"
     ]
    },
    {
     "name": "stderr",
     "output_type": "stream",
     "text": [
      "100%|██████████| 74/74 [00:08<00:00,  8.59it/s]\n"
     ]
    },
    {
     "name": "stdout",
     "output_type": "stream",
     "text": [
      "Test Loss: 0.5377819841173855, Test Acc: 84.92%\n"
     ]
    },
    {
     "name": "stderr",
     "output_type": "stream",
     "text": [
      "Epoch: 48 Acc: 97.09: 100%|██████████| 172/172 [00:39<00:00,  4.32it/s]\n"
     ]
    },
    {
     "name": "stdout",
     "output_type": "stream",
     "text": [
      "Tot Loss: 0.1328 CL: 0.07792 AT: 0.05488; Train Acc: 97.09%\n"
     ]
    },
    {
     "name": "stderr",
     "output_type": "stream",
     "text": [
      "100%|██████████| 74/74 [00:05<00:00, 12.70it/s]\n"
     ]
    },
    {
     "name": "stdout",
     "output_type": "stream",
     "text": [
      "Test Loss: 0.49790456146001816, Test Acc: 87.47%\n",
      "Saving..\n"
     ]
    },
    {
     "name": "stderr",
     "output_type": "stream",
     "text": [
      "Epoch: 49 Acc: 97.93: 100%|██████████| 172/172 [00:40<00:00,  4.22it/s]\n"
     ]
    },
    {
     "name": "stdout",
     "output_type": "stream",
     "text": [
      "Tot Loss: 0.1116 CL: 0.05855 AT: 0.05305; Train Acc: 97.93%\n"
     ]
    },
    {
     "name": "stderr",
     "output_type": "stream",
     "text": [
      "100%|██████████| 74/74 [00:05<00:00, 12.35it/s]\n"
     ]
    },
    {
     "name": "stdout",
     "output_type": "stream",
     "text": [
      "Test Loss: 0.5837787472315736, Test Acc: 86.19%\n",
      "Saving..\n"
     ]
    }
   ],
   "source": [
    "if start_epoch>0:\n",
    "    checkpoint = torch.load(glob.glob(os.path.join(result_dir,f'basel0_2lbMGA-tune-b{batch_size}-epoch{start_epoch-1}-*.pth'))[0] )\n",
    "    net.load_state_dict(checkpoint['net'])\n",
    "    best_acc = checkpoint['acc']\n",
    "\n",
    "for epoch in range(start_epoch, start_epoch+50):\n",
    "    train(epoch)\n",
    "    test(epoch, islast = epoch==start_epoch+49)"
   ]
  },
  {
   "cell_type": "code",
   "execution_count": 11,
   "id": "fa7663ca",
   "metadata": {},
   "outputs": [],
   "source": [
    "traindf = pd.DataFrame(training_info[1:],columns=training_info[0])\n",
    "testdf = pd.DataFrame(testing_info[1:],columns=testing_info[0])\n",
    "with open(os.path.join(result_dir,f'basel0_2lbMBA-tune-b{batch_size}-info.pkl'), 'wb') as file:\n",
    "    pickle.dump({\"train\":traindf,\"test\":testdf}, file)\n",
    "\n",
    " \n",
    " #   scheduler.step()"
   ]
  },
  {
   "cell_type": "code",
   "execution_count": 2,
   "id": "e9d2a837",
   "metadata": {},
   "outputs": [],
   "source": [
    "import numpy as np\n",
    "aa = np.array([1,2,3])"
   ]
  },
  {
   "cell_type": "code",
   "execution_count": 9,
   "id": "08c6b611",
   "metadata": {},
   "outputs": [
    {
     "ename": "NameError",
     "evalue": "name 'net' is not defined",
     "output_type": "error",
     "traceback": [
      "\u001b[0;31m---------------------------------------------------------------------------\u001b[0m",
      "\u001b[0;31mNameError\u001b[0m                                 Traceback (most recent call last)",
      "Cell \u001b[0;32mIn[9], line 1\u001b[0m\n\u001b[0;32m----> 1\u001b[0m \u001b[43mnet\u001b[49m\n",
      "\u001b[0;31mNameError\u001b[0m: name 'net' is not defined"
     ]
    }
   ],
   "source": [
    "net"
   ]
  },
  {
   "cell_type": "code",
   "execution_count": 12,
   "id": "190325e6",
   "metadata": {},
   "outputs": [
    {
     "data": {
      "text/html": [
       "<div>\n",
       "<style scoped>\n",
       "    .dataframe tbody tr th:only-of-type {\n",
       "        vertical-align: middle;\n",
       "    }\n",
       "\n",
       "    .dataframe tbody tr th {\n",
       "        vertical-align: top;\n",
       "    }\n",
       "\n",
       "    .dataframe thead th {\n",
       "        text-align: right;\n",
       "    }\n",
       "</style>\n",
       "<table border=\"1\" class=\"dataframe\">\n",
       "  <thead>\n",
       "    <tr style=\"text-align: right;\">\n",
       "      <th></th>\n",
       "      <th>epoch</th>\n",
       "      <th>acc</th>\n",
       "      <th>loss</th>\n",
       "    </tr>\n",
       "  </thead>\n",
       "  <tbody>\n",
       "    <tr>\n",
       "      <th>0</th>\n",
       "      <td>0</td>\n",
       "      <td>63.593883</td>\n",
       "      <td>0.638772</td>\n",
       "    </tr>\n",
       "    <tr>\n",
       "      <th>1</th>\n",
       "      <td>1</td>\n",
       "      <td>64.910790</td>\n",
       "      <td>0.634513</td>\n",
       "    </tr>\n",
       "    <tr>\n",
       "      <th>2</th>\n",
       "      <td>2</td>\n",
       "      <td>65.760408</td>\n",
       "      <td>0.614288</td>\n",
       "    </tr>\n",
       "    <tr>\n",
       "      <th>3</th>\n",
       "      <td>3</td>\n",
       "      <td>67.204758</td>\n",
       "      <td>0.599879</td>\n",
       "    </tr>\n",
       "    <tr>\n",
       "      <th>4</th>\n",
       "      <td>4</td>\n",
       "      <td>73.152082</td>\n",
       "      <td>0.544883</td>\n",
       "    </tr>\n",
       "    <tr>\n",
       "      <th>5</th>\n",
       "      <td>5</td>\n",
       "      <td>65.930331</td>\n",
       "      <td>0.648470</td>\n",
       "    </tr>\n",
       "    <tr>\n",
       "      <th>6</th>\n",
       "      <td>6</td>\n",
       "      <td>75.191164</td>\n",
       "      <td>0.518853</td>\n",
       "    </tr>\n",
       "    <tr>\n",
       "      <th>7</th>\n",
       "      <td>7</td>\n",
       "      <td>77.272727</td>\n",
       "      <td>0.496066</td>\n",
       "    </tr>\n",
       "    <tr>\n",
       "      <th>8</th>\n",
       "      <td>8</td>\n",
       "      <td>72.939677</td>\n",
       "      <td>0.561332</td>\n",
       "    </tr>\n",
       "    <tr>\n",
       "      <th>9</th>\n",
       "      <td>9</td>\n",
       "      <td>78.717077</td>\n",
       "      <td>0.513102</td>\n",
       "    </tr>\n",
       "    <tr>\n",
       "      <th>10</th>\n",
       "      <td>10</td>\n",
       "      <td>75.233645</td>\n",
       "      <td>0.592179</td>\n",
       "    </tr>\n",
       "    <tr>\n",
       "      <th>11</th>\n",
       "      <td>11</td>\n",
       "      <td>79.056924</td>\n",
       "      <td>0.470814</td>\n",
       "    </tr>\n",
       "    <tr>\n",
       "      <th>12</th>\n",
       "      <td>12</td>\n",
       "      <td>80.076466</td>\n",
       "      <td>0.504575</td>\n",
       "    </tr>\n",
       "    <tr>\n",
       "      <th>13</th>\n",
       "      <td>13</td>\n",
       "      <td>80.033985</td>\n",
       "      <td>0.474202</td>\n",
       "    </tr>\n",
       "    <tr>\n",
       "      <th>14</th>\n",
       "      <td>14</td>\n",
       "      <td>81.096007</td>\n",
       "      <td>0.474886</td>\n",
       "    </tr>\n",
       "    <tr>\n",
       "      <th>15</th>\n",
       "      <td>15</td>\n",
       "      <td>81.308411</td>\n",
       "      <td>0.456050</td>\n",
       "    </tr>\n",
       "    <tr>\n",
       "      <th>16</th>\n",
       "      <td>16</td>\n",
       "      <td>82.285472</td>\n",
       "      <td>0.456302</td>\n",
       "    </tr>\n",
       "    <tr>\n",
       "      <th>17</th>\n",
       "      <td>17</td>\n",
       "      <td>84.834325</td>\n",
       "      <td>0.431606</td>\n",
       "    </tr>\n",
       "    <tr>\n",
       "      <th>18</th>\n",
       "      <td>18</td>\n",
       "      <td>84.282073</td>\n",
       "      <td>0.441922</td>\n",
       "    </tr>\n",
       "    <tr>\n",
       "      <th>19</th>\n",
       "      <td>19</td>\n",
       "      <td>83.644860</td>\n",
       "      <td>0.433036</td>\n",
       "    </tr>\n",
       "    <tr>\n",
       "      <th>20</th>\n",
       "      <td>20</td>\n",
       "      <td>84.579439</td>\n",
       "      <td>0.446053</td>\n",
       "    </tr>\n",
       "    <tr>\n",
       "      <th>21</th>\n",
       "      <td>21</td>\n",
       "      <td>84.367035</td>\n",
       "      <td>0.509433</td>\n",
       "    </tr>\n",
       "    <tr>\n",
       "      <th>22</th>\n",
       "      <td>22</td>\n",
       "      <td>84.367035</td>\n",
       "      <td>0.456033</td>\n",
       "    </tr>\n",
       "    <tr>\n",
       "      <th>23</th>\n",
       "      <td>23</td>\n",
       "      <td>84.536958</td>\n",
       "      <td>0.470067</td>\n",
       "    </tr>\n",
       "    <tr>\n",
       "      <th>24</th>\n",
       "      <td>24</td>\n",
       "      <td>85.683942</td>\n",
       "      <td>0.441779</td>\n",
       "    </tr>\n",
       "    <tr>\n",
       "      <th>25</th>\n",
       "      <td>25</td>\n",
       "      <td>84.579439</td>\n",
       "      <td>0.476115</td>\n",
       "    </tr>\n",
       "    <tr>\n",
       "      <th>26</th>\n",
       "      <td>26</td>\n",
       "      <td>84.197111</td>\n",
       "      <td>0.465963</td>\n",
       "    </tr>\n",
       "    <tr>\n",
       "      <th>27</th>\n",
       "      <td>27</td>\n",
       "      <td>85.981308</td>\n",
       "      <td>0.456337</td>\n",
       "    </tr>\n",
       "    <tr>\n",
       "      <th>28</th>\n",
       "      <td>28</td>\n",
       "      <td>86.236194</td>\n",
       "      <td>0.432419</td>\n",
       "    </tr>\n",
       "    <tr>\n",
       "      <th>29</th>\n",
       "      <td>29</td>\n",
       "      <td>85.641461</td>\n",
       "      <td>0.452851</td>\n",
       "    </tr>\n",
       "    <tr>\n",
       "      <th>30</th>\n",
       "      <td>30</td>\n",
       "      <td>86.066270</td>\n",
       "      <td>0.430249</td>\n",
       "    </tr>\n",
       "    <tr>\n",
       "      <th>31</th>\n",
       "      <td>31</td>\n",
       "      <td>86.745964</td>\n",
       "      <td>0.428740</td>\n",
       "    </tr>\n",
       "    <tr>\n",
       "      <th>32</th>\n",
       "      <td>32</td>\n",
       "      <td>85.174172</td>\n",
       "      <td>0.503846</td>\n",
       "    </tr>\n",
       "    <tr>\n",
       "      <th>33</th>\n",
       "      <td>33</td>\n",
       "      <td>83.432455</td>\n",
       "      <td>0.624759</td>\n",
       "    </tr>\n",
       "    <tr>\n",
       "      <th>34</th>\n",
       "      <td>34</td>\n",
       "      <td>86.406117</td>\n",
       "      <td>0.477850</td>\n",
       "    </tr>\n",
       "    <tr>\n",
       "      <th>35</th>\n",
       "      <td>35</td>\n",
       "      <td>85.429057</td>\n",
       "      <td>0.492336</td>\n",
       "    </tr>\n",
       "    <tr>\n",
       "      <th>36</th>\n",
       "      <td>36</td>\n",
       "      <td>86.576041</td>\n",
       "      <td>0.473097</td>\n",
       "    </tr>\n",
       "    <tr>\n",
       "      <th>37</th>\n",
       "      <td>37</td>\n",
       "      <td>86.533560</td>\n",
       "      <td>0.500848</td>\n",
       "    </tr>\n",
       "    <tr>\n",
       "      <th>38</th>\n",
       "      <td>38</td>\n",
       "      <td>85.089210</td>\n",
       "      <td>0.577691</td>\n",
       "    </tr>\n",
       "    <tr>\n",
       "      <th>39</th>\n",
       "      <td>39</td>\n",
       "      <td>84.409516</td>\n",
       "      <td>0.570327</td>\n",
       "    </tr>\n",
       "    <tr>\n",
       "      <th>40</th>\n",
       "      <td>40</td>\n",
       "      <td>87.085811</td>\n",
       "      <td>0.473507</td>\n",
       "    </tr>\n",
       "    <tr>\n",
       "      <th>41</th>\n",
       "      <td>41</td>\n",
       "      <td>85.386576</td>\n",
       "      <td>0.521928</td>\n",
       "    </tr>\n",
       "    <tr>\n",
       "      <th>42</th>\n",
       "      <td>42</td>\n",
       "      <td>84.876805</td>\n",
       "      <td>0.580827</td>\n",
       "    </tr>\n",
       "    <tr>\n",
       "      <th>43</th>\n",
       "      <td>43</td>\n",
       "      <td>86.151232</td>\n",
       "      <td>0.523864</td>\n",
       "    </tr>\n",
       "    <tr>\n",
       "      <th>44</th>\n",
       "      <td>44</td>\n",
       "      <td>86.448598</td>\n",
       "      <td>0.531455</td>\n",
       "    </tr>\n",
       "    <tr>\n",
       "      <th>45</th>\n",
       "      <td>45</td>\n",
       "      <td>87.213254</td>\n",
       "      <td>0.529353</td>\n",
       "    </tr>\n",
       "    <tr>\n",
       "      <th>46</th>\n",
       "      <td>46</td>\n",
       "      <td>86.406117</td>\n",
       "      <td>0.498545</td>\n",
       "    </tr>\n",
       "    <tr>\n",
       "      <th>47</th>\n",
       "      <td>47</td>\n",
       "      <td>84.919286</td>\n",
       "      <td>0.537782</td>\n",
       "    </tr>\n",
       "    <tr>\n",
       "      <th>48</th>\n",
       "      <td>48</td>\n",
       "      <td>87.468139</td>\n",
       "      <td>0.497905</td>\n",
       "    </tr>\n",
       "    <tr>\n",
       "      <th>49</th>\n",
       "      <td>49</td>\n",
       "      <td>86.193713</td>\n",
       "      <td>0.583779</td>\n",
       "    </tr>\n",
       "  </tbody>\n",
       "</table>\n",
       "</div>"
      ],
      "text/plain": [
       "    epoch        acc      loss\n",
       "0       0  63.593883  0.638772\n",
       "1       1  64.910790  0.634513\n",
       "2       2  65.760408  0.614288\n",
       "3       3  67.204758  0.599879\n",
       "4       4  73.152082  0.544883\n",
       "5       5  65.930331  0.648470\n",
       "6       6  75.191164  0.518853\n",
       "7       7  77.272727  0.496066\n",
       "8       8  72.939677  0.561332\n",
       "9       9  78.717077  0.513102\n",
       "10     10  75.233645  0.592179\n",
       "11     11  79.056924  0.470814\n",
       "12     12  80.076466  0.504575\n",
       "13     13  80.033985  0.474202\n",
       "14     14  81.096007  0.474886\n",
       "15     15  81.308411  0.456050\n",
       "16     16  82.285472  0.456302\n",
       "17     17  84.834325  0.431606\n",
       "18     18  84.282073  0.441922\n",
       "19     19  83.644860  0.433036\n",
       "20     20  84.579439  0.446053\n",
       "21     21  84.367035  0.509433\n",
       "22     22  84.367035  0.456033\n",
       "23     23  84.536958  0.470067\n",
       "24     24  85.683942  0.441779\n",
       "25     25  84.579439  0.476115\n",
       "26     26  84.197111  0.465963\n",
       "27     27  85.981308  0.456337\n",
       "28     28  86.236194  0.432419\n",
       "29     29  85.641461  0.452851\n",
       "30     30  86.066270  0.430249\n",
       "31     31  86.745964  0.428740\n",
       "32     32  85.174172  0.503846\n",
       "33     33  83.432455  0.624759\n",
       "34     34  86.406117  0.477850\n",
       "35     35  85.429057  0.492336\n",
       "36     36  86.576041  0.473097\n",
       "37     37  86.533560  0.500848\n",
       "38     38  85.089210  0.577691\n",
       "39     39  84.409516  0.570327\n",
       "40     40  87.085811  0.473507\n",
       "41     41  85.386576  0.521928\n",
       "42     42  84.876805  0.580827\n",
       "43     43  86.151232  0.523864\n",
       "44     44  86.448598  0.531455\n",
       "45     45  87.213254  0.529353\n",
       "46     46  86.406117  0.498545\n",
       "47     47  84.919286  0.537782\n",
       "48     48  87.468139  0.497905\n",
       "49     49  86.193713  0.583779"
      ]
     },
     "execution_count": 12,
     "metadata": {},
     "output_type": "execute_result"
    }
   ],
   "source": [
    "testdf"
   ]
  },
  {
   "cell_type": "code",
   "execution_count": 13,
   "id": "cb143804",
   "metadata": {},
   "outputs": [],
   "source": [
    "# with open('two_dfs.pkl', 'rb') as file:\n",
    "#     loaded = pickle.load(file)\n",
    "\n",
    "# loaded"
   ]
  }
 ],
 "metadata": {
  "kernelspec": {
   "display_name": "Python 3",
   "language": "python",
   "name": "python3"
  },
  "language_info": {
   "codemirror_mode": {
    "name": "ipython",
    "version": 3
   },
   "file_extension": ".py",
   "mimetype": "text/x-python",
   "name": "python",
   "nbconvert_exporter": "python",
   "pygments_lexer": "ipython3",
   "version": "3.10.12"
  }
 },
 "nbformat": 4,
 "nbformat_minor": 5
}
