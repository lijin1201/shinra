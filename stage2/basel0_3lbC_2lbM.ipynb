{
 "cells": [
  {
   "cell_type": "code",
   "execution_count": 6,
   "id": "b02859b6",
   "metadata": {},
   "outputs": [],
   "source": [
    "#train3 from 2: use adam, remove weight_decay; one BW channel (not 3)\n",
    "import torch,os,glob\n",
    "import torch.nn as nn\n",
    "import torch.optim as optim\n",
    "import torch.nn.functional as F\n",
    "\n",
    "from torchvision.transforms import v2\n",
    "from torchvision import tv_tensors\n",
    "import pandas as pd\n",
    "import numpy as np\n",
    "\n",
    "from nets import ResNet18_3lbC_nlbM\n",
    "from tqdm import tqdm\n",
    "from configparser import ConfigParser\n",
    "from torch.utils.data import  DataLoader\n",
    "from LIDC_M_data import LIDC_Dataset\n",
    "import pickle"
   ]
  },
  {
   "cell_type": "code",
   "execution_count": 7,
   "id": "d3d8dc6b",
   "metadata": {},
   "outputs": [],
   "source": [
    "device = 'cuda' if torch.cuda.is_available() else 'cpu'\n",
    "best_acc = 0  # best test accuracy\n",
    "best_epoch = 0\n",
    "start_epoch = 0  # start from epoch 0 or last checkpoint epoch\n",
    "\n",
    "prep_tr = [\n",
    "    v2.Lambda(lambda x: tv_tensors.Image(torch.clamp(x,-1000.,400.)) if isinstance(x, tv_tensors.Image) else x),\n",
    "    v2.Lambda(lambda x: tv_tensors.Image((x+1000)/1400) if isinstance(x, tv_tensors.Image) else x),\n",
    "    v2.CenterCrop((384,384)),\n",
    "]\n",
    "aug_tr = [\n",
    "    v2.RandomAffine(degrees=10),\n",
    "    v2.RandomHorizontalFlip(),\n",
    "]\n",
    "trans_train = v2.Compose( prep_tr + aug_tr )\n",
    "trans_test = v2.Compose( prep_tr  )"
   ]
  },
  {
   "cell_type": "code",
   "execution_count": 8,
   "id": "2b344e58",
   "metadata": {},
   "outputs": [
    {
     "name": "stdout",
     "output_type": "stream",
     "text": [
      "total_train_data: 5495 total_test_data: 2354\n"
     ]
    }
   ],
   "source": [
    "\n",
    "parser = ConfigParser()\n",
    "parser.read('.settings')\n",
    "root_dir = parser.get('dataset','root_dir') #/workspaces/data/lidc-idri/slices\n",
    "meta_dir = parser.get('dataset','meta_dir') #/workspaces/data/lidc-idri/splits\n",
    "result_dir = os.path.join(parser.get('dataset','result_dir'),'stage2/basel0_3lbC_2lbM')\n",
    "if not os.path.isdir(result_dir):\n",
    "        os.mkdir(result_dir)\n",
    "\n",
    "train_data = LIDC_Dataset(root_dir,metapath=os.path.join(meta_dir,'trainBB_malB.csv'),transform=trans_train, loadBB=True)\n",
    "test_data = LIDC_Dataset(root_dir,metapath=os.path.join(meta_dir,'testBB_malB.csv'),transform=trans_test)\n",
    "total_train_data = len(train_data)\n",
    "total_test_data = len(test_data)\n",
    "print('total_train_data:',total_train_data, 'total_test_data:',total_test_data)\n",
    "\n",
    "batch_size = int(parser['dataset']['batch_size'])\n",
    "trainloader = DataLoader(train_data, batch_size=batch_size, shuffle=True, num_workers=8)\n",
    "testloader = DataLoader(test_data, batch_size=batch_size, num_workers=8)"
   ]
  },
  {
   "cell_type": "code",
   "execution_count": 9,
   "id": "94805703",
   "metadata": {},
   "outputs": [],
   "source": [
    "net = ResNet18_3lbC_nlbM(pretrained=True,attr=\"MGA2\")\n",
    "net.conv1 = nn.Conv2d(1, 64, kernel_size=7, stride=2, padding=3, bias=False)\n",
    "net.fc = nn.Linear(net.fc.in_features, 2)\n",
    "net = net.to(device)"
   ]
  },
  {
   "cell_type": "code",
   "execution_count": 10,
   "id": "31a2f9b7",
   "metadata": {},
   "outputs": [
    {
     "data": {
      "text/plain": [
       "====================================================================================================\n",
       "Layer (type:depth-idx)                             Output Shape              Param #\n",
       "====================================================================================================\n",
       "ResNet18_3lbC_nlbM                                 [32, 2]                   --\n",
       "├─Conv2d: 1-1                                      [32, 64, 192, 192]        3,136\n",
       "├─BatchNorm2d: 1-2                                 [32, 64, 192, 192]        128\n",
       "├─ReLU: 1-3                                        [32, 64, 192, 192]        --\n",
       "├─MaxPool2d: 1-4                                   [32, 64, 96, 96]          --\n",
       "├─Sequential: 1-5                                  [32, 64, 96, 96]          --\n",
       "│    └─BasicBlock: 2-1                             [32, 64, 96, 96]          --\n",
       "│    │    └─Conv2d: 3-1                            [32, 64, 96, 96]          36,864\n",
       "│    │    └─BatchNorm2d: 3-2                       [32, 64, 96, 96]          128\n",
       "│    │    └─ReLU: 3-3                              [32, 64, 96, 96]          --\n",
       "│    │    └─Conv2d: 3-4                            [32, 64, 96, 96]          36,864\n",
       "│    │    └─BatchNorm2d: 3-5                       [32, 64, 96, 96]          128\n",
       "│    │    └─ReLU: 3-6                              [32, 64, 96, 96]          --\n",
       "│    └─CBAMBasicBlock: 2-2                         [32, 64, 96, 96]          --\n",
       "│    │    └─Conv2d: 3-7                            [32, 64, 96, 96]          36,864\n",
       "│    │    └─BatchNorm2d: 3-8                       [32, 64, 96, 96]          128\n",
       "│    │    └─ReLU: 3-9                              [32, 64, 96, 96]          --\n",
       "│    │    └─Conv2d: 3-10                           [32, 64, 96, 96]          36,864\n",
       "│    │    └─BatchNorm2d: 3-11                      [32, 64, 96, 96]          128\n",
       "│    │    └─CBAM: 3-12                             [32, 64, 96, 96]          610\n",
       "│    │    └─ReLU: 3-13                             [32, 64, 96, 96]          --\n",
       "├─Sequential: 1-6                                  [32, 128, 48, 48]         --\n",
       "│    └─BasicBlock: 2-3                             [32, 128, 48, 48]         --\n",
       "│    │    └─Conv2d: 3-14                           [32, 128, 48, 48]         73,728\n",
       "│    │    └─BatchNorm2d: 3-15                      [32, 128, 48, 48]         256\n",
       "│    │    └─ReLU: 3-16                             [32, 128, 48, 48]         --\n",
       "│    │    └─Conv2d: 3-17                           [32, 128, 48, 48]         147,456\n",
       "│    │    └─BatchNorm2d: 3-18                      [32, 128, 48, 48]         256\n",
       "│    │    └─Sequential: 3-19                       [32, 128, 48, 48]         8,448\n",
       "│    │    └─ReLU: 3-20                             [32, 128, 48, 48]         --\n",
       "│    └─CBAMBasicBlockWithMask: 2-4                 [32, 128, 48, 48]         --\n",
       "│    │    └─Conv2d: 3-21                           [32, 128, 48, 48]         147,456\n",
       "│    │    └─BatchNorm2d: 3-22                      [32, 128, 48, 48]         256\n",
       "│    │    └─ReLU: 3-23                             [32, 128, 48, 48]         --\n",
       "│    │    └─Conv2d: 3-24                           [32, 128, 48, 48]         147,456\n",
       "│    │    └─BatchNorm2d: 3-25                      [32, 128, 48, 48]         256\n",
       "│    │    └─CBAMWithMaskSupervision: 3-26          [32, 128, 48, 48]         2,146\n",
       "│    │    └─ReLU: 3-27                             [32, 128, 48, 48]         --\n",
       "├─Sequential: 1-7                                  [32, 256, 24, 24]         --\n",
       "│    └─BasicBlock: 2-5                             [32, 256, 24, 24]         --\n",
       "│    │    └─Conv2d: 3-28                           [32, 256, 24, 24]         294,912\n",
       "│    │    └─BatchNorm2d: 3-29                      [32, 256, 24, 24]         512\n",
       "│    │    └─ReLU: 3-30                             [32, 256, 24, 24]         --\n",
       "│    │    └─Conv2d: 3-31                           [32, 256, 24, 24]         589,824\n",
       "│    │    └─BatchNorm2d: 3-32                      [32, 256, 24, 24]         512\n",
       "│    │    └─Sequential: 3-33                       [32, 256, 24, 24]         33,280\n",
       "│    │    └─ReLU: 3-34                             [32, 256, 24, 24]         --\n",
       "│    └─CBAMBasicBlock: 2-6                         [32, 256, 24, 24]         --\n",
       "│    │    └─Conv2d: 3-35                           [32, 256, 24, 24]         589,824\n",
       "│    │    └─BatchNorm2d: 3-36                      [32, 256, 24, 24]         512\n",
       "│    │    └─ReLU: 3-37                             [32, 256, 24, 24]         --\n",
       "│    │    └─Conv2d: 3-38                           [32, 256, 24, 24]         589,824\n",
       "│    │    └─BatchNorm2d: 3-39                      [32, 256, 24, 24]         512\n",
       "│    │    └─CBAM: 3-40                             [32, 256, 24, 24]         8,290\n",
       "│    │    └─ReLU: 3-41                             [32, 256, 24, 24]         --\n",
       "├─Sequential: 1-8                                  [32, 512, 12, 12]         --\n",
       "│    └─BasicBlock: 2-7                             [32, 512, 12, 12]         --\n",
       "│    │    └─Conv2d: 3-42                           [32, 512, 12, 12]         1,179,648\n",
       "│    │    └─BatchNorm2d: 3-43                      [32, 512, 12, 12]         1,024\n",
       "│    │    └─ReLU: 3-44                             [32, 512, 12, 12]         --\n",
       "│    │    └─Conv2d: 3-45                           [32, 512, 12, 12]         2,359,296\n",
       "│    │    └─BatchNorm2d: 3-46                      [32, 512, 12, 12]         1,024\n",
       "│    │    └─Sequential: 3-47                       [32, 512, 12, 12]         132,096\n",
       "│    │    └─ReLU: 3-48                             [32, 512, 12, 12]         --\n",
       "│    └─BasicBlock: 2-8                             [32, 512, 12, 12]         --\n",
       "│    │    └─Conv2d: 3-49                           [32, 512, 12, 12]         2,359,296\n",
       "│    │    └─BatchNorm2d: 3-50                      [32, 512, 12, 12]         1,024\n",
       "│    │    └─ReLU: 3-51                             [32, 512, 12, 12]         --\n",
       "│    │    └─Conv2d: 3-52                           [32, 512, 12, 12]         2,359,296\n",
       "│    │    └─BatchNorm2d: 3-53                      [32, 512, 12, 12]         1,024\n",
       "│    │    └─ReLU: 3-54                             [32, 512, 12, 12]         --\n",
       "├─AdaptiveAvgPool2d: 1-9                           [32, 512, 1, 1]           --\n",
       "├─Linear: 1-10                                     [32, 2]                   1,026\n",
       "====================================================================================================\n",
       "Total params: 11,182,312\n",
       "Trainable params: 11,182,312\n",
       "Non-trainable params: 0\n",
       "Total mult-adds (G): 163.19\n",
       "====================================================================================================\n",
       "Input size (MB): 18.87\n",
       "Forward/backward pass size (MB): 3740.47\n",
       "Params size (MB): 44.73\n",
       "Estimated Total Size (MB): 3804.07\n",
       "===================================================================================================="
      ]
     },
     "execution_count": 10,
     "metadata": {},
     "output_type": "execute_result"
    }
   ],
   "source": [
    "from torchinfo import summary\n",
    "summary(net, input_size=(batch_size,1, 384, 384))"
   ]
  },
  {
   "cell_type": "code",
   "execution_count": 11,
   "id": "5a98ef22",
   "metadata": {},
   "outputs": [],
   "source": [
    "lr = 1e-4\n",
    "criterion = nn.CrossEntropyLoss()\n",
    "mse = nn.MSELoss()\n",
    "optimizer = optim.Adam(net.parameters(), lr=lr)\n",
    "\n",
    "training_info=[[\"epoch\",\"acc\",\"loss\"]]\n",
    "testing_info=training_info.copy()"
   ]
  },
  {
   "cell_type": "code",
   "execution_count": 12,
   "id": "9e1e321d",
   "metadata": {},
   "outputs": [],
   "source": [
    "def train(epoch):\n",
    "    net.train()\n",
    "    train_loss = np.zeros(3)\n",
    "    correct = 0\n",
    "    total = 0\n",
    "    pbar = tqdm(trainloader)\n",
    "    for batch_idx, (inputs, targets, masks) in enumerate(pbar):\n",
    "        inputs, targets, masks = inputs.to(device), targets.to(device), masks.to(device)\n",
    "\n",
    "        optimizer.zero_grad()\n",
    "        # outputs = net(inputs)\n",
    "        outputs, attn_map = net(inputs)\n",
    "        cls_loss = criterion(outputs, targets)\n",
    "        masks = F.adaptive_avg_pool2d(masks, attn_map.shape[-2:])\n",
    "        att_loss = 100.* mse(attn_map , masks)\n",
    "        \n",
    "        loss =  cls_loss + att_loss\n",
    "        \n",
    "        # loss = criterion(outputs, targets)\n",
    "        loss.backward()\n",
    "        \n",
    "        optimizer.step()\n",
    "\n",
    "        train_loss += np.array([loss.item(), cls_loss.item(), att_loss.item()])\n",
    "        _, predicted = outputs.max(1)\n",
    "        \n",
    "        total += targets.size(0)\n",
    "        correct += predicted.eq(targets).sum().item()\n",
    "\n",
    "        pbar.set_description(f\"Epoch: {epoch} Acc: {(100.*correct/total):.2f}\")\n",
    "\n",
    "    train_acc = 100.*correct/total\n",
    "    train_loss = train_loss/(batch_idx+1)\n",
    "    print(f\"Tot Loss: {train_loss[0]:.4f} CL: {train_loss[1]:.5f} AT: {train_loss[2]:.5f}; Train Acc: {train_acc:.2f}%\")\n",
    "    training_info.append([epoch,train_acc,train_loss])\n",
    "    # trainning_accuracy.append(train_acc)\n",
    "    # trainning_loss.append( train_loss )\n",
    "\n",
    "def test(epoch, islast = False):\n",
    "    global best_acc, best_epoch\n",
    "    net.eval()\n",
    "    test_loss = 0\n",
    "    correct = 0\n",
    "    total = 0\n",
    "    pbar = tqdm(testloader)\n",
    "    with torch.no_grad():\n",
    "        for batch_idx, (inputs, targets ) in enumerate(pbar):\n",
    "            inputs, targets = inputs.to(device), targets.to(device)\n",
    "            outputs = net(inputs)\n",
    "            \n",
    "            loss = criterion(outputs, targets)\n",
    "            test_loss += loss.item()\n",
    "            _, predicted = outputs.max(1)\n",
    "            total += targets.size(0)\n",
    "            correct += predicted.eq(targets).sum().item()\n",
    "\n",
    "        test_acc = 100.*correct/total\n",
    "        test_loss = test_loss/(batch_idx+1)\n",
    "        print(f\"Test Loss: {test_loss}, Test Acc: {test_acc:.2f}%\")\n",
    "        testing_info.append([epoch,test_acc,test_loss])\n",
    "        # testing_accuracy.append(test_acc)\n",
    "        # testing_loss.append(test_loss)\n",
    "    # Save checkpoint.\n",
    "    acc = 100.*correct/total\n",
    "    if acc > best_acc or islast:\n",
    "        print('Saving..')\n",
    "        state = {\n",
    "            'net': net.state_dict(),\n",
    "            'acc': acc,\n",
    "            'epoch': epoch,\n",
    "        }\n",
    "        savestr = 'best' if acc > best_acc else 'last'\n",
    "        torch.save(state, os.path.join(result_dir,f'basel0-b{batch_size}-epoch{epoch}-{savestr}.pth'))\n",
    "        best_acc = acc\n",
    "        best_epoch = epoch"
   ]
  },
  {
   "cell_type": "code",
   "execution_count": 13,
   "id": "6af11cf6",
   "metadata": {},
   "outputs": [],
   "source": [
    "aa = np.zeros(3)\n",
    "aa = [1,2,3]"
   ]
  },
  {
   "cell_type": "code",
   "execution_count": 14,
   "id": "e1e93a0c",
   "metadata": {},
   "outputs": [
    {
     "name": "stdout",
     "output_type": "stream",
     "text": [
      "[1, 2, 3]\n"
     ]
    }
   ],
   "source": [
    "print(aa)"
   ]
  },
  {
   "cell_type": "code",
   "execution_count": 15,
   "id": "3a37795c",
   "metadata": {},
   "outputs": [
    {
     "name": "stderr",
     "output_type": "stream",
     "text": [
      "Epoch: 0 Acc: 57.71: 100%|██████████| 172/172 [00:43<00:00,  3.94it/s]\n"
     ]
    },
    {
     "name": "stdout",
     "output_type": "stream",
     "text": [
      "Tot Loss: 22.6644 CL: 0.68351 AT: 21.98084; Train Acc: 57.71%\n"
     ]
    },
    {
     "name": "stderr",
     "output_type": "stream",
     "text": [
      "100%|██████████| 74/74 [00:06<00:00, 12.10it/s]\n"
     ]
    },
    {
     "name": "stdout",
     "output_type": "stream",
     "text": [
      "Test Loss: 0.670093152974103, Test Acc: 58.54%\n",
      "Saving..\n"
     ]
    },
    {
     "name": "stderr",
     "output_type": "stream",
     "text": [
      "Epoch: 1 Acc: 61.73: 100%|██████████| 172/172 [00:42<00:00,  4.02it/s]\n"
     ]
    },
    {
     "name": "stdout",
     "output_type": "stream",
     "text": [
      "Tot Loss: 4.6948 CL: 0.65887 AT: 4.03596; Train Acc: 61.73%\n"
     ]
    },
    {
     "name": "stderr",
     "output_type": "stream",
     "text": [
      "100%|██████████| 74/74 [00:06<00:00, 12.25it/s]\n"
     ]
    },
    {
     "name": "stdout",
     "output_type": "stream",
     "text": [
      "Test Loss: 0.6307749921405638, Test Acc: 64.40%\n",
      "Saving..\n"
     ]
    },
    {
     "name": "stderr",
     "output_type": "stream",
     "text": [
      "Epoch: 2 Acc: 63.49: 100%|██████████| 172/172 [00:44<00:00,  3.89it/s]\n"
     ]
    },
    {
     "name": "stdout",
     "output_type": "stream",
     "text": [
      "Tot Loss: 1.5586 CL: 0.63578 AT: 0.92278; Train Acc: 63.49%\n"
     ]
    },
    {
     "name": "stderr",
     "output_type": "stream",
     "text": [
      "100%|██████████| 74/74 [00:05<00:00, 12.76it/s]\n"
     ]
    },
    {
     "name": "stdout",
     "output_type": "stream",
     "text": [
      "Test Loss: 0.6371134004077396, Test Acc: 63.38%\n"
     ]
    },
    {
     "name": "stderr",
     "output_type": "stream",
     "text": [
      "Epoch: 3 Acc: 66.46: 100%|██████████| 172/172 [00:41<00:00,  4.14it/s]\n"
     ]
    },
    {
     "name": "stdout",
     "output_type": "stream",
     "text": [
      "Tot Loss: 1.0769 CL: 0.61070 AT: 0.46621; Train Acc: 66.46%\n"
     ]
    },
    {
     "name": "stderr",
     "output_type": "stream",
     "text": [
      "100%|██████████| 74/74 [00:06<00:00, 11.79it/s]\n"
     ]
    },
    {
     "name": "stdout",
     "output_type": "stream",
     "text": [
      "Test Loss: 0.6051629378988936, Test Acc: 66.82%\n",
      "Saving..\n"
     ]
    },
    {
     "name": "stderr",
     "output_type": "stream",
     "text": [
      "Epoch: 4 Acc: 69.23: 100%|██████████| 172/172 [00:42<00:00,  4.00it/s]\n"
     ]
    },
    {
     "name": "stdout",
     "output_type": "stream",
     "text": [
      "Tot Loss: 0.8868 CL: 0.58382 AT: 0.30299; Train Acc: 69.23%\n"
     ]
    },
    {
     "name": "stderr",
     "output_type": "stream",
     "text": [
      "100%|██████████| 74/74 [00:05<00:00, 12.36it/s]\n"
     ]
    },
    {
     "name": "stdout",
     "output_type": "stream",
     "text": [
      "Test Loss: 0.587622046067908, Test Acc: 69.24%\n",
      "Saving..\n"
     ]
    },
    {
     "name": "stderr",
     "output_type": "stream",
     "text": [
      "Epoch: 5 Acc: 70.99: 100%|██████████| 172/172 [00:44<00:00,  3.82it/s]\n"
     ]
    },
    {
     "name": "stdout",
     "output_type": "stream",
     "text": [
      "Tot Loss: 0.7795 CL: 0.55326 AT: 0.22627; Train Acc: 70.99%\n"
     ]
    },
    {
     "name": "stderr",
     "output_type": "stream",
     "text": [
      "100%|██████████| 74/74 [00:09<00:00,  8.15it/s]\n"
     ]
    },
    {
     "name": "stdout",
     "output_type": "stream",
     "text": [
      "Test Loss: 0.5627086033692231, Test Acc: 71.20%\n",
      "Saving..\n"
     ]
    },
    {
     "name": "stderr",
     "output_type": "stream",
     "text": [
      "Epoch: 6 Acc: 73.74: 100%|██████████| 172/172 [00:42<00:00,  4.08it/s]\n"
     ]
    },
    {
     "name": "stdout",
     "output_type": "stream",
     "text": [
      "Tot Loss: 0.7076 CL: 0.52913 AT: 0.17850; Train Acc: 73.74%\n"
     ]
    },
    {
     "name": "stderr",
     "output_type": "stream",
     "text": [
      "100%|██████████| 74/74 [00:08<00:00,  8.92it/s]\n"
     ]
    },
    {
     "name": "stdout",
     "output_type": "stream",
     "text": [
      "Test Loss: 0.5424236292774612, Test Acc: 72.85%\n",
      "Saving..\n"
     ]
    },
    {
     "name": "stderr",
     "output_type": "stream",
     "text": [
      "Epoch: 7 Acc: 76.96: 100%|██████████| 172/172 [00:41<00:00,  4.13it/s]\n"
     ]
    },
    {
     "name": "stdout",
     "output_type": "stream",
     "text": [
      "Tot Loss: 0.6365 CL: 0.48627 AT: 0.15026; Train Acc: 76.96%\n"
     ]
    },
    {
     "name": "stderr",
     "output_type": "stream",
     "text": [
      "100%|██████████| 74/74 [00:12<00:00,  5.86it/s]\n"
     ]
    },
    {
     "name": "stdout",
     "output_type": "stream",
     "text": [
      "Test Loss: 0.6079249176624659, Test Acc: 71.33%\n"
     ]
    },
    {
     "name": "stderr",
     "output_type": "stream",
     "text": [
      "Epoch: 8 Acc: 77.91: 100%|██████████| 172/172 [00:40<00:00,  4.26it/s]\n"
     ]
    },
    {
     "name": "stdout",
     "output_type": "stream",
     "text": [
      "Tot Loss: 0.6006 CL: 0.46730 AT: 0.13330; Train Acc: 77.91%\n"
     ]
    },
    {
     "name": "stderr",
     "output_type": "stream",
     "text": [
      "100%|██████████| 74/74 [00:07<00:00, 10.02it/s]\n"
     ]
    },
    {
     "name": "stdout",
     "output_type": "stream",
     "text": [
      "Test Loss: 0.5466922509509164, Test Acc: 73.45%\n",
      "Saving..\n"
     ]
    },
    {
     "name": "stderr",
     "output_type": "stream",
     "text": [
      "Epoch: 9 Acc: 79.95: 100%|██████████| 172/172 [00:43<00:00,  3.96it/s]\n"
     ]
    },
    {
     "name": "stdout",
     "output_type": "stream",
     "text": [
      "Tot Loss: 0.5542 CL: 0.43252 AT: 0.12166; Train Acc: 79.95%\n"
     ]
    },
    {
     "name": "stderr",
     "output_type": "stream",
     "text": [
      "100%|██████████| 74/74 [00:05<00:00, 12.53it/s]\n"
     ]
    },
    {
     "name": "stdout",
     "output_type": "stream",
     "text": [
      "Test Loss: 0.5279919738705093, Test Acc: 74.60%\n",
      "Saving..\n"
     ]
    },
    {
     "name": "stderr",
     "output_type": "stream",
     "text": [
      "Epoch: 10 Acc: 82.00: 100%|██████████| 172/172 [00:49<00:00,  3.49it/s]\n"
     ]
    },
    {
     "name": "stdout",
     "output_type": "stream",
     "text": [
      "Tot Loss: 0.5141 CL: 0.40119 AT: 0.11294; Train Acc: 82.00%\n"
     ]
    },
    {
     "name": "stderr",
     "output_type": "stream",
     "text": [
      "100%|██████████| 74/74 [00:10<00:00,  6.80it/s]\n"
     ]
    },
    {
     "name": "stdout",
     "output_type": "stream",
     "text": [
      "Test Loss: 0.51841977721936, Test Acc: 76.89%\n",
      "Saving..\n"
     ]
    },
    {
     "name": "stderr",
     "output_type": "stream",
     "text": [
      "Epoch: 11 Acc: 84.06: 100%|██████████| 172/172 [00:41<00:00,  4.14it/s]\n"
     ]
    },
    {
     "name": "stdout",
     "output_type": "stream",
     "text": [
      "Tot Loss: 0.4700 CL: 0.36337 AT: 0.10666; Train Acc: 84.06%\n"
     ]
    },
    {
     "name": "stderr",
     "output_type": "stream",
     "text": [
      "100%|██████████| 74/74 [00:08<00:00,  8.54it/s]\n"
     ]
    },
    {
     "name": "stdout",
     "output_type": "stream",
     "text": [
      "Test Loss: 0.5407171696424484, Test Acc: 76.72%\n"
     ]
    },
    {
     "name": "stderr",
     "output_type": "stream",
     "text": [
      "Epoch: 12 Acc: 84.71: 100%|██████████| 172/172 [00:41<00:00,  4.16it/s]\n"
     ]
    },
    {
     "name": "stdout",
     "output_type": "stream",
     "text": [
      "Tot Loss: 0.4492 CL: 0.34751 AT: 0.10172; Train Acc: 84.71%\n"
     ]
    },
    {
     "name": "stderr",
     "output_type": "stream",
     "text": [
      "100%|██████████| 74/74 [00:10<00:00,  6.97it/s]\n"
     ]
    },
    {
     "name": "stdout",
     "output_type": "stream",
     "text": [
      "Test Loss: 0.46382650612173854, Test Acc: 80.12%\n",
      "Saving..\n"
     ]
    },
    {
     "name": "stderr",
     "output_type": "stream",
     "text": [
      "Epoch: 13 Acc: 86.26: 100%|██████████| 172/172 [00:42<00:00,  4.05it/s]\n"
     ]
    },
    {
     "name": "stdout",
     "output_type": "stream",
     "text": [
      "Tot Loss: 0.4277 CL: 0.33057 AT: 0.09713; Train Acc: 86.26%\n"
     ]
    },
    {
     "name": "stderr",
     "output_type": "stream",
     "text": [
      "100%|██████████| 74/74 [00:27<00:00,  2.72it/s]\n"
     ]
    },
    {
     "name": "stdout",
     "output_type": "stream",
     "text": [
      "Test Loss: 0.4431141109482662, Test Acc: 81.52%\n",
      "Saving..\n"
     ]
    },
    {
     "name": "stderr",
     "output_type": "stream",
     "text": [
      "Epoch: 14 Acc: 87.22: 100%|██████████| 172/172 [00:44<00:00,  3.88it/s]\n"
     ]
    },
    {
     "name": "stdout",
     "output_type": "stream",
     "text": [
      "Tot Loss: 0.4127 CL: 0.31877 AT: 0.09396; Train Acc: 87.22%\n"
     ]
    },
    {
     "name": "stderr",
     "output_type": "stream",
     "text": [
      "100%|██████████| 74/74 [00:05<00:00, 12.58it/s]\n"
     ]
    },
    {
     "name": "stdout",
     "output_type": "stream",
     "text": [
      "Test Loss: 0.42312234076293737, Test Acc: 82.75%\n",
      "Saving..\n"
     ]
    },
    {
     "name": "stderr",
     "output_type": "stream",
     "text": [
      "Epoch: 15 Acc: 88.10: 100%|██████████| 172/172 [00:43<00:00,  3.93it/s]\n"
     ]
    },
    {
     "name": "stdout",
     "output_type": "stream",
     "text": [
      "Tot Loss: 0.3819 CL: 0.29057 AT: 0.09129; Train Acc: 88.10%\n"
     ]
    },
    {
     "name": "stderr",
     "output_type": "stream",
     "text": [
      "100%|██████████| 74/74 [00:06<00:00, 11.91it/s]\n"
     ]
    },
    {
     "name": "stdout",
     "output_type": "stream",
     "text": [
      "Test Loss: 0.4590800485095462, Test Acc: 81.56%\n"
     ]
    },
    {
     "name": "stderr",
     "output_type": "stream",
     "text": [
      "Epoch: 16 Acc: 89.03: 100%|██████████| 172/172 [00:44<00:00,  3.86it/s]\n"
     ]
    },
    {
     "name": "stdout",
     "output_type": "stream",
     "text": [
      "Tot Loss: 0.3502 CL: 0.26170 AT: 0.08853; Train Acc: 89.03%\n"
     ]
    },
    {
     "name": "stderr",
     "output_type": "stream",
     "text": [
      "100%|██████████| 74/74 [00:12<00:00,  5.82it/s]\n"
     ]
    },
    {
     "name": "stdout",
     "output_type": "stream",
     "text": [
      "Test Loss: 0.5116811857835667, Test Acc: 80.20%\n"
     ]
    },
    {
     "name": "stderr",
     "output_type": "stream",
     "text": [
      "Epoch: 17 Acc: 89.74: 100%|██████████| 172/172 [00:41<00:00,  4.19it/s]\n"
     ]
    },
    {
     "name": "stdout",
     "output_type": "stream",
     "text": [
      "Tot Loss: 0.3418 CL: 0.25530 AT: 0.08652; Train Acc: 89.74%\n"
     ]
    },
    {
     "name": "stderr",
     "output_type": "stream",
     "text": [
      "100%|██████████| 74/74 [00:06<00:00, 10.81it/s]\n"
     ]
    },
    {
     "name": "stdout",
     "output_type": "stream",
     "text": [
      "Test Loss: 0.46954007265535563, Test Acc: 82.63%\n"
     ]
    },
    {
     "name": "stderr",
     "output_type": "stream",
     "text": [
      "Epoch: 18 Acc: 90.65: 100%|██████████| 172/172 [00:46<00:00,  3.69it/s]\n"
     ]
    },
    {
     "name": "stdout",
     "output_type": "stream",
     "text": [
      "Tot Loss: 0.3187 CL: 0.23433 AT: 0.08435; Train Acc: 90.65%\n"
     ]
    },
    {
     "name": "stderr",
     "output_type": "stream",
     "text": [
      "100%|██████████| 74/74 [00:08<00:00,  9.21it/s]\n"
     ]
    },
    {
     "name": "stdout",
     "output_type": "stream",
     "text": [
      "Test Loss: 0.39848584369630424, Test Acc: 84.58%\n",
      "Saving..\n"
     ]
    },
    {
     "name": "stderr",
     "output_type": "stream",
     "text": [
      "Epoch: 19 Acc: 91.26: 100%|██████████| 172/172 [00:41<00:00,  4.10it/s]\n"
     ]
    },
    {
     "name": "stdout",
     "output_type": "stream",
     "text": [
      "Tot Loss: 0.2997 CL: 0.21737 AT: 0.08235; Train Acc: 91.26%\n"
     ]
    },
    {
     "name": "stderr",
     "output_type": "stream",
     "text": [
      "100%|██████████| 74/74 [00:09<00:00,  8.05it/s]\n"
     ]
    },
    {
     "name": "stdout",
     "output_type": "stream",
     "text": [
      "Test Loss: 0.434001741175716, Test Acc: 84.11%\n"
     ]
    },
    {
     "name": "stderr",
     "output_type": "stream",
     "text": [
      "Epoch: 20 Acc: 91.88: 100%|██████████| 172/172 [00:46<00:00,  3.72it/s]\n"
     ]
    },
    {
     "name": "stdout",
     "output_type": "stream",
     "text": [
      "Tot Loss: 0.2893 CL: 0.20879 AT: 0.08050; Train Acc: 91.88%\n"
     ]
    },
    {
     "name": "stderr",
     "output_type": "stream",
     "text": [
      "100%|██████████| 74/74 [00:10<00:00,  6.98it/s]\n"
     ]
    },
    {
     "name": "stdout",
     "output_type": "stream",
     "text": [
      "Test Loss: 0.4593456877848586, Test Acc: 82.97%\n"
     ]
    },
    {
     "name": "stderr",
     "output_type": "stream",
     "text": [
      "Epoch: 21 Acc: 91.72: 100%|██████████| 172/172 [00:51<00:00,  3.34it/s]\n"
     ]
    },
    {
     "name": "stdout",
     "output_type": "stream",
     "text": [
      "Tot Loss: 0.2900 CL: 0.21105 AT: 0.07890; Train Acc: 91.72%\n"
     ]
    },
    {
     "name": "stderr",
     "output_type": "stream",
     "text": [
      "100%|██████████| 74/74 [00:07<00:00, 10.45it/s]\n"
     ]
    },
    {
     "name": "stdout",
     "output_type": "stream",
     "text": [
      "Test Loss: 0.42636362694807955, Test Acc: 83.77%\n"
     ]
    },
    {
     "name": "stderr",
     "output_type": "stream",
     "text": [
      "Epoch: 22 Acc: 92.50: 100%|██████████| 172/172 [00:53<00:00,  3.22it/s]\n"
     ]
    },
    {
     "name": "stdout",
     "output_type": "stream",
     "text": [
      "Tot Loss: 0.2703 CL: 0.19305 AT: 0.07726; Train Acc: 92.50%\n"
     ]
    },
    {
     "name": "stderr",
     "output_type": "stream",
     "text": [
      "100%|██████████| 74/74 [00:06<00:00, 11.99it/s]\n"
     ]
    },
    {
     "name": "stdout",
     "output_type": "stream",
     "text": [
      "Test Loss: 0.4203342869877815, Test Acc: 83.98%\n"
     ]
    },
    {
     "name": "stderr",
     "output_type": "stream",
     "text": [
      "Epoch: 23 Acc: 92.61: 100%|██████████| 172/172 [00:41<00:00,  4.11it/s]\n"
     ]
    },
    {
     "name": "stdout",
     "output_type": "stream",
     "text": [
      "Tot Loss: 0.2618 CL: 0.18625 AT: 0.07558; Train Acc: 92.61%\n"
     ]
    },
    {
     "name": "stderr",
     "output_type": "stream",
     "text": [
      "100%|██████████| 74/74 [00:06<00:00, 11.35it/s]\n"
     ]
    },
    {
     "name": "stdout",
     "output_type": "stream",
     "text": [
      "Test Loss: 0.41095291365038705, Test Acc: 85.30%\n",
      "Saving..\n"
     ]
    },
    {
     "name": "stderr",
     "output_type": "stream",
     "text": [
      "Epoch: 24 Acc: 93.56: 100%|██████████| 172/172 [00:48<00:00,  3.52it/s]\n"
     ]
    },
    {
     "name": "stdout",
     "output_type": "stream",
     "text": [
      "Tot Loss: 0.2423 CL: 0.16782 AT: 0.07451; Train Acc: 93.56%\n"
     ]
    },
    {
     "name": "stderr",
     "output_type": "stream",
     "text": [
      "100%|██████████| 74/74 [00:12<00:00,  6.08it/s]\n"
     ]
    },
    {
     "name": "stdout",
     "output_type": "stream",
     "text": [
      "Test Loss: 0.499245225376374, Test Acc: 81.65%\n"
     ]
    },
    {
     "name": "stderr",
     "output_type": "stream",
     "text": [
      "Epoch: 25 Acc: 92.68: 100%|██████████| 172/172 [00:44<00:00,  3.89it/s]\n"
     ]
    },
    {
     "name": "stdout",
     "output_type": "stream",
     "text": [
      "Tot Loss: 0.2630 CL: 0.18958 AT: 0.07341; Train Acc: 92.68%\n"
     ]
    },
    {
     "name": "stderr",
     "output_type": "stream",
     "text": [
      "100%|██████████| 74/74 [00:09<00:00,  7.57it/s]\n"
     ]
    },
    {
     "name": "stdout",
     "output_type": "stream",
     "text": [
      "Test Loss: 0.482177708700702, Test Acc: 83.73%\n"
     ]
    },
    {
     "name": "stderr",
     "output_type": "stream",
     "text": [
      "Epoch: 26 Acc: 94.14: 100%|██████████| 172/172 [00:41<00:00,  4.13it/s]\n"
     ]
    },
    {
     "name": "stdout",
     "output_type": "stream",
     "text": [
      "Tot Loss: 0.2299 CL: 0.15771 AT: 0.07223; Train Acc: 94.14%\n"
     ]
    },
    {
     "name": "stderr",
     "output_type": "stream",
     "text": [
      "100%|██████████| 74/74 [00:06<00:00, 11.03it/s]\n"
     ]
    },
    {
     "name": "stdout",
     "output_type": "stream",
     "text": [
      "Test Loss: 0.43326170923742086, Test Acc: 85.81%\n",
      "Saving..\n"
     ]
    },
    {
     "name": "stderr",
     "output_type": "stream",
     "text": [
      "Epoch: 27 Acc: 94.21: 100%|██████████| 172/172 [00:50<00:00,  3.43it/s]\n"
     ]
    },
    {
     "name": "stdout",
     "output_type": "stream",
     "text": [
      "Tot Loss: 0.2276 CL: 0.15647 AT: 0.07115; Train Acc: 94.21%\n"
     ]
    },
    {
     "name": "stderr",
     "output_type": "stream",
     "text": [
      "100%|██████████| 74/74 [00:06<00:00, 11.57it/s]\n"
     ]
    },
    {
     "name": "stdout",
     "output_type": "stream",
     "text": [
      "Test Loss: 0.4218609616965861, Test Acc: 86.36%\n",
      "Saving..\n"
     ]
    },
    {
     "name": "stderr",
     "output_type": "stream",
     "text": [
      "Epoch: 28 Acc: 94.21: 100%|██████████| 172/172 [00:44<00:00,  3.83it/s]\n"
     ]
    },
    {
     "name": "stdout",
     "output_type": "stream",
     "text": [
      "Tot Loss: 0.2115 CL: 0.14158 AT: 0.06991; Train Acc: 94.21%\n"
     ]
    },
    {
     "name": "stderr",
     "output_type": "stream",
     "text": [
      "100%|██████████| 74/74 [00:09<00:00,  8.17it/s]\n"
     ]
    },
    {
     "name": "stdout",
     "output_type": "stream",
     "text": [
      "Test Loss: 0.4502886432550243, Test Acc: 85.30%\n"
     ]
    },
    {
     "name": "stderr",
     "output_type": "stream",
     "text": [
      "Epoch: 29 Acc: 94.74: 100%|██████████| 172/172 [00:52<00:00,  3.26it/s]\n"
     ]
    },
    {
     "name": "stdout",
     "output_type": "stream",
     "text": [
      "Tot Loss: 0.2097 CL: 0.14072 AT: 0.06896; Train Acc: 94.74%\n"
     ]
    },
    {
     "name": "stderr",
     "output_type": "stream",
     "text": [
      "100%|██████████| 74/74 [00:06<00:00, 12.07it/s]\n"
     ]
    },
    {
     "name": "stdout",
     "output_type": "stream",
     "text": [
      "Test Loss: 0.4788712030528365, Test Acc: 85.60%\n"
     ]
    },
    {
     "name": "stderr",
     "output_type": "stream",
     "text": [
      "Epoch: 30 Acc: 95.40: 100%|██████████| 172/172 [00:44<00:00,  3.86it/s]\n"
     ]
    },
    {
     "name": "stdout",
     "output_type": "stream",
     "text": [
      "Tot Loss: 0.2036 CL: 0.13552 AT: 0.06809; Train Acc: 95.40%\n"
     ]
    },
    {
     "name": "stderr",
     "output_type": "stream",
     "text": [
      "100%|██████████| 74/74 [00:08<00:00,  8.63it/s]\n"
     ]
    },
    {
     "name": "stdout",
     "output_type": "stream",
     "text": [
      "Test Loss: 0.5106841858375717, Test Acc: 85.26%\n"
     ]
    },
    {
     "name": "stderr",
     "output_type": "stream",
     "text": [
      "Epoch: 31 Acc: 95.32: 100%|██████████| 172/172 [00:53<00:00,  3.19it/s]\n"
     ]
    },
    {
     "name": "stdout",
     "output_type": "stream",
     "text": [
      "Tot Loss: 0.1898 CL: 0.12263 AT: 0.06716; Train Acc: 95.32%\n"
     ]
    },
    {
     "name": "stderr",
     "output_type": "stream",
     "text": [
      "100%|██████████| 74/74 [00:06<00:00, 11.52it/s]\n"
     ]
    },
    {
     "name": "stdout",
     "output_type": "stream",
     "text": [
      "Test Loss: 0.42950098186328606, Test Acc: 86.62%\n",
      "Saving..\n"
     ]
    },
    {
     "name": "stderr",
     "output_type": "stream",
     "text": [
      "Epoch: 32 Acc: 94.94: 100%|██████████| 172/172 [00:56<00:00,  3.02it/s]\n"
     ]
    },
    {
     "name": "stdout",
     "output_type": "stream",
     "text": [
      "Tot Loss: 0.1974 CL: 0.13042 AT: 0.06698; Train Acc: 94.94%\n"
     ]
    },
    {
     "name": "stderr",
     "output_type": "stream",
     "text": [
      "100%|██████████| 74/74 [00:09<00:00,  7.80it/s]\n"
     ]
    },
    {
     "name": "stdout",
     "output_type": "stream",
     "text": [
      "Test Loss: 0.4626842131083076, Test Acc: 85.77%\n"
     ]
    },
    {
     "name": "stderr",
     "output_type": "stream",
     "text": [
      "Epoch: 33 Acc: 95.43: 100%|██████████| 172/172 [00:45<00:00,  3.74it/s]\n"
     ]
    },
    {
     "name": "stdout",
     "output_type": "stream",
     "text": [
      "Tot Loss: 0.1936 CL: 0.12715 AT: 0.06642; Train Acc: 95.43%\n"
     ]
    },
    {
     "name": "stderr",
     "output_type": "stream",
     "text": [
      "100%|██████████| 74/74 [00:08<00:00,  8.39it/s]\n"
     ]
    },
    {
     "name": "stdout",
     "output_type": "stream",
     "text": [
      "Test Loss: 0.48089997097849846, Test Acc: 84.75%\n"
     ]
    },
    {
     "name": "stderr",
     "output_type": "stream",
     "text": [
      "Epoch: 34 Acc: 95.05: 100%|██████████| 172/172 [00:48<00:00,  3.55it/s]\n"
     ]
    },
    {
     "name": "stdout",
     "output_type": "stream",
     "text": [
      "Tot Loss: 0.1964 CL: 0.13077 AT: 0.06564; Train Acc: 95.05%\n"
     ]
    },
    {
     "name": "stderr",
     "output_type": "stream",
     "text": [
      "100%|██████████| 74/74 [00:07<00:00, 10.52it/s]\n"
     ]
    },
    {
     "name": "stdout",
     "output_type": "stream",
     "text": [
      "Test Loss: 0.44801409240510015, Test Acc: 86.28%\n"
     ]
    },
    {
     "name": "stderr",
     "output_type": "stream",
     "text": [
      "Epoch: 35 Acc: 96.05: 100%|██████████| 172/172 [00:43<00:00,  3.92it/s]\n"
     ]
    },
    {
     "name": "stdout",
     "output_type": "stream",
     "text": [
      "Tot Loss: 0.1800 CL: 0.11529 AT: 0.06470; Train Acc: 96.05%\n"
     ]
    },
    {
     "name": "stderr",
     "output_type": "stream",
     "text": [
      "100%|██████████| 74/74 [00:07<00:00, 10.53it/s]\n"
     ]
    },
    {
     "name": "stdout",
     "output_type": "stream",
     "text": [
      "Test Loss: 0.4857729294815579, Test Acc: 86.96%\n",
      "Saving..\n"
     ]
    },
    {
     "name": "stderr",
     "output_type": "stream",
     "text": [
      "Epoch: 36 Acc: 95.94: 100%|██████████| 172/172 [00:48<00:00,  3.56it/s]\n"
     ]
    },
    {
     "name": "stdout",
     "output_type": "stream",
     "text": [
      "Tot Loss: 0.1769 CL: 0.11313 AT: 0.06373; Train Acc: 95.94%\n"
     ]
    },
    {
     "name": "stderr",
     "output_type": "stream",
     "text": [
      "100%|██████████| 74/74 [00:08<00:00,  8.29it/s]\n"
     ]
    },
    {
     "name": "stdout",
     "output_type": "stream",
     "text": [
      "Test Loss: 0.5364297131026113, Test Acc: 84.28%\n"
     ]
    },
    {
     "name": "stderr",
     "output_type": "stream",
     "text": [
      "Epoch: 37 Acc: 96.27: 100%|██████████| 172/172 [00:44<00:00,  3.89it/s]\n"
     ]
    },
    {
     "name": "stdout",
     "output_type": "stream",
     "text": [
      "Tot Loss: 0.1696 CL: 0.10630 AT: 0.06328; Train Acc: 96.27%\n"
     ]
    },
    {
     "name": "stderr",
     "output_type": "stream",
     "text": [
      "100%|██████████| 74/74 [00:06<00:00, 11.55it/s]\n"
     ]
    },
    {
     "name": "stdout",
     "output_type": "stream",
     "text": [
      "Test Loss: 0.4857939908633361, Test Acc: 85.22%\n"
     ]
    },
    {
     "name": "stderr",
     "output_type": "stream",
     "text": [
      "Epoch: 38 Acc: 96.32: 100%|██████████| 172/172 [00:48<00:00,  3.53it/s]\n"
     ]
    },
    {
     "name": "stdout",
     "output_type": "stream",
     "text": [
      "Tot Loss: 0.1644 CL: 0.10125 AT: 0.06311; Train Acc: 96.32%\n"
     ]
    },
    {
     "name": "stderr",
     "output_type": "stream",
     "text": [
      "100%|██████████| 74/74 [00:07<00:00,  9.84it/s]\n"
     ]
    },
    {
     "name": "stdout",
     "output_type": "stream",
     "text": [
      "Test Loss: 0.5066844944313571, Test Acc: 86.32%\n"
     ]
    },
    {
     "name": "stderr",
     "output_type": "stream",
     "text": [
      "Epoch: 39 Acc: 95.38: 100%|██████████| 172/172 [00:41<00:00,  4.10it/s]\n"
     ]
    },
    {
     "name": "stdout",
     "output_type": "stream",
     "text": [
      "Tot Loss: 0.1870 CL: 0.12454 AT: 0.06247; Train Acc: 95.38%\n"
     ]
    },
    {
     "name": "stderr",
     "output_type": "stream",
     "text": [
      "100%|██████████| 74/74 [00:05<00:00, 12.56it/s]\n"
     ]
    },
    {
     "name": "stdout",
     "output_type": "stream",
     "text": [
      "Test Loss: 0.4671507259780491, Test Acc: 85.39%\n"
     ]
    },
    {
     "name": "stderr",
     "output_type": "stream",
     "text": [
      "Epoch: 40 Acc: 96.09: 100%|██████████| 172/172 [00:46<00:00,  3.73it/s]\n"
     ]
    },
    {
     "name": "stdout",
     "output_type": "stream",
     "text": [
      "Tot Loss: 0.1635 CL: 0.10135 AT: 0.06220; Train Acc: 96.09%\n"
     ]
    },
    {
     "name": "stderr",
     "output_type": "stream",
     "text": [
      "100%|██████████| 74/74 [00:06<00:00, 10.59it/s]\n"
     ]
    },
    {
     "name": "stdout",
     "output_type": "stream",
     "text": [
      "Test Loss: 0.4759143031378453, Test Acc: 85.47%\n"
     ]
    },
    {
     "name": "stderr",
     "output_type": "stream",
     "text": [
      "Epoch: 41 Acc: 96.82: 100%|██████████| 172/172 [00:41<00:00,  4.10it/s]\n"
     ]
    },
    {
     "name": "stdout",
     "output_type": "stream",
     "text": [
      "Tot Loss: 0.1457 CL: 0.08440 AT: 0.06131; Train Acc: 96.82%\n"
     ]
    },
    {
     "name": "stderr",
     "output_type": "stream",
     "text": [
      "100%|██████████| 74/74 [00:11<00:00,  6.23it/s]\n"
     ]
    },
    {
     "name": "stdout",
     "output_type": "stream",
     "text": [
      "Test Loss: 0.5422699629656367, Test Acc: 84.15%\n"
     ]
    },
    {
     "name": "stderr",
     "output_type": "stream",
     "text": [
      "Epoch: 42 Acc: 96.23: 100%|██████████| 172/172 [00:42<00:00,  4.05it/s]\n"
     ]
    },
    {
     "name": "stdout",
     "output_type": "stream",
     "text": [
      "Tot Loss: 0.1618 CL: 0.10103 AT: 0.06076; Train Acc: 96.23%\n"
     ]
    },
    {
     "name": "stderr",
     "output_type": "stream",
     "text": [
      "100%|██████████| 74/74 [00:07<00:00,  9.74it/s]\n"
     ]
    },
    {
     "name": "stdout",
     "output_type": "stream",
     "text": [
      "Test Loss: 0.5125156018782306, Test Acc: 85.26%\n"
     ]
    },
    {
     "name": "stderr",
     "output_type": "stream",
     "text": [
      "Epoch: 43 Acc: 96.60: 100%|██████████| 172/172 [00:54<00:00,  3.14it/s]\n"
     ]
    },
    {
     "name": "stdout",
     "output_type": "stream",
     "text": [
      "Tot Loss: 0.1546 CL: 0.09428 AT: 0.06034; Train Acc: 96.60%\n"
     ]
    },
    {
     "name": "stderr",
     "output_type": "stream",
     "text": [
      "100%|██████████| 74/74 [00:06<00:00, 10.73it/s]\n"
     ]
    },
    {
     "name": "stdout",
     "output_type": "stream",
     "text": [
      "Test Loss: 0.4734225218008096, Test Acc: 86.83%\n"
     ]
    },
    {
     "name": "stderr",
     "output_type": "stream",
     "text": [
      "Epoch: 44 Acc: 96.54: 100%|██████████| 172/172 [00:42<00:00,  4.07it/s]\n"
     ]
    },
    {
     "name": "stdout",
     "output_type": "stream",
     "text": [
      "Tot Loss: 0.1516 CL: 0.09186 AT: 0.05972; Train Acc: 96.54%\n"
     ]
    },
    {
     "name": "stderr",
     "output_type": "stream",
     "text": [
      "100%|██████████| 74/74 [00:09<00:00,  8.13it/s]\n"
     ]
    },
    {
     "name": "stdout",
     "output_type": "stream",
     "text": [
      "Test Loss: 0.46447033576063207, Test Acc: 86.36%\n"
     ]
    },
    {
     "name": "stderr",
     "output_type": "stream",
     "text": [
      "Epoch: 45 Acc: 96.67: 100%|██████████| 172/172 [00:43<00:00,  3.95it/s]\n"
     ]
    },
    {
     "name": "stdout",
     "output_type": "stream",
     "text": [
      "Tot Loss: 0.1471 CL: 0.08755 AT: 0.05951; Train Acc: 96.67%\n"
     ]
    },
    {
     "name": "stderr",
     "output_type": "stream",
     "text": [
      "100%|██████████| 74/74 [00:05<00:00, 12.41it/s]\n"
     ]
    },
    {
     "name": "stdout",
     "output_type": "stream",
     "text": [
      "Test Loss: 0.4683013921351852, Test Acc: 86.70%\n"
     ]
    },
    {
     "name": "stderr",
     "output_type": "stream",
     "text": [
      "Epoch: 46 Acc: 97.02: 100%|██████████| 172/172 [00:42<00:00,  4.05it/s]\n"
     ]
    },
    {
     "name": "stdout",
     "output_type": "stream",
     "text": [
      "Tot Loss: 0.1408 CL: 0.08180 AT: 0.05897; Train Acc: 97.02%\n"
     ]
    },
    {
     "name": "stderr",
     "output_type": "stream",
     "text": [
      "100%|██████████| 74/74 [00:08<00:00,  8.48it/s]\n"
     ]
    },
    {
     "name": "stdout",
     "output_type": "stream",
     "text": [
      "Test Loss: 0.5002701163191248, Test Acc: 85.56%\n"
     ]
    },
    {
     "name": "stderr",
     "output_type": "stream",
     "text": [
      "Epoch: 47 Acc: 96.67: 100%|██████████| 172/172 [00:42<00:00,  4.00it/s]\n"
     ]
    },
    {
     "name": "stdout",
     "output_type": "stream",
     "text": [
      "Tot Loss: 0.1469 CL: 0.08810 AT: 0.05883; Train Acc: 96.67%\n"
     ]
    },
    {
     "name": "stderr",
     "output_type": "stream",
     "text": [
      "100%|██████████| 74/74 [00:14<00:00,  5.15it/s]\n"
     ]
    },
    {
     "name": "stdout",
     "output_type": "stream",
     "text": [
      "Test Loss: 0.5744739015762871, Test Acc: 84.54%\n"
     ]
    },
    {
     "name": "stderr",
     "output_type": "stream",
     "text": [
      "Epoch: 48 Acc: 97.02: 100%|██████████| 172/172 [00:45<00:00,  3.74it/s]\n"
     ]
    },
    {
     "name": "stdout",
     "output_type": "stream",
     "text": [
      "Tot Loss: 0.1405 CL: 0.08253 AT: 0.05795; Train Acc: 97.02%\n"
     ]
    },
    {
     "name": "stderr",
     "output_type": "stream",
     "text": [
      "100%|██████████| 74/74 [00:07<00:00, 10.01it/s]\n"
     ]
    },
    {
     "name": "stdout",
     "output_type": "stream",
     "text": [
      "Test Loss: 0.5295427970185473, Test Acc: 86.15%\n"
     ]
    },
    {
     "name": "stderr",
     "output_type": "stream",
     "text": [
      "Epoch: 49 Acc: 96.94: 100%|██████████| 172/172 [00:46<00:00,  3.72it/s]\n"
     ]
    },
    {
     "name": "stdout",
     "output_type": "stream",
     "text": [
      "Tot Loss: 0.1384 CL: 0.08076 AT: 0.05761; Train Acc: 96.94%\n"
     ]
    },
    {
     "name": "stderr",
     "output_type": "stream",
     "text": [
      "100%|██████████| 74/74 [00:09<00:00,  7.57it/s]\n"
     ]
    },
    {
     "name": "stdout",
     "output_type": "stream",
     "text": [
      "Test Loss: 0.5191629845649004, Test Acc: 85.98%\n",
      "Saving..\n"
     ]
    }
   ],
   "source": [
    "if start_epoch>0:\n",
    "    checkpoint = torch.load(glob.glob(os.path.join(result_dir,f'basel0-b{batch_size}-epoch{start_epoch-1}-*.pth'))[0] )\n",
    "    net.load_state_dict(checkpoint['net'])\n",
    "    best_acc = checkpoint['acc']\n",
    "\n",
    "for epoch in range(start_epoch, start_epoch+50):\n",
    "    train(epoch)\n",
    "    test(epoch, islast = epoch==start_epoch+49)"
   ]
  },
  {
   "cell_type": "code",
   "execution_count": 16,
   "id": "fa7663ca",
   "metadata": {},
   "outputs": [],
   "source": [
    "traindf = pd.DataFrame(training_info[1:],columns=training_info[0])\n",
    "testdf = pd.DataFrame(testing_info[1:],columns=testing_info[0])\n",
    "with open(os.path.join(result_dir,f'basel0-b{batch_size}-info.pkl'), 'wb') as file:\n",
    "    pickle.dump({\"train\":traindf,\"test\":testdf}, file)\n",
    "\n",
    " \n",
    " #   scheduler.step()"
   ]
  },
  {
   "cell_type": "code",
   "execution_count": 17,
   "id": "e9d2a837",
   "metadata": {},
   "outputs": [
    {
     "data": {
      "text/plain": [
       "22"
      ]
     },
     "execution_count": 17,
     "metadata": {},
     "output_type": "execute_result"
    }
   ],
   "source": [
    "import re\n",
    "levels = re.findall(r'MGA(\\d+)','MGA22')\n",
    "mga_level = int(levels[0]) if levels else 3\n",
    "# 'MGA3'.startswith('MGA')\n",
    "mga_level"
   ]
  },
  {
   "cell_type": "code",
   "execution_count": null,
   "id": "08c6b611",
   "metadata": {},
   "outputs": [],
   "source": []
  },
  {
   "cell_type": "code",
   "execution_count": 18,
   "id": "190325e6",
   "metadata": {},
   "outputs": [
    {
     "data": {
      "text/html": [
       "<div>\n",
       "<style scoped>\n",
       "    .dataframe tbody tr th:only-of-type {\n",
       "        vertical-align: middle;\n",
       "    }\n",
       "\n",
       "    .dataframe tbody tr th {\n",
       "        vertical-align: top;\n",
       "    }\n",
       "\n",
       "    .dataframe thead th {\n",
       "        text-align: right;\n",
       "    }\n",
       "</style>\n",
       "<table border=\"1\" class=\"dataframe\">\n",
       "  <thead>\n",
       "    <tr style=\"text-align: right;\">\n",
       "      <th></th>\n",
       "      <th>epoch</th>\n",
       "      <th>acc</th>\n",
       "      <th>loss</th>\n",
       "    </tr>\n",
       "  </thead>\n",
       "  <tbody>\n",
       "    <tr>\n",
       "      <th>0</th>\n",
       "      <td>0</td>\n",
       "      <td>58.538658</td>\n",
       "      <td>0.670093</td>\n",
       "    </tr>\n",
       "    <tr>\n",
       "      <th>1</th>\n",
       "      <td>1</td>\n",
       "      <td>64.401020</td>\n",
       "      <td>0.630775</td>\n",
       "    </tr>\n",
       "    <tr>\n",
       "      <th>2</th>\n",
       "      <td>2</td>\n",
       "      <td>63.381478</td>\n",
       "      <td>0.637113</td>\n",
       "    </tr>\n",
       "    <tr>\n",
       "      <th>3</th>\n",
       "      <td>3</td>\n",
       "      <td>66.822430</td>\n",
       "      <td>0.605163</td>\n",
       "    </tr>\n",
       "    <tr>\n",
       "      <th>4</th>\n",
       "      <td>4</td>\n",
       "      <td>69.243840</td>\n",
       "      <td>0.587622</td>\n",
       "    </tr>\n",
       "    <tr>\n",
       "      <th>5</th>\n",
       "      <td>5</td>\n",
       "      <td>71.197961</td>\n",
       "      <td>0.562709</td>\n",
       "    </tr>\n",
       "    <tr>\n",
       "      <th>6</th>\n",
       "      <td>6</td>\n",
       "      <td>72.854715</td>\n",
       "      <td>0.542424</td>\n",
       "    </tr>\n",
       "    <tr>\n",
       "      <th>7</th>\n",
       "      <td>7</td>\n",
       "      <td>71.325404</td>\n",
       "      <td>0.607925</td>\n",
       "    </tr>\n",
       "    <tr>\n",
       "      <th>8</th>\n",
       "      <td>8</td>\n",
       "      <td>73.449448</td>\n",
       "      <td>0.546692</td>\n",
       "    </tr>\n",
       "    <tr>\n",
       "      <th>9</th>\n",
       "      <td>9</td>\n",
       "      <td>74.596432</td>\n",
       "      <td>0.527992</td>\n",
       "    </tr>\n",
       "    <tr>\n",
       "      <th>10</th>\n",
       "      <td>10</td>\n",
       "      <td>76.890399</td>\n",
       "      <td>0.518420</td>\n",
       "    </tr>\n",
       "    <tr>\n",
       "      <th>11</th>\n",
       "      <td>11</td>\n",
       "      <td>76.720476</td>\n",
       "      <td>0.540717</td>\n",
       "    </tr>\n",
       "    <tr>\n",
       "      <th>12</th>\n",
       "      <td>12</td>\n",
       "      <td>80.118946</td>\n",
       "      <td>0.463827</td>\n",
       "    </tr>\n",
       "    <tr>\n",
       "      <th>13</th>\n",
       "      <td>13</td>\n",
       "      <td>81.520816</td>\n",
       "      <td>0.443114</td>\n",
       "    </tr>\n",
       "    <tr>\n",
       "      <th>14</th>\n",
       "      <td>14</td>\n",
       "      <td>82.752761</td>\n",
       "      <td>0.423122</td>\n",
       "    </tr>\n",
       "    <tr>\n",
       "      <th>15</th>\n",
       "      <td>15</td>\n",
       "      <td>81.563297</td>\n",
       "      <td>0.459080</td>\n",
       "    </tr>\n",
       "    <tr>\n",
       "      <th>16</th>\n",
       "      <td>16</td>\n",
       "      <td>80.203908</td>\n",
       "      <td>0.511681</td>\n",
       "    </tr>\n",
       "    <tr>\n",
       "      <th>17</th>\n",
       "      <td>17</td>\n",
       "      <td>82.625319</td>\n",
       "      <td>0.469540</td>\n",
       "    </tr>\n",
       "    <tr>\n",
       "      <th>18</th>\n",
       "      <td>18</td>\n",
       "      <td>84.579439</td>\n",
       "      <td>0.398486</td>\n",
       "    </tr>\n",
       "    <tr>\n",
       "      <th>19</th>\n",
       "      <td>19</td>\n",
       "      <td>84.112150</td>\n",
       "      <td>0.434002</td>\n",
       "    </tr>\n",
       "    <tr>\n",
       "      <th>20</th>\n",
       "      <td>20</td>\n",
       "      <td>82.965166</td>\n",
       "      <td>0.459346</td>\n",
       "    </tr>\n",
       "    <tr>\n",
       "      <th>21</th>\n",
       "      <td>21</td>\n",
       "      <td>83.772302</td>\n",
       "      <td>0.426364</td>\n",
       "    </tr>\n",
       "    <tr>\n",
       "      <th>22</th>\n",
       "      <td>22</td>\n",
       "      <td>83.984707</td>\n",
       "      <td>0.420334</td>\n",
       "    </tr>\n",
       "    <tr>\n",
       "      <th>23</th>\n",
       "      <td>23</td>\n",
       "      <td>85.301614</td>\n",
       "      <td>0.410953</td>\n",
       "    </tr>\n",
       "    <tr>\n",
       "      <th>24</th>\n",
       "      <td>24</td>\n",
       "      <td>81.648258</td>\n",
       "      <td>0.499245</td>\n",
       "    </tr>\n",
       "    <tr>\n",
       "      <th>25</th>\n",
       "      <td>25</td>\n",
       "      <td>83.729822</td>\n",
       "      <td>0.482178</td>\n",
       "    </tr>\n",
       "    <tr>\n",
       "      <th>26</th>\n",
       "      <td>26</td>\n",
       "      <td>85.811385</td>\n",
       "      <td>0.433262</td>\n",
       "    </tr>\n",
       "    <tr>\n",
       "      <th>27</th>\n",
       "      <td>27</td>\n",
       "      <td>86.363636</td>\n",
       "      <td>0.421861</td>\n",
       "    </tr>\n",
       "    <tr>\n",
       "      <th>28</th>\n",
       "      <td>28</td>\n",
       "      <td>85.301614</td>\n",
       "      <td>0.450289</td>\n",
       "    </tr>\n",
       "    <tr>\n",
       "      <th>29</th>\n",
       "      <td>29</td>\n",
       "      <td>85.598980</td>\n",
       "      <td>0.478871</td>\n",
       "    </tr>\n",
       "    <tr>\n",
       "      <th>30</th>\n",
       "      <td>30</td>\n",
       "      <td>85.259133</td>\n",
       "      <td>0.510684</td>\n",
       "    </tr>\n",
       "    <tr>\n",
       "      <th>31</th>\n",
       "      <td>31</td>\n",
       "      <td>86.618522</td>\n",
       "      <td>0.429501</td>\n",
       "    </tr>\n",
       "    <tr>\n",
       "      <th>32</th>\n",
       "      <td>32</td>\n",
       "      <td>85.768904</td>\n",
       "      <td>0.462684</td>\n",
       "    </tr>\n",
       "    <tr>\n",
       "      <th>33</th>\n",
       "      <td>33</td>\n",
       "      <td>84.749363</td>\n",
       "      <td>0.480900</td>\n",
       "    </tr>\n",
       "    <tr>\n",
       "      <th>34</th>\n",
       "      <td>34</td>\n",
       "      <td>86.278675</td>\n",
       "      <td>0.448014</td>\n",
       "    </tr>\n",
       "    <tr>\n",
       "      <th>35</th>\n",
       "      <td>35</td>\n",
       "      <td>86.958369</td>\n",
       "      <td>0.485773</td>\n",
       "    </tr>\n",
       "    <tr>\n",
       "      <th>36</th>\n",
       "      <td>36</td>\n",
       "      <td>84.282073</td>\n",
       "      <td>0.536430</td>\n",
       "    </tr>\n",
       "    <tr>\n",
       "      <th>37</th>\n",
       "      <td>37</td>\n",
       "      <td>85.216653</td>\n",
       "      <td>0.485794</td>\n",
       "    </tr>\n",
       "    <tr>\n",
       "      <th>38</th>\n",
       "      <td>38</td>\n",
       "      <td>86.321155</td>\n",
       "      <td>0.506684</td>\n",
       "    </tr>\n",
       "    <tr>\n",
       "      <th>39</th>\n",
       "      <td>39</td>\n",
       "      <td>85.386576</td>\n",
       "      <td>0.467151</td>\n",
       "    </tr>\n",
       "    <tr>\n",
       "      <th>40</th>\n",
       "      <td>40</td>\n",
       "      <td>85.471538</td>\n",
       "      <td>0.475914</td>\n",
       "    </tr>\n",
       "    <tr>\n",
       "      <th>41</th>\n",
       "      <td>41</td>\n",
       "      <td>84.154630</td>\n",
       "      <td>0.542270</td>\n",
       "    </tr>\n",
       "    <tr>\n",
       "      <th>42</th>\n",
       "      <td>42</td>\n",
       "      <td>85.259133</td>\n",
       "      <td>0.512516</td>\n",
       "    </tr>\n",
       "    <tr>\n",
       "      <th>43</th>\n",
       "      <td>43</td>\n",
       "      <td>86.830926</td>\n",
       "      <td>0.473423</td>\n",
       "    </tr>\n",
       "    <tr>\n",
       "      <th>44</th>\n",
       "      <td>44</td>\n",
       "      <td>86.363636</td>\n",
       "      <td>0.464470</td>\n",
       "    </tr>\n",
       "    <tr>\n",
       "      <th>45</th>\n",
       "      <td>45</td>\n",
       "      <td>86.703483</td>\n",
       "      <td>0.468301</td>\n",
       "    </tr>\n",
       "    <tr>\n",
       "      <th>46</th>\n",
       "      <td>46</td>\n",
       "      <td>85.556500</td>\n",
       "      <td>0.500270</td>\n",
       "    </tr>\n",
       "    <tr>\n",
       "      <th>47</th>\n",
       "      <td>47</td>\n",
       "      <td>84.536958</td>\n",
       "      <td>0.574474</td>\n",
       "    </tr>\n",
       "    <tr>\n",
       "      <th>48</th>\n",
       "      <td>48</td>\n",
       "      <td>86.151232</td>\n",
       "      <td>0.529543</td>\n",
       "    </tr>\n",
       "    <tr>\n",
       "      <th>49</th>\n",
       "      <td>49</td>\n",
       "      <td>85.981308</td>\n",
       "      <td>0.519163</td>\n",
       "    </tr>\n",
       "  </tbody>\n",
       "</table>\n",
       "</div>"
      ],
      "text/plain": [
       "    epoch        acc      loss\n",
       "0       0  58.538658  0.670093\n",
       "1       1  64.401020  0.630775\n",
       "2       2  63.381478  0.637113\n",
       "3       3  66.822430  0.605163\n",
       "4       4  69.243840  0.587622\n",
       "5       5  71.197961  0.562709\n",
       "6       6  72.854715  0.542424\n",
       "7       7  71.325404  0.607925\n",
       "8       8  73.449448  0.546692\n",
       "9       9  74.596432  0.527992\n",
       "10     10  76.890399  0.518420\n",
       "11     11  76.720476  0.540717\n",
       "12     12  80.118946  0.463827\n",
       "13     13  81.520816  0.443114\n",
       "14     14  82.752761  0.423122\n",
       "15     15  81.563297  0.459080\n",
       "16     16  80.203908  0.511681\n",
       "17     17  82.625319  0.469540\n",
       "18     18  84.579439  0.398486\n",
       "19     19  84.112150  0.434002\n",
       "20     20  82.965166  0.459346\n",
       "21     21  83.772302  0.426364\n",
       "22     22  83.984707  0.420334\n",
       "23     23  85.301614  0.410953\n",
       "24     24  81.648258  0.499245\n",
       "25     25  83.729822  0.482178\n",
       "26     26  85.811385  0.433262\n",
       "27     27  86.363636  0.421861\n",
       "28     28  85.301614  0.450289\n",
       "29     29  85.598980  0.478871\n",
       "30     30  85.259133  0.510684\n",
       "31     31  86.618522  0.429501\n",
       "32     32  85.768904  0.462684\n",
       "33     33  84.749363  0.480900\n",
       "34     34  86.278675  0.448014\n",
       "35     35  86.958369  0.485773\n",
       "36     36  84.282073  0.536430\n",
       "37     37  85.216653  0.485794\n",
       "38     38  86.321155  0.506684\n",
       "39     39  85.386576  0.467151\n",
       "40     40  85.471538  0.475914\n",
       "41     41  84.154630  0.542270\n",
       "42     42  85.259133  0.512516\n",
       "43     43  86.830926  0.473423\n",
       "44     44  86.363636  0.464470\n",
       "45     45  86.703483  0.468301\n",
       "46     46  85.556500  0.500270\n",
       "47     47  84.536958  0.574474\n",
       "48     48  86.151232  0.529543\n",
       "49     49  85.981308  0.519163"
      ]
     },
     "execution_count": 18,
     "metadata": {},
     "output_type": "execute_result"
    }
   ],
   "source": [
    "testdf"
   ]
  },
  {
   "cell_type": "code",
   "execution_count": 19,
   "id": "cb143804",
   "metadata": {},
   "outputs": [],
   "source": [
    "# with open('two_dfs.pkl', 'rb') as file:\n",
    "#     loaded = pickle.load(file)\n",
    "\n",
    "# loaded"
   ]
  }
 ],
 "metadata": {
  "kernelspec": {
   "display_name": "Python 3",
   "language": "python",
   "name": "python3"
  },
  "language_info": {
   "codemirror_mode": {
    "name": "ipython",
    "version": 3
   },
   "file_extension": ".py",
   "mimetype": "text/x-python",
   "name": "python",
   "nbconvert_exporter": "python",
   "pygments_lexer": "ipython3",
   "version": "3.10.12"
  }
 },
 "nbformat": 4,
 "nbformat_minor": 5
}
