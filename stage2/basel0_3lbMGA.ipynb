{
 "cells": [
  {
   "cell_type": "code",
   "execution_count": 1,
   "id": "b02859b6",
   "metadata": {},
   "outputs": [],
   "source": [
    "#train3 from 2: use adam, remove weight_decay; one BW channel (not 3)\n",
    "import torch,os,glob\n",
    "import torch.nn as nn\n",
    "import torch.optim as optim\n",
    "import torch.nn.functional as F\n",
    "\n",
    "from torchvision.transforms import v2\n",
    "from torchvision import tv_tensors\n",
    "import pandas as pd\n",
    "\n",
    "from nets import ResNet18_3lbCBAM\n",
    "from tqdm import tqdm\n",
    "from configparser import ConfigParser\n",
    "from torch.utils.data import  DataLoader\n",
    "from LIDC_M_data import LIDC_Dataset\n",
    "import pickle"
   ]
  },
  {
   "cell_type": "code",
   "execution_count": 2,
   "id": "d3d8dc6b",
   "metadata": {},
   "outputs": [],
   "source": [
    "device = 'cuda' if torch.cuda.is_available() else 'cpu'\n",
    "best_acc = 0  # best test accuracy\n",
    "best_epoch = 0\n",
    "start_epoch = 0  # start from epoch 0 or last checkpoint epoch\n",
    "\n",
    "prep_tr = [\n",
    "    v2.Lambda(lambda x: tv_tensors.Image(torch.clamp(x,-1000.,400.)) if isinstance(x, tv_tensors.Image) else x),\n",
    "    v2.Lambda(lambda x: tv_tensors.Image((x+1000)/1400) if isinstance(x, tv_tensors.Image) else x),\n",
    "    v2.CenterCrop((384,384)),\n",
    "]\n",
    "aug_tr = [\n",
    "    v2.RandomAffine(degrees=10),\n",
    "    v2.RandomHorizontalFlip(),\n",
    "]\n",
    "trans_train = v2.Compose( prep_tr + aug_tr )\n",
    "trans_test = v2.Compose( prep_tr  )"
   ]
  },
  {
   "cell_type": "code",
   "execution_count": 3,
   "id": "2b344e58",
   "metadata": {},
   "outputs": [
    {
     "name": "stdout",
     "output_type": "stream",
     "text": [
      "total_train_data: 5495 total_test_data: 2354\n"
     ]
    }
   ],
   "source": [
    "\n",
    "parser = ConfigParser()\n",
    "parser.read('.settings')\n",
    "root_dir = parser.get('dataset','root_dir') #/workspaces/data/lidc-idri/slices\n",
    "meta_dir = parser.get('dataset','meta_dir') #/workspaces/data/lidc-idri/splits\n",
    "result_dir = os.path.join(parser.get('dataset','result_dir'),'stage2/basel0_3lbMGA')\n",
    "if not os.path.isdir(result_dir):\n",
    "        os.mkdir(result_dir)\n",
    "\n",
    "train_data = LIDC_Dataset(root_dir,metapath=os.path.join(meta_dir,'trainBB_malB.csv'),transform=trans_train, loadBB=True)\n",
    "test_data = LIDC_Dataset(root_dir,metapath=os.path.join(meta_dir,'testBB_malB.csv'),transform=trans_test)\n",
    "total_train_data = len(train_data)\n",
    "total_test_data = len(test_data)\n",
    "print('total_train_data:',total_train_data, 'total_test_data:',total_test_data)\n",
    "\n",
    "batch_size = int(parser['dataset']['batch_size'])\n",
    "trainloader = DataLoader(train_data, batch_size=batch_size, shuffle=True, num_workers=8)\n",
    "testloader = DataLoader(test_data, batch_size=batch_size, num_workers=8)"
   ]
  },
  {
   "cell_type": "code",
   "execution_count": 4,
   "id": "94805703",
   "metadata": {},
   "outputs": [],
   "source": [
    "net = ResNet18_3lbCBAM(pretrained=True,attr=\"MGA\")\n",
    "net.conv1 = nn.Conv2d(1, 64, kernel_size=7, stride=2, padding=3, bias=False)\n",
    "net.fc = nn.Linear(net.fc.in_features, 2)\n",
    "net = net.to(device)"
   ]
  },
  {
   "cell_type": "code",
   "execution_count": 5,
   "id": "31a2f9b7",
   "metadata": {},
   "outputs": [
    {
     "data": {
      "text/plain": [
       "====================================================================================================\n",
       "Layer (type:depth-idx)                             Output Shape              Param #\n",
       "====================================================================================================\n",
       "ResNet18_3lbCBAM                                   [32, 2]                   --\n",
       "├─Conv2d: 1-1                                      [32, 64, 192, 192]        3,136\n",
       "├─BatchNorm2d: 1-2                                 [32, 64, 192, 192]        128\n",
       "├─ReLU: 1-3                                        [32, 64, 192, 192]        --\n",
       "├─MaxPool2d: 1-4                                   [32, 64, 96, 96]          --\n",
       "├─Sequential: 1-5                                  [32, 64, 96, 96]          --\n",
       "│    └─BasicBlock: 2-1                             [32, 64, 96, 96]          --\n",
       "│    │    └─Conv2d: 3-1                            [32, 64, 96, 96]          36,864\n",
       "│    │    └─BatchNorm2d: 3-2                       [32, 64, 96, 96]          128\n",
       "│    │    └─ReLU: 3-3                              [32, 64, 96, 96]          --\n",
       "│    │    └─Conv2d: 3-4                            [32, 64, 96, 96]          36,864\n",
       "│    │    └─BatchNorm2d: 3-5                       [32, 64, 96, 96]          128\n",
       "│    │    └─ReLU: 3-6                              [32, 64, 96, 96]          --\n",
       "│    └─CBAMBasicBlock: 2-2                         [32, 64, 96, 96]          --\n",
       "│    │    └─Conv2d: 3-7                            [32, 64, 96, 96]          36,864\n",
       "│    │    └─BatchNorm2d: 3-8                       [32, 64, 96, 96]          128\n",
       "│    │    └─ReLU: 3-9                              [32, 64, 96, 96]          --\n",
       "│    │    └─Conv2d: 3-10                           [32, 64, 96, 96]          36,864\n",
       "│    │    └─BatchNorm2d: 3-11                      [32, 64, 96, 96]          128\n",
       "│    │    └─CBAM: 3-12                             [32, 64, 96, 96]          610\n",
       "│    │    └─ReLU: 3-13                             [32, 64, 96, 96]          --\n",
       "├─Sequential: 1-6                                  [32, 128, 48, 48]         --\n",
       "│    └─BasicBlock: 2-3                             [32, 128, 48, 48]         --\n",
       "│    │    └─Conv2d: 3-14                           [32, 128, 48, 48]         73,728\n",
       "│    │    └─BatchNorm2d: 3-15                      [32, 128, 48, 48]         256\n",
       "│    │    └─ReLU: 3-16                             [32, 128, 48, 48]         --\n",
       "│    │    └─Conv2d: 3-17                           [32, 128, 48, 48]         147,456\n",
       "│    │    └─BatchNorm2d: 3-18                      [32, 128, 48, 48]         256\n",
       "│    │    └─Sequential: 3-19                       [32, 128, 48, 48]         8,448\n",
       "│    │    └─ReLU: 3-20                             [32, 128, 48, 48]         --\n",
       "│    └─CBAMBasicBlock: 2-4                         [32, 128, 48, 48]         --\n",
       "│    │    └─Conv2d: 3-21                           [32, 128, 48, 48]         147,456\n",
       "│    │    └─BatchNorm2d: 3-22                      [32, 128, 48, 48]         256\n",
       "│    │    └─ReLU: 3-23                             [32, 128, 48, 48]         --\n",
       "│    │    └─Conv2d: 3-24                           [32, 128, 48, 48]         147,456\n",
       "│    │    └─BatchNorm2d: 3-25                      [32, 128, 48, 48]         256\n",
       "│    │    └─CBAM: 3-26                             [32, 128, 48, 48]         2,146\n",
       "│    │    └─ReLU: 3-27                             [32, 128, 48, 48]         --\n",
       "├─Sequential: 1-7                                  [32, 256, 24, 24]         --\n",
       "│    └─BasicBlock: 2-5                             [32, 256, 24, 24]         --\n",
       "│    │    └─Conv2d: 3-28                           [32, 256, 24, 24]         294,912\n",
       "│    │    └─BatchNorm2d: 3-29                      [32, 256, 24, 24]         512\n",
       "│    │    └─ReLU: 3-30                             [32, 256, 24, 24]         --\n",
       "│    │    └─Conv2d: 3-31                           [32, 256, 24, 24]         589,824\n",
       "│    │    └─BatchNorm2d: 3-32                      [32, 256, 24, 24]         512\n",
       "│    │    └─Sequential: 3-33                       [32, 256, 24, 24]         33,280\n",
       "│    │    └─ReLU: 3-34                             [32, 256, 24, 24]         --\n",
       "│    └─CBAMBasicBlockWithMask: 2-6                 [32, 256, 24, 24]         --\n",
       "│    │    └─Conv2d: 3-35                           [32, 256, 24, 24]         589,824\n",
       "│    │    └─BatchNorm2d: 3-36                      [32, 256, 24, 24]         512\n",
       "│    │    └─ReLU: 3-37                             [32, 256, 24, 24]         --\n",
       "│    │    └─Conv2d: 3-38                           [32, 256, 24, 24]         589,824\n",
       "│    │    └─BatchNorm2d: 3-39                      [32, 256, 24, 24]         512\n",
       "│    │    └─CBAMWithMaskSupervision: 3-40          [32, 256, 24, 24]         8,290\n",
       "│    │    └─ReLU: 3-41                             [32, 256, 24, 24]         --\n",
       "├─Sequential: 1-8                                  [32, 512, 12, 12]         --\n",
       "│    └─BasicBlock: 2-7                             [32, 512, 12, 12]         --\n",
       "│    │    └─Conv2d: 3-42                           [32, 512, 12, 12]         1,179,648\n",
       "│    │    └─BatchNorm2d: 3-43                      [32, 512, 12, 12]         1,024\n",
       "│    │    └─ReLU: 3-44                             [32, 512, 12, 12]         --\n",
       "│    │    └─Conv2d: 3-45                           [32, 512, 12, 12]         2,359,296\n",
       "│    │    └─BatchNorm2d: 3-46                      [32, 512, 12, 12]         1,024\n",
       "│    │    └─Sequential: 3-47                       [32, 512, 12, 12]         132,096\n",
       "│    │    └─ReLU: 3-48                             [32, 512, 12, 12]         --\n",
       "│    └─BasicBlock: 2-8                             [32, 512, 12, 12]         --\n",
       "│    │    └─Conv2d: 3-49                           [32, 512, 12, 12]         2,359,296\n",
       "│    │    └─BatchNorm2d: 3-50                      [32, 512, 12, 12]         1,024\n",
       "│    │    └─ReLU: 3-51                             [32, 512, 12, 12]         --\n",
       "│    │    └─Conv2d: 3-52                           [32, 512, 12, 12]         2,359,296\n",
       "│    │    └─BatchNorm2d: 3-53                      [32, 512, 12, 12]         1,024\n",
       "│    │    └─ReLU: 3-54                             [32, 512, 12, 12]         --\n",
       "├─AdaptiveAvgPool2d: 1-9                           [32, 512, 1, 1]           --\n",
       "├─Linear: 1-10                                     [32, 2]                   1,026\n",
       "====================================================================================================\n",
       "Total params: 11,182,312\n",
       "Trainable params: 11,182,312\n",
       "Non-trainable params: 0\n",
       "Total mult-adds (G): 163.19\n",
       "====================================================================================================\n",
       "Input size (MB): 18.87\n",
       "Forward/backward pass size (MB): 3740.47\n",
       "Params size (MB): 44.73\n",
       "Estimated Total Size (MB): 3804.07\n",
       "===================================================================================================="
      ]
     },
     "execution_count": 5,
     "metadata": {},
     "output_type": "execute_result"
    }
   ],
   "source": [
    "from torchinfo import summary\n",
    "summary(net, input_size=(batch_size,1, 384, 384))"
   ]
  },
  {
   "cell_type": "code",
   "execution_count": 6,
   "id": "5a98ef22",
   "metadata": {},
   "outputs": [],
   "source": [
    "lr = 1e-4\n",
    "criterion = nn.CrossEntropyLoss()\n",
    "mse = nn.MSELoss()\n",
    "optimizer = optim.Adam(net.parameters(), lr=lr)\n",
    "\n",
    "training_info=[[\"epoch\",\"acc\",\"loss\"]]\n",
    "testing_info=training_info.copy()"
   ]
  },
  {
   "cell_type": "code",
   "execution_count": 7,
   "id": "9e1e321d",
   "metadata": {},
   "outputs": [],
   "source": [
    "def train(epoch):\n",
    "    net.train()\n",
    "    train_loss = 0\n",
    "    correct = 0\n",
    "    total = 0\n",
    "    pbar = tqdm(trainloader)\n",
    "    for batch_idx, (inputs, targets, masks) in enumerate(pbar):\n",
    "        inputs, targets, masks = inputs.to(device), targets.to(device), masks.to(device)\n",
    "\n",
    "        optimizer.zero_grad()\n",
    "        # outputs = net(inputs)\n",
    "        outputs, attn_map = net(inputs)\n",
    "        cls_loss = criterion(outputs, targets)\n",
    "        masks = F.adaptive_avg_pool2d(masks, attn_map.shape[-2:])\n",
    "        mse_loss = mse(attn_map , masks)\n",
    "        loss =  cls_loss + 0.1 * mse_loss\n",
    "        \n",
    "        # loss = criterion(outputs, targets)\n",
    "        loss.backward()\n",
    "        \n",
    "        optimizer.step()\n",
    "\n",
    "        train_loss += loss.item()\n",
    "        _, predicted = outputs.max(1)\n",
    "        \n",
    "        total += targets.size(0)\n",
    "        correct += predicted.eq(targets).sum().item()\n",
    "\n",
    "        pbar.set_description(f\"Epoch: {epoch} Acc: {(100.*correct/total):.2f}\")\n",
    "\n",
    "    train_acc = 100.*correct/total\n",
    "    train_loss = train_loss/(batch_idx+1)\n",
    "    print(f\"Train Loss: {train_loss}, Train Acc: {train_acc:.2f}%\")\n",
    "    training_info.append([epoch,train_acc,train_loss])\n",
    "    # trainning_accuracy.append(train_acc)\n",
    "    # trainning_loss.append( train_loss )\n",
    "\n",
    "def test(epoch, islast = False):\n",
    "    global best_acc, best_epoch\n",
    "    net.eval()\n",
    "    test_loss = 0\n",
    "    correct = 0\n",
    "    total = 0\n",
    "    pbar = tqdm(testloader)\n",
    "    with torch.no_grad():\n",
    "        for batch_idx, (inputs, targets ) in enumerate(pbar):\n",
    "            inputs, targets = inputs.to(device), targets.to(device)\n",
    "            outputs = net(inputs)\n",
    "            \n",
    "            loss = criterion(outputs, targets)\n",
    "            test_loss += loss.item()\n",
    "            _, predicted = outputs.max(1)\n",
    "            total += targets.size(0)\n",
    "            correct += predicted.eq(targets).sum().item()\n",
    "\n",
    "        test_acc = 100.*correct/total\n",
    "        test_loss = test_loss/(batch_idx+1)\n",
    "        print(f\"Test Loss: {test_loss}, Test Acc: {test_acc:.2f}%\")\n",
    "        testing_info.append([epoch,test_acc,test_loss])\n",
    "        # testing_accuracy.append(test_acc)\n",
    "        # testing_loss.append(test_loss)\n",
    "    # Save checkpoint.\n",
    "    acc = 100.*correct/total\n",
    "    if acc > best_acc or islast:\n",
    "        print('Saving..')\n",
    "        state = {\n",
    "            'net': net.state_dict(),\n",
    "            'acc': acc,\n",
    "            'epoch': epoch,\n",
    "        }\n",
    "        savestr = 'best' if acc > best_acc else 'last'\n",
    "        torch.save(state, os.path.join(result_dir,f'basel0_3lbMGA-b{batch_size}-epoch{epoch}-{savestr}.pth'))\n",
    "        best_acc = acc\n",
    "        best_epoch = epoch"
   ]
  },
  {
   "cell_type": "code",
   "execution_count": 8,
   "id": "3a37795c",
   "metadata": {},
   "outputs": [
    {
     "name": "stderr",
     "output_type": "stream",
     "text": [
      "Epoch: 0 Acc: 59.25: 100%|██████████| 172/172 [00:41<00:00,  4.16it/s]\n"
     ]
    },
    {
     "name": "stdout",
     "output_type": "stream",
     "text": [
      "Train Loss: 0.6962568021790926, Train Acc: 59.25%\n"
     ]
    },
    {
     "name": "stderr",
     "output_type": "stream",
     "text": [
      "100%|██████████| 74/74 [00:05<00:00, 13.05it/s]\n"
     ]
    },
    {
     "name": "stdout",
     "output_type": "stream",
     "text": [
      "Test Loss: 0.6415471958147513, Test Acc: 61.85%\n",
      "Saving..\n"
     ]
    },
    {
     "name": "stderr",
     "output_type": "stream",
     "text": [
      "Epoch: 1 Acc: 64.93: 100%|██████████| 172/172 [00:44<00:00,  3.88it/s]\n"
     ]
    },
    {
     "name": "stdout",
     "output_type": "stream",
     "text": [
      "Train Loss: 0.6459493472479111, Train Acc: 64.93%\n"
     ]
    },
    {
     "name": "stderr",
     "output_type": "stream",
     "text": [
      "100%|██████████| 74/74 [00:05<00:00, 12.51it/s]\n"
     ]
    },
    {
     "name": "stdout",
     "output_type": "stream",
     "text": [
      "Test Loss: 0.6243702869963002, Test Acc: 64.53%\n",
      "Saving..\n"
     ]
    },
    {
     "name": "stderr",
     "output_type": "stream",
     "text": [
      "Epoch: 2 Acc: 68.04: 100%|██████████| 172/172 [00:41<00:00,  4.16it/s]\n"
     ]
    },
    {
     "name": "stdout",
     "output_type": "stream",
     "text": [
      "Train Loss: 0.6054607068383416, Train Acc: 68.04%\n"
     ]
    },
    {
     "name": "stderr",
     "output_type": "stream",
     "text": [
      "100%|██████████| 74/74 [00:05<00:00, 12.97it/s]\n"
     ]
    },
    {
     "name": "stdout",
     "output_type": "stream",
     "text": [
      "Test Loss: 0.5887590316501824, Test Acc: 69.20%\n",
      "Saving..\n"
     ]
    },
    {
     "name": "stderr",
     "output_type": "stream",
     "text": [
      "Epoch: 3 Acc: 72.08: 100%|██████████| 172/172 [00:44<00:00,  3.88it/s]\n"
     ]
    },
    {
     "name": "stdout",
     "output_type": "stream",
     "text": [
      "Train Loss: 0.5486847153583239, Train Acc: 72.08%\n"
     ]
    },
    {
     "name": "stderr",
     "output_type": "stream",
     "text": [
      "100%|██████████| 74/74 [00:05<00:00, 12.86it/s]\n"
     ]
    },
    {
     "name": "stdout",
     "output_type": "stream",
     "text": [
      "Test Loss: 0.6466946851562809, Test Acc: 65.93%\n"
     ]
    },
    {
     "name": "stderr",
     "output_type": "stream",
     "text": [
      "Epoch: 4 Acc: 75.41: 100%|██████████| 172/172 [00:41<00:00,  4.17it/s]\n"
     ]
    },
    {
     "name": "stdout",
     "output_type": "stream",
     "text": [
      "Train Loss: 0.5075082524224769, Train Acc: 75.41%\n"
     ]
    },
    {
     "name": "stderr",
     "output_type": "stream",
     "text": [
      "100%|██████████| 74/74 [00:05<00:00, 13.03it/s]\n"
     ]
    },
    {
     "name": "stdout",
     "output_type": "stream",
     "text": [
      "Test Loss: 0.5359337990348404, Test Acc: 75.28%\n",
      "Saving..\n"
     ]
    },
    {
     "name": "stderr",
     "output_type": "stream",
     "text": [
      "Epoch: 5 Acc: 77.89: 100%|██████████| 172/172 [00:44<00:00,  3.89it/s]\n"
     ]
    },
    {
     "name": "stdout",
     "output_type": "stream",
     "text": [
      "Train Loss: 0.46555518826773, Train Acc: 77.89%\n"
     ]
    },
    {
     "name": "stderr",
     "output_type": "stream",
     "text": [
      "100%|██████████| 74/74 [00:05<00:00, 12.96it/s]\n"
     ]
    },
    {
     "name": "stdout",
     "output_type": "stream",
     "text": [
      "Test Loss: 0.6553705540057775, Test Acc: 67.63%\n"
     ]
    },
    {
     "name": "stderr",
     "output_type": "stream",
     "text": [
      "Epoch: 6 Acc: 80.60: 100%|██████████| 172/172 [00:41<00:00,  4.18it/s]\n"
     ]
    },
    {
     "name": "stdout",
     "output_type": "stream",
     "text": [
      "Train Loss: 0.42855265095483425, Train Acc: 80.60%\n"
     ]
    },
    {
     "name": "stderr",
     "output_type": "stream",
     "text": [
      "100%|██████████| 74/74 [00:05<00:00, 13.09it/s]\n"
     ]
    },
    {
     "name": "stdout",
     "output_type": "stream",
     "text": [
      "Test Loss: 0.5848832762724644, Test Acc: 72.56%\n"
     ]
    },
    {
     "name": "stderr",
     "output_type": "stream",
     "text": [
      "Epoch: 7 Acc: 82.22: 100%|██████████| 172/172 [00:44<00:00,  3.86it/s]\n"
     ]
    },
    {
     "name": "stdout",
     "output_type": "stream",
     "text": [
      "Train Loss: 0.39675416641457134, Train Acc: 82.22%\n"
     ]
    },
    {
     "name": "stderr",
     "output_type": "stream",
     "text": [
      "100%|██████████| 74/74 [00:05<00:00, 12.91it/s]\n"
     ]
    },
    {
     "name": "stdout",
     "output_type": "stream",
     "text": [
      "Test Loss: 0.4741110193568307, Test Acc: 78.29%\n",
      "Saving..\n"
     ]
    },
    {
     "name": "stderr",
     "output_type": "stream",
     "text": [
      "Epoch: 8 Acc: 85.00: 100%|██████████| 172/172 [00:41<00:00,  4.17it/s]\n"
     ]
    },
    {
     "name": "stdout",
     "output_type": "stream",
     "text": [
      "Train Loss: 0.3556605016942634, Train Acc: 85.00%\n"
     ]
    },
    {
     "name": "stderr",
     "output_type": "stream",
     "text": [
      "100%|██████████| 74/74 [00:05<00:00, 12.97it/s]\n"
     ]
    },
    {
     "name": "stdout",
     "output_type": "stream",
     "text": [
      "Test Loss: 0.48581234144197927, Test Acc: 77.87%\n"
     ]
    },
    {
     "name": "stderr",
     "output_type": "stream",
     "text": [
      "Epoch: 9 Acc: 85.68: 100%|██████████| 172/172 [00:41<00:00,  4.15it/s]\n"
     ]
    },
    {
     "name": "stdout",
     "output_type": "stream",
     "text": [
      "Train Loss: 0.3255203660404266, Train Acc: 85.68%\n"
     ]
    },
    {
     "name": "stderr",
     "output_type": "stream",
     "text": [
      "100%|██████████| 74/74 [00:08<00:00,  8.32it/s]\n"
     ]
    },
    {
     "name": "stdout",
     "output_type": "stream",
     "text": [
      "Test Loss: 0.4758149480094781, Test Acc: 78.89%\n",
      "Saving..\n"
     ]
    },
    {
     "name": "stderr",
     "output_type": "stream",
     "text": [
      "Epoch: 10 Acc: 87.44: 100%|██████████| 172/172 [00:41<00:00,  4.15it/s]\n"
     ]
    },
    {
     "name": "stdout",
     "output_type": "stream",
     "text": [
      "Train Loss: 0.3040143227594536, Train Acc: 87.44%\n"
     ]
    },
    {
     "name": "stderr",
     "output_type": "stream",
     "text": [
      "100%|██████████| 74/74 [00:05<00:00, 12.99it/s]\n"
     ]
    },
    {
     "name": "stdout",
     "output_type": "stream",
     "text": [
      "Test Loss: 0.4584590194595827, Test Acc: 80.54%\n",
      "Saving..\n"
     ]
    },
    {
     "name": "stderr",
     "output_type": "stream",
     "text": [
      "Epoch: 11 Acc: 88.74: 100%|██████████| 172/172 [00:41<00:00,  4.16it/s]\n"
     ]
    },
    {
     "name": "stdout",
     "output_type": "stream",
     "text": [
      "Train Loss: 0.27119057989397716, Train Acc: 88.74%\n"
     ]
    },
    {
     "name": "stderr",
     "output_type": "stream",
     "text": [
      "100%|██████████| 74/74 [00:08<00:00,  8.35it/s]\n"
     ]
    },
    {
     "name": "stdout",
     "output_type": "stream",
     "text": [
      "Test Loss: 0.5114971779890962, Test Acc: 78.33%\n"
     ]
    },
    {
     "name": "stderr",
     "output_type": "stream",
     "text": [
      "Epoch: 12 Acc: 89.39: 100%|██████████| 172/172 [00:41<00:00,  4.15it/s]\n"
     ]
    },
    {
     "name": "stdout",
     "output_type": "stream",
     "text": [
      "Train Loss: 0.26181365558227826, Train Acc: 89.39%\n"
     ]
    },
    {
     "name": "stderr",
     "output_type": "stream",
     "text": [
      "100%|██████████| 74/74 [00:05<00:00, 13.03it/s]\n"
     ]
    },
    {
     "name": "stdout",
     "output_type": "stream",
     "text": [
      "Test Loss: 0.4697663314841889, Test Acc: 80.93%\n",
      "Saving..\n"
     ]
    },
    {
     "name": "stderr",
     "output_type": "stream",
     "text": [
      "Epoch: 13 Acc: 90.77: 100%|██████████| 172/172 [00:41<00:00,  4.15it/s]\n"
     ]
    },
    {
     "name": "stdout",
     "output_type": "stream",
     "text": [
      "Train Loss: 0.2343534280784255, Train Acc: 90.77%\n"
     ]
    },
    {
     "name": "stderr",
     "output_type": "stream",
     "text": [
      "100%|██████████| 74/74 [00:08<00:00,  8.47it/s]\n"
     ]
    },
    {
     "name": "stdout",
     "output_type": "stream",
     "text": [
      "Test Loss: 0.672826972664208, Test Acc: 76.81%\n"
     ]
    },
    {
     "name": "stderr",
     "output_type": "stream",
     "text": [
      "Epoch: 14 Acc: 91.79: 100%|██████████| 172/172 [00:41<00:00,  4.16it/s]\n"
     ]
    },
    {
     "name": "stdout",
     "output_type": "stream",
     "text": [
      "Train Loss: 0.21429785655075034, Train Acc: 91.79%\n"
     ]
    },
    {
     "name": "stderr",
     "output_type": "stream",
     "text": [
      "100%|██████████| 74/74 [00:05<00:00, 12.94it/s]\n"
     ]
    },
    {
     "name": "stdout",
     "output_type": "stream",
     "text": [
      "Test Loss: 0.5096331863991312, Test Acc: 81.05%\n",
      "Saving..\n"
     ]
    },
    {
     "name": "stderr",
     "output_type": "stream",
     "text": [
      "Epoch: 15 Acc: 92.58: 100%|██████████| 172/172 [00:41<00:00,  4.16it/s]\n"
     ]
    },
    {
     "name": "stdout",
     "output_type": "stream",
     "text": [
      "Train Loss: 0.19925837530646212, Train Acc: 92.58%\n"
     ]
    },
    {
     "name": "stderr",
     "output_type": "stream",
     "text": [
      "100%|██████████| 74/74 [00:07<00:00, 10.28it/s]\n"
     ]
    },
    {
     "name": "stdout",
     "output_type": "stream",
     "text": [
      "Test Loss: 0.4390257782227284, Test Acc: 83.09%\n",
      "Saving..\n"
     ]
    },
    {
     "name": "stderr",
     "output_type": "stream",
     "text": [
      "Epoch: 16 Acc: 92.63: 100%|██████████| 172/172 [00:41<00:00,  4.16it/s]\n"
     ]
    },
    {
     "name": "stdout",
     "output_type": "stream",
     "text": [
      "Train Loss: 0.18689408287579237, Train Acc: 92.63%\n"
     ]
    },
    {
     "name": "stderr",
     "output_type": "stream",
     "text": [
      "100%|██████████| 74/74 [00:05<00:00, 12.97it/s]\n"
     ]
    },
    {
     "name": "stdout",
     "output_type": "stream",
     "text": [
      "Test Loss: 0.4810330434828191, Test Acc: 81.39%\n"
     ]
    },
    {
     "name": "stderr",
     "output_type": "stream",
     "text": [
      "Epoch: 17 Acc: 93.76: 100%|██████████| 172/172 [00:41<00:00,  4.16it/s]\n"
     ]
    },
    {
     "name": "stdout",
     "output_type": "stream",
     "text": [
      "Train Loss: 0.17081290381679007, Train Acc: 93.76%\n"
     ]
    },
    {
     "name": "stderr",
     "output_type": "stream",
     "text": [
      "100%|██████████| 74/74 [00:05<00:00, 12.77it/s]\n"
     ]
    },
    {
     "name": "stdout",
     "output_type": "stream",
     "text": [
      "Test Loss: 0.49177900611146075, Test Acc: 83.14%\n",
      "Saving..\n"
     ]
    },
    {
     "name": "stderr",
     "output_type": "stream",
     "text": [
      "Epoch: 18 Acc: 93.27: 100%|██████████| 172/172 [00:44<00:00,  3.87it/s]\n"
     ]
    },
    {
     "name": "stdout",
     "output_type": "stream",
     "text": [
      "Train Loss: 0.17416348210860824, Train Acc: 93.27%\n"
     ]
    },
    {
     "name": "stderr",
     "output_type": "stream",
     "text": [
      "100%|██████████| 74/74 [00:05<00:00, 12.77it/s]\n"
     ]
    },
    {
     "name": "stdout",
     "output_type": "stream",
     "text": [
      "Test Loss: 0.4567030265524581, Test Acc: 83.52%\n",
      "Saving..\n"
     ]
    },
    {
     "name": "stderr",
     "output_type": "stream",
     "text": [
      "Epoch: 19 Acc: 94.18: 100%|██████████| 172/172 [00:41<00:00,  4.17it/s]\n"
     ]
    },
    {
     "name": "stdout",
     "output_type": "stream",
     "text": [
      "Train Loss: 0.16586869548962907, Train Acc: 94.18%\n"
     ]
    },
    {
     "name": "stderr",
     "output_type": "stream",
     "text": [
      "100%|██████████| 74/74 [00:05<00:00, 12.79it/s]\n"
     ]
    },
    {
     "name": "stdout",
     "output_type": "stream",
     "text": [
      "Test Loss: 0.468788990297833, Test Acc: 82.41%\n"
     ]
    },
    {
     "name": "stderr",
     "output_type": "stream",
     "text": [
      "Epoch: 20 Acc: 94.23: 100%|██████████| 172/172 [00:44<00:00,  3.86it/s]\n"
     ]
    },
    {
     "name": "stdout",
     "output_type": "stream",
     "text": [
      "Train Loss: 0.16153899679870107, Train Acc: 94.23%\n"
     ]
    },
    {
     "name": "stderr",
     "output_type": "stream",
     "text": [
      "100%|██████████| 74/74 [00:05<00:00, 12.78it/s]\n"
     ]
    },
    {
     "name": "stdout",
     "output_type": "stream",
     "text": [
      "Test Loss: 0.7951070136717848, Test Acc: 75.11%\n"
     ]
    },
    {
     "name": "stderr",
     "output_type": "stream",
     "text": [
      "Epoch: 21 Acc: 94.94: 100%|██████████| 172/172 [00:41<00:00,  4.16it/s]\n"
     ]
    },
    {
     "name": "stdout",
     "output_type": "stream",
     "text": [
      "Train Loss: 0.14087544537560884, Train Acc: 94.94%\n"
     ]
    },
    {
     "name": "stderr",
     "output_type": "stream",
     "text": [
      "100%|██████████| 74/74 [00:05<00:00, 12.82it/s]\n"
     ]
    },
    {
     "name": "stdout",
     "output_type": "stream",
     "text": [
      "Test Loss: 0.4937628541846533, Test Acc: 83.56%\n",
      "Saving..\n"
     ]
    },
    {
     "name": "stderr",
     "output_type": "stream",
     "text": [
      "Epoch: 22 Acc: 94.14: 100%|██████████| 172/172 [00:44<00:00,  3.88it/s]\n"
     ]
    },
    {
     "name": "stdout",
     "output_type": "stream",
     "text": [
      "Train Loss: 0.14930623790335862, Train Acc: 94.14%\n"
     ]
    },
    {
     "name": "stderr",
     "output_type": "stream",
     "text": [
      "100%|██████████| 74/74 [00:05<00:00, 12.80it/s]\n"
     ]
    },
    {
     "name": "stdout",
     "output_type": "stream",
     "text": [
      "Test Loss: 0.4803539943453428, Test Acc: 83.60%\n",
      "Saving..\n"
     ]
    },
    {
     "name": "stderr",
     "output_type": "stream",
     "text": [
      "Epoch: 23 Acc: 95.23: 100%|██████████| 172/172 [00:41<00:00,  4.16it/s]\n"
     ]
    },
    {
     "name": "stdout",
     "output_type": "stream",
     "text": [
      "Train Loss: 0.1280974182571003, Train Acc: 95.23%\n"
     ]
    },
    {
     "name": "stderr",
     "output_type": "stream",
     "text": [
      "100%|██████████| 74/74 [00:05<00:00, 12.93it/s]\n"
     ]
    },
    {
     "name": "stdout",
     "output_type": "stream",
     "text": [
      "Test Loss: 0.4471635239551196, Test Acc: 84.88%\n",
      "Saving..\n"
     ]
    },
    {
     "name": "stderr",
     "output_type": "stream",
     "text": [
      "Epoch: 24 Acc: 94.89: 100%|██████████| 172/172 [00:44<00:00,  3.87it/s]\n"
     ]
    },
    {
     "name": "stdout",
     "output_type": "stream",
     "text": [
      "Train Loss: 0.13377536394698328, Train Acc: 94.89%\n"
     ]
    },
    {
     "name": "stderr",
     "output_type": "stream",
     "text": [
      "100%|██████████| 74/74 [00:05<00:00, 12.82it/s]\n"
     ]
    },
    {
     "name": "stdout",
     "output_type": "stream",
     "text": [
      "Test Loss: 0.47373495573127594, Test Acc: 85.05%\n",
      "Saving..\n"
     ]
    },
    {
     "name": "stderr",
     "output_type": "stream",
     "text": [
      "Epoch: 25 Acc: 95.60: 100%|██████████| 172/172 [00:41<00:00,  4.16it/s]\n"
     ]
    },
    {
     "name": "stdout",
     "output_type": "stream",
     "text": [
      "Train Loss: 0.11852288525551558, Train Acc: 95.60%\n"
     ]
    },
    {
     "name": "stderr",
     "output_type": "stream",
     "text": [
      "100%|██████████| 74/74 [00:05<00:00, 12.87it/s]\n"
     ]
    },
    {
     "name": "stdout",
     "output_type": "stream",
     "text": [
      "Test Loss: 0.5712896913692758, Test Acc: 82.46%\n"
     ]
    },
    {
     "name": "stderr",
     "output_type": "stream",
     "text": [
      "Epoch: 26 Acc: 95.40: 100%|██████████| 172/172 [00:42<00:00,  4.02it/s]\n"
     ]
    },
    {
     "name": "stdout",
     "output_type": "stream",
     "text": [
      "Train Loss: 0.1232130590956225, Train Acc: 95.40%\n"
     ]
    },
    {
     "name": "stderr",
     "output_type": "stream",
     "text": [
      "100%|██████████| 74/74 [00:07<00:00,  9.93it/s]\n"
     ]
    },
    {
     "name": "stdout",
     "output_type": "stream",
     "text": [
      "Test Loss: 0.6608014876979429, Test Acc: 82.63%\n"
     ]
    },
    {
     "name": "stderr",
     "output_type": "stream",
     "text": [
      "Epoch: 27 Acc: 95.98: 100%|██████████| 172/172 [00:41<00:00,  4.16it/s]\n"
     ]
    },
    {
     "name": "stdout",
     "output_type": "stream",
     "text": [
      "Train Loss: 0.11264735672536284, Train Acc: 95.98%\n"
     ]
    },
    {
     "name": "stderr",
     "output_type": "stream",
     "text": [
      "100%|██████████| 74/74 [00:05<00:00, 12.85it/s]\n"
     ]
    },
    {
     "name": "stdout",
     "output_type": "stream",
     "text": [
      "Test Loss: 0.5108576331388306, Test Acc: 84.62%\n"
     ]
    },
    {
     "name": "stderr",
     "output_type": "stream",
     "text": [
      "Epoch: 28 Acc: 96.16: 100%|██████████| 172/172 [00:41<00:00,  4.16it/s]\n"
     ]
    },
    {
     "name": "stdout",
     "output_type": "stream",
     "text": [
      "Train Loss: 0.10631446121531257, Train Acc: 96.16%\n"
     ]
    },
    {
     "name": "stderr",
     "output_type": "stream",
     "text": [
      "100%|██████████| 74/74 [00:08<00:00,  8.29it/s]\n"
     ]
    },
    {
     "name": "stdout",
     "output_type": "stream",
     "text": [
      "Test Loss: 0.6246718877070659, Test Acc: 81.39%\n"
     ]
    },
    {
     "name": "stderr",
     "output_type": "stream",
     "text": [
      "Epoch: 29 Acc: 96.60: 100%|██████████| 172/172 [00:41<00:00,  4.16it/s]\n"
     ]
    },
    {
     "name": "stdout",
     "output_type": "stream",
     "text": [
      "Train Loss: 0.09088916758746775, Train Acc: 96.60%\n"
     ]
    },
    {
     "name": "stderr",
     "output_type": "stream",
     "text": [
      "100%|██████████| 74/74 [00:05<00:00, 12.78it/s]\n"
     ]
    },
    {
     "name": "stdout",
     "output_type": "stream",
     "text": [
      "Test Loss: 0.5531064441075196, Test Acc: 84.32%\n"
     ]
    },
    {
     "name": "stderr",
     "output_type": "stream",
     "text": [
      "Epoch: 30 Acc: 96.32: 100%|██████████| 172/172 [00:41<00:00,  4.17it/s]\n"
     ]
    },
    {
     "name": "stdout",
     "output_type": "stream",
     "text": [
      "Train Loss: 0.10346636454423153, Train Acc: 96.32%\n"
     ]
    },
    {
     "name": "stderr",
     "output_type": "stream",
     "text": [
      "100%|██████████| 74/74 [00:08<00:00,  8.33it/s]\n"
     ]
    },
    {
     "name": "stdout",
     "output_type": "stream",
     "text": [
      "Test Loss: 0.5524122631680723, Test Acc: 83.52%\n"
     ]
    },
    {
     "name": "stderr",
     "output_type": "stream",
     "text": [
      "Epoch: 31 Acc: 96.47: 100%|██████████| 172/172 [00:41<00:00,  4.15it/s]\n"
     ]
    },
    {
     "name": "stdout",
     "output_type": "stream",
     "text": [
      "Train Loss: 0.09806684109512283, Train Acc: 96.47%\n"
     ]
    },
    {
     "name": "stderr",
     "output_type": "stream",
     "text": [
      "100%|██████████| 74/74 [00:05<00:00, 12.91it/s]\n"
     ]
    },
    {
     "name": "stdout",
     "output_type": "stream",
     "text": [
      "Test Loss: 0.5364966593884133, Test Acc: 85.73%\n",
      "Saving..\n"
     ]
    },
    {
     "name": "stderr",
     "output_type": "stream",
     "text": [
      "Epoch: 32 Acc: 96.34: 100%|██████████| 172/172 [00:41<00:00,  4.15it/s]\n"
     ]
    },
    {
     "name": "stdout",
     "output_type": "stream",
     "text": [
      "Train Loss: 0.09633631798774438, Train Acc: 96.34%\n"
     ]
    },
    {
     "name": "stderr",
     "output_type": "stream",
     "text": [
      "100%|██████████| 74/74 [00:08<00:00,  8.47it/s]\n"
     ]
    },
    {
     "name": "stdout",
     "output_type": "stream",
     "text": [
      "Test Loss: 0.519954584236886, Test Acc: 84.49%\n"
     ]
    },
    {
     "name": "stderr",
     "output_type": "stream",
     "text": [
      "Epoch: 33 Acc: 97.20: 100%|██████████| 172/172 [00:41<00:00,  4.15it/s]\n"
     ]
    },
    {
     "name": "stdout",
     "output_type": "stream",
     "text": [
      "Train Loss: 0.08129017833663627, Train Acc: 97.20%\n"
     ]
    },
    {
     "name": "stderr",
     "output_type": "stream",
     "text": [
      "100%|██████████| 74/74 [00:05<00:00, 12.83it/s]\n"
     ]
    },
    {
     "name": "stdout",
     "output_type": "stream",
     "text": [
      "Test Loss: 0.6285955258519262, Test Acc: 82.37%\n"
     ]
    },
    {
     "name": "stderr",
     "output_type": "stream",
     "text": [
      "Epoch: 34 Acc: 97.45: 100%|██████████| 172/172 [00:41<00:00,  4.16it/s]\n"
     ]
    },
    {
     "name": "stdout",
     "output_type": "stream",
     "text": [
      "Train Loss: 0.07051895596195272, Train Acc: 97.45%\n"
     ]
    },
    {
     "name": "stderr",
     "output_type": "stream",
     "text": [
      "100%|██████████| 74/74 [00:05<00:00, 12.90it/s]\n"
     ]
    },
    {
     "name": "stdout",
     "output_type": "stream",
     "text": [
      "Test Loss: 0.5821773167196158, Test Acc: 84.07%\n"
     ]
    },
    {
     "name": "stderr",
     "output_type": "stream",
     "text": [
      "Epoch: 35 Acc: 96.62: 100%|██████████| 172/172 [00:44<00:00,  3.87it/s]\n"
     ]
    },
    {
     "name": "stdout",
     "output_type": "stream",
     "text": [
      "Train Loss: 0.09245916588372703, Train Acc: 96.62%\n"
     ]
    },
    {
     "name": "stderr",
     "output_type": "stream",
     "text": [
      "100%|██████████| 74/74 [00:05<00:00, 12.98it/s]\n"
     ]
    },
    {
     "name": "stdout",
     "output_type": "stream",
     "text": [
      "Test Loss: 0.5618621523718577, Test Acc: 84.54%\n"
     ]
    },
    {
     "name": "stderr",
     "output_type": "stream",
     "text": [
      "Epoch: 36 Acc: 97.07: 100%|██████████| 172/172 [00:41<00:00,  4.15it/s]\n"
     ]
    },
    {
     "name": "stdout",
     "output_type": "stream",
     "text": [
      "Train Loss: 0.08027627808312604, Train Acc: 97.07%\n"
     ]
    },
    {
     "name": "stderr",
     "output_type": "stream",
     "text": [
      "100%|██████████| 74/74 [00:05<00:00, 12.82it/s]\n"
     ]
    },
    {
     "name": "stdout",
     "output_type": "stream",
     "text": [
      "Test Loss: 0.5764763428754097, Test Acc: 84.62%\n"
     ]
    },
    {
     "name": "stderr",
     "output_type": "stream",
     "text": [
      "Epoch: 37 Acc: 96.71: 100%|██████████| 172/172 [00:44<00:00,  3.87it/s]\n"
     ]
    },
    {
     "name": "stdout",
     "output_type": "stream",
     "text": [
      "Train Loss: 0.08489202727904803, Train Acc: 96.71%\n"
     ]
    },
    {
     "name": "stderr",
     "output_type": "stream",
     "text": [
      "100%|██████████| 74/74 [00:05<00:00, 12.75it/s]\n"
     ]
    },
    {
     "name": "stdout",
     "output_type": "stream",
     "text": [
      "Test Loss: 0.7204402813536895, Test Acc: 83.31%\n"
     ]
    },
    {
     "name": "stderr",
     "output_type": "stream",
     "text": [
      "Epoch: 38 Acc: 97.51: 100%|██████████| 172/172 [00:41<00:00,  4.16it/s]\n"
     ]
    },
    {
     "name": "stdout",
     "output_type": "stream",
     "text": [
      "Train Loss: 0.07169548021954332, Train Acc: 97.51%\n"
     ]
    },
    {
     "name": "stderr",
     "output_type": "stream",
     "text": [
      "100%|██████████| 74/74 [00:05<00:00, 12.89it/s]\n"
     ]
    },
    {
     "name": "stdout",
     "output_type": "stream",
     "text": [
      "Test Loss: 0.6761362040667115, Test Acc: 82.88%\n"
     ]
    },
    {
     "name": "stderr",
     "output_type": "stream",
     "text": [
      "Epoch: 39 Acc: 97.93: 100%|██████████| 172/172 [00:44<00:00,  3.86it/s]\n"
     ]
    },
    {
     "name": "stdout",
     "output_type": "stream",
     "text": [
      "Train Loss: 0.06222248010656818, Train Acc: 97.93%\n"
     ]
    },
    {
     "name": "stderr",
     "output_type": "stream",
     "text": [
      "100%|██████████| 74/74 [00:05<00:00, 12.80it/s]\n"
     ]
    },
    {
     "name": "stdout",
     "output_type": "stream",
     "text": [
      "Test Loss: 0.5833410728924178, Test Acc: 85.85%\n",
      "Saving..\n"
     ]
    },
    {
     "name": "stderr",
     "output_type": "stream",
     "text": [
      "Epoch: 40 Acc: 97.73: 100%|██████████| 172/172 [00:41<00:00,  4.16it/s]\n"
     ]
    },
    {
     "name": "stdout",
     "output_type": "stream",
     "text": [
      "Train Loss: 0.06499437407758303, Train Acc: 97.73%\n"
     ]
    },
    {
     "name": "stderr",
     "output_type": "stream",
     "text": [
      "100%|██████████| 74/74 [00:05<00:00, 12.85it/s]\n"
     ]
    },
    {
     "name": "stdout",
     "output_type": "stream",
     "text": [
      "Test Loss: 0.5627053308527212, Test Acc: 86.41%\n",
      "Saving..\n"
     ]
    },
    {
     "name": "stderr",
     "output_type": "stream",
     "text": [
      "Epoch: 41 Acc: 97.53: 100%|██████████| 172/172 [00:44<00:00,  3.86it/s]\n"
     ]
    },
    {
     "name": "stdout",
     "output_type": "stream",
     "text": [
      "Train Loss: 0.07493736007965582, Train Acc: 97.53%\n"
     ]
    },
    {
     "name": "stderr",
     "output_type": "stream",
     "text": [
      "100%|██████████| 74/74 [00:05<00:00, 12.76it/s]\n"
     ]
    },
    {
     "name": "stdout",
     "output_type": "stream",
     "text": [
      "Test Loss: 0.5896368468734058, Test Acc: 85.47%\n"
     ]
    },
    {
     "name": "stderr",
     "output_type": "stream",
     "text": [
      "Epoch: 42 Acc: 97.62: 100%|██████████| 172/172 [00:41<00:00,  4.15it/s]\n"
     ]
    },
    {
     "name": "stdout",
     "output_type": "stream",
     "text": [
      "Train Loss: 0.07131057868300136, Train Acc: 97.62%\n"
     ]
    },
    {
     "name": "stderr",
     "output_type": "stream",
     "text": [
      "100%|██████████| 74/74 [00:05<00:00, 12.88it/s]\n"
     ]
    },
    {
     "name": "stdout",
     "output_type": "stream",
     "text": [
      "Test Loss: 0.7299303672704343, Test Acc: 81.61%\n"
     ]
    },
    {
     "name": "stderr",
     "output_type": "stream",
     "text": [
      "Epoch: 43 Acc: 97.60: 100%|██████████| 172/172 [00:44<00:00,  3.88it/s]\n"
     ]
    },
    {
     "name": "stdout",
     "output_type": "stream",
     "text": [
      "Train Loss: 0.06491327959621801, Train Acc: 97.60%\n"
     ]
    },
    {
     "name": "stderr",
     "output_type": "stream",
     "text": [
      "100%|██████████| 74/74 [00:05<00:00, 12.75it/s]\n"
     ]
    },
    {
     "name": "stdout",
     "output_type": "stream",
     "text": [
      "Test Loss: 0.6270744426024927, Test Acc: 85.30%\n"
     ]
    },
    {
     "name": "stderr",
     "output_type": "stream",
     "text": [
      "Epoch: 44 Acc: 97.69: 100%|██████████| 172/172 [00:41<00:00,  4.13it/s]\n"
     ]
    },
    {
     "name": "stdout",
     "output_type": "stream",
     "text": [
      "Train Loss: 0.0613944934136884, Train Acc: 97.69%\n"
     ]
    },
    {
     "name": "stderr",
     "output_type": "stream",
     "text": [
      "100%|██████████| 74/74 [00:05<00:00, 12.64it/s]\n"
     ]
    },
    {
     "name": "stdout",
     "output_type": "stream",
     "text": [
      "Test Loss: 0.8246795376007622, Test Acc: 80.80%\n"
     ]
    },
    {
     "name": "stderr",
     "output_type": "stream",
     "text": [
      "Epoch: 45 Acc: 97.71: 100%|██████████| 172/172 [00:41<00:00,  4.16it/s]\n"
     ]
    },
    {
     "name": "stdout",
     "output_type": "stream",
     "text": [
      "Train Loss: 0.059828196580489275, Train Acc: 97.71%\n"
     ]
    },
    {
     "name": "stderr",
     "output_type": "stream",
     "text": [
      "100%|██████████| 74/74 [00:08<00:00,  8.36it/s]\n"
     ]
    },
    {
     "name": "stdout",
     "output_type": "stream",
     "text": [
      "Test Loss: 0.6307680647618867, Test Acc: 85.68%\n"
     ]
    },
    {
     "name": "stderr",
     "output_type": "stream",
     "text": [
      "Epoch: 46 Acc: 97.60: 100%|██████████| 172/172 [00:41<00:00,  4.15it/s]\n"
     ]
    },
    {
     "name": "stdout",
     "output_type": "stream",
     "text": [
      "Train Loss: 0.06696144766634503, Train Acc: 97.60%\n"
     ]
    },
    {
     "name": "stderr",
     "output_type": "stream",
     "text": [
      "100%|██████████| 74/74 [00:05<00:00, 12.79it/s]\n"
     ]
    },
    {
     "name": "stdout",
     "output_type": "stream",
     "text": [
      "Test Loss: 0.5628780935563751, Test Acc: 86.28%\n"
     ]
    },
    {
     "name": "stderr",
     "output_type": "stream",
     "text": [
      "Epoch: 47 Acc: 97.51: 100%|██████████| 172/172 [00:41<00:00,  4.14it/s]\n"
     ]
    },
    {
     "name": "stdout",
     "output_type": "stream",
     "text": [
      "Train Loss: 0.0692619739051605, Train Acc: 97.51%\n"
     ]
    },
    {
     "name": "stderr",
     "output_type": "stream",
     "text": [
      "100%|██████████| 74/74 [00:08<00:00,  8.42it/s]\n"
     ]
    },
    {
     "name": "stdout",
     "output_type": "stream",
     "text": [
      "Test Loss: 0.6608886540540166, Test Acc: 84.58%\n"
     ]
    },
    {
     "name": "stderr",
     "output_type": "stream",
     "text": [
      "Epoch: 48 Acc: 98.16: 100%|██████████| 172/172 [00:41<00:00,  4.14it/s]\n"
     ]
    },
    {
     "name": "stdout",
     "output_type": "stream",
     "text": [
      "Train Loss: 0.0520452436162592, Train Acc: 98.16%\n"
     ]
    },
    {
     "name": "stderr",
     "output_type": "stream",
     "text": [
      "100%|██████████| 74/74 [00:05<00:00, 12.69it/s]\n"
     ]
    },
    {
     "name": "stdout",
     "output_type": "stream",
     "text": [
      "Test Loss: 0.6506119582399323, Test Acc: 84.88%\n"
     ]
    },
    {
     "name": "stderr",
     "output_type": "stream",
     "text": [
      "Epoch: 49 Acc: 96.96: 100%|██████████| 172/172 [00:41<00:00,  4.15it/s]\n"
     ]
    },
    {
     "name": "stdout",
     "output_type": "stream",
     "text": [
      "Train Loss: 0.07710483850543062, Train Acc: 96.96%\n"
     ]
    },
    {
     "name": "stderr",
     "output_type": "stream",
     "text": [
      "100%|██████████| 74/74 [00:08<00:00,  8.30it/s]\n"
     ]
    },
    {
     "name": "stdout",
     "output_type": "stream",
     "text": [
      "Test Loss: 0.5859726953345377, Test Acc: 85.47%\n",
      "Saving..\n"
     ]
    }
   ],
   "source": [
    "if start_epoch>0:\n",
    "    checkpoint = torch.load(glob.glob(os.path.join(result_dir,f'basel0_3lbMGA-b{batch_size}-epoch{start_epoch-1}-*.pth'))[0] )\n",
    "    net.load_state_dict(checkpoint['net'])\n",
    "    best_acc = checkpoint['acc']\n",
    "\n",
    "for epoch in range(start_epoch, start_epoch+50):\n",
    "    train(epoch)\n",
    "    test(epoch, islast = epoch==start_epoch+49)"
   ]
  },
  {
   "cell_type": "code",
   "execution_count": 9,
   "id": "fa7663ca",
   "metadata": {},
   "outputs": [],
   "source": [
    "traindf = pd.DataFrame(training_info[1:],columns=training_info[0])\n",
    "testdf = pd.DataFrame(testing_info[1:],columns=testing_info[0])\n",
    "with open(os.path.join(result_dir,f'basel0_3lbCBAM-b{batch_size}-info.pkl'), 'wb') as file:\n",
    "    pickle.dump({\"train\":traindf,\"test\":testdf}, file)\n",
    "\n",
    " \n",
    " #   scheduler.step()"
   ]
  },
  {
   "cell_type": "code",
   "execution_count": 10,
   "id": "190325e6",
   "metadata": {},
   "outputs": [
    {
     "data": {
      "text/html": [
       "<div>\n",
       "<style scoped>\n",
       "    .dataframe tbody tr th:only-of-type {\n",
       "        vertical-align: middle;\n",
       "    }\n",
       "\n",
       "    .dataframe tbody tr th {\n",
       "        vertical-align: top;\n",
       "    }\n",
       "\n",
       "    .dataframe thead th {\n",
       "        text-align: right;\n",
       "    }\n",
       "</style>\n",
       "<table border=\"1\" class=\"dataframe\">\n",
       "  <thead>\n",
       "    <tr style=\"text-align: right;\">\n",
       "      <th></th>\n",
       "      <th>epoch</th>\n",
       "      <th>acc</th>\n",
       "      <th>loss</th>\n",
       "    </tr>\n",
       "  </thead>\n",
       "  <tbody>\n",
       "    <tr>\n",
       "      <th>0</th>\n",
       "      <td>0</td>\n",
       "      <td>61.852167</td>\n",
       "      <td>0.641547</td>\n",
       "    </tr>\n",
       "    <tr>\n",
       "      <th>1</th>\n",
       "      <td>1</td>\n",
       "      <td>64.528462</td>\n",
       "      <td>0.624370</td>\n",
       "    </tr>\n",
       "    <tr>\n",
       "      <th>2</th>\n",
       "      <td>2</td>\n",
       "      <td>69.201359</td>\n",
       "      <td>0.588759</td>\n",
       "    </tr>\n",
       "    <tr>\n",
       "      <th>3</th>\n",
       "      <td>3</td>\n",
       "      <td>65.930331</td>\n",
       "      <td>0.646695</td>\n",
       "    </tr>\n",
       "    <tr>\n",
       "      <th>4</th>\n",
       "      <td>4</td>\n",
       "      <td>75.276126</td>\n",
       "      <td>0.535934</td>\n",
       "    </tr>\n",
       "    <tr>\n",
       "      <th>5</th>\n",
       "      <td>5</td>\n",
       "      <td>67.629567</td>\n",
       "      <td>0.655371</td>\n",
       "    </tr>\n",
       "    <tr>\n",
       "      <th>6</th>\n",
       "      <td>6</td>\n",
       "      <td>72.557349</td>\n",
       "      <td>0.584883</td>\n",
       "    </tr>\n",
       "    <tr>\n",
       "      <th>7</th>\n",
       "      <td>7</td>\n",
       "      <td>78.292268</td>\n",
       "      <td>0.474111</td>\n",
       "    </tr>\n",
       "    <tr>\n",
       "      <th>8</th>\n",
       "      <td>8</td>\n",
       "      <td>77.867460</td>\n",
       "      <td>0.485812</td>\n",
       "    </tr>\n",
       "    <tr>\n",
       "      <th>9</th>\n",
       "      <td>9</td>\n",
       "      <td>78.887001</td>\n",
       "      <td>0.475815</td>\n",
       "    </tr>\n",
       "    <tr>\n",
       "      <th>10</th>\n",
       "      <td>10</td>\n",
       "      <td>80.543755</td>\n",
       "      <td>0.458459</td>\n",
       "    </tr>\n",
       "    <tr>\n",
       "      <th>11</th>\n",
       "      <td>11</td>\n",
       "      <td>78.334749</td>\n",
       "      <td>0.511497</td>\n",
       "    </tr>\n",
       "    <tr>\n",
       "      <th>12</th>\n",
       "      <td>12</td>\n",
       "      <td>80.926083</td>\n",
       "      <td>0.469766</td>\n",
       "    </tr>\n",
       "    <tr>\n",
       "      <th>13</th>\n",
       "      <td>13</td>\n",
       "      <td>76.805438</td>\n",
       "      <td>0.672827</td>\n",
       "    </tr>\n",
       "    <tr>\n",
       "      <th>14</th>\n",
       "      <td>14</td>\n",
       "      <td>81.053526</td>\n",
       "      <td>0.509633</td>\n",
       "    </tr>\n",
       "    <tr>\n",
       "      <th>15</th>\n",
       "      <td>15</td>\n",
       "      <td>83.092608</td>\n",
       "      <td>0.439026</td>\n",
       "    </tr>\n",
       "    <tr>\n",
       "      <th>16</th>\n",
       "      <td>16</td>\n",
       "      <td>81.393373</td>\n",
       "      <td>0.481033</td>\n",
       "    </tr>\n",
       "    <tr>\n",
       "      <th>17</th>\n",
       "      <td>17</td>\n",
       "      <td>83.135089</td>\n",
       "      <td>0.491779</td>\n",
       "    </tr>\n",
       "    <tr>\n",
       "      <th>18</th>\n",
       "      <td>18</td>\n",
       "      <td>83.517417</td>\n",
       "      <td>0.456703</td>\n",
       "    </tr>\n",
       "    <tr>\n",
       "      <th>19</th>\n",
       "      <td>19</td>\n",
       "      <td>82.412914</td>\n",
       "      <td>0.468789</td>\n",
       "    </tr>\n",
       "    <tr>\n",
       "      <th>20</th>\n",
       "      <td>20</td>\n",
       "      <td>75.106202</td>\n",
       "      <td>0.795107</td>\n",
       "    </tr>\n",
       "    <tr>\n",
       "      <th>21</th>\n",
       "      <td>21</td>\n",
       "      <td>83.559898</td>\n",
       "      <td>0.493763</td>\n",
       "    </tr>\n",
       "    <tr>\n",
       "      <th>22</th>\n",
       "      <td>22</td>\n",
       "      <td>83.602379</td>\n",
       "      <td>0.480354</td>\n",
       "    </tr>\n",
       "    <tr>\n",
       "      <th>23</th>\n",
       "      <td>23</td>\n",
       "      <td>84.876805</td>\n",
       "      <td>0.447164</td>\n",
       "    </tr>\n",
       "    <tr>\n",
       "      <th>24</th>\n",
       "      <td>24</td>\n",
       "      <td>85.046729</td>\n",
       "      <td>0.473735</td>\n",
       "    </tr>\n",
       "    <tr>\n",
       "      <th>25</th>\n",
       "      <td>25</td>\n",
       "      <td>82.455395</td>\n",
       "      <td>0.571290</td>\n",
       "    </tr>\n",
       "    <tr>\n",
       "      <th>26</th>\n",
       "      <td>26</td>\n",
       "      <td>82.625319</td>\n",
       "      <td>0.660801</td>\n",
       "    </tr>\n",
       "    <tr>\n",
       "      <th>27</th>\n",
       "      <td>27</td>\n",
       "      <td>84.621920</td>\n",
       "      <td>0.510858</td>\n",
       "    </tr>\n",
       "    <tr>\n",
       "      <th>28</th>\n",
       "      <td>28</td>\n",
       "      <td>81.393373</td>\n",
       "      <td>0.624672</td>\n",
       "    </tr>\n",
       "    <tr>\n",
       "      <th>29</th>\n",
       "      <td>29</td>\n",
       "      <td>84.324554</td>\n",
       "      <td>0.553106</td>\n",
       "    </tr>\n",
       "    <tr>\n",
       "      <th>30</th>\n",
       "      <td>30</td>\n",
       "      <td>83.517417</td>\n",
       "      <td>0.552412</td>\n",
       "    </tr>\n",
       "    <tr>\n",
       "      <th>31</th>\n",
       "      <td>31</td>\n",
       "      <td>85.726423</td>\n",
       "      <td>0.536497</td>\n",
       "    </tr>\n",
       "    <tr>\n",
       "      <th>32</th>\n",
       "      <td>32</td>\n",
       "      <td>84.494477</td>\n",
       "      <td>0.519955</td>\n",
       "    </tr>\n",
       "    <tr>\n",
       "      <th>33</th>\n",
       "      <td>33</td>\n",
       "      <td>82.370433</td>\n",
       "      <td>0.628596</td>\n",
       "    </tr>\n",
       "    <tr>\n",
       "      <th>34</th>\n",
       "      <td>34</td>\n",
       "      <td>84.069669</td>\n",
       "      <td>0.582177</td>\n",
       "    </tr>\n",
       "    <tr>\n",
       "      <th>35</th>\n",
       "      <td>35</td>\n",
       "      <td>84.536958</td>\n",
       "      <td>0.561862</td>\n",
       "    </tr>\n",
       "    <tr>\n",
       "      <th>36</th>\n",
       "      <td>36</td>\n",
       "      <td>84.621920</td>\n",
       "      <td>0.576476</td>\n",
       "    </tr>\n",
       "    <tr>\n",
       "      <th>37</th>\n",
       "      <td>37</td>\n",
       "      <td>83.305013</td>\n",
       "      <td>0.720440</td>\n",
       "    </tr>\n",
       "    <tr>\n",
       "      <th>38</th>\n",
       "      <td>38</td>\n",
       "      <td>82.880204</td>\n",
       "      <td>0.676136</td>\n",
       "    </tr>\n",
       "    <tr>\n",
       "      <th>39</th>\n",
       "      <td>39</td>\n",
       "      <td>85.853866</td>\n",
       "      <td>0.583341</td>\n",
       "    </tr>\n",
       "    <tr>\n",
       "      <th>40</th>\n",
       "      <td>40</td>\n",
       "      <td>86.406117</td>\n",
       "      <td>0.562705</td>\n",
       "    </tr>\n",
       "    <tr>\n",
       "      <th>41</th>\n",
       "      <td>41</td>\n",
       "      <td>85.471538</td>\n",
       "      <td>0.589637</td>\n",
       "    </tr>\n",
       "    <tr>\n",
       "      <th>42</th>\n",
       "      <td>42</td>\n",
       "      <td>81.605777</td>\n",
       "      <td>0.729930</td>\n",
       "    </tr>\n",
       "    <tr>\n",
       "      <th>43</th>\n",
       "      <td>43</td>\n",
       "      <td>85.301614</td>\n",
       "      <td>0.627074</td>\n",
       "    </tr>\n",
       "    <tr>\n",
       "      <th>44</th>\n",
       "      <td>44</td>\n",
       "      <td>80.798641</td>\n",
       "      <td>0.824680</td>\n",
       "    </tr>\n",
       "    <tr>\n",
       "      <th>45</th>\n",
       "      <td>45</td>\n",
       "      <td>85.683942</td>\n",
       "      <td>0.630768</td>\n",
       "    </tr>\n",
       "    <tr>\n",
       "      <th>46</th>\n",
       "      <td>46</td>\n",
       "      <td>86.278675</td>\n",
       "      <td>0.562878</td>\n",
       "    </tr>\n",
       "    <tr>\n",
       "      <th>47</th>\n",
       "      <td>47</td>\n",
       "      <td>84.579439</td>\n",
       "      <td>0.660889</td>\n",
       "    </tr>\n",
       "    <tr>\n",
       "      <th>48</th>\n",
       "      <td>48</td>\n",
       "      <td>84.876805</td>\n",
       "      <td>0.650612</td>\n",
       "    </tr>\n",
       "    <tr>\n",
       "      <th>49</th>\n",
       "      <td>49</td>\n",
       "      <td>85.471538</td>\n",
       "      <td>0.585973</td>\n",
       "    </tr>\n",
       "  </tbody>\n",
       "</table>\n",
       "</div>"
      ],
      "text/plain": [
       "    epoch        acc      loss\n",
       "0       0  61.852167  0.641547\n",
       "1       1  64.528462  0.624370\n",
       "2       2  69.201359  0.588759\n",
       "3       3  65.930331  0.646695\n",
       "4       4  75.276126  0.535934\n",
       "5       5  67.629567  0.655371\n",
       "6       6  72.557349  0.584883\n",
       "7       7  78.292268  0.474111\n",
       "8       8  77.867460  0.485812\n",
       "9       9  78.887001  0.475815\n",
       "10     10  80.543755  0.458459\n",
       "11     11  78.334749  0.511497\n",
       "12     12  80.926083  0.469766\n",
       "13     13  76.805438  0.672827\n",
       "14     14  81.053526  0.509633\n",
       "15     15  83.092608  0.439026\n",
       "16     16  81.393373  0.481033\n",
       "17     17  83.135089  0.491779\n",
       "18     18  83.517417  0.456703\n",
       "19     19  82.412914  0.468789\n",
       "20     20  75.106202  0.795107\n",
       "21     21  83.559898  0.493763\n",
       "22     22  83.602379  0.480354\n",
       "23     23  84.876805  0.447164\n",
       "24     24  85.046729  0.473735\n",
       "25     25  82.455395  0.571290\n",
       "26     26  82.625319  0.660801\n",
       "27     27  84.621920  0.510858\n",
       "28     28  81.393373  0.624672\n",
       "29     29  84.324554  0.553106\n",
       "30     30  83.517417  0.552412\n",
       "31     31  85.726423  0.536497\n",
       "32     32  84.494477  0.519955\n",
       "33     33  82.370433  0.628596\n",
       "34     34  84.069669  0.582177\n",
       "35     35  84.536958  0.561862\n",
       "36     36  84.621920  0.576476\n",
       "37     37  83.305013  0.720440\n",
       "38     38  82.880204  0.676136\n",
       "39     39  85.853866  0.583341\n",
       "40     40  86.406117  0.562705\n",
       "41     41  85.471538  0.589637\n",
       "42     42  81.605777  0.729930\n",
       "43     43  85.301614  0.627074\n",
       "44     44  80.798641  0.824680\n",
       "45     45  85.683942  0.630768\n",
       "46     46  86.278675  0.562878\n",
       "47     47  84.579439  0.660889\n",
       "48     48  84.876805  0.650612\n",
       "49     49  85.471538  0.585973"
      ]
     },
     "execution_count": 10,
     "metadata": {},
     "output_type": "execute_result"
    }
   ],
   "source": [
    "testdf"
   ]
  },
  {
   "cell_type": "code",
   "execution_count": 11,
   "id": "cb143804",
   "metadata": {},
   "outputs": [],
   "source": [
    "# with open('two_dfs.pkl', 'rb') as file:\n",
    "#     loaded = pickle.load(file)\n",
    "\n",
    "# loaded"
   ]
  }
 ],
 "metadata": {
  "kernelspec": {
   "display_name": "Python 3",
   "language": "python",
   "name": "python3"
  },
  "language_info": {
   "codemirror_mode": {
    "name": "ipython",
    "version": 3
   },
   "file_extension": ".py",
   "mimetype": "text/x-python",
   "name": "python",
   "nbconvert_exporter": "python",
   "pygments_lexer": "ipython3",
   "version": "3.10.12"
  }
 },
 "nbformat": 4,
 "nbformat_minor": 5
}
