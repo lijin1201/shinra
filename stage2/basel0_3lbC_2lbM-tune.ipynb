{
 "cells": [
  {
   "cell_type": "code",
   "execution_count": null,
   "id": "b02859b6",
   "metadata": {},
   "outputs": [],
   "source": [
    "#train3 from 2: use adam, remove weight_decay; one BW channel (not 3)\n",
    "#use Mpad for tuning\n",
    "import torch,os,glob\n",
    "import torch.nn as nn\n",
    "import torch.optim as optim\n",
    "import torch.nn.functional as F\n",
    "\n",
    "from torchvision.transforms import v2\n",
    "from torchvision import tv_tensors\n",
    "import pandas as pd\n",
    "import numpy as np\n",
    "\n",
    "from nets import ResNet18_3lbC_nlbM\n",
    "from tqdm import tqdm\n",
    "from configparser import ConfigParser\n",
    "from torch.utils.data import  DataLoader\n",
    "from LIDC_Mpad_data import LIDC_Dataset\n",
    "import pickle"
   ]
  },
  {
   "cell_type": "code",
   "execution_count": 2,
   "id": "d3d8dc6b",
   "metadata": {},
   "outputs": [],
   "source": [
    "device = 'cuda' if torch.cuda.is_available() else 'cpu'\n",
    "best_acc = 0  # best test accuracy\n",
    "best_epoch = 0\n",
    "start_epoch = 0  # start from epoch 0 or last checkpoint epoch\n",
    "\n",
    "prep_tr = [\n",
    "    v2.Lambda(lambda x: tv_tensors.Image(torch.clamp(x,-1000.,400.)) if isinstance(x, tv_tensors.Image) else x),\n",
    "    v2.Lambda(lambda x: tv_tensors.Image((x+1000)/1400) if isinstance(x, tv_tensors.Image) else x),\n",
    "    v2.CenterCrop((384,384)),\n",
    "]\n",
    "aug_tr = [\n",
    "    v2.RandomAffine(degrees=10),\n",
    "    v2.RandomHorizontalFlip(),\n",
    "]\n",
    "trans_train = v2.Compose( prep_tr + aug_tr )\n",
    "trans_test = v2.Compose( prep_tr  )"
   ]
  },
  {
   "cell_type": "code",
   "execution_count": 3,
   "id": "2b344e58",
   "metadata": {},
   "outputs": [
    {
     "name": "stdout",
     "output_type": "stream",
     "text": [
      "total_train_data: 5495 total_test_data: 2354\n"
     ]
    }
   ],
   "source": [
    "\n",
    "parser = ConfigParser()\n",
    "parser.read('.settings')\n",
    "root_dir = parser.get('dataset','root_dir') #/workspaces/data/lidc-idri/slices\n",
    "meta_dir = parser.get('dataset','meta_dir') #/workspaces/data/lidc-idri/splits\n",
    "result_dir = os.path.join(parser.get('dataset','result_dir'),'stage2/basel0_3lbC_2lbM-tune')\n",
    "if not os.path.isdir(result_dir):\n",
    "        os.mkdir(result_dir)\n",
    "\n",
    "train_data = LIDC_Dataset(root_dir,metapath=os.path.join(meta_dir,'trainBB_malB.csv'),transform=trans_train, loadBB=True)\n",
    "test_data = LIDC_Dataset(root_dir,metapath=os.path.join(meta_dir,'testBB_malB.csv'),transform=trans_test)\n",
    "total_train_data = len(train_data)\n",
    "total_test_data = len(test_data)\n",
    "print('total_train_data:',total_train_data, 'total_test_data:',total_test_data)\n",
    "\n",
    "batch_size = int(parser['dataset']['batch_size'])\n",
    "trainloader = DataLoader(train_data, batch_size=batch_size, shuffle=True, num_workers=8)\n",
    "testloader = DataLoader(test_data, batch_size=batch_size, num_workers=8)"
   ]
  },
  {
   "cell_type": "code",
   "execution_count": 4,
   "id": "94805703",
   "metadata": {},
   "outputs": [],
   "source": [
    "net = ResNet18_3lbC_nlbM(pretrained=True,attr=\"MGA2\")\n",
    "net.conv1 = nn.Conv2d(1, 64, kernel_size=7, stride=2, padding=3, bias=False)\n",
    "net.fc = nn.Linear(net.fc.in_features, 2)\n",
    "net = net.to(device)"
   ]
  },
  {
   "cell_type": "code",
   "execution_count": 5,
   "id": "31a2f9b7",
   "metadata": {},
   "outputs": [
    {
     "data": {
      "text/plain": [
       "====================================================================================================\n",
       "Layer (type:depth-idx)                             Output Shape              Param #\n",
       "====================================================================================================\n",
       "ResNet18_3lbC_nlbM                                 [32, 2]                   --\n",
       "├─Conv2d: 1-1                                      [32, 64, 192, 192]        3,136\n",
       "├─BatchNorm2d: 1-2                                 [32, 64, 192, 192]        128\n",
       "├─ReLU: 1-3                                        [32, 64, 192, 192]        --\n",
       "├─MaxPool2d: 1-4                                   [32, 64, 96, 96]          --\n",
       "├─Sequential: 1-5                                  [32, 64, 96, 96]          --\n",
       "│    └─BasicBlock: 2-1                             [32, 64, 96, 96]          --\n",
       "│    │    └─Conv2d: 3-1                            [32, 64, 96, 96]          36,864\n",
       "│    │    └─BatchNorm2d: 3-2                       [32, 64, 96, 96]          128\n",
       "│    │    └─ReLU: 3-3                              [32, 64, 96, 96]          --\n",
       "│    │    └─Conv2d: 3-4                            [32, 64, 96, 96]          36,864\n",
       "│    │    └─BatchNorm2d: 3-5                       [32, 64, 96, 96]          128\n",
       "│    │    └─ReLU: 3-6                              [32, 64, 96, 96]          --\n",
       "│    └─CBAMBasicBlock: 2-2                         [32, 64, 96, 96]          --\n",
       "│    │    └─Conv2d: 3-7                            [32, 64, 96, 96]          36,864\n",
       "│    │    └─BatchNorm2d: 3-8                       [32, 64, 96, 96]          128\n",
       "│    │    └─ReLU: 3-9                              [32, 64, 96, 96]          --\n",
       "│    │    └─Conv2d: 3-10                           [32, 64, 96, 96]          36,864\n",
       "│    │    └─BatchNorm2d: 3-11                      [32, 64, 96, 96]          128\n",
       "│    │    └─CBAM: 3-12                             [32, 64, 96, 96]          610\n",
       "│    │    └─ReLU: 3-13                             [32, 64, 96, 96]          --\n",
       "├─Sequential: 1-6                                  [32, 128, 48, 48]         --\n",
       "│    └─BasicBlock: 2-3                             [32, 128, 48, 48]         --\n",
       "│    │    └─Conv2d: 3-14                           [32, 128, 48, 48]         73,728\n",
       "│    │    └─BatchNorm2d: 3-15                      [32, 128, 48, 48]         256\n",
       "│    │    └─ReLU: 3-16                             [32, 128, 48, 48]         --\n",
       "│    │    └─Conv2d: 3-17                           [32, 128, 48, 48]         147,456\n",
       "│    │    └─BatchNorm2d: 3-18                      [32, 128, 48, 48]         256\n",
       "│    │    └─Sequential: 3-19                       [32, 128, 48, 48]         8,448\n",
       "│    │    └─ReLU: 3-20                             [32, 128, 48, 48]         --\n",
       "│    └─CBAMBasicBlockWithMask: 2-4                 [32, 128, 48, 48]         --\n",
       "│    │    └─Conv2d: 3-21                           [32, 128, 48, 48]         147,456\n",
       "│    │    └─BatchNorm2d: 3-22                      [32, 128, 48, 48]         256\n",
       "│    │    └─ReLU: 3-23                             [32, 128, 48, 48]         --\n",
       "│    │    └─Conv2d: 3-24                           [32, 128, 48, 48]         147,456\n",
       "│    │    └─BatchNorm2d: 3-25                      [32, 128, 48, 48]         256\n",
       "│    │    └─CBAMWithMaskSupervision: 3-26          [32, 128, 48, 48]         2,146\n",
       "│    │    └─ReLU: 3-27                             [32, 128, 48, 48]         --\n",
       "├─Sequential: 1-7                                  [32, 256, 24, 24]         --\n",
       "│    └─BasicBlock: 2-5                             [32, 256, 24, 24]         --\n",
       "│    │    └─Conv2d: 3-28                           [32, 256, 24, 24]         294,912\n",
       "│    │    └─BatchNorm2d: 3-29                      [32, 256, 24, 24]         512\n",
       "│    │    └─ReLU: 3-30                             [32, 256, 24, 24]         --\n",
       "│    │    └─Conv2d: 3-31                           [32, 256, 24, 24]         589,824\n",
       "│    │    └─BatchNorm2d: 3-32                      [32, 256, 24, 24]         512\n",
       "│    │    └─Sequential: 3-33                       [32, 256, 24, 24]         33,280\n",
       "│    │    └─ReLU: 3-34                             [32, 256, 24, 24]         --\n",
       "│    └─CBAMBasicBlock: 2-6                         [32, 256, 24, 24]         --\n",
       "│    │    └─Conv2d: 3-35                           [32, 256, 24, 24]         589,824\n",
       "│    │    └─BatchNorm2d: 3-36                      [32, 256, 24, 24]         512\n",
       "│    │    └─ReLU: 3-37                             [32, 256, 24, 24]         --\n",
       "│    │    └─Conv2d: 3-38                           [32, 256, 24, 24]         589,824\n",
       "│    │    └─BatchNorm2d: 3-39                      [32, 256, 24, 24]         512\n",
       "│    │    └─CBAM: 3-40                             [32, 256, 24, 24]         8,290\n",
       "│    │    └─ReLU: 3-41                             [32, 256, 24, 24]         --\n",
       "├─Sequential: 1-8                                  [32, 512, 12, 12]         --\n",
       "│    └─BasicBlock: 2-7                             [32, 512, 12, 12]         --\n",
       "│    │    └─Conv2d: 3-42                           [32, 512, 12, 12]         1,179,648\n",
       "│    │    └─BatchNorm2d: 3-43                      [32, 512, 12, 12]         1,024\n",
       "│    │    └─ReLU: 3-44                             [32, 512, 12, 12]         --\n",
       "│    │    └─Conv2d: 3-45                           [32, 512, 12, 12]         2,359,296\n",
       "│    │    └─BatchNorm2d: 3-46                      [32, 512, 12, 12]         1,024\n",
       "│    │    └─Sequential: 3-47                       [32, 512, 12, 12]         132,096\n",
       "│    │    └─ReLU: 3-48                             [32, 512, 12, 12]         --\n",
       "│    └─BasicBlock: 2-8                             [32, 512, 12, 12]         --\n",
       "│    │    └─Conv2d: 3-49                           [32, 512, 12, 12]         2,359,296\n",
       "│    │    └─BatchNorm2d: 3-50                      [32, 512, 12, 12]         1,024\n",
       "│    │    └─ReLU: 3-51                             [32, 512, 12, 12]         --\n",
       "│    │    └─Conv2d: 3-52                           [32, 512, 12, 12]         2,359,296\n",
       "│    │    └─BatchNorm2d: 3-53                      [32, 512, 12, 12]         1,024\n",
       "│    │    └─ReLU: 3-54                             [32, 512, 12, 12]         --\n",
       "├─AdaptiveAvgPool2d: 1-9                           [32, 512, 1, 1]           --\n",
       "├─Linear: 1-10                                     [32, 2]                   1,026\n",
       "====================================================================================================\n",
       "Total params: 11,182,312\n",
       "Trainable params: 11,182,312\n",
       "Non-trainable params: 0\n",
       "Total mult-adds (G): 163.19\n",
       "====================================================================================================\n",
       "Input size (MB): 18.87\n",
       "Forward/backward pass size (MB): 3740.47\n",
       "Params size (MB): 44.73\n",
       "Estimated Total Size (MB): 3804.07\n",
       "===================================================================================================="
      ]
     },
     "execution_count": 5,
     "metadata": {},
     "output_type": "execute_result"
    }
   ],
   "source": [
    "from torchinfo import summary\n",
    "summary(net, input_size=(batch_size,1, 384, 384))"
   ]
  },
  {
   "cell_type": "code",
   "execution_count": 6,
   "id": "5a98ef22",
   "metadata": {},
   "outputs": [],
   "source": [
    "lr = 1e-4\n",
    "criterion = nn.CrossEntropyLoss()\n",
    "mse = nn.MSELoss()\n",
    "optimizer = optim.Adam(net.parameters(), lr=lr)\n",
    "\n",
    "training_info=[[\"epoch\",\"acc\",\"loss\"]]\n",
    "testing_info=training_info.copy()"
   ]
  },
  {
   "cell_type": "code",
   "execution_count": 7,
   "id": "9e1e321d",
   "metadata": {},
   "outputs": [],
   "source": [
    "def train(epoch):\n",
    "    net.train()\n",
    "    train_loss = np.zeros(3)\n",
    "    correct = 0\n",
    "    total = 0\n",
    "    pbar = tqdm(trainloader)\n",
    "    for batch_idx, (inputs, targets, masks) in enumerate(pbar):\n",
    "        inputs, targets, masks = inputs.to(device), targets.to(device), masks.to(device)\n",
    "\n",
    "        optimizer.zero_grad()\n",
    "        # outputs = net(inputs)\n",
    "        outputs, attn_map = net(inputs)\n",
    "        cls_loss = criterion(outputs, targets)\n",
    "        masks = F.adaptive_avg_pool2d(masks, attn_map.shape[-2:])\n",
    "        att_loss = 1.* mse(attn_map , masks)\n",
    "        \n",
    "        loss =  cls_loss + att_loss\n",
    "        \n",
    "        # loss = criterion(outputs, targets)\n",
    "        loss.backward()\n",
    "        \n",
    "        optimizer.step()\n",
    "\n",
    "        train_loss += np.array([loss.item(), cls_loss.item(), att_loss.item()])\n",
    "        _, predicted = outputs.max(1)\n",
    "        \n",
    "        total += targets.size(0)\n",
    "        correct += predicted.eq(targets).sum().item()\n",
    "\n",
    "        pbar.set_description(f\"Epoch: {epoch} Acc: {(100.*correct/total):.2f}\")\n",
    "\n",
    "    train_acc = 100.*correct/total\n",
    "    train_loss = train_loss/(batch_idx+1)\n",
    "    print(f\"Tot Loss: {train_loss[0]:.4f} CL: {train_loss[1]:.5f} AT: {train_loss[2]:.5f}; Train Acc: {train_acc:.2f}%\")\n",
    "    training_info.append([epoch,train_acc,train_loss])\n",
    "    # trainning_accuracy.append(train_acc)\n",
    "    # trainning_loss.append( train_loss )\n",
    "\n",
    "def test(epoch, islast = False):\n",
    "    global best_acc, best_epoch\n",
    "    net.eval()\n",
    "    test_loss = 0\n",
    "    correct = 0\n",
    "    total = 0\n",
    "    pbar = tqdm(testloader)\n",
    "    with torch.no_grad():\n",
    "        for batch_idx, (inputs, targets ) in enumerate(pbar):\n",
    "            inputs, targets = inputs.to(device), targets.to(device)\n",
    "            outputs = net(inputs)\n",
    "            \n",
    "            loss = criterion(outputs, targets)\n",
    "            test_loss += loss.item()\n",
    "            _, predicted = outputs.max(1)\n",
    "            total += targets.size(0)\n",
    "            correct += predicted.eq(targets).sum().item()\n",
    "\n",
    "        test_acc = 100.*correct/total\n",
    "        test_loss = test_loss/(batch_idx+1)\n",
    "        print(f\"Test Loss: {test_loss}, Test Acc: {test_acc:.2f}%\")\n",
    "        testing_info.append([epoch,test_acc,test_loss])\n",
    "        # testing_accuracy.append(test_acc)\n",
    "        # testing_loss.append(test_loss)\n",
    "    # Save checkpoint.\n",
    "    acc = 100.*correct/total\n",
    "    if acc > best_acc or islast:\n",
    "        print('Saving..')\n",
    "        state = {\n",
    "            'net': net.state_dict(),\n",
    "            'acc': acc,\n",
    "            'epoch': epoch,\n",
    "        }\n",
    "        savestr = 'best' if acc > best_acc else 'last'\n",
    "        torch.save(state, os.path.join(result_dir,f'basel0-b{batch_size}-epoch{epoch}-{savestr}.pth'))\n",
    "        best_acc = acc\n",
    "        best_epoch = epoch"
   ]
  },
  {
   "cell_type": "code",
   "execution_count": 8,
   "id": "6af11cf6",
   "metadata": {},
   "outputs": [],
   "source": [
    "aa = np.zeros(3)\n",
    "aa = [1,2,3]"
   ]
  },
  {
   "cell_type": "code",
   "execution_count": 9,
   "id": "e1e93a0c",
   "metadata": {},
   "outputs": [
    {
     "name": "stdout",
     "output_type": "stream",
     "text": [
      "[1, 2, 3]\n"
     ]
    }
   ],
   "source": [
    "print(aa)"
   ]
  },
  {
   "cell_type": "code",
   "execution_count": 10,
   "id": "3a37795c",
   "metadata": {},
   "outputs": [
    {
     "name": "stderr",
     "output_type": "stream",
     "text": [
      "Epoch: 0 Acc: 59.84: 100%|██████████| 172/172 [00:44<00:00,  3.85it/s]\n"
     ]
    },
    {
     "name": "stdout",
     "output_type": "stream",
     "text": [
      "Tot Loss: 0.8727 CL: 0.67189 AT: 0.20081; Train Acc: 59.84%\n"
     ]
    },
    {
     "name": "stderr",
     "output_type": "stream",
     "text": [
      "100%|██████████| 74/74 [00:07<00:00, 10.45it/s]\n"
     ]
    },
    {
     "name": "stdout",
     "output_type": "stream",
     "text": [
      "Test Loss: 0.6473959426622133, Test Acc: 62.83%\n",
      "Saving..\n"
     ]
    },
    {
     "name": "stderr",
     "output_type": "stream",
     "text": [
      "Epoch: 1 Acc: 64.09: 100%|██████████| 172/172 [00:40<00:00,  4.21it/s]\n"
     ]
    },
    {
     "name": "stdout",
     "output_type": "stream",
     "text": [
      "Tot Loss: 0.7069 CL: 0.63090 AT: 0.07603; Train Acc: 64.09%\n"
     ]
    },
    {
     "name": "stderr",
     "output_type": "stream",
     "text": [
      "100%|██████████| 74/74 [00:06<00:00, 10.69it/s]\n"
     ]
    },
    {
     "name": "stdout",
     "output_type": "stream",
     "text": [
      "Test Loss: 0.6125362072442029, Test Acc: 67.37%\n",
      "Saving..\n"
     ]
    },
    {
     "name": "stderr",
     "output_type": "stream",
     "text": [
      "Epoch: 2 Acc: 69.30: 100%|██████████| 172/172 [00:44<00:00,  3.84it/s]\n"
     ]
    },
    {
     "name": "stdout",
     "output_type": "stream",
     "text": [
      "Tot Loss: 0.6242 CL: 0.58222 AT: 0.04198; Train Acc: 69.30%\n"
     ]
    },
    {
     "name": "stderr",
     "output_type": "stream",
     "text": [
      "100%|██████████| 74/74 [00:06<00:00, 12.12it/s]\n"
     ]
    },
    {
     "name": "stdout",
     "output_type": "stream",
     "text": [
      "Test Loss: 0.5924133537588893, Test Acc: 68.39%\n",
      "Saving..\n"
     ]
    },
    {
     "name": "stderr",
     "output_type": "stream",
     "text": [
      "Epoch: 3 Acc: 72.34: 100%|██████████| 172/172 [00:44<00:00,  3.90it/s]\n"
     ]
    },
    {
     "name": "stdout",
     "output_type": "stream",
     "text": [
      "Tot Loss: 0.5793 CL: 0.54342 AT: 0.03593; Train Acc: 72.34%\n"
     ]
    },
    {
     "name": "stderr",
     "output_type": "stream",
     "text": [
      "100%|██████████| 74/74 [00:08<00:00,  8.58it/s]\n"
     ]
    },
    {
     "name": "stdout",
     "output_type": "stream",
     "text": [
      "Test Loss: 0.5720768172193218, Test Acc: 70.56%\n",
      "Saving..\n"
     ]
    },
    {
     "name": "stderr",
     "output_type": "stream",
     "text": [
      "Epoch: 4 Acc: 76.21: 100%|██████████| 172/172 [00:43<00:00,  3.94it/s]\n"
     ]
    },
    {
     "name": "stdout",
     "output_type": "stream",
     "text": [
      "Tot Loss: 0.5285 CL: 0.49481 AT: 0.03365; Train Acc: 76.21%\n"
     ]
    },
    {
     "name": "stderr",
     "output_type": "stream",
     "text": [
      "100%|██████████| 74/74 [00:06<00:00, 12.23it/s]\n"
     ]
    },
    {
     "name": "stdout",
     "output_type": "stream",
     "text": [
      "Test Loss: 0.5214759848407797, Test Acc: 74.26%\n",
      "Saving..\n"
     ]
    },
    {
     "name": "stderr",
     "output_type": "stream",
     "text": [
      "Epoch: 5 Acc: 78.91: 100%|██████████| 172/172 [00:42<00:00,  4.07it/s]\n"
     ]
    },
    {
     "name": "stdout",
     "output_type": "stream",
     "text": [
      "Tot Loss: 0.4816 CL: 0.44906 AT: 0.03258; Train Acc: 78.91%\n"
     ]
    },
    {
     "name": "stderr",
     "output_type": "stream",
     "text": [
      "100%|██████████| 74/74 [00:09<00:00,  7.62it/s]\n"
     ]
    },
    {
     "name": "stdout",
     "output_type": "stream",
     "text": [
      "Test Loss: 0.6596254738601478, Test Acc: 71.45%\n"
     ]
    },
    {
     "name": "stderr",
     "output_type": "stream",
     "text": [
      "Epoch: 6 Acc: 81.53: 100%|██████████| 172/172 [00:42<00:00,  4.09it/s]\n"
     ]
    },
    {
     "name": "stdout",
     "output_type": "stream",
     "text": [
      "Tot Loss: 0.4462 CL: 0.41434 AT: 0.03189; Train Acc: 81.53%\n"
     ]
    },
    {
     "name": "stderr",
     "output_type": "stream",
     "text": [
      "100%|██████████| 74/74 [00:05<00:00, 12.33it/s]\n"
     ]
    },
    {
     "name": "stdout",
     "output_type": "stream",
     "text": [
      "Test Loss: 0.5016937114902444, Test Acc: 77.70%\n",
      "Saving..\n"
     ]
    },
    {
     "name": "stderr",
     "output_type": "stream",
     "text": [
      "Epoch: 7 Acc: 83.89: 100%|██████████| 172/172 [00:42<00:00,  4.03it/s]\n"
     ]
    },
    {
     "name": "stdout",
     "output_type": "stream",
     "text": [
      "Tot Loss: 0.4038 CL: 0.37235 AT: 0.03143; Train Acc: 83.89%\n"
     ]
    },
    {
     "name": "stderr",
     "output_type": "stream",
     "text": [
      "100%|██████████| 74/74 [00:09<00:00,  7.58it/s]\n"
     ]
    },
    {
     "name": "stdout",
     "output_type": "stream",
     "text": [
      "Test Loss: 0.5013195892443528, Test Acc: 77.23%\n"
     ]
    },
    {
     "name": "stderr",
     "output_type": "stream",
     "text": [
      "Epoch: 8 Acc: 86.01: 100%|██████████| 172/172 [00:42<00:00,  4.01it/s]\n"
     ]
    },
    {
     "name": "stdout",
     "output_type": "stream",
     "text": [
      "Tot Loss: 0.3613 CL: 0.33023 AT: 0.03110; Train Acc: 86.01%\n"
     ]
    },
    {
     "name": "stderr",
     "output_type": "stream",
     "text": [
      "100%|██████████| 74/74 [00:07<00:00, 10.12it/s]\n"
     ]
    },
    {
     "name": "stdout",
     "output_type": "stream",
     "text": [
      "Test Loss: 0.4965298695338739, Test Acc: 78.80%\n",
      "Saving..\n"
     ]
    },
    {
     "name": "stderr",
     "output_type": "stream",
     "text": [
      "Epoch: 9 Acc: 85.95: 100%|██████████| 172/172 [00:44<00:00,  3.86it/s]\n"
     ]
    },
    {
     "name": "stdout",
     "output_type": "stream",
     "text": [
      "Tot Loss: 0.3546 CL: 0.32377 AT: 0.03085; Train Acc: 85.95%\n"
     ]
    },
    {
     "name": "stderr",
     "output_type": "stream",
     "text": [
      "100%|██████████| 74/74 [00:05<00:00, 12.49it/s]\n"
     ]
    },
    {
     "name": "stdout",
     "output_type": "stream",
     "text": [
      "Test Loss: 0.5315138451956414, Test Acc: 78.97%\n",
      "Saving..\n"
     ]
    },
    {
     "name": "stderr",
     "output_type": "stream",
     "text": [
      "Epoch: 10 Acc: 88.46: 100%|██████████| 172/172 [00:43<00:00,  3.95it/s]\n"
     ]
    },
    {
     "name": "stdout",
     "output_type": "stream",
     "text": [
      "Tot Loss: 0.3110 CL: 0.28028 AT: 0.03067; Train Acc: 88.46%\n"
     ]
    },
    {
     "name": "stderr",
     "output_type": "stream",
     "text": [
      "100%|██████████| 74/74 [00:06<00:00, 12.15it/s]\n"
     ]
    },
    {
     "name": "stdout",
     "output_type": "stream",
     "text": [
      "Test Loss: 0.4996569144564706, Test Acc: 80.76%\n",
      "Saving..\n"
     ]
    },
    {
     "name": "stderr",
     "output_type": "stream",
     "text": [
      "Epoch: 11 Acc: 89.75: 100%|██████████| 172/172 [00:43<00:00,  3.98it/s]\n"
     ]
    },
    {
     "name": "stdout",
     "output_type": "stream",
     "text": [
      "Tot Loss: 0.2935 CL: 0.26293 AT: 0.03059; Train Acc: 89.75%\n"
     ]
    },
    {
     "name": "stderr",
     "output_type": "stream",
     "text": [
      "100%|██████████| 74/74 [00:07<00:00, 10.10it/s]\n"
     ]
    },
    {
     "name": "stdout",
     "output_type": "stream",
     "text": [
      "Test Loss: 0.47020825300667735, Test Acc: 80.84%\n",
      "Saving..\n"
     ]
    },
    {
     "name": "stderr",
     "output_type": "stream",
     "text": [
      "Epoch: 12 Acc: 90.56: 100%|██████████| 172/172 [00:40<00:00,  4.21it/s]\n"
     ]
    },
    {
     "name": "stdout",
     "output_type": "stream",
     "text": [
      "Tot Loss: 0.2725 CL: 0.24209 AT: 0.03043; Train Acc: 90.56%\n"
     ]
    },
    {
     "name": "stderr",
     "output_type": "stream",
     "text": [
      "100%|██████████| 74/74 [00:06<00:00, 11.98it/s]\n"
     ]
    },
    {
     "name": "stdout",
     "output_type": "stream",
     "text": [
      "Test Loss: 0.46014250392043915, Test Acc: 81.10%\n",
      "Saving..\n"
     ]
    },
    {
     "name": "stderr",
     "output_type": "stream",
     "text": [
      "Epoch: 13 Acc: 91.08: 100%|██████████| 172/172 [00:43<00:00,  3.91it/s]\n"
     ]
    },
    {
     "name": "stdout",
     "output_type": "stream",
     "text": [
      "Tot Loss: 0.2490 CL: 0.21862 AT: 0.03034; Train Acc: 91.08%\n"
     ]
    },
    {
     "name": "stderr",
     "output_type": "stream",
     "text": [
      "100%|██████████| 74/74 [00:06<00:00, 12.01it/s]\n"
     ]
    },
    {
     "name": "stdout",
     "output_type": "stream",
     "text": [
      "Test Loss: 0.4254470258145719, Test Acc: 84.28%\n",
      "Saving..\n"
     ]
    },
    {
     "name": "stderr",
     "output_type": "stream",
     "text": [
      "Epoch: 14 Acc: 91.61: 100%|██████████| 172/172 [00:42<00:00,  4.00it/s]\n"
     ]
    },
    {
     "name": "stdout",
     "output_type": "stream",
     "text": [
      "Tot Loss: 0.2380 CL: 0.20770 AT: 0.03028; Train Acc: 91.61%\n"
     ]
    },
    {
     "name": "stderr",
     "output_type": "stream",
     "text": [
      "100%|██████████| 74/74 [00:05<00:00, 12.55it/s]\n"
     ]
    },
    {
     "name": "stdout",
     "output_type": "stream",
     "text": [
      "Test Loss: 0.43411227718398376, Test Acc: 83.39%\n"
     ]
    },
    {
     "name": "stderr",
     "output_type": "stream",
     "text": [
      "Epoch: 15 Acc: 92.03: 100%|██████████| 172/172 [00:46<00:00,  3.69it/s]\n"
     ]
    },
    {
     "name": "stdout",
     "output_type": "stream",
     "text": [
      "Tot Loss: 0.2280 CL: 0.19774 AT: 0.03022; Train Acc: 92.03%\n"
     ]
    },
    {
     "name": "stderr",
     "output_type": "stream",
     "text": [
      "100%|██████████| 74/74 [00:05<00:00, 12.92it/s]\n"
     ]
    },
    {
     "name": "stdout",
     "output_type": "stream",
     "text": [
      "Test Loss: 0.5260418901169622, Test Acc: 81.99%\n"
     ]
    },
    {
     "name": "stderr",
     "output_type": "stream",
     "text": [
      "Epoch: 16 Acc: 92.92: 100%|██████████| 172/172 [00:42<00:00,  4.05it/s]\n"
     ]
    },
    {
     "name": "stdout",
     "output_type": "stream",
     "text": [
      "Tot Loss: 0.2110 CL: 0.18082 AT: 0.03016; Train Acc: 92.92%\n"
     ]
    },
    {
     "name": "stderr",
     "output_type": "stream",
     "text": [
      "100%|██████████| 74/74 [00:08<00:00,  8.61it/s]\n"
     ]
    },
    {
     "name": "stdout",
     "output_type": "stream",
     "text": [
      "Test Loss: 0.5557110865373869, Test Acc: 80.50%\n"
     ]
    },
    {
     "name": "stderr",
     "output_type": "stream",
     "text": [
      "Epoch: 17 Acc: 93.01: 100%|██████████| 172/172 [00:43<00:00,  3.97it/s]\n"
     ]
    },
    {
     "name": "stdout",
     "output_type": "stream",
     "text": [
      "Tot Loss: 0.2033 CL: 0.17329 AT: 0.03005; Train Acc: 93.01%\n"
     ]
    },
    {
     "name": "stderr",
     "output_type": "stream",
     "text": [
      "100%|██████████| 74/74 [00:06<00:00, 12.15it/s]\n"
     ]
    },
    {
     "name": "stdout",
     "output_type": "stream",
     "text": [
      "Test Loss: 0.44105462931297923, Test Acc: 84.75%\n",
      "Saving..\n"
     ]
    },
    {
     "name": "stderr",
     "output_type": "stream",
     "text": [
      "Epoch: 18 Acc: 94.27: 100%|██████████| 172/172 [00:41<00:00,  4.15it/s]\n"
     ]
    },
    {
     "name": "stdout",
     "output_type": "stream",
     "text": [
      "Tot Loss: 0.1832 CL: 0.15316 AT: 0.03001; Train Acc: 94.27%\n"
     ]
    },
    {
     "name": "stderr",
     "output_type": "stream",
     "text": [
      "100%|██████████| 74/74 [00:06<00:00, 12.29it/s]\n"
     ]
    },
    {
     "name": "stdout",
     "output_type": "stream",
     "text": [
      "Test Loss: 0.5177559965365642, Test Acc: 82.75%\n"
     ]
    },
    {
     "name": "stderr",
     "output_type": "stream",
     "text": [
      "Epoch: 19 Acc: 93.58: 100%|██████████| 172/172 [00:44<00:00,  3.88it/s]\n"
     ]
    },
    {
     "name": "stdout",
     "output_type": "stream",
     "text": [
      "Tot Loss: 0.1911 CL: 0.16117 AT: 0.02997; Train Acc: 93.58%\n"
     ]
    },
    {
     "name": "stderr",
     "output_type": "stream",
     "text": [
      "100%|██████████| 74/74 [00:05<00:00, 12.58it/s]\n"
     ]
    },
    {
     "name": "stdout",
     "output_type": "stream",
     "text": [
      "Test Loss: 0.5931210015472528, Test Acc: 78.55%\n"
     ]
    },
    {
     "name": "stderr",
     "output_type": "stream",
     "text": [
      "Epoch: 20 Acc: 94.52: 100%|██████████| 172/172 [00:42<00:00,  4.04it/s]\n"
     ]
    },
    {
     "name": "stdout",
     "output_type": "stream",
     "text": [
      "Tot Loss: 0.1732 CL: 0.14331 AT: 0.02993; Train Acc: 94.52%\n"
     ]
    },
    {
     "name": "stderr",
     "output_type": "stream",
     "text": [
      "100%|██████████| 74/74 [00:06<00:00, 12.14it/s]\n"
     ]
    },
    {
     "name": "stdout",
     "output_type": "stream",
     "text": [
      "Test Loss: 0.49817951929730336, Test Acc: 84.75%\n"
     ]
    },
    {
     "name": "stderr",
     "output_type": "stream",
     "text": [
      "Epoch: 21 Acc: 94.90: 100%|██████████| 172/172 [00:44<00:00,  3.90it/s]\n"
     ]
    },
    {
     "name": "stdout",
     "output_type": "stream",
     "text": [
      "Tot Loss: 0.1670 CL: 0.13712 AT: 0.02992; Train Acc: 94.90%\n"
     ]
    },
    {
     "name": "stderr",
     "output_type": "stream",
     "text": [
      "100%|██████████| 74/74 [00:05<00:00, 12.51it/s]\n"
     ]
    },
    {
     "name": "stdout",
     "output_type": "stream",
     "text": [
      "Test Loss: 0.44468624366296305, Test Acc: 85.81%\n",
      "Saving..\n"
     ]
    },
    {
     "name": "stderr",
     "output_type": "stream",
     "text": [
      "Epoch: 22 Acc: 94.83: 100%|██████████| 172/172 [00:40<00:00,  4.24it/s]\n"
     ]
    },
    {
     "name": "stdout",
     "output_type": "stream",
     "text": [
      "Tot Loss: 0.1661 CL: 0.13629 AT: 0.02986; Train Acc: 94.83%\n"
     ]
    },
    {
     "name": "stderr",
     "output_type": "stream",
     "text": [
      "100%|██████████| 74/74 [00:05<00:00, 12.50it/s]\n"
     ]
    },
    {
     "name": "stdout",
     "output_type": "stream",
     "text": [
      "Test Loss: 0.479233648930047, Test Acc: 84.15%\n"
     ]
    },
    {
     "name": "stderr",
     "output_type": "stream",
     "text": [
      "Epoch: 23 Acc: 94.58: 100%|██████████| 172/172 [00:45<00:00,  3.79it/s]\n"
     ]
    },
    {
     "name": "stdout",
     "output_type": "stream",
     "text": [
      "Tot Loss: 0.1588 CL: 0.12898 AT: 0.02983; Train Acc: 94.58%\n"
     ]
    },
    {
     "name": "stderr",
     "output_type": "stream",
     "text": [
      "100%|██████████| 74/74 [00:05<00:00, 12.62it/s]\n"
     ]
    },
    {
     "name": "stdout",
     "output_type": "stream",
     "text": [
      "Test Loss: 0.49143219960702433, Test Acc: 85.00%\n"
     ]
    },
    {
     "name": "stderr",
     "output_type": "stream",
     "text": [
      "Epoch: 24 Acc: 94.80: 100%|██████████| 172/172 [00:40<00:00,  4.30it/s]\n"
     ]
    },
    {
     "name": "stdout",
     "output_type": "stream",
     "text": [
      "Tot Loss: 0.1639 CL: 0.13401 AT: 0.02984; Train Acc: 94.80%\n"
     ]
    },
    {
     "name": "stderr",
     "output_type": "stream",
     "text": [
      "100%|██████████| 74/74 [00:06<00:00, 12.29it/s]\n"
     ]
    },
    {
     "name": "stdout",
     "output_type": "stream",
     "text": [
      "Test Loss: 0.45968302943416545, Test Acc: 85.47%\n"
     ]
    },
    {
     "name": "stderr",
     "output_type": "stream",
     "text": [
      "Epoch: 25 Acc: 95.74: 100%|██████████| 172/172 [00:43<00:00,  3.98it/s]\n"
     ]
    },
    {
     "name": "stdout",
     "output_type": "stream",
     "text": [
      "Tot Loss: 0.1478 CL: 0.11796 AT: 0.02980; Train Acc: 95.74%\n"
     ]
    },
    {
     "name": "stderr",
     "output_type": "stream",
     "text": [
      "100%|██████████| 74/74 [00:06<00:00, 12.01it/s]\n"
     ]
    },
    {
     "name": "stdout",
     "output_type": "stream",
     "text": [
      "Test Loss: 0.48174137601981293, Test Acc: 84.92%\n"
     ]
    },
    {
     "name": "stderr",
     "output_type": "stream",
     "text": [
      "Epoch: 26 Acc: 96.21: 100%|██████████| 172/172 [00:42<00:00,  4.05it/s]\n"
     ]
    },
    {
     "name": "stdout",
     "output_type": "stream",
     "text": [
      "Tot Loss: 0.1356 CL: 0.10589 AT: 0.02974; Train Acc: 96.21%\n"
     ]
    },
    {
     "name": "stderr",
     "output_type": "stream",
     "text": [
      "100%|██████████| 74/74 [00:05<00:00, 12.42it/s]\n"
     ]
    },
    {
     "name": "stdout",
     "output_type": "stream",
     "text": [
      "Test Loss: 0.4846126586198807, Test Acc: 85.94%\n",
      "Saving..\n"
     ]
    },
    {
     "name": "stderr",
     "output_type": "stream",
     "text": [
      "Epoch: 27 Acc: 95.80: 100%|██████████| 172/172 [00:43<00:00,  4.00it/s]\n"
     ]
    },
    {
     "name": "stdout",
     "output_type": "stream",
     "text": [
      "Tot Loss: 0.1404 CL: 0.11058 AT: 0.02980; Train Acc: 95.80%\n"
     ]
    },
    {
     "name": "stderr",
     "output_type": "stream",
     "text": [
      "100%|██████████| 74/74 [00:05<00:00, 12.39it/s]\n"
     ]
    },
    {
     "name": "stdout",
     "output_type": "stream",
     "text": [
      "Test Loss: 0.4921871701859542, Test Acc: 85.77%\n"
     ]
    },
    {
     "name": "stderr",
     "output_type": "stream",
     "text": [
      "Epoch: 28 Acc: 95.85: 100%|██████████| 172/172 [00:40<00:00,  4.23it/s]\n"
     ]
    },
    {
     "name": "stdout",
     "output_type": "stream",
     "text": [
      "Tot Loss: 0.1329 CL: 0.10311 AT: 0.02977; Train Acc: 95.85%\n"
     ]
    },
    {
     "name": "stderr",
     "output_type": "stream",
     "text": [
      "100%|██████████| 74/74 [00:06<00:00, 12.31it/s]\n"
     ]
    },
    {
     "name": "stdout",
     "output_type": "stream",
     "text": [
      "Test Loss: 0.5447975981074411, Test Acc: 84.37%\n"
     ]
    },
    {
     "name": "stderr",
     "output_type": "stream",
     "text": [
      "Epoch: 29 Acc: 96.45: 100%|██████████| 172/172 [00:43<00:00,  3.97it/s]\n"
     ]
    },
    {
     "name": "stdout",
     "output_type": "stream",
     "text": [
      "Tot Loss: 0.1281 CL: 0.09837 AT: 0.02969; Train Acc: 96.45%\n"
     ]
    },
    {
     "name": "stderr",
     "output_type": "stream",
     "text": [
      "100%|██████████| 74/74 [00:05<00:00, 12.77it/s]\n"
     ]
    },
    {
     "name": "stdout",
     "output_type": "stream",
     "text": [
      "Test Loss: 0.533172026578639, Test Acc: 85.09%\n"
     ]
    },
    {
     "name": "stderr",
     "output_type": "stream",
     "text": [
      "Epoch: 30 Acc: 96.56: 100%|██████████| 172/172 [00:40<00:00,  4.20it/s]\n"
     ]
    },
    {
     "name": "stdout",
     "output_type": "stream",
     "text": [
      "Tot Loss: 0.1178 CL: 0.08809 AT: 0.02970; Train Acc: 96.56%\n"
     ]
    },
    {
     "name": "stderr",
     "output_type": "stream",
     "text": [
      "100%|██████████| 74/74 [00:05<00:00, 12.51it/s]\n"
     ]
    },
    {
     "name": "stdout",
     "output_type": "stream",
     "text": [
      "Test Loss: 0.661840096116066, Test Acc: 83.81%\n"
     ]
    },
    {
     "name": "stderr",
     "output_type": "stream",
     "text": [
      "Epoch: 31 Acc: 97.05: 100%|██████████| 172/172 [00:43<00:00,  3.99it/s]\n"
     ]
    },
    {
     "name": "stdout",
     "output_type": "stream",
     "text": [
      "Tot Loss: 0.1154 CL: 0.08576 AT: 0.02966; Train Acc: 97.05%\n"
     ]
    },
    {
     "name": "stderr",
     "output_type": "stream",
     "text": [
      "100%|██████████| 74/74 [00:06<00:00, 11.71it/s]\n"
     ]
    },
    {
     "name": "stdout",
     "output_type": "stream",
     "text": [
      "Test Loss: 0.5727698233330974, Test Acc: 85.47%\n"
     ]
    },
    {
     "name": "stderr",
     "output_type": "stream",
     "text": [
      "Epoch: 32 Acc: 96.71: 100%|██████████| 172/172 [00:40<00:00,  4.23it/s]\n"
     ]
    },
    {
     "name": "stdout",
     "output_type": "stream",
     "text": [
      "Tot Loss: 0.1217 CL: 0.09202 AT: 0.02965; Train Acc: 96.71%\n"
     ]
    },
    {
     "name": "stderr",
     "output_type": "stream",
     "text": [
      "100%|██████████| 74/74 [00:06<00:00, 11.76it/s]\n"
     ]
    },
    {
     "name": "stdout",
     "output_type": "stream",
     "text": [
      "Test Loss: 0.6732947080320603, Test Acc: 81.95%\n"
     ]
    },
    {
     "name": "stderr",
     "output_type": "stream",
     "text": [
      "Epoch: 33 Acc: 96.29: 100%|██████████| 172/172 [00:51<00:00,  3.37it/s]\n"
     ]
    },
    {
     "name": "stdout",
     "output_type": "stream",
     "text": [
      "Tot Loss: 0.1261 CL: 0.09642 AT: 0.02963; Train Acc: 96.29%\n"
     ]
    },
    {
     "name": "stderr",
     "output_type": "stream",
     "text": [
      "100%|██████████| 74/74 [00:05<00:00, 12.54it/s]\n"
     ]
    },
    {
     "name": "stdout",
     "output_type": "stream",
     "text": [
      "Test Loss: 0.507600507925491, Test Acc: 86.49%\n",
      "Saving..\n"
     ]
    },
    {
     "name": "stderr",
     "output_type": "stream",
     "text": [
      "Epoch: 34 Acc: 96.82: 100%|██████████| 172/172 [00:40<00:00,  4.23it/s]\n"
     ]
    },
    {
     "name": "stdout",
     "output_type": "stream",
     "text": [
      "Tot Loss: 0.1108 CL: 0.08117 AT: 0.02964; Train Acc: 96.82%\n"
     ]
    },
    {
     "name": "stderr",
     "output_type": "stream",
     "text": [
      "100%|██████████| 74/74 [00:06<00:00, 11.97it/s]\n"
     ]
    },
    {
     "name": "stdout",
     "output_type": "stream",
     "text": [
      "Test Loss: 0.5037555112377614, Test Acc: 86.66%\n",
      "Saving..\n"
     ]
    },
    {
     "name": "stderr",
     "output_type": "stream",
     "text": [
      "Epoch: 35 Acc: 97.25: 100%|██████████| 172/172 [00:46<00:00,  3.66it/s]\n"
     ]
    },
    {
     "name": "stdout",
     "output_type": "stream",
     "text": [
      "Tot Loss: 0.1055 CL: 0.07587 AT: 0.02961; Train Acc: 97.25%\n"
     ]
    },
    {
     "name": "stderr",
     "output_type": "stream",
     "text": [
      "100%|██████████| 74/74 [00:05<00:00, 12.70it/s]\n"
     ]
    },
    {
     "name": "stdout",
     "output_type": "stream",
     "text": [
      "Test Loss: 0.5423835687137939, Test Acc: 86.70%\n",
      "Saving..\n"
     ]
    },
    {
     "name": "stderr",
     "output_type": "stream",
     "text": [
      "Epoch: 36 Acc: 97.18: 100%|██████████| 172/172 [00:40<00:00,  4.25it/s]\n"
     ]
    },
    {
     "name": "stdout",
     "output_type": "stream",
     "text": [
      "Tot Loss: 0.1076 CL: 0.07802 AT: 0.02957; Train Acc: 97.18%\n"
     ]
    },
    {
     "name": "stderr",
     "output_type": "stream",
     "text": [
      "100%|██████████| 74/74 [00:05<00:00, 12.74it/s]\n"
     ]
    },
    {
     "name": "stdout",
     "output_type": "stream",
     "text": [
      "Test Loss: 0.538857503945159, Test Acc: 84.75%\n"
     ]
    },
    {
     "name": "stderr",
     "output_type": "stream",
     "text": [
      "Epoch: 37 Acc: 97.29: 100%|██████████| 172/172 [00:43<00:00,  4.00it/s]\n"
     ]
    },
    {
     "name": "stdout",
     "output_type": "stream",
     "text": [
      "Tot Loss: 0.1050 CL: 0.07539 AT: 0.02957; Train Acc: 97.29%\n"
     ]
    },
    {
     "name": "stderr",
     "output_type": "stream",
     "text": [
      "100%|██████████| 74/74 [00:06<00:00, 10.75it/s]\n"
     ]
    },
    {
     "name": "stdout",
     "output_type": "stream",
     "text": [
      "Test Loss: 0.5436202694687087, Test Acc: 85.77%\n"
     ]
    },
    {
     "name": "stderr",
     "output_type": "stream",
     "text": [
      "Epoch: 38 Acc: 97.45: 100%|██████████| 172/172 [00:43<00:00,  3.97it/s]\n"
     ]
    },
    {
     "name": "stdout",
     "output_type": "stream",
     "text": [
      "Tot Loss: 0.0962 CL: 0.06658 AT: 0.02960; Train Acc: 97.45%\n"
     ]
    },
    {
     "name": "stderr",
     "output_type": "stream",
     "text": [
      "100%|██████████| 74/74 [00:06<00:00, 11.91it/s]\n"
     ]
    },
    {
     "name": "stdout",
     "output_type": "stream",
     "text": [
      "Test Loss: 0.5993167068872198, Test Acc: 84.92%\n"
     ]
    },
    {
     "name": "stderr",
     "output_type": "stream",
     "text": [
      "Epoch: 39 Acc: 97.78: 100%|██████████| 172/172 [00:47<00:00,  3.61it/s]\n"
     ]
    },
    {
     "name": "stdout",
     "output_type": "stream",
     "text": [
      "Tot Loss: 0.0953 CL: 0.06575 AT: 0.02952; Train Acc: 97.78%\n"
     ]
    },
    {
     "name": "stderr",
     "output_type": "stream",
     "text": [
      "100%|██████████| 74/74 [00:05<00:00, 12.41it/s]\n"
     ]
    },
    {
     "name": "stdout",
     "output_type": "stream",
     "text": [
      "Test Loss: 0.602939868496882, Test Acc: 84.37%\n"
     ]
    },
    {
     "name": "stderr",
     "output_type": "stream",
     "text": [
      "Epoch: 40 Acc: 96.98: 100%|██████████| 172/172 [00:40<00:00,  4.25it/s]\n"
     ]
    },
    {
     "name": "stdout",
     "output_type": "stream",
     "text": [
      "Tot Loss: 0.1083 CL: 0.07882 AT: 0.02951; Train Acc: 96.98%\n"
     ]
    },
    {
     "name": "stderr",
     "output_type": "stream",
     "text": [
      "100%|██████████| 74/74 [00:09<00:00,  8.15it/s]\n"
     ]
    },
    {
     "name": "stdout",
     "output_type": "stream",
     "text": [
      "Test Loss: 0.6160542369895691, Test Acc: 83.86%\n"
     ]
    },
    {
     "name": "stderr",
     "output_type": "stream",
     "text": [
      "Epoch: 41 Acc: 97.65: 100%|██████████| 172/172 [00:42<00:00,  4.09it/s]\n"
     ]
    },
    {
     "name": "stdout",
     "output_type": "stream",
     "text": [
      "Tot Loss: 0.1052 CL: 0.07574 AT: 0.02948; Train Acc: 97.65%\n"
     ]
    },
    {
     "name": "stderr",
     "output_type": "stream",
     "text": [
      "100%|██████████| 74/74 [00:06<00:00, 12.27it/s]\n"
     ]
    },
    {
     "name": "stdout",
     "output_type": "stream",
     "text": [
      "Test Loss: 0.6511844351283602, Test Acc: 83.60%\n"
     ]
    },
    {
     "name": "stderr",
     "output_type": "stream",
     "text": [
      "Epoch: 42 Acc: 97.78: 100%|██████████| 172/172 [00:41<00:00,  4.18it/s]\n"
     ]
    },
    {
     "name": "stdout",
     "output_type": "stream",
     "text": [
      "Tot Loss: 0.0943 CL: 0.06482 AT: 0.02944; Train Acc: 97.78%\n"
     ]
    },
    {
     "name": "stderr",
     "output_type": "stream",
     "text": [
      "100%|██████████| 74/74 [00:08<00:00,  8.63it/s]\n"
     ]
    },
    {
     "name": "stdout",
     "output_type": "stream",
     "text": [
      "Test Loss: 0.5757543608244207, Test Acc: 85.73%\n"
     ]
    },
    {
     "name": "stderr",
     "output_type": "stream",
     "text": [
      "Epoch: 43 Acc: 97.76: 100%|██████████| 172/172 [00:41<00:00,  4.19it/s]\n"
     ]
    },
    {
     "name": "stdout",
     "output_type": "stream",
     "text": [
      "Tot Loss: 0.0928 CL: 0.06339 AT: 0.02939; Train Acc: 97.76%\n"
     ]
    },
    {
     "name": "stderr",
     "output_type": "stream",
     "text": [
      "100%|██████████| 74/74 [00:06<00:00, 12.03it/s]\n"
     ]
    },
    {
     "name": "stdout",
     "output_type": "stream",
     "text": [
      "Test Loss: 0.5979730584532827, Test Acc: 85.34%\n"
     ]
    },
    {
     "name": "stderr",
     "output_type": "stream",
     "text": [
      "Epoch: 44 Acc: 97.60: 100%|██████████| 172/172 [00:42<00:00,  4.06it/s]\n"
     ]
    },
    {
     "name": "stdout",
     "output_type": "stream",
     "text": [
      "Tot Loss: 0.0968 CL: 0.06740 AT: 0.02942; Train Acc: 97.60%\n"
     ]
    },
    {
     "name": "stderr",
     "output_type": "stream",
     "text": [
      "100%|██████████| 74/74 [00:08<00:00,  8.23it/s]\n"
     ]
    },
    {
     "name": "stdout",
     "output_type": "stream",
     "text": [
      "Test Loss: 0.5463134529622825, Test Acc: 86.24%\n"
     ]
    },
    {
     "name": "stderr",
     "output_type": "stream",
     "text": [
      "Epoch: 45 Acc: 97.73: 100%|██████████| 172/172 [00:41<00:00,  4.15it/s]\n"
     ]
    },
    {
     "name": "stdout",
     "output_type": "stream",
     "text": [
      "Tot Loss: 0.0930 CL: 0.06356 AT: 0.02940; Train Acc: 97.73%\n"
     ]
    },
    {
     "name": "stderr",
     "output_type": "stream",
     "text": [
      "100%|██████████| 74/74 [00:05<00:00, 12.39it/s]\n"
     ]
    },
    {
     "name": "stdout",
     "output_type": "stream",
     "text": [
      "Test Loss: 0.6126863966519768, Test Acc: 85.17%\n"
     ]
    },
    {
     "name": "stderr",
     "output_type": "stream",
     "text": [
      "Epoch: 46 Acc: 97.38: 100%|██████████| 172/172 [00:43<00:00,  3.92it/s]\n"
     ]
    },
    {
     "name": "stdout",
     "output_type": "stream",
     "text": [
      "Tot Loss: 0.1013 CL: 0.07193 AT: 0.02936; Train Acc: 97.38%\n"
     ]
    },
    {
     "name": "stderr",
     "output_type": "stream",
     "text": [
      "100%|██████████| 74/74 [00:08<00:00,  8.63it/s]\n"
     ]
    },
    {
     "name": "stdout",
     "output_type": "stream",
     "text": [
      "Test Loss: 0.6289339808596147, Test Acc: 84.71%\n"
     ]
    },
    {
     "name": "stderr",
     "output_type": "stream",
     "text": [
      "Epoch: 47 Acc: 98.05: 100%|██████████| 172/172 [00:42<00:00,  4.03it/s]\n"
     ]
    },
    {
     "name": "stdout",
     "output_type": "stream",
     "text": [
      "Tot Loss: 0.0841 CL: 0.05469 AT: 0.02939; Train Acc: 98.05%\n"
     ]
    },
    {
     "name": "stderr",
     "output_type": "stream",
     "text": [
      "100%|██████████| 74/74 [00:06<00:00, 11.10it/s]\n"
     ]
    },
    {
     "name": "stdout",
     "output_type": "stream",
     "text": [
      "Test Loss: 0.5758989986434981, Test Acc: 86.11%\n"
     ]
    },
    {
     "name": "stderr",
     "output_type": "stream",
     "text": [
      "Epoch: 48 Acc: 97.78: 100%|██████████| 172/172 [00:41<00:00,  4.17it/s]\n"
     ]
    },
    {
     "name": "stdout",
     "output_type": "stream",
     "text": [
      "Tot Loss: 0.0859 CL: 0.05654 AT: 0.02936; Train Acc: 97.78%\n"
     ]
    },
    {
     "name": "stderr",
     "output_type": "stream",
     "text": [
      "100%|██████████| 74/74 [00:08<00:00,  8.38it/s]\n"
     ]
    },
    {
     "name": "stdout",
     "output_type": "stream",
     "text": [
      "Test Loss: 0.5751369509946656, Test Acc: 86.24%\n"
     ]
    },
    {
     "name": "stderr",
     "output_type": "stream",
     "text": [
      "Epoch: 49 Acc: 97.96: 100%|██████████| 172/172 [00:41<00:00,  4.17it/s]\n"
     ]
    },
    {
     "name": "stdout",
     "output_type": "stream",
     "text": [
      "Tot Loss: 0.0835 CL: 0.05421 AT: 0.02933; Train Acc: 97.96%\n"
     ]
    },
    {
     "name": "stderr",
     "output_type": "stream",
     "text": [
      "100%|██████████| 74/74 [00:05<00:00, 12.64it/s]\n"
     ]
    },
    {
     "name": "stdout",
     "output_type": "stream",
     "text": [
      "Test Loss: 0.6168684394577065, Test Acc: 85.56%\n",
      "Saving..\n"
     ]
    }
   ],
   "source": [
    "if start_epoch>0:\n",
    "    checkpoint = torch.load(glob.glob(os.path.join(result_dir,f'basel0-b{batch_size}-epoch{start_epoch-1}-*.pth'))[0] )\n",
    "    net.load_state_dict(checkpoint['net'])\n",
    "    best_acc = checkpoint['acc']\n",
    "\n",
    "for epoch in range(start_epoch, start_epoch+50):\n",
    "    train(epoch)\n",
    "    test(epoch, islast = epoch==start_epoch+49)"
   ]
  },
  {
   "cell_type": "code",
   "execution_count": 11,
   "id": "fa7663ca",
   "metadata": {},
   "outputs": [],
   "source": [
    "traindf = pd.DataFrame(training_info[1:],columns=training_info[0])\n",
    "testdf = pd.DataFrame(testing_info[1:],columns=testing_info[0])\n",
    "with open(os.path.join(result_dir,f'basel0-b{batch_size}-info.pkl'), 'wb') as file:\n",
    "    pickle.dump({\"train\":traindf,\"test\":testdf}, file)\n",
    "\n",
    " \n",
    " #   scheduler.step()"
   ]
  },
  {
   "cell_type": "code",
   "execution_count": 2,
   "id": "e9d2a837",
   "metadata": {},
   "outputs": [
    {
     "ename": "NameError",
     "evalue": "name 'net' is not defined",
     "output_type": "error",
     "traceback": [
      "\u001b[0;31m---------------------------------------------------------------------------\u001b[0m",
      "\u001b[0;31mNameError\u001b[0m                                 Traceback (most recent call last)",
      "Cell \u001b[0;32mIn[2], line 1\u001b[0m\n\u001b[0;32m----> 1\u001b[0m \u001b[43mnet\u001b[49m\n",
      "\u001b[0;31mNameError\u001b[0m: name 'net' is not defined"
     ]
    }
   ],
   "source": [
    "net"
   ]
  },
  {
   "cell_type": "code",
   "execution_count": null,
   "id": "08c6b611",
   "metadata": {},
   "outputs": [],
   "source": []
  },
  {
   "cell_type": "code",
   "execution_count": 13,
   "id": "190325e6",
   "metadata": {},
   "outputs": [
    {
     "data": {
      "text/html": [
       "<div>\n",
       "<style scoped>\n",
       "    .dataframe tbody tr th:only-of-type {\n",
       "        vertical-align: middle;\n",
       "    }\n",
       "\n",
       "    .dataframe tbody tr th {\n",
       "        vertical-align: top;\n",
       "    }\n",
       "\n",
       "    .dataframe thead th {\n",
       "        text-align: right;\n",
       "    }\n",
       "</style>\n",
       "<table border=\"1\" class=\"dataframe\">\n",
       "  <thead>\n",
       "    <tr style=\"text-align: right;\">\n",
       "      <th></th>\n",
       "      <th>epoch</th>\n",
       "      <th>acc</th>\n",
       "      <th>loss</th>\n",
       "    </tr>\n",
       "  </thead>\n",
       "  <tbody>\n",
       "    <tr>\n",
       "      <th>0</th>\n",
       "      <td>0</td>\n",
       "      <td>62.829227</td>\n",
       "      <td>0.647396</td>\n",
       "    </tr>\n",
       "    <tr>\n",
       "      <th>1</th>\n",
       "      <td>1</td>\n",
       "      <td>67.374681</td>\n",
       "      <td>0.612536</td>\n",
       "    </tr>\n",
       "    <tr>\n",
       "      <th>2</th>\n",
       "      <td>2</td>\n",
       "      <td>68.394223</td>\n",
       "      <td>0.592413</td>\n",
       "    </tr>\n",
       "    <tr>\n",
       "      <th>3</th>\n",
       "      <td>3</td>\n",
       "      <td>70.560748</td>\n",
       "      <td>0.572077</td>\n",
       "    </tr>\n",
       "    <tr>\n",
       "      <th>4</th>\n",
       "      <td>4</td>\n",
       "      <td>74.256585</td>\n",
       "      <td>0.521476</td>\n",
       "    </tr>\n",
       "    <tr>\n",
       "      <th>5</th>\n",
       "      <td>5</td>\n",
       "      <td>71.452846</td>\n",
       "      <td>0.659625</td>\n",
       "    </tr>\n",
       "    <tr>\n",
       "      <th>6</th>\n",
       "      <td>6</td>\n",
       "      <td>77.697536</td>\n",
       "      <td>0.501694</td>\n",
       "    </tr>\n",
       "    <tr>\n",
       "      <th>7</th>\n",
       "      <td>7</td>\n",
       "      <td>77.230246</td>\n",
       "      <td>0.501320</td>\n",
       "    </tr>\n",
       "    <tr>\n",
       "      <th>8</th>\n",
       "      <td>8</td>\n",
       "      <td>78.802039</td>\n",
       "      <td>0.496530</td>\n",
       "    </tr>\n",
       "    <tr>\n",
       "      <th>9</th>\n",
       "      <td>9</td>\n",
       "      <td>78.971963</td>\n",
       "      <td>0.531514</td>\n",
       "    </tr>\n",
       "    <tr>\n",
       "      <th>10</th>\n",
       "      <td>10</td>\n",
       "      <td>80.756160</td>\n",
       "      <td>0.499657</td>\n",
       "    </tr>\n",
       "    <tr>\n",
       "      <th>11</th>\n",
       "      <td>11</td>\n",
       "      <td>80.841121</td>\n",
       "      <td>0.470208</td>\n",
       "    </tr>\n",
       "    <tr>\n",
       "      <th>12</th>\n",
       "      <td>12</td>\n",
       "      <td>81.096007</td>\n",
       "      <td>0.460143</td>\n",
       "    </tr>\n",
       "    <tr>\n",
       "      <th>13</th>\n",
       "      <td>13</td>\n",
       "      <td>84.282073</td>\n",
       "      <td>0.425447</td>\n",
       "    </tr>\n",
       "    <tr>\n",
       "      <th>14</th>\n",
       "      <td>14</td>\n",
       "      <td>83.389975</td>\n",
       "      <td>0.434112</td>\n",
       "    </tr>\n",
       "    <tr>\n",
       "      <th>15</th>\n",
       "      <td>15</td>\n",
       "      <td>81.988105</td>\n",
       "      <td>0.526042</td>\n",
       "    </tr>\n",
       "    <tr>\n",
       "      <th>16</th>\n",
       "      <td>16</td>\n",
       "      <td>80.501274</td>\n",
       "      <td>0.555711</td>\n",
       "    </tr>\n",
       "    <tr>\n",
       "      <th>17</th>\n",
       "      <td>17</td>\n",
       "      <td>84.749363</td>\n",
       "      <td>0.441055</td>\n",
       "    </tr>\n",
       "    <tr>\n",
       "      <th>18</th>\n",
       "      <td>18</td>\n",
       "      <td>82.752761</td>\n",
       "      <td>0.517756</td>\n",
       "    </tr>\n",
       "    <tr>\n",
       "      <th>19</th>\n",
       "      <td>19</td>\n",
       "      <td>78.547154</td>\n",
       "      <td>0.593121</td>\n",
       "    </tr>\n",
       "    <tr>\n",
       "      <th>20</th>\n",
       "      <td>20</td>\n",
       "      <td>84.749363</td>\n",
       "      <td>0.498180</td>\n",
       "    </tr>\n",
       "    <tr>\n",
       "      <th>21</th>\n",
       "      <td>21</td>\n",
       "      <td>85.811385</td>\n",
       "      <td>0.444686</td>\n",
       "    </tr>\n",
       "    <tr>\n",
       "      <th>22</th>\n",
       "      <td>22</td>\n",
       "      <td>84.154630</td>\n",
       "      <td>0.479234</td>\n",
       "    </tr>\n",
       "    <tr>\n",
       "      <th>23</th>\n",
       "      <td>23</td>\n",
       "      <td>85.004248</td>\n",
       "      <td>0.491432</td>\n",
       "    </tr>\n",
       "    <tr>\n",
       "      <th>24</th>\n",
       "      <td>24</td>\n",
       "      <td>85.471538</td>\n",
       "      <td>0.459683</td>\n",
       "    </tr>\n",
       "    <tr>\n",
       "      <th>25</th>\n",
       "      <td>25</td>\n",
       "      <td>84.919286</td>\n",
       "      <td>0.481741</td>\n",
       "    </tr>\n",
       "    <tr>\n",
       "      <th>26</th>\n",
       "      <td>26</td>\n",
       "      <td>85.938828</td>\n",
       "      <td>0.484613</td>\n",
       "    </tr>\n",
       "    <tr>\n",
       "      <th>27</th>\n",
       "      <td>27</td>\n",
       "      <td>85.768904</td>\n",
       "      <td>0.492187</td>\n",
       "    </tr>\n",
       "    <tr>\n",
       "      <th>28</th>\n",
       "      <td>28</td>\n",
       "      <td>84.367035</td>\n",
       "      <td>0.544798</td>\n",
       "    </tr>\n",
       "    <tr>\n",
       "      <th>29</th>\n",
       "      <td>29</td>\n",
       "      <td>85.089210</td>\n",
       "      <td>0.533172</td>\n",
       "    </tr>\n",
       "    <tr>\n",
       "      <th>30</th>\n",
       "      <td>30</td>\n",
       "      <td>83.814783</td>\n",
       "      <td>0.661840</td>\n",
       "    </tr>\n",
       "    <tr>\n",
       "      <th>31</th>\n",
       "      <td>31</td>\n",
       "      <td>85.471538</td>\n",
       "      <td>0.572770</td>\n",
       "    </tr>\n",
       "    <tr>\n",
       "      <th>32</th>\n",
       "      <td>32</td>\n",
       "      <td>81.945624</td>\n",
       "      <td>0.673295</td>\n",
       "    </tr>\n",
       "    <tr>\n",
       "      <th>33</th>\n",
       "      <td>33</td>\n",
       "      <td>86.491079</td>\n",
       "      <td>0.507601</td>\n",
       "    </tr>\n",
       "    <tr>\n",
       "      <th>34</th>\n",
       "      <td>34</td>\n",
       "      <td>86.661003</td>\n",
       "      <td>0.503756</td>\n",
       "    </tr>\n",
       "    <tr>\n",
       "      <th>35</th>\n",
       "      <td>35</td>\n",
       "      <td>86.703483</td>\n",
       "      <td>0.542384</td>\n",
       "    </tr>\n",
       "    <tr>\n",
       "      <th>36</th>\n",
       "      <td>36</td>\n",
       "      <td>84.749363</td>\n",
       "      <td>0.538858</td>\n",
       "    </tr>\n",
       "    <tr>\n",
       "      <th>37</th>\n",
       "      <td>37</td>\n",
       "      <td>85.768904</td>\n",
       "      <td>0.543620</td>\n",
       "    </tr>\n",
       "    <tr>\n",
       "      <th>38</th>\n",
       "      <td>38</td>\n",
       "      <td>84.919286</td>\n",
       "      <td>0.599317</td>\n",
       "    </tr>\n",
       "    <tr>\n",
       "      <th>39</th>\n",
       "      <td>39</td>\n",
       "      <td>84.367035</td>\n",
       "      <td>0.602940</td>\n",
       "    </tr>\n",
       "    <tr>\n",
       "      <th>40</th>\n",
       "      <td>40</td>\n",
       "      <td>83.857264</td>\n",
       "      <td>0.616054</td>\n",
       "    </tr>\n",
       "    <tr>\n",
       "      <th>41</th>\n",
       "      <td>41</td>\n",
       "      <td>83.602379</td>\n",
       "      <td>0.651184</td>\n",
       "    </tr>\n",
       "    <tr>\n",
       "      <th>42</th>\n",
       "      <td>42</td>\n",
       "      <td>85.726423</td>\n",
       "      <td>0.575754</td>\n",
       "    </tr>\n",
       "    <tr>\n",
       "      <th>43</th>\n",
       "      <td>43</td>\n",
       "      <td>85.344095</td>\n",
       "      <td>0.597973</td>\n",
       "    </tr>\n",
       "    <tr>\n",
       "      <th>44</th>\n",
       "      <td>44</td>\n",
       "      <td>86.236194</td>\n",
       "      <td>0.546313</td>\n",
       "    </tr>\n",
       "    <tr>\n",
       "      <th>45</th>\n",
       "      <td>45</td>\n",
       "      <td>85.174172</td>\n",
       "      <td>0.612686</td>\n",
       "    </tr>\n",
       "    <tr>\n",
       "      <th>46</th>\n",
       "      <td>46</td>\n",
       "      <td>84.706882</td>\n",
       "      <td>0.628934</td>\n",
       "    </tr>\n",
       "    <tr>\n",
       "      <th>47</th>\n",
       "      <td>47</td>\n",
       "      <td>86.108751</td>\n",
       "      <td>0.575899</td>\n",
       "    </tr>\n",
       "    <tr>\n",
       "      <th>48</th>\n",
       "      <td>48</td>\n",
       "      <td>86.236194</td>\n",
       "      <td>0.575137</td>\n",
       "    </tr>\n",
       "    <tr>\n",
       "      <th>49</th>\n",
       "      <td>49</td>\n",
       "      <td>85.556500</td>\n",
       "      <td>0.616868</td>\n",
       "    </tr>\n",
       "  </tbody>\n",
       "</table>\n",
       "</div>"
      ],
      "text/plain": [
       "    epoch        acc      loss\n",
       "0       0  62.829227  0.647396\n",
       "1       1  67.374681  0.612536\n",
       "2       2  68.394223  0.592413\n",
       "3       3  70.560748  0.572077\n",
       "4       4  74.256585  0.521476\n",
       "5       5  71.452846  0.659625\n",
       "6       6  77.697536  0.501694\n",
       "7       7  77.230246  0.501320\n",
       "8       8  78.802039  0.496530\n",
       "9       9  78.971963  0.531514\n",
       "10     10  80.756160  0.499657\n",
       "11     11  80.841121  0.470208\n",
       "12     12  81.096007  0.460143\n",
       "13     13  84.282073  0.425447\n",
       "14     14  83.389975  0.434112\n",
       "15     15  81.988105  0.526042\n",
       "16     16  80.501274  0.555711\n",
       "17     17  84.749363  0.441055\n",
       "18     18  82.752761  0.517756\n",
       "19     19  78.547154  0.593121\n",
       "20     20  84.749363  0.498180\n",
       "21     21  85.811385  0.444686\n",
       "22     22  84.154630  0.479234\n",
       "23     23  85.004248  0.491432\n",
       "24     24  85.471538  0.459683\n",
       "25     25  84.919286  0.481741\n",
       "26     26  85.938828  0.484613\n",
       "27     27  85.768904  0.492187\n",
       "28     28  84.367035  0.544798\n",
       "29     29  85.089210  0.533172\n",
       "30     30  83.814783  0.661840\n",
       "31     31  85.471538  0.572770\n",
       "32     32  81.945624  0.673295\n",
       "33     33  86.491079  0.507601\n",
       "34     34  86.661003  0.503756\n",
       "35     35  86.703483  0.542384\n",
       "36     36  84.749363  0.538858\n",
       "37     37  85.768904  0.543620\n",
       "38     38  84.919286  0.599317\n",
       "39     39  84.367035  0.602940\n",
       "40     40  83.857264  0.616054\n",
       "41     41  83.602379  0.651184\n",
       "42     42  85.726423  0.575754\n",
       "43     43  85.344095  0.597973\n",
       "44     44  86.236194  0.546313\n",
       "45     45  85.174172  0.612686\n",
       "46     46  84.706882  0.628934\n",
       "47     47  86.108751  0.575899\n",
       "48     48  86.236194  0.575137\n",
       "49     49  85.556500  0.616868"
      ]
     },
     "execution_count": 13,
     "metadata": {},
     "output_type": "execute_result"
    }
   ],
   "source": [
    "testdf"
   ]
  },
  {
   "cell_type": "code",
   "execution_count": 14,
   "id": "cb143804",
   "metadata": {},
   "outputs": [],
   "source": [
    "# with open('two_dfs.pkl', 'rb') as file:\n",
    "#     loaded = pickle.load(file)\n",
    "\n",
    "# loaded"
   ]
  }
 ],
 "metadata": {
  "kernelspec": {
   "display_name": "Python 3",
   "language": "python",
   "name": "python3"
  },
  "language_info": {
   "codemirror_mode": {
    "name": "ipython",
    "version": 3
   },
   "file_extension": ".py",
   "mimetype": "text/x-python",
   "name": "python",
   "nbconvert_exporter": "python",
   "pygments_lexer": "ipython3",
   "version": "3.10.12"
  }
 },
 "nbformat": 4,
 "nbformat_minor": 5
}
